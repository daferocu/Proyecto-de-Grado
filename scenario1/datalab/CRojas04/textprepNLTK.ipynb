{
 "cells": [
  {
   "cell_type": "code",
   "execution_count": 1,
   "metadata": {},
   "outputs": [],
   "source": [
    "import nltk"
   ]
  },
  {
   "cell_type": "code",
   "execution_count": 2,
   "metadata": {},
   "outputs": [
    {
     "name": "stdout",
     "output_type": "stream",
     "text": [
      "Requirement already satisfied: nltk in c:\\users\\analistanegb2b\\anaconda3\\lib\\site-packages (3.5)\n",
      "Requirement already satisfied: click in c:\\users\\analistanegb2b\\anaconda3\\lib\\site-packages (from nltk) (7.1.2)\n",
      "Requirement already satisfied: regex in c:\\users\\analistanegb2b\\anaconda3\\lib\\site-packages (from nltk) (2020.10.15)\n",
      "Requirement already satisfied: joblib in c:\\users\\analistanegb2b\\anaconda3\\lib\\site-packages (from nltk) (0.17.0)\n",
      "Requirement already satisfied: tqdm in c:\\users\\analistanegb2b\\anaconda3\\lib\\site-packages (from nltk) (4.50.2)\n"
     ]
    }
   ],
   "source": [
    "!pip install nltk"
   ]
  },
  {
   "cell_type": "code",
   "execution_count": 3,
   "metadata": {},
   "outputs": [],
   "source": [
    "from nltk.corpus import stopwords\n"
   ]
  },
  {
   "cell_type": "code",
   "execution_count": 4,
   "metadata": {},
   "outputs": [
    {
     "data": {
      "text/plain": [
       "<bound method Downloader.download of <nltk.downloader.Downloader object at 0x00000264BD933FA0>>"
      ]
     },
     "execution_count": 4,
     "metadata": {},
     "output_type": "execute_result"
    }
   ],
   "source": [
    "nltk.download"
   ]
  },
  {
   "cell_type": "code",
   "execution_count": 38,
   "metadata": {},
   "outputs": [
    {
     "name": "stderr",
     "output_type": "stream",
     "text": [
      "[nltk_data] Downloading package stopwords to\n",
      "[nltk_data]     C:\\Users\\rojasd\\AppData\\Roaming\\nltk_data...\n",
      "[nltk_data]   Unzipping corpora\\stopwords.zip.\n"
     ]
    },
    {
     "data": {
      "text/plain": [
       "True"
      ]
     },
     "execution_count": 38,
     "metadata": {},
     "output_type": "execute_result"
    }
   ],
   "source": []
  },
  {
   "cell_type": "code",
   "execution_count": 5,
   "metadata": {},
   "outputs": [
    {
     "name": "stderr",
     "output_type": "stream",
     "text": [
      "[nltk_data] Downloading package punkt to\n",
      "[nltk_data]     C:\\Users\\AnalistaNegB2B\\AppData\\Roaming\\nltk_data...\n",
      "[nltk_data]   Unzipping tokenizers\\punkt.zip.\n"
     ]
    },
    {
     "data": {
      "text/plain": [
       "True"
      ]
     },
     "execution_count": 5,
     "metadata": {},
     "output_type": "execute_result"
    }
   ],
   "source": [
    "nltk.download('punkt')"
   ]
  },
  {
   "cell_type": "code",
   "execution_count": null,
   "metadata": {},
   "outputs": [],
   "source": []
  },
  {
   "cell_type": "markdown",
   "metadata": {},
   "source": [
    "datos csv"
   ]
  },
  {
   "cell_type": "code",
   "execution_count": 94,
   "metadata": {},
   "outputs": [
    {
     "data": {
      "text/html": [
       "<div>\n",
       "<style scoped>\n",
       "    .dataframe tbody tr th:only-of-type {\n",
       "        vertical-align: middle;\n",
       "    }\n",
       "\n",
       "    .dataframe tbody tr th {\n",
       "        vertical-align: top;\n",
       "    }\n",
       "\n",
       "    .dataframe thead th {\n",
       "        text-align: right;\n",
       "    }\n",
       "</style>\n",
       "<table border=\"1\" class=\"dataframe\">\n",
       "  <thead>\n",
       "    <tr style=\"text-align: right;\">\n",
       "      <th></th>\n",
       "      <th>Anno</th>\n",
       "      <th>Identificador PAA</th>\n",
       "      <th>Entidad</th>\n",
       "      <th>NIT</th>\n",
       "      <th>Localización</th>\n",
       "      <th>DescripcionUbicacion</th>\n",
       "      <th>Mision/Vision</th>\n",
       "      <th>Perspectiva Estrategica</th>\n",
       "      <th>Presupuesto Menor Cuantia</th>\n",
       "      <th>Presupuesto Minima Cuantia</th>\n",
       "      <th>...</th>\n",
       "      <th>Referencia Operacion</th>\n",
       "      <th>Fecha Publicacion</th>\n",
       "      <th>Modalidad</th>\n",
       "      <th>Contacto</th>\n",
       "      <th>UNSPSC - Codigo Producto</th>\n",
       "      <th>UNSPSC - Nombre Producto</th>\n",
       "      <th>UNSPSC - Codigo Clase</th>\n",
       "      <th>UNSPSC - Nombre Clase</th>\n",
       "      <th>UNSPSC - Codigo Familia</th>\n",
       "      <th>UNSPSC - Nombre Familia</th>\n",
       "    </tr>\n",
       "  </thead>\n",
       "  <tbody>\n",
       "    <tr>\n",
       "      <th>0</th>\n",
       "      <td>2018</td>\n",
       "      <td>CO1.APP.361029</td>\n",
       "      <td>COMANDO DE RECLUTAMIENTO Y CONTROL RESERVAS DE...</td>\n",
       "      <td>800130643</td>\n",
       "      <td>CO-DC-11001</td>\n",
       "      <td>Distrito Capital de Bogotá</td>\n",
       "      <td>MISIÓN: El Comando De Reclutamiento y Control ...</td>\n",
       "      <td>Con el fin de cumplir con la misión institucio...</td>\n",
       "      <td>781242000.0</td>\n",
       "      <td>78124200.0</td>\n",
       "      <td>...</td>\n",
       "      <td>131-DIREC-2018</td>\n",
       "      <td>36:51.8</td>\n",
       "      <td>CCE-16-Servicios_profesionales_gestion</td>\n",
       "      <td>ELKIN ALONSO ARGOTE HIDALGO</td>\n",
       "      <td>V1.80121700</td>\n",
       "      <td>Servicios de responsabilidad civil</td>\n",
       "      <td>V1.80120000</td>\n",
       "      <td>Servicios legales</td>\n",
       "      <td>V1.80000000</td>\n",
       "      <td>Servicios de Gestión, Servicios Profesionales ...</td>\n",
       "    </tr>\n",
       "    <tr>\n",
       "      <th>1</th>\n",
       "      <td>2019</td>\n",
       "      <td>CO1.APP.525808</td>\n",
       "      <td>SUPERINTENDENCIA DE TRANSPORTE</td>\n",
       "      <td>800170433</td>\n",
       "      <td>CO-DC-11001</td>\n",
       "      <td>Distrito Capital de Bogotá</td>\n",
       "      <td>Vigilar, inspeccionar y controlar el cumplimie...</td>\n",
       "      <td>La Superintendencia de Puertos y Transporte vi...</td>\n",
       "      <td>231872480.0</td>\n",
       "      <td>23187248.0</td>\n",
       "      <td>...</td>\n",
       "      <td>IPMC 009-2019</td>\n",
       "      <td>59:02.7</td>\n",
       "      <td>CCE-10-Minima_Cuantia</td>\n",
       "      <td>MARIA PIERINA GONZALEZ FALLA</td>\n",
       "      <td>V1.53101900</td>\n",
       "      <td>Trajes</td>\n",
       "      <td>V1.53100000</td>\n",
       "      <td>Ropa</td>\n",
       "      <td>V1.53000000</td>\n",
       "      <td>Ropa, Maletas y Productos de Aseo Personal</td>\n",
       "    </tr>\n",
       "    <tr>\n",
       "      <th>2</th>\n",
       "      <td>2019</td>\n",
       "      <td>CO1.APP.460110</td>\n",
       "      <td>FONAM - DTAN</td>\n",
       "      <td>901037393</td>\n",
       "      <td>CO-SAN-68001</td>\n",
       "      <td>Santander</td>\n",
       "      <td>Misión: Conservamos las áreas protegidas del S...</td>\n",
       "      <td>La entidad estatal va a contratar los procesos...</td>\n",
       "      <td>372652210.0</td>\n",
       "      <td>37265221.0</td>\n",
       "      <td>...</td>\n",
       "      <td>DTAN-CD-032-2019</td>\n",
       "      <td>05:15.4</td>\n",
       "      <td>CCE-16-Servicios_profesionales_gestion</td>\n",
       "      <td>RUTH MILADY MEJIA OLARTE</td>\n",
       "      <td>V1.80111701</td>\n",
       "      <td>Servicios de contratación de personal</td>\n",
       "      <td>V1.80111700</td>\n",
       "      <td>Reclutamiento de personal</td>\n",
       "      <td>V1.80110000</td>\n",
       "      <td>Servicios de recursos humanos</td>\n",
       "    </tr>\n",
       "    <tr>\n",
       "      <th>3</th>\n",
       "      <td>2018</td>\n",
       "      <td>CO1.APP.338501</td>\n",
       "      <td>ESAP TERRITORIAL BOLIVAR</td>\n",
       "      <td>800248529</td>\n",
       "      <td>CO-BOL-13001</td>\n",
       "      <td>Bolívar</td>\n",
       "      <td>Formar ciudadanos y ciudadanas en los conocimi...</td>\n",
       "      <td>La ESAP en el 2019 será una institución de car...</td>\n",
       "      <td>507807300.0</td>\n",
       "      <td>50780730.0</td>\n",
       "      <td>...</td>\n",
       "      <td>CD-07-092-2018</td>\n",
       "      <td>46:31.2</td>\n",
       "      <td>CCE-16-Servicios_profesionales_gestion</td>\n",
       "      <td>KAROLAIN MORENO</td>\n",
       "      <td>V1.80111600</td>\n",
       "      <td>Servicios de personal temporal</td>\n",
       "      <td>V1.80110000</td>\n",
       "      <td>Servicios de recursos humanos</td>\n",
       "      <td>V1.80000000</td>\n",
       "      <td>Servicios de Gestión, Servicios Profesionales ...</td>\n",
       "    </tr>\n",
       "    <tr>\n",
       "      <th>4</th>\n",
       "      <td>2018</td>\n",
       "      <td>CO1.APP.324303</td>\n",
       "      <td>GRUPO AÉREO DEL CARIBE</td>\n",
       "      <td>800141634</td>\n",
       "      <td>CO-SAP-88001</td>\n",
       "      <td>San Andrés, Providencia y Santa Catalina</td>\n",
       "      <td>MISIÓN: Ejecutar operaciones aéreas para contr...</td>\n",
       "      <td>Consolidar una Fuerza Decisiva y efectiva en c...</td>\n",
       "      <td>781242000.0</td>\n",
       "      <td>78124200.0</td>\n",
       "      <td>...</td>\n",
       "      <td>010-00-N-GACAR-ESDEB-2018</td>\n",
       "      <td>28:01.6</td>\n",
       "      <td>CCE-10-Minima_Cuantia</td>\n",
       "      <td>Diana katherine Quintana Cuervo</td>\n",
       "      <td>V1.10111302</td>\n",
       "      <td>Productos para el aseo y cuidado de mascotas</td>\n",
       "      <td>V1.10111300</td>\n",
       "      <td>Tratamientos para los animales domésticos y ac...</td>\n",
       "      <td>V1.10110000</td>\n",
       "      <td>Productos para animales domésticos</td>\n",
       "    </tr>\n",
       "  </tbody>\n",
       "</table>\n",
       "<p>5 rows × 29 columns</p>\n",
       "</div>"
      ],
      "text/plain": [
       "   Anno Identificador PAA                                            Entidad  \\\n",
       "0  2018    CO1.APP.361029  COMANDO DE RECLUTAMIENTO Y CONTROL RESERVAS DE...   \n",
       "1  2019    CO1.APP.525808                     SUPERINTENDENCIA DE TRANSPORTE   \n",
       "2  2019    CO1.APP.460110                                       FONAM - DTAN   \n",
       "3  2018    CO1.APP.338501                           ESAP TERRITORIAL BOLIVAR   \n",
       "4  2018    CO1.APP.324303                             GRUPO AÉREO DEL CARIBE   \n",
       "\n",
       "         NIT  Localización                      DescripcionUbicacion  \\\n",
       "0  800130643   CO-DC-11001                Distrito Capital de Bogotá   \n",
       "1  800170433   CO-DC-11001                Distrito Capital de Bogotá   \n",
       "2  901037393  CO-SAN-68001                                 Santander   \n",
       "3  800248529  CO-BOL-13001                                   Bolívar   \n",
       "4  800141634  CO-SAP-88001  San Andrés, Providencia y Santa Catalina   \n",
       "\n",
       "                                       Mision/Vision  \\\n",
       "0  MISIÓN: El Comando De Reclutamiento y Control ...   \n",
       "1  Vigilar, inspeccionar y controlar el cumplimie...   \n",
       "2  Misión: Conservamos las áreas protegidas del S...   \n",
       "3  Formar ciudadanos y ciudadanas en los conocimi...   \n",
       "4  MISIÓN: Ejecutar operaciones aéreas para contr...   \n",
       "\n",
       "                             Perspectiva Estrategica  \\\n",
       "0  Con el fin de cumplir con la misión institucio...   \n",
       "1  La Superintendencia de Puertos y Transporte vi...   \n",
       "2  La entidad estatal va a contratar los procesos...   \n",
       "3  La ESAP en el 2019 será una institución de car...   \n",
       "4  Consolidar una Fuerza Decisiva y efectiva en c...   \n",
       "\n",
       "   Presupuesto Menor Cuantia  Presupuesto Minima Cuantia  ...  \\\n",
       "0                781242000.0                  78124200.0  ...   \n",
       "1                231872480.0                  23187248.0  ...   \n",
       "2                372652210.0                  37265221.0  ...   \n",
       "3                507807300.0                  50780730.0  ...   \n",
       "4                781242000.0                  78124200.0  ...   \n",
       "\n",
       "        Referencia Operacion Fecha Publicacion  \\\n",
       "0             131-DIREC-2018           36:51.8   \n",
       "1              IPMC 009-2019           59:02.7   \n",
       "2           DTAN-CD-032-2019           05:15.4   \n",
       "3             CD-07-092-2018           46:31.2   \n",
       "4  010-00-N-GACAR-ESDEB-2018           28:01.6   \n",
       "\n",
       "                                Modalidad                         Contacto  \\\n",
       "0  CCE-16-Servicios_profesionales_gestion      ELKIN ALONSO ARGOTE HIDALGO   \n",
       "1                   CCE-10-Minima_Cuantia     MARIA PIERINA GONZALEZ FALLA   \n",
       "2  CCE-16-Servicios_profesionales_gestion         RUTH MILADY MEJIA OLARTE   \n",
       "3  CCE-16-Servicios_profesionales_gestion                  KAROLAIN MORENO   \n",
       "4                   CCE-10-Minima_Cuantia  Diana katherine Quintana Cuervo   \n",
       "\n",
       "  UNSPSC - Codigo Producto                      UNSPSC - Nombre Producto  \\\n",
       "0              V1.80121700            Servicios de responsabilidad civil   \n",
       "1              V1.53101900                                        Trajes   \n",
       "2              V1.80111701         Servicios de contratación de personal   \n",
       "3              V1.80111600                Servicios de personal temporal   \n",
       "4              V1.10111302  Productos para el aseo y cuidado de mascotas   \n",
       "\n",
       "  UNSPSC - Codigo Clase                              UNSPSC - Nombre Clase  \\\n",
       "0           V1.80120000                                  Servicios legales   \n",
       "1           V1.53100000                                               Ropa   \n",
       "2           V1.80111700                          Reclutamiento de personal   \n",
       "3           V1.80110000                      Servicios de recursos humanos   \n",
       "4           V1.10111300  Tratamientos para los animales domésticos y ac...   \n",
       "\n",
       "  UNSPSC - Codigo Familia                            UNSPSC - Nombre Familia  \n",
       "0             V1.80000000  Servicios de Gestión, Servicios Profesionales ...  \n",
       "1             V1.53000000         Ropa, Maletas y Productos de Aseo Personal  \n",
       "2             V1.80110000                      Servicios de recursos humanos  \n",
       "3             V1.80000000  Servicios de Gestión, Servicios Profesionales ...  \n",
       "4             V1.10110000                 Productos para animales domésticos  \n",
       "\n",
       "[5 rows x 29 columns]"
      ]
     },
     "execution_count": 94,
     "metadata": {},
     "output_type": "execute_result"
    }
   ],
   "source": [
    "import pandas as pd\n",
    "data = pd.read_csv (r'C:\\Users\\AnalistaNegB2B\\Desktop\\Analista Negocios B2B\\DVJ\\Maestria Ciencias de los Datos y Analitica\\2021-1\\PROYECTO INTEGRADOR\\Plan_Anual_de_Adquisiciones_-_SECOP_II.csv')\n",
    "data.head()\n"
   ]
  },
  {
   "cell_type": "code",
   "execution_count": 95,
   "metadata": {},
   "outputs": [
    {
     "data": {
      "text/plain": [
       "0         Con el fin de cumplir con la misión institucio...\n",
       "1         La Superintendencia de Puertos y Transporte vi...\n",
       "2         La entidad estatal va a contratar los procesos...\n",
       "3         La ESAP en el 2019 será una institución de car...\n",
       "4         Consolidar una Fuerza Decisiva y efectiva en c...\n",
       "                                ...                        \n",
       "863964    El Instituto Nacional de Vías, Invías, tendrá ...\n",
       "863965    El Instituto Nacional de Vías, Invías, tendrá ...\n",
       "863966    El Instituto Nacional de Vías, Invías, tendrá ...\n",
       "863967    El Instituto Nacional de Vías, Invías, tendrá ...\n",
       "863968    El Instituto Nacional de Vías, Invías, tendrá ...\n",
       "Name: Perspectiva Estrategica, Length: 863969, dtype: object"
      ]
     },
     "execution_count": 95,
     "metadata": {},
     "output_type": "execute_result"
    }
   ],
   "source": [
    "data[\"Perspectiva Estrategica\"]"
   ]
  },
  {
   "cell_type": "markdown",
   "metadata": {},
   "source": [
    "### Tokenización"
   ]
  },
  {
   "cell_type": "code",
   "execution_count": 96,
   "metadata": {},
   "outputs": [],
   "source": [
    "from nltk.tokenize import sent_tokenize\n",
    "\n",
    "text=data[\"Perspectiva Estrategica\"]\n",
    "text=str(text)"
   ]
  },
  {
   "cell_type": "code",
   "execution_count": 97,
   "metadata": {},
   "outputs": [
    {
     "name": "stdout",
     "output_type": "stream",
     "text": [
      "['0         Con el fin de cumplir con la misión institucio...\\n1         La Superintendencia de Puertos y Transporte vi...\\n2         La entidad estatal va a contratar los procesos...\\n3         La ESAP en el 2019 será una institución de car...\\n4         Consolidar una Fuerza Decisiva y efectiva en c...\\n                                ...                        \\n863964    El Instituto Nacional de Vías, Invías, tendrá ...\\n863965    El Instituto Nacional de Vías, Invías, tendrá ...\\n863966    El Instituto Nacional de Vías, Invías, tendrá ...\\n863967    El Instituto Nacional de Vías, Invías, tendrá ...\\n863968    El Instituto Nacional de Vías, Invías, tendrá ...\\nName: Perspectiva Estrategica, Length: 863969, dtype: object']\n"
     ]
    }
   ],
   "source": [
    "tokenized_sent= sent_tokenize(text)\n",
    "print(tokenized_sent)"
   ]
  },
  {
   "cell_type": "code",
   "execution_count": 98,
   "metadata": {},
   "outputs": [
    {
     "name": "stdout",
     "output_type": "stream",
     "text": [
      "['0', 'Con', 'el', 'fin', 'de', 'cumplir', 'con', 'la', 'misión', 'institucio', '...', '1', 'La', 'Superintendencia', 'de', 'Puertos', 'y', 'Transporte', 'vi', '...', '2', 'La', 'entidad', 'estatal', 'va', 'a', 'contratar', 'los', 'procesos', '...', '3', 'La', 'ESAP', 'en', 'el', '2019', 'será', 'una', 'institución', 'de', 'car', '...', '4', 'Consolidar', 'una', 'Fuerza', 'Decisiva', 'y', 'efectiva', 'en', 'c', '...', '...', '863964', 'El', 'Instituto', 'Nacional', 'de', 'Vías', ',', 'Invías', ',', 'tendrá', '...', '863965', 'El', 'Instituto', 'Nacional', 'de', 'Vías', ',', 'Invías', ',', 'tendrá', '...', '863966', 'El', 'Instituto', 'Nacional', 'de', 'Vías', ',', 'Invías', ',', 'tendrá', '...', '863967', 'El', 'Instituto', 'Nacional', 'de', 'Vías', ',', 'Invías', ',', 'tendrá', '...', '863968', 'El', 'Instituto', 'Nacional', 'de', 'Vías', ',', 'Invías', ',', 'tendrá', '...', 'Name', ':', 'Perspectiva', 'Estrategica', ',', 'Length', ':', '863969', ',', 'dtype', ':', 'object']\n"
     ]
    }
   ],
   "source": [
    "from nltk.tokenize import word_tokenize\n",
    "tokenized_word= word_tokenize(text)\n",
    "print(tokenized_word)"
   ]
  },
  {
   "cell_type": "code",
   "execution_count": 99,
   "metadata": {},
   "outputs": [
    {
     "name": "stdout",
     "output_type": "stream",
     "text": [
      "<FreqDist with 60 samples and 120 outcomes>\n"
     ]
    }
   ],
   "source": [
    "from nltk.probability import FreqDist\n",
    "fdist= FreqDist(tokenized_word)\n",
    "print(fdist)"
   ]
  },
  {
   "cell_type": "code",
   "execution_count": 100,
   "metadata": {},
   "outputs": [
    {
     "data": {
      "text/plain": [
       "[(',', 12), ('...', 11), ('de', 8)]"
      ]
     },
     "execution_count": 100,
     "metadata": {},
     "output_type": "execute_result"
    }
   ],
   "source": [
    "fdist.most_common(3)"
   ]
  },
  {
   "cell_type": "markdown",
   "metadata": {},
   "source": [
    "### Stopwords"
   ]
  },
  {
   "cell_type": "code",
   "execution_count": 101,
   "metadata": {},
   "outputs": [
    {
     "name": "stderr",
     "output_type": "stream",
     "text": [
      "[nltk_data] Downloading package stopwords to\n",
      "[nltk_data]     C:\\Users\\AnalistaNegB2B\\AppData\\Roaming\\nltk_data...\n",
      "[nltk_data]   Package stopwords is already up-to-date!\n"
     ]
    }
   ],
   "source": [
    "from nltk.corpus import stopwords\n",
    "import nltk\n",
    "nltk.download(\"stopwords\")\n",
    "stop_words = stopwords.words('spanish')"
   ]
  },
  {
   "cell_type": "code",
   "execution_count": 102,
   "metadata": {},
   "outputs": [
    {
     "name": "stdout",
     "output_type": "stream",
     "text": [
      "['de', 'la', 'que', 'el', 'en', 'y', 'a', 'los', 'del', 'se', 'las', 'por', 'un', 'para', 'con', 'no', 'una', 'su', 'al', 'lo', 'como', 'más', 'pero', 'sus', 'le', 'ya', 'o', 'este', 'sí', 'porque', 'esta', 'entre', 'cuando', 'muy', 'sin', 'sobre', 'también', 'me', 'hasta', 'hay', 'donde', 'quien', 'desde', 'todo', 'nos', 'durante', 'todos', 'uno', 'les', 'ni', 'contra', 'otros', 'ese', 'eso', 'ante', 'ellos', 'e', 'esto', 'mí', 'antes', 'algunos', 'qué', 'unos', 'yo', 'otro', 'otras', 'otra', 'él', 'tanto', 'esa', 'estos', 'mucho', 'quienes', 'nada', 'muchos', 'cual', 'poco', 'ella', 'estar', 'estas', 'algunas', 'algo', 'nosotros', 'mi', 'mis', 'tú', 'te', 'ti', 'tu', 'tus', 'ellas', 'nosotras', 'vosotros', 'vosotras', 'os', 'mío', 'mía', 'míos', 'mías', 'tuyo', 'tuya', 'tuyos', 'tuyas', 'suyo', 'suya', 'suyos', 'suyas', 'nuestro', 'nuestra', 'nuestros', 'nuestras', 'vuestro', 'vuestra', 'vuestros', 'vuestras', 'esos', 'esas', 'estoy', 'estás', 'está', 'estamos', 'estáis', 'están', 'esté', 'estés', 'estemos', 'estéis', 'estén', 'estaré', 'estarás', 'estará', 'estaremos', 'estaréis', 'estarán', 'estaría', 'estarías', 'estaríamos', 'estaríais', 'estarían', 'estaba', 'estabas', 'estábamos', 'estabais', 'estaban', 'estuve', 'estuviste', 'estuvo', 'estuvimos', 'estuvisteis', 'estuvieron', 'estuviera', 'estuvieras', 'estuviéramos', 'estuvierais', 'estuvieran', 'estuviese', 'estuvieses', 'estuviésemos', 'estuvieseis', 'estuviesen', 'estando', 'estado', 'estada', 'estados', 'estadas', 'estad', 'he', 'has', 'ha', 'hemos', 'habéis', 'han', 'haya', 'hayas', 'hayamos', 'hayáis', 'hayan', 'habré', 'habrás', 'habrá', 'habremos', 'habréis', 'habrán', 'habría', 'habrías', 'habríamos', 'habríais', 'habrían', 'había', 'habías', 'habíamos', 'habíais', 'habían', 'hube', 'hubiste', 'hubo', 'hubimos', 'hubisteis', 'hubieron', 'hubiera', 'hubieras', 'hubiéramos', 'hubierais', 'hubieran', 'hubiese', 'hubieses', 'hubiésemos', 'hubieseis', 'hubiesen', 'habiendo', 'habido', 'habida', 'habidos', 'habidas', 'soy', 'eres', 'es', 'somos', 'sois', 'son', 'sea', 'seas', 'seamos', 'seáis', 'sean', 'seré', 'serás', 'será', 'seremos', 'seréis', 'serán', 'sería', 'serías', 'seríamos', 'seríais', 'serían', 'era', 'eras', 'éramos', 'erais', 'eran', 'fui', 'fuiste', 'fue', 'fuimos', 'fuisteis', 'fueron', 'fuera', 'fueras', 'fuéramos', 'fuerais', 'fueran', 'fuese', 'fueses', 'fuésemos', 'fueseis', 'fuesen', 'sintiendo', 'sentido', 'sentida', 'sentidos', 'sentidas', 'siente', 'sentid', 'tengo', 'tienes', 'tiene', 'tenemos', 'tenéis', 'tienen', 'tenga', 'tengas', 'tengamos', 'tengáis', 'tengan', 'tendré', 'tendrás', 'tendrá', 'tendremos', 'tendréis', 'tendrán', 'tendría', 'tendrías', 'tendríamos', 'tendríais', 'tendrían', 'tenía', 'tenías', 'teníamos', 'teníais', 'tenían', 'tuve', 'tuviste', 'tuvo', 'tuvimos', 'tuvisteis', 'tuvieron', 'tuviera', 'tuvieras', 'tuviéramos', 'tuvierais', 'tuvieran', 'tuviese', 'tuvieses', 'tuviésemos', 'tuvieseis', 'tuviesen', 'teniendo', 'tenido', 'tenida', 'tenidos', 'tenidas', 'tened']\n"
     ]
    }
   ],
   "source": [
    "print(stop_words)"
   ]
  },
  {
   "cell_type": "code",
   "execution_count": 103,
   "metadata": {},
   "outputs": [
    {
     "name": "stdout",
     "output_type": "stream",
     "text": [
      "Tokenized Sentence: ['0', 'Con', 'el', 'fin', 'de', 'cumplir', 'con', 'la', 'misión', 'institucio', '...', '1', 'La', 'Superintendencia', 'de', 'Puertos', 'y', 'Transporte', 'vi', '...', '2', 'La', 'entidad', 'estatal', 'va', 'a', 'contratar', 'los', 'procesos', '...', '3', 'La', 'ESAP', 'en', 'el', '2019', 'será', 'una', 'institución', 'de', 'car', '...', '4', 'Consolidar', 'una', 'Fuerza', 'Decisiva', 'y', 'efectiva', 'en', 'c', '...', '...', '863964', 'El', 'Instituto', 'Nacional', 'de', 'Vías', ',', 'Invías', ',', 'tendrá', '...', '863965', 'El', 'Instituto', 'Nacional', 'de', 'Vías', ',', 'Invías', ',', 'tendrá', '...', '863966', 'El', 'Instituto', 'Nacional', 'de', 'Vías', ',', 'Invías', ',', 'tendrá', '...', '863967', 'El', 'Instituto', 'Nacional', 'de', 'Vías', ',', 'Invías', ',', 'tendrá', '...', '863968', 'El', 'Instituto', 'Nacional', 'de', 'Vías', ',', 'Invías', ',', 'tendrá', '...', 'Name', ':', 'Perspectiva', 'Estrategica', ',', 'Length', ':', '863969', ',', 'dtype', ':', 'object']\n",
      "Filtered sentence ['0', 'Con', 'fin', 'cumplir', 'misión', 'institucio', '...', '1', 'La', 'Superintendencia', 'Puertos', 'Transporte', 'vi', '...', '2', 'La', 'entidad', 'estatal', 'va', 'contratar', 'procesos', '...', '3', 'La', 'ESAP', '2019', 'institución', 'car', '...', '4', 'Consolidar', 'Fuerza', 'Decisiva', 'efectiva', 'c', '...', '...', '863964', 'El', 'Instituto', 'Nacional', 'Vías', ',', 'Invías', ',', '...', '863965', 'El', 'Instituto', 'Nacional', 'Vías', ',', 'Invías', ',', '...', '863966', 'El', 'Instituto', 'Nacional', 'Vías', ',', 'Invías', ',', '...', '863967', 'El', 'Instituto', 'Nacional', 'Vías', ',', 'Invías', ',', '...', '863968', 'El', 'Instituto', 'Nacional', 'Vías', ',', 'Invías', ',', '...', 'Name', ':', 'Perspectiva', 'Estrategica', ',', 'Length', ':', '863969', ',', 'dtype', ':', 'object']\n"
     ]
    }
   ],
   "source": [
    "#Removing stopwords\n",
    "\n",
    "filtered_sent= []\n",
    "for w in tokenized_word:\n",
    "    if w not in stop_words:\n",
    "        filtered_sent.append(w)\n",
    "print(\"Tokenized Sentence:\",tokenized_word)\n",
    "print(\"Filtered sentence\", filtered_sent)\n"
   ]
  },
  {
   "cell_type": "markdown",
   "metadata": {},
   "source": [
    "### Stemming"
   ]
  },
  {
   "cell_type": "code",
   "execution_count": 104,
   "metadata": {},
   "outputs": [
    {
     "name": "stdout",
     "output_type": "stream",
     "text": [
      "Filtered Sentence: ['0', 'Con', 'fin', 'cumplir', 'misión', 'institucio', '...', '1', 'La', 'Superintendencia', 'Puertos', 'Transporte', 'vi', '...', '2', 'La', 'entidad', 'estatal', 'va', 'contratar', 'procesos', '...', '3', 'La', 'ESAP', '2019', 'institución', 'car', '...', '4', 'Consolidar', 'Fuerza', 'Decisiva', 'efectiva', 'c', '...', '...', '863964', 'El', 'Instituto', 'Nacional', 'Vías', ',', 'Invías', ',', '...', '863965', 'El', 'Instituto', 'Nacional', 'Vías', ',', 'Invías', ',', '...', '863966', 'El', 'Instituto', 'Nacional', 'Vías', ',', 'Invías', ',', '...', '863967', 'El', 'Instituto', 'Nacional', 'Vías', ',', 'Invías', ',', '...', '863968', 'El', 'Instituto', 'Nacional', 'Vías', ',', 'Invías', ',', '...', 'Name', ':', 'Perspectiva', 'Estrategica', ',', 'Length', ':', '863969', ',', 'dtype', ':', 'object']\n",
      "Stemmed Sentence: ['0', 'con', 'fin', 'cumplir', 'misión', 'institucio', '...', '1', 'La', 'superintendencia', 'puerto', 'transport', 'vi', '...', '2', 'La', 'entidad', 'estat', 'va', 'contratar', 'proceso', '...', '3', 'La', 'esap', '2019', 'institución', 'car', '...', '4', 'consolidar', 'fuerza', 'decisiva', 'efectiva', 'c', '...', '...', '863964', 'El', 'instituto', 'nacion', 'vía', ',', 'invía', ',', '...', '863965', 'El', 'instituto', 'nacion', 'vía', ',', 'invía', ',', '...', '863966', 'El', 'instituto', 'nacion', 'vía', ',', 'invía', ',', '...', '863967', 'El', 'instituto', 'nacion', 'vía', ',', 'invía', ',', '...', '863968', 'El', 'instituto', 'nacion', 'vía', ',', 'invía', ',', '...', 'name', ':', 'perspectiva', 'estrategica', ',', 'length', ':', '863969', ',', 'dtype', ':', 'object']\n"
     ]
    }
   ],
   "source": [
    "from nltk.stem import PorterStemmer\n",
    "from nltk.tokenize import sent_tokenize, word_tokenize\n",
    "\n",
    "ps= PorterStemmer()\n",
    "\n",
    "stemmed_words= []\n",
    "for w in filtered_sent:\n",
    "    stemmed_words.append(ps.stem(w))\n",
    "\n",
    "print(\"Filtered Sentence:\",filtered_sent)\n",
    "print(\"Stemmed Sentence:\",stemmed_words)"
   ]
  },
  {
   "cell_type": "markdown",
   "metadata": {},
   "source": [
    "### Lematización"
   ]
  },
  {
   "cell_type": "code",
   "execution_count": 106,
   "metadata": {},
   "outputs": [
    {
     "data": {
      "image/png": "[encoded data removed]",
      "text/plain": [
       "<Figure size 432x288 with 1 Axes>"
      ]
     },
     "metadata": {
      "needs_background": "light"
     },
     "output_type": "display_data"
    },
    {
     "data": {
      "text/plain": [
       "<AxesSubplot:xlabel='Samples', ylabel='Counts'>"
      ]
     },
     "execution_count": 106,
     "metadata": {},
     "output_type": "execute_result"
    }
   ],
   "source": [
    "freq = nltk.FreqDist(filtered_sent)\n",
    "freq.plot(30, cumulative=False)"
   ]
  },
  {
   "cell_type": "code",
   "execution_count": null,
   "metadata": {},
   "outputs": [],
   "source": []
  }
 ],
 "metadata": {
  "kernelspec": {
   "display_name": "Python 3",
   "language": "python",
   "name": "python3"
  },
  "language_info": {
   "codemirror_mode": {
    "name": "ipython",
    "version": 3
   },
   "file_extension": ".py",
   "mimetype": "text/x-python",
   "name": "python",
   "nbconvert_exporter": "python",
   "pygments_lexer": "ipython3",
   "version": "3.8.5"
  }
 },
 "nbformat": 4,
 "nbformat_minor": 4
}
