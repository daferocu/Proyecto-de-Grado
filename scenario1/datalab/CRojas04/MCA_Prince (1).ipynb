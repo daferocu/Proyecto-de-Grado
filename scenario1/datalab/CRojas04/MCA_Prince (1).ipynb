{
 "cells": [
  {
   "cell_type": "markdown",
   "metadata": {},
   "source": [
    "## MCA con Prince"
   ]
  },
  {
   "cell_type": "markdown",
   "metadata": {},
   "source": [
    "#### Importar librerías"
   ]
  },
  {
   "cell_type": "code",
   "execution_count": 33,
   "metadata": {},
   "outputs": [],
   "source": [
    "# Load Packages\n",
    "import os,sys\n",
    "import pandas as pd\n",
    "import numpy as np"
   ]
  },
  {
   "cell_type": "markdown",
   "metadata": {},
   "source": [
    "#### Importar la base de datos (.pickle)"
   ]
  },
  {
   "cell_type": "code",
   "execution_count": 34,
   "metadata": {},
   "outputs": [],
   "source": [
    "import pickle \n",
    "import random"
   ]
  },
  {
   "cell_type": "code",
   "execution_count": 35,
   "metadata": {},
   "outputs": [
    {
     "data": {
      "text/plain": [
       "'C:\\\\Users\\\\AnalistaNegB2B\\\\Desktop\\\\Analista Negocios B2B\\\\DVJ\\\\Maestria Ciencias de los Datos y Analitica\\\\2021-1\\\\PROYECTO INTEGRADOR\\\\proy-segmentacion\\\\data\\\\02 - Raw'"
      ]
     },
     "execution_count": 35,
     "metadata": {},
     "output_type": "execute_result"
    }
   ],
   "source": [
    "# Mostrar la ruta del archivo indiferente del sistema operativo\n",
    "import os\n",
    "os.getcwd()"
   ]
  },
  {
   "cell_type": "code",
   "execution_count": 36,
   "metadata": {},
   "outputs": [],
   "source": [
    "main_path=\"C:\\\\Users\\\\AnalistaNegB2B\\\\Desktop\\\\Analista Negocios B2B\\\\DVJ\\\\Maestria Ciencias de los Datos y Analitica\\\\2021-1\\\\PROYECTO INTEGRADOR\\\\proy-segmentacion\"\n",
    "data_path=\"\\\\data\\\\02 - Raw\""
   ]
  },
  {
   "cell_type": "code",
   "execution_count": 37,
   "metadata": {},
   "outputs": [],
   "source": [
    "os.chdir(main_path + data_path)"
   ]
  },
  {
   "cell_type": "code",
   "execution_count": 38,
   "metadata": {},
   "outputs": [
    {
     "data": {
      "text/plain": [
       "'C:\\\\Users\\\\AnalistaNegB2B\\\\Desktop\\\\Analista Negocios B2B\\\\DVJ\\\\Maestria Ciencias de los Datos y Analitica\\\\2021-1\\\\PROYECTO INTEGRADOR\\\\proy-segmentacion\\\\data\\\\02 - Raw'"
      ]
     },
     "execution_count": 38,
     "metadata": {},
     "output_type": "execute_result"
    }
   ],
   "source": [
    "os.getcwd()"
   ]
  },
  {
   "cell_type": "code",
   "execution_count": 39,
   "metadata": {},
   "outputs": [
    {
     "data": {
      "text/html": [
       "<div>\n",
       "<style scoped>\n",
       "    .dataframe tbody tr th:only-of-type {\n",
       "        vertical-align: middle;\n",
       "    }\n",
       "\n",
       "    .dataframe tbody tr th {\n",
       "        vertical-align: top;\n",
       "    }\n",
       "\n",
       "    .dataframe thead th {\n",
       "        text-align: right;\n",
       "    }\n",
       "</style>\n",
       "<table border=\"1\" class=\"dataframe\">\n",
       "  <thead>\n",
       "    <tr style=\"text-align: right;\">\n",
       "      <th></th>\n",
       "      <th>nit</th>\n",
       "      <th>entidad_matriz</th>\n",
       "      <th>year</th>\n",
       "      <th>entidad</th>\n",
       "      <th>localizacion</th>\n",
       "      <th>localizacion_desc</th>\n",
       "      <th>mision_vision</th>\n",
       "      <th>pers_estrategica</th>\n",
       "      <th>ppto_global</th>\n",
       "      <th>mes_proyectado</th>\n",
       "      <th>...</th>\n",
       "      <th>modalidad</th>\n",
       "      <th>contacto</th>\n",
       "      <th>cod_producto</th>\n",
       "      <th>nombre_producto</th>\n",
       "      <th>cod_clase</th>\n",
       "      <th>nombre_clase</th>\n",
       "      <th>cod_familia</th>\n",
       "      <th>nombre_familia</th>\n",
       "      <th>diff_dates</th>\n",
       "      <th>year_publised</th>\n",
       "    </tr>\n",
       "  </thead>\n",
       "  <tbody>\n",
       "    <tr>\n",
       "      <th>22</th>\n",
       "      <td>800010350</td>\n",
       "      <td>ALCALDIA MUNICIPAL DE MURILLO</td>\n",
       "      <td>2019</td>\n",
       "      <td>ALCALDIA MUNICIPAL DE MURILLO</td>\n",
       "      <td>CO-TOL-73461</td>\n",
       "      <td>Tolima</td>\n",
       "      <td>MISION: Proveer los instrumentos necesarios pa...</td>\n",
       "      <td>Lograr la estructuración del plan de compras 2...</td>\n",
       "      <td>2971812351</td>\n",
       "      <td>Enero</td>\n",
       "      <td>...</td>\n",
       "      <td>CCE-16-Servicios_profesionales_gestion</td>\n",
       "      <td>Monica Andrea Hernandez Salinas</td>\n",
       "      <td>V1.80111620</td>\n",
       "      <td>Servicios temporales de recursos humanos</td>\n",
       "      <td>V1.80111600</td>\n",
       "      <td>Servicios de personal temporal</td>\n",
       "      <td>V1.80110000</td>\n",
       "      <td>Servicios de recursos humanos</td>\n",
       "      <td>0</td>\n",
       "      <td>2019</td>\n",
       "    </tr>\n",
       "    <tr>\n",
       "      <th>41</th>\n",
       "      <td>800012873</td>\n",
       "      <td>MUNICIPIO DE TAURAMENA</td>\n",
       "      <td>2019</td>\n",
       "      <td>MUNICIPIO DE TAURAMENA</td>\n",
       "      <td>CO-CAS-85410</td>\n",
       "      <td>Casanare</td>\n",
       "      <td>MISIÓN: Prestar servicio efectivo a la comunid...</td>\n",
       "      <td>La Alcaldía municipal de Tauramena Casanare, t...</td>\n",
       "      <td>114339387326</td>\n",
       "      <td>Julio</td>\n",
       "      <td>...</td>\n",
       "      <td>CCE-06-Seleccion_Abreviada_Menor_Cuantia</td>\n",
       "      <td>MARIA EUGENIA RODRIGUEZ FIGUEREDO</td>\n",
       "      <td>V1.93141506</td>\n",
       "      <td>Servicios de bienestar social</td>\n",
       "      <td>V1.93141500</td>\n",
       "      <td>Desarrollo y servicios sociales</td>\n",
       "      <td>V1.93140000</td>\n",
       "      <td>Servicios comunitarios y sociales</td>\n",
       "      <td>363</td>\n",
       "      <td>2018</td>\n",
       "    </tr>\n",
       "    <tr>\n",
       "      <th>75</th>\n",
       "      <td>800022620</td>\n",
       "      <td>BOMBEROS DE BUCARAMANGA</td>\n",
       "      <td>2019</td>\n",
       "      <td>BOMBEROS DE BUCARAMANGA</td>\n",
       "      <td>CO-SAN-68001</td>\n",
       "      <td>Santander</td>\n",
       "      <td>Bomberos de Bucaramanga es una Institución Pub...</td>\n",
       "      <td>La actividad Bomberil se reconoce como un ser...</td>\n",
       "      <td>10926006500</td>\n",
       "      <td>Enero</td>\n",
       "      <td>...</td>\n",
       "      <td>CCE-16-Servicios_profesionales_gestion</td>\n",
       "      <td>AMANDA LUCIA BARCENAS MANTILLA</td>\n",
       "      <td>V1.80111500</td>\n",
       "      <td>Desarrollo de recursos humanos</td>\n",
       "      <td>V1.80110000</td>\n",
       "      <td>Servicios de recursos humanos</td>\n",
       "      <td>V1.80000000</td>\n",
       "      <td>Servicios de Gestión, Servicios Profesionales ...</td>\n",
       "      <td>33</td>\n",
       "      <td>2019</td>\n",
       "    </tr>\n",
       "    <tr>\n",
       "      <th>76</th>\n",
       "      <td>800022620</td>\n",
       "      <td>BOMBEROS DE BUCARAMANGA</td>\n",
       "      <td>2019</td>\n",
       "      <td>BOMBEROS DE BUCARAMANGA</td>\n",
       "      <td>CO-SAN-68001</td>\n",
       "      <td>Santander</td>\n",
       "      <td>Bomberos de Bucaramanga es una Institución Pub...</td>\n",
       "      <td>La actividad Bomberil se reconoce como un ser...</td>\n",
       "      <td>10926006500</td>\n",
       "      <td>Enero</td>\n",
       "      <td>...</td>\n",
       "      <td>CCE-16-Servicios_profesionales_gestion</td>\n",
       "      <td>AMANDA LUCIA BARCENAS MANTILLA</td>\n",
       "      <td>V1.80111600</td>\n",
       "      <td>Servicios de personal temporal</td>\n",
       "      <td>V1.80110000</td>\n",
       "      <td>Servicios de recursos humanos</td>\n",
       "      <td>V1.80000000</td>\n",
       "      <td>Servicios de Gestión, Servicios Profesionales ...</td>\n",
       "      <td>33</td>\n",
       "      <td>2019</td>\n",
       "    </tr>\n",
       "    <tr>\n",
       "      <th>77</th>\n",
       "      <td>800022620</td>\n",
       "      <td>BOMBEROS DE BUCARAMANGA</td>\n",
       "      <td>2019</td>\n",
       "      <td>BOMBEROS DE BUCARAMANGA</td>\n",
       "      <td>CO-SAN-68001</td>\n",
       "      <td>Santander</td>\n",
       "      <td>Bomberos de Bucaramanga es una Institución Pub...</td>\n",
       "      <td>La actividad Bomberil se reconoce como un ser...</td>\n",
       "      <td>10926006500</td>\n",
       "      <td>Enero</td>\n",
       "      <td>...</td>\n",
       "      <td>CCE-16-Servicios_profesionales_gestion</td>\n",
       "      <td>AMANDA LUCIA BARCENAS MANTILLA</td>\n",
       "      <td>V1.80111600</td>\n",
       "      <td>Servicios de personal temporal</td>\n",
       "      <td>V1.80110000</td>\n",
       "      <td>Servicios de recursos humanos</td>\n",
       "      <td>V1.80000000</td>\n",
       "      <td>Servicios de Gestión, Servicios Profesionales ...</td>\n",
       "      <td>33</td>\n",
       "      <td>2019</td>\n",
       "    </tr>\n",
       "  </tbody>\n",
       "</table>\n",
       "<p>5 rows × 24 columns</p>\n",
       "</div>"
      ],
      "text/plain": [
       "          nit                 entidad_matriz  year  \\\n",
       "22  800010350  ALCALDIA MUNICIPAL DE MURILLO  2019   \n",
       "41  800012873         MUNICIPIO DE TAURAMENA  2019   \n",
       "75  800022620        BOMBEROS DE BUCARAMANGA  2019   \n",
       "76  800022620        BOMBEROS DE BUCARAMANGA  2019   \n",
       "77  800022620        BOMBEROS DE BUCARAMANGA  2019   \n",
       "\n",
       "                          entidad  localizacion localizacion_desc  \\\n",
       "22  ALCALDIA MUNICIPAL DE MURILLO  CO-TOL-73461            Tolima   \n",
       "41         MUNICIPIO DE TAURAMENA  CO-CAS-85410          Casanare   \n",
       "75        BOMBEROS DE BUCARAMANGA  CO-SAN-68001         Santander   \n",
       "76        BOMBEROS DE BUCARAMANGA  CO-SAN-68001         Santander   \n",
       "77        BOMBEROS DE BUCARAMANGA  CO-SAN-68001         Santander   \n",
       "\n",
       "                                        mision_vision  \\\n",
       "22  MISION: Proveer los instrumentos necesarios pa...   \n",
       "41  MISIÓN: Prestar servicio efectivo a la comunid...   \n",
       "75  Bomberos de Bucaramanga es una Institución Pub...   \n",
       "76  Bomberos de Bucaramanga es una Institución Pub...   \n",
       "77  Bomberos de Bucaramanga es una Institución Pub...   \n",
       "\n",
       "                                     pers_estrategica   ppto_global  \\\n",
       "22  Lograr la estructuración del plan de compras 2...    2971812351   \n",
       "41  La Alcaldía municipal de Tauramena Casanare, t...  114339387326   \n",
       "75  La actividad Bomberil se reconoce como un ser...   10926006500   \n",
       "76  La actividad Bomberil se reconoce como un ser...   10926006500   \n",
       "77  La actividad Bomberil se reconoce como un ser...   10926006500   \n",
       "\n",
       "   mes_proyectado  ...                                 modalidad  \\\n",
       "22          Enero  ...    CCE-16-Servicios_profesionales_gestion   \n",
       "41          Julio  ...  CCE-06-Seleccion_Abreviada_Menor_Cuantia   \n",
       "75          Enero  ...    CCE-16-Servicios_profesionales_gestion   \n",
       "76          Enero  ...    CCE-16-Servicios_profesionales_gestion   \n",
       "77          Enero  ...    CCE-16-Servicios_profesionales_gestion   \n",
       "\n",
       "                             contacto cod_producto  \\\n",
       "22    Monica Andrea Hernandez Salinas  V1.80111620   \n",
       "41  MARIA EUGENIA RODRIGUEZ FIGUEREDO  V1.93141506   \n",
       "75     AMANDA LUCIA BARCENAS MANTILLA  V1.80111500   \n",
       "76     AMANDA LUCIA BARCENAS MANTILLA  V1.80111600   \n",
       "77     AMANDA LUCIA BARCENAS MANTILLA  V1.80111600   \n",
       "\n",
       "                             nombre_producto    cod_clase  \\\n",
       "22  Servicios temporales de recursos humanos  V1.80111600   \n",
       "41             Servicios de bienestar social  V1.93141500   \n",
       "75            Desarrollo de recursos humanos  V1.80110000   \n",
       "76            Servicios de personal temporal  V1.80110000   \n",
       "77            Servicios de personal temporal  V1.80110000   \n",
       "\n",
       "                       nombre_clase  cod_familia  \\\n",
       "22   Servicios de personal temporal  V1.80110000   \n",
       "41  Desarrollo y servicios sociales  V1.93140000   \n",
       "75    Servicios de recursos humanos  V1.80000000   \n",
       "76    Servicios de recursos humanos  V1.80000000   \n",
       "77    Servicios de recursos humanos  V1.80000000   \n",
       "\n",
       "                                       nombre_familia diff_dates year_publised  \n",
       "22                      Servicios de recursos humanos          0          2019  \n",
       "41                  Servicios comunitarios y sociales        363          2018  \n",
       "75  Servicios de Gestión, Servicios Profesionales ...         33          2019  \n",
       "76  Servicios de Gestión, Servicios Profesionales ...         33          2019  \n",
       "77  Servicios de Gestión, Servicios Profesionales ...         33          2019  \n",
       "\n",
       "[5 rows x 24 columns]"
      ]
     },
     "execution_count": 39,
     "metadata": {},
     "output_type": "execute_result"
    }
   ],
   "source": [
    "df=pickle.load( open(r'Fuente_2_vista_minable.pickle', \"rb\" ) )\n",
    "df.head()"
   ]
  },
  {
   "cell_type": "code",
   "execution_count": 40,
   "metadata": {},
   "outputs": [
    {
     "data": {
      "text/plain": [
       "(349671, 24)"
      ]
     },
     "execution_count": 40,
     "metadata": {},
     "output_type": "execute_result"
    }
   ],
   "source": [
    "df.shape"
   ]
  },
  {
   "cell_type": "code",
   "execution_count": 41,
   "metadata": {},
   "outputs": [
    {
     "name": "stdout",
     "output_type": "stream",
     "text": [
      "nit                        570\n",
      "entidad_matriz             569\n",
      "year                         5\n",
      "entidad                    670\n",
      "localizacion               158\n",
      "localizacion_desc           33\n",
      "mision_vision             1062\n",
      "pers_estrategica           981\n",
      "ppto_global               1317\n",
      "mes_proyectado              12\n",
      "precio_base              30952\n",
      "date_last_publication      510\n",
      "ref_contrato             97649\n",
      "date_publised              286\n",
      "modalidad                    4\n",
      "contacto                  1050\n",
      "cod_producto              2936\n",
      "nombre_producto           2934\n",
      "cod_clase                 1161\n",
      "nombre_clase              1160\n",
      "cod_familia                343\n",
      "nombre_familia             342\n",
      "diff_dates                 381\n",
      "year_publised                5\n",
      "dtype: int64\n"
     ]
    }
   ],
   "source": [
    "# Validar los valores únicos de las variables\n",
    "df.nunique(axis=0)\n",
    "print(df.nunique(axis=0))"
   ]
  },
  {
   "cell_type": "markdown",
   "metadata": {},
   "source": [
    "## Análisis de correspondencia múltiple (MCA)"
   ]
  },
  {
   "cell_type": "markdown",
   "metadata": {},
   "source": [
    "Otro método es usar la biblioteca prince que permite el uso fácil de herramientas como:\n",
    "\n",
    "-Análisis de correspondencia múltiple (MCA)\n",
    "\n",
    "-Análisis de componentes principales (PCA)\n",
    "\n",
    "-Análisis de factores múltiples (MFA)"
   ]
  },
  {
   "cell_type": "code",
   "execution_count": 11,
   "metadata": {},
   "outputs": [
    {
     "name": "stdout",
     "output_type": "stream",
     "text": [
      "Requirement already satisfied: prince in c:\\users\\analistanegb2b\\anaconda3\\lib\\site-packages (0.7.1)\n",
      "Requirement already satisfied: numpy>=1.17.1 in c:\\users\\analistanegb2b\\anaconda3\\lib\\site-packages (from prince) (1.20.3)\n",
      "Requirement already satisfied: matplotlib>=3.0.2 in c:\\users\\analistanegb2b\\anaconda3\\lib\\site-packages (from prince) (3.3.2)\n",
      "Requirement already satisfied: pandas>=1.0.3 in c:\\users\\analistanegb2b\\anaconda3\\lib\\site-packages (from prince) (1.2.4)\n",
      "Requirement already satisfied: scipy>=1.3.0 in c:\\users\\analistanegb2b\\anaconda3\\lib\\site-packages (from prince) (1.5.2)\n",
      "Requirement already satisfied: scikit-learn>=0.22.1 in c:\\users\\analistanegb2b\\anaconda3\\lib\\site-packages (from prince) (0.23.2)\n",
      "Requirement already satisfied: kiwisolver>=1.0.1 in c:\\users\\analistanegb2b\\anaconda3\\lib\\site-packages (from matplotlib>=3.0.2->prince) (1.3.0)\n",
      "Requirement already satisfied: python-dateutil>=2.1 in c:\\users\\analistanegb2b\\anaconda3\\lib\\site-packages (from matplotlib>=3.0.2->prince) (2.8.1)\n",
      "Requirement already satisfied: pillow>=6.2.0 in c:\\users\\analistanegb2b\\anaconda3\\lib\\site-packages (from matplotlib>=3.0.2->prince) (8.0.1)\n",
      "Requirement already satisfied: pyparsing!=2.0.4,!=2.1.2,!=2.1.6,>=2.0.3 in c:\\users\\analistanegb2b\\anaconda3\\lib\\site-packages (from matplotlib>=3.0.2->prince) (2.4.7)\n",
      "Requirement already satisfied: cycler>=0.10 in c:\\users\\analistanegb2b\\anaconda3\\lib\\site-packages (from matplotlib>=3.0.2->prince) (0.10.0)\n",
      "Requirement already satisfied: certifi>=2020.06.20 in c:\\users\\analistanegb2b\\anaconda3\\lib\\site-packages (from matplotlib>=3.0.2->prince) (2020.6.20)\n",
      "Requirement already satisfied: pytz>=2017.3 in c:\\users\\analistanegb2b\\anaconda3\\lib\\site-packages (from pandas>=1.0.3->prince) (2020.1)\n",
      "Requirement already satisfied: joblib>=0.11 in c:\\users\\analistanegb2b\\anaconda3\\lib\\site-packages (from scikit-learn>=0.22.1->prince) (0.17.0)\n",
      "Requirement already satisfied: threadpoolctl>=2.0.0 in c:\\users\\analistanegb2b\\anaconda3\\lib\\site-packages (from scikit-learn>=0.22.1->prince) (2.1.0)\n",
      "Requirement already satisfied: six>=1.5 in c:\\users\\analistanegb2b\\anaconda3\\lib\\site-packages (from python-dateutil>=2.1->matplotlib>=3.0.2->prince) (1.15.0)\n",
      "Note: you may need to restart the kernel to use updated packages.\n"
     ]
    }
   ],
   "source": [
    "pip install --user prince"
   ]
  },
  {
   "cell_type": "code",
   "execution_count": 12,
   "metadata": {
    "scrolled": true
   },
   "outputs": [
    {
     "name": "stdout",
     "output_type": "stream",
     "text": [
      "<class 'pandas.core.frame.DataFrame'>\n",
      "Int64Index: 349671 entries, 22 to 863968\n",
      "Data columns (total 24 columns):\n",
      " #   Column                 Non-Null Count   Dtype         \n",
      "---  ------                 --------------   -----         \n",
      " 0   nit                    349671 non-null  int64         \n",
      " 1   entidad_matriz         349671 non-null  object        \n",
      " 2   year                   349671 non-null  int64         \n",
      " 3   entidad                349671 non-null  object        \n",
      " 4   localizacion           349671 non-null  object        \n",
      " 5   localizacion_desc      349671 non-null  object        \n",
      " 6   mision_vision          349671 non-null  object        \n",
      " 7   pers_estrategica       349671 non-null  object        \n",
      " 8   ppto_global            349671 non-null  int64         \n",
      " 9   mes_proyectado         349671 non-null  object        \n",
      " 10  precio_base            349671 non-null  float64       \n",
      " 11  date_last_publication  349671 non-null  datetime64[ns]\n",
      " 12  ref_contrato           349671 non-null  object        \n",
      " 13  date_publised          349671 non-null  datetime64[ns]\n",
      " 14  modalidad              349671 non-null  object        \n",
      " 15  contacto               349671 non-null  object        \n",
      " 16  cod_producto           349671 non-null  object        \n",
      " 17  nombre_producto        349671 non-null  object        \n",
      " 18  cod_clase              349671 non-null  object        \n",
      " 19  nombre_clase           349671 non-null  object        \n",
      " 20  cod_familia            349671 non-null  object        \n",
      " 21  nombre_familia         349671 non-null  object        \n",
      " 22  diff_dates             349671 non-null  int64         \n",
      " 23  year_publised          349671 non-null  int64         \n",
      "dtypes: datetime64[ns](2), float64(1), int64(5), object(16)\n",
      "memory usage: 66.7+ MB\n"
     ]
    }
   ],
   "source": [
    "df.info()"
   ]
  },
  {
   "cell_type": "code",
   "execution_count": 13,
   "metadata": {},
   "outputs": [],
   "source": [
    "X = df[['nit', 'pers_estrategica','mes_proyectado','precio_base','modalidad','nombre_producto','nombre_clase','nombre_familia']].copy()  # Primera, tercera y segunda filas"
   ]
  },
  {
   "cell_type": "code",
   "execution_count": 27,
   "metadata": {},
   "outputs": [],
   "source": [
    "X1 = df[['nit', 'pers_estrategica','mes_proyectado','precio_base']].copy()  # Primera, tercera y segunda filas"
   ]
  },
  {
   "cell_type": "code",
   "execution_count": 28,
   "metadata": {},
   "outputs": [
    {
     "name": "stdout",
     "output_type": "stream",
     "text": [
      "<class 'pandas.core.frame.DataFrame'>\n",
      "Int64Index: 349671 entries, 22 to 863968\n",
      "Data columns (total 4 columns):\n",
      " #   Column            Non-Null Count   Dtype  \n",
      "---  ------            --------------   -----  \n",
      " 0   nit               349671 non-null  int64  \n",
      " 1   pers_estrategica  349671 non-null  object \n",
      " 2   mes_proyectado    349671 non-null  object \n",
      " 3   precio_base       349671 non-null  float64\n",
      "dtypes: float64(1), int64(1), object(2)\n",
      "memory usage: 13.3+ MB\n",
      "None\n"
     ]
    }
   ],
   "source": [
    "print(X1.info())"
   ]
  },
  {
   "cell_type": "code",
   "execution_count": 29,
   "metadata": {},
   "outputs": [],
   "source": [
    "import pandas as pd \n",
    "import prince"
   ]
  },
  {
   "cell_type": "code",
   "execution_count": 30,
   "metadata": {},
   "outputs": [],
   "source": [
    "mca = prince.MCA()"
   ]
  },
  {
   "cell_type": "code",
   "execution_count": 31,
   "metadata": {},
   "outputs": [
    {
     "ename": "MemoryError",
     "evalue": "Unable to allocate 20.8 GiB for an array with shape (349671, 4) and data type <U4000",
     "output_type": "error",
     "traceback": [
      "\u001b[1;31m---------------------------------------------------------------------------\u001b[0m",
      "\u001b[1;31mMemoryError\u001b[0m                               Traceback (most recent call last)",
      "\u001b[1;32m<ipython-input-31-8125cdb0c8fb>\u001b[0m in \u001b[0;36m<module>\u001b[1;34m\u001b[0m\n\u001b[1;32m----> 1\u001b[1;33m \u001b[0mmca\u001b[0m \u001b[1;33m=\u001b[0m \u001b[0mmca\u001b[0m\u001b[1;33m.\u001b[0m\u001b[0mfit\u001b[0m\u001b[1;33m(\u001b[0m\u001b[0mX1\u001b[0m\u001b[1;33m)\u001b[0m \u001b[1;31m# same as calling ca.fs_r(1)\u001b[0m\u001b[1;33m\u001b[0m\u001b[1;33m\u001b[0m\u001b[0m\n\u001b[0m",
      "\u001b[1;32m~\\Anaconda3\\lib\\site-packages\\prince\\mca.py\u001b[0m in \u001b[0;36mfit\u001b[1;34m(self, X, y)\u001b[0m\n\u001b[0;32m     14\u001b[0m \u001b[1;33m\u001b[0m\u001b[0m\n\u001b[0;32m     15\u001b[0m         \u001b[1;32mif\u001b[0m \u001b[0mself\u001b[0m\u001b[1;33m.\u001b[0m\u001b[0mcheck_input\u001b[0m\u001b[1;33m:\u001b[0m\u001b[1;33m\u001b[0m\u001b[1;33m\u001b[0m\u001b[0m\n\u001b[1;32m---> 16\u001b[1;33m             \u001b[0mutils\u001b[0m\u001b[1;33m.\u001b[0m\u001b[0mcheck_array\u001b[0m\u001b[1;33m(\u001b[0m\u001b[0mX\u001b[0m\u001b[1;33m,\u001b[0m \u001b[0mdtype\u001b[0m\u001b[1;33m=\u001b[0m\u001b[1;33m[\u001b[0m\u001b[0mstr\u001b[0m\u001b[1;33m,\u001b[0m \u001b[0mnp\u001b[0m\u001b[1;33m.\u001b[0m\u001b[0mnumber\u001b[0m\u001b[1;33m]\u001b[0m\u001b[1;33m)\u001b[0m\u001b[1;33m\u001b[0m\u001b[1;33m\u001b[0m\u001b[0m\n\u001b[0m\u001b[0;32m     17\u001b[0m \u001b[1;33m\u001b[0m\u001b[0m\n\u001b[0;32m     18\u001b[0m         \u001b[1;32mif\u001b[0m \u001b[1;32mnot\u001b[0m \u001b[0misinstance\u001b[0m\u001b[1;33m(\u001b[0m\u001b[0mX\u001b[0m\u001b[1;33m,\u001b[0m \u001b[0mpd\u001b[0m\u001b[1;33m.\u001b[0m\u001b[0mDataFrame\u001b[0m\u001b[1;33m)\u001b[0m\u001b[1;33m:\u001b[0m\u001b[1;33m\u001b[0m\u001b[1;33m\u001b[0m\u001b[0m\n",
      "\u001b[1;32m~\\Anaconda3\\lib\\site-packages\\sklearn\\utils\\validation.py\u001b[0m in \u001b[0;36minner_f\u001b[1;34m(*args, **kwargs)\u001b[0m\n\u001b[0;32m     70\u001b[0m                           FutureWarning)\n\u001b[0;32m     71\u001b[0m         \u001b[0mkwargs\u001b[0m\u001b[1;33m.\u001b[0m\u001b[0mupdate\u001b[0m\u001b[1;33m(\u001b[0m\u001b[1;33m{\u001b[0m\u001b[0mk\u001b[0m\u001b[1;33m:\u001b[0m \u001b[0marg\u001b[0m \u001b[1;32mfor\u001b[0m \u001b[0mk\u001b[0m\u001b[1;33m,\u001b[0m \u001b[0marg\u001b[0m \u001b[1;32min\u001b[0m \u001b[0mzip\u001b[0m\u001b[1;33m(\u001b[0m\u001b[0msig\u001b[0m\u001b[1;33m.\u001b[0m\u001b[0mparameters\u001b[0m\u001b[1;33m,\u001b[0m \u001b[0margs\u001b[0m\u001b[1;33m)\u001b[0m\u001b[1;33m}\u001b[0m\u001b[1;33m)\u001b[0m\u001b[1;33m\u001b[0m\u001b[1;33m\u001b[0m\u001b[0m\n\u001b[1;32m---> 72\u001b[1;33m         \u001b[1;32mreturn\u001b[0m \u001b[0mf\u001b[0m\u001b[1;33m(\u001b[0m\u001b[1;33m**\u001b[0m\u001b[0mkwargs\u001b[0m\u001b[1;33m)\u001b[0m\u001b[1;33m\u001b[0m\u001b[1;33m\u001b[0m\u001b[0m\n\u001b[0m\u001b[0;32m     73\u001b[0m     \u001b[1;32mreturn\u001b[0m \u001b[0minner_f\u001b[0m\u001b[1;33m\u001b[0m\u001b[1;33m\u001b[0m\u001b[0m\n\u001b[0;32m     74\u001b[0m \u001b[1;33m\u001b[0m\u001b[0m\n",
      "\u001b[1;32m~\\Anaconda3\\lib\\site-packages\\sklearn\\utils\\validation.py\u001b[0m in \u001b[0;36mcheck_array\u001b[1;34m(array, accept_sparse, accept_large_sparse, dtype, order, copy, force_all_finite, ensure_2d, allow_nd, ensure_min_samples, ensure_min_features, estimator)\u001b[0m\n\u001b[0;32m    596\u001b[0m                     \u001b[0marray\u001b[0m \u001b[1;33m=\u001b[0m \u001b[0marray\u001b[0m\u001b[1;33m.\u001b[0m\u001b[0mastype\u001b[0m\u001b[1;33m(\u001b[0m\u001b[0mdtype\u001b[0m\u001b[1;33m,\u001b[0m \u001b[0mcasting\u001b[0m\u001b[1;33m=\u001b[0m\u001b[1;34m\"unsafe\"\u001b[0m\u001b[1;33m,\u001b[0m \u001b[0mcopy\u001b[0m\u001b[1;33m=\u001b[0m\u001b[1;32mFalse\u001b[0m\u001b[1;33m)\u001b[0m\u001b[1;33m\u001b[0m\u001b[1;33m\u001b[0m\u001b[0m\n\u001b[0;32m    597\u001b[0m                 \u001b[1;32melse\u001b[0m\u001b[1;33m:\u001b[0m\u001b[1;33m\u001b[0m\u001b[1;33m\u001b[0m\u001b[0m\n\u001b[1;32m--> 598\u001b[1;33m                     \u001b[0marray\u001b[0m \u001b[1;33m=\u001b[0m \u001b[0mnp\u001b[0m\u001b[1;33m.\u001b[0m\u001b[0masarray\u001b[0m\u001b[1;33m(\u001b[0m\u001b[0marray\u001b[0m\u001b[1;33m,\u001b[0m \u001b[0morder\u001b[0m\u001b[1;33m=\u001b[0m\u001b[0morder\u001b[0m\u001b[1;33m,\u001b[0m \u001b[0mdtype\u001b[0m\u001b[1;33m=\u001b[0m\u001b[0mdtype\u001b[0m\u001b[1;33m)\u001b[0m\u001b[1;33m\u001b[0m\u001b[1;33m\u001b[0m\u001b[0m\n\u001b[0m\u001b[0;32m    599\u001b[0m             \u001b[1;32mexcept\u001b[0m \u001b[0mComplexWarning\u001b[0m\u001b[1;33m:\u001b[0m\u001b[1;33m\u001b[0m\u001b[1;33m\u001b[0m\u001b[0m\n\u001b[0;32m    600\u001b[0m                 raise ValueError(\"Complex data not supported\\n\"\n",
      "\u001b[1;32m~\\Anaconda3\\lib\\site-packages\\numpy\\core\\_asarray.py\u001b[0m in \u001b[0;36masarray\u001b[1;34m(a, dtype, order, like)\u001b[0m\n\u001b[0;32m    100\u001b[0m         \u001b[1;32mreturn\u001b[0m \u001b[0m_asarray_with_like\u001b[0m\u001b[1;33m(\u001b[0m\u001b[0ma\u001b[0m\u001b[1;33m,\u001b[0m \u001b[0mdtype\u001b[0m\u001b[1;33m=\u001b[0m\u001b[0mdtype\u001b[0m\u001b[1;33m,\u001b[0m \u001b[0morder\u001b[0m\u001b[1;33m=\u001b[0m\u001b[0morder\u001b[0m\u001b[1;33m,\u001b[0m \u001b[0mlike\u001b[0m\u001b[1;33m=\u001b[0m\u001b[0mlike\u001b[0m\u001b[1;33m)\u001b[0m\u001b[1;33m\u001b[0m\u001b[1;33m\u001b[0m\u001b[0m\n\u001b[0;32m    101\u001b[0m \u001b[1;33m\u001b[0m\u001b[0m\n\u001b[1;32m--> 102\u001b[1;33m     \u001b[1;32mreturn\u001b[0m \u001b[0marray\u001b[0m\u001b[1;33m(\u001b[0m\u001b[0ma\u001b[0m\u001b[1;33m,\u001b[0m \u001b[0mdtype\u001b[0m\u001b[1;33m,\u001b[0m \u001b[0mcopy\u001b[0m\u001b[1;33m=\u001b[0m\u001b[1;32mFalse\u001b[0m\u001b[1;33m,\u001b[0m \u001b[0morder\u001b[0m\u001b[1;33m=\u001b[0m\u001b[0morder\u001b[0m\u001b[1;33m)\u001b[0m\u001b[1;33m\u001b[0m\u001b[1;33m\u001b[0m\u001b[0m\n\u001b[0m\u001b[0;32m    103\u001b[0m \u001b[1;33m\u001b[0m\u001b[0m\n\u001b[0;32m    104\u001b[0m \u001b[1;33m\u001b[0m\u001b[0m\n",
      "\u001b[1;31mMemoryError\u001b[0m: Unable to allocate 20.8 GiB for an array with shape (349671, 4) and data type <U4000"
     ]
    }
   ],
   "source": [
    "mca = mca.fit(X1) # same as calling ca.fs_r(1)\n"
   ]
  },
  {
   "cell_type": "code",
   "execution_count": 32,
   "metadata": {},
   "outputs": [
    {
     "ename": "NotFittedError",
     "evalue": "This MCA instance is not fitted yet. Call 'fit' with appropriate arguments before using this estimator.",
     "output_type": "error",
     "traceback": [
      "\u001b[1;31m---------------------------------------------------------------------------\u001b[0m",
      "\u001b[1;31mNotFittedError\u001b[0m                            Traceback (most recent call last)",
      "\u001b[1;32m<ipython-input-32-c8fe526860af>\u001b[0m in \u001b[0;36m<module>\u001b[1;34m\u001b[0m\n\u001b[1;32m----> 1\u001b[1;33m \u001b[0mmca\u001b[0m \u001b[1;33m=\u001b[0m \u001b[0mmca\u001b[0m\u001b[1;33m.\u001b[0m\u001b[0mtransform\u001b[0m\u001b[1;33m(\u001b[0m\u001b[0mX1\u001b[0m\u001b[1;33m)\u001b[0m \u001b[1;31m# same as calling ca.fs_r_sup(df_new) for *another* test set.\u001b[0m\u001b[1;33m\u001b[0m\u001b[1;33m\u001b[0m\u001b[0m\n\u001b[0m",
      "\u001b[1;32m~\\Anaconda3\\lib\\site-packages\\prince\\mca.py\u001b[0m in \u001b[0;36mtransform\u001b[1;34m(self, X)\u001b[0m\n\u001b[0;32m     45\u001b[0m     \u001b[1;32mdef\u001b[0m \u001b[0mtransform\u001b[0m\u001b[1;33m(\u001b[0m\u001b[0mself\u001b[0m\u001b[1;33m,\u001b[0m \u001b[0mX\u001b[0m\u001b[1;33m)\u001b[0m\u001b[1;33m:\u001b[0m\u001b[1;33m\u001b[0m\u001b[1;33m\u001b[0m\u001b[0m\n\u001b[0;32m     46\u001b[0m         \u001b[1;34m\"\"\"Computes the row principal coordinates of a dataset.\"\"\"\u001b[0m\u001b[1;33m\u001b[0m\u001b[1;33m\u001b[0m\u001b[0m\n\u001b[1;32m---> 47\u001b[1;33m         \u001b[0mself\u001b[0m\u001b[1;33m.\u001b[0m\u001b[0m_check_is_fitted\u001b[0m\u001b[1;33m(\u001b[0m\u001b[1;33m)\u001b[0m\u001b[1;33m\u001b[0m\u001b[1;33m\u001b[0m\u001b[0m\n\u001b[0m\u001b[0;32m     48\u001b[0m         \u001b[1;32mif\u001b[0m \u001b[0mself\u001b[0m\u001b[1;33m.\u001b[0m\u001b[0mcheck_input\u001b[0m\u001b[1;33m:\u001b[0m\u001b[1;33m\u001b[0m\u001b[1;33m\u001b[0m\u001b[0m\n\u001b[0;32m     49\u001b[0m             \u001b[0mutils\u001b[0m\u001b[1;33m.\u001b[0m\u001b[0mcheck_array\u001b[0m\u001b[1;33m(\u001b[0m\u001b[0mX\u001b[0m\u001b[1;33m,\u001b[0m \u001b[0mdtype\u001b[0m\u001b[1;33m=\u001b[0m\u001b[1;33m[\u001b[0m\u001b[0mstr\u001b[0m\u001b[1;33m,\u001b[0m \u001b[0mnp\u001b[0m\u001b[1;33m.\u001b[0m\u001b[0mnumber\u001b[0m\u001b[1;33m]\u001b[0m\u001b[1;33m)\u001b[0m\u001b[1;33m\u001b[0m\u001b[1;33m\u001b[0m\u001b[0m\n",
      "\u001b[1;32m~\\Anaconda3\\lib\\site-packages\\prince\\ca.py\u001b[0m in \u001b[0;36m_check_is_fitted\u001b[1;34m(self)\u001b[0m\n\u001b[0;32m     69\u001b[0m \u001b[1;33m\u001b[0m\u001b[0m\n\u001b[0;32m     70\u001b[0m     \u001b[1;32mdef\u001b[0m \u001b[0m_check_is_fitted\u001b[0m\u001b[1;33m(\u001b[0m\u001b[0mself\u001b[0m\u001b[1;33m)\u001b[0m\u001b[1;33m:\u001b[0m\u001b[1;33m\u001b[0m\u001b[1;33m\u001b[0m\u001b[0m\n\u001b[1;32m---> 71\u001b[1;33m         \u001b[0mutils\u001b[0m\u001b[1;33m.\u001b[0m\u001b[0mvalidation\u001b[0m\u001b[1;33m.\u001b[0m\u001b[0mcheck_is_fitted\u001b[0m\u001b[1;33m(\u001b[0m\u001b[0mself\u001b[0m\u001b[1;33m,\u001b[0m \u001b[1;34m'total_inertia_'\u001b[0m\u001b[1;33m)\u001b[0m\u001b[1;33m\u001b[0m\u001b[1;33m\u001b[0m\u001b[0m\n\u001b[0m\u001b[0;32m     72\u001b[0m \u001b[1;33m\u001b[0m\u001b[0m\n\u001b[0;32m     73\u001b[0m     \u001b[1;32mdef\u001b[0m \u001b[0mtransform\u001b[0m\u001b[1;33m(\u001b[0m\u001b[0mself\u001b[0m\u001b[1;33m,\u001b[0m \u001b[0mX\u001b[0m\u001b[1;33m)\u001b[0m\u001b[1;33m:\u001b[0m\u001b[1;33m\u001b[0m\u001b[1;33m\u001b[0m\u001b[0m\n",
      "\u001b[1;32m~\\Anaconda3\\lib\\site-packages\\sklearn\\utils\\validation.py\u001b[0m in \u001b[0;36minner_f\u001b[1;34m(*args, **kwargs)\u001b[0m\n\u001b[0;32m     70\u001b[0m                           FutureWarning)\n\u001b[0;32m     71\u001b[0m         \u001b[0mkwargs\u001b[0m\u001b[1;33m.\u001b[0m\u001b[0mupdate\u001b[0m\u001b[1;33m(\u001b[0m\u001b[1;33m{\u001b[0m\u001b[0mk\u001b[0m\u001b[1;33m:\u001b[0m \u001b[0marg\u001b[0m \u001b[1;32mfor\u001b[0m \u001b[0mk\u001b[0m\u001b[1;33m,\u001b[0m \u001b[0marg\u001b[0m \u001b[1;32min\u001b[0m \u001b[0mzip\u001b[0m\u001b[1;33m(\u001b[0m\u001b[0msig\u001b[0m\u001b[1;33m.\u001b[0m\u001b[0mparameters\u001b[0m\u001b[1;33m,\u001b[0m \u001b[0margs\u001b[0m\u001b[1;33m)\u001b[0m\u001b[1;33m}\u001b[0m\u001b[1;33m)\u001b[0m\u001b[1;33m\u001b[0m\u001b[1;33m\u001b[0m\u001b[0m\n\u001b[1;32m---> 72\u001b[1;33m         \u001b[1;32mreturn\u001b[0m \u001b[0mf\u001b[0m\u001b[1;33m(\u001b[0m\u001b[1;33m**\u001b[0m\u001b[0mkwargs\u001b[0m\u001b[1;33m)\u001b[0m\u001b[1;33m\u001b[0m\u001b[1;33m\u001b[0m\u001b[0m\n\u001b[0m\u001b[0;32m     73\u001b[0m     \u001b[1;32mreturn\u001b[0m \u001b[0minner_f\u001b[0m\u001b[1;33m\u001b[0m\u001b[1;33m\u001b[0m\u001b[0m\n\u001b[0;32m     74\u001b[0m \u001b[1;33m\u001b[0m\u001b[0m\n",
      "\u001b[1;32m~\\Anaconda3\\lib\\site-packages\\sklearn\\utils\\validation.py\u001b[0m in \u001b[0;36mcheck_is_fitted\u001b[1;34m(estimator, attributes, msg, all_or_any)\u001b[0m\n\u001b[0;32m   1017\u001b[0m \u001b[1;33m\u001b[0m\u001b[0m\n\u001b[0;32m   1018\u001b[0m     \u001b[1;32mif\u001b[0m \u001b[1;32mnot\u001b[0m \u001b[0mattrs\u001b[0m\u001b[1;33m:\u001b[0m\u001b[1;33m\u001b[0m\u001b[1;33m\u001b[0m\u001b[0m\n\u001b[1;32m-> 1019\u001b[1;33m         \u001b[1;32mraise\u001b[0m \u001b[0mNotFittedError\u001b[0m\u001b[1;33m(\u001b[0m\u001b[0mmsg\u001b[0m \u001b[1;33m%\u001b[0m \u001b[1;33m{\u001b[0m\u001b[1;34m'name'\u001b[0m\u001b[1;33m:\u001b[0m \u001b[0mtype\u001b[0m\u001b[1;33m(\u001b[0m\u001b[0mestimator\u001b[0m\u001b[1;33m)\u001b[0m\u001b[1;33m.\u001b[0m\u001b[0m__name__\u001b[0m\u001b[1;33m}\u001b[0m\u001b[1;33m)\u001b[0m\u001b[1;33m\u001b[0m\u001b[1;33m\u001b[0m\u001b[0m\n\u001b[0m\u001b[0;32m   1020\u001b[0m \u001b[1;33m\u001b[0m\u001b[0m\n\u001b[0;32m   1021\u001b[0m \u001b[1;33m\u001b[0m\u001b[0m\n",
      "\u001b[1;31mNotFittedError\u001b[0m: This MCA instance is not fitted yet. Call 'fit' with appropriate arguments before using this estimator."
     ]
    }
   ],
   "source": [
    "mca = mca.transform(X1) # same as calling ca.fs_r_sup(df_new) for *another* test set."
   ]
  }
 ],
 "metadata": {
  "kernelspec": {
   "display_name": "Python 3",
   "language": "python",
   "name": "python3"
  },
  "language_info": {
   "codemirror_mode": {
    "name": "ipython",
    "version": 3
   },
   "file_extension": ".py",
   "mimetype": "text/x-python",
   "name": "python",
   "nbconvert_exporter": "python",
   "pygments_lexer": "ipython3",
   "version": "3.8.5"
  }
 },
 "nbformat": 4,
 "nbformat_minor": 4
}
