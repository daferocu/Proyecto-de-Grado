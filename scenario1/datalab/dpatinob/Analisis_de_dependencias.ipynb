{
 "cells": [
  {
   "cell_type": "code",
   "execution_count": 1,
   "metadata": {},
   "outputs": [],
   "source": [
    "# Load Packages\n",
    "import os,sys\n",
    "import pandas as pd\n",
    "import numpy as np\n",
    "from datetime import datetime\n",
    "\n",
    "# This line is needed to display plots inline in Jupyter Notebook\n",
    "%matplotlib inline\n",
    "\n",
    "# Required for basic python plotting functionality\n",
    "import matplotlib.pyplot as plt\n",
    "\n",
    "# Required for formatting dates later in the case\n",
    "import datetime\n",
    "import matplotlib.dates as mdates\n",
    "\n",
    "# Required to display image inline\n",
    "from IPython.display import Image\n",
    "\n",
    "# Advanced plotting functionality with seaborn\n",
    "import seaborn as sns\n",
    "sns.set(style=\"whitegrid\") # can set style depending on how you'd like it to look"
   ]
  },
  {
   "cell_type": "markdown",
   "metadata": {},
   "source": [
    "#### Importar la base de datos (.pickle)"
   ]
  },
  {
   "cell_type": "code",
   "execution_count": 2,
   "metadata": {},
   "outputs": [],
   "source": [
    "import pickle \n",
    "import random"
   ]
  },
  {
   "cell_type": "code",
   "execution_count": 3,
   "metadata": {},
   "outputs": [
    {
     "data": {
      "text/plain": [
       "'C:\\\\Users\\\\AnalistaNegB2B\\\\Desktop\\\\Analista Negocios B2B\\\\DVJ\\\\Maestria Ciencias de los Datos y Analitica\\\\2021-1\\\\PROYECTO INTEGRADOR\\\\proy-segmentacion\\\\jupyter\\\\dpatinob'"
      ]
     },
     "execution_count": 3,
     "metadata": {},
     "output_type": "execute_result"
    }
   ],
   "source": [
    "# Mostrar la ruta del archivo indiferente del sistema operativo\n",
    "import os\n",
    "os.getcwd()"
   ]
  },
  {
   "cell_type": "code",
   "execution_count": 4,
   "metadata": {},
   "outputs": [],
   "source": [
    "main_path=\"C:\\\\Users\\\\AnalistaNegB2B\\\\Desktop\\\\Analista Negocios B2B\\\\DVJ\\\\Maestria Ciencias de los Datos y Analitica\\\\2021-1\\\\PROYECTO INTEGRADOR\\\\proy-segmentacion\"\n",
    "data_path=\"\\\\data\\\\02 - Raw\""
   ]
  },
  {
   "cell_type": "code",
   "execution_count": 5,
   "metadata": {},
   "outputs": [],
   "source": [
    "os.chdir(main_path + data_path)"
   ]
  },
  {
   "cell_type": "code",
   "execution_count": 6,
   "metadata": {},
   "outputs": [
    {
     "data": {
      "text/plain": [
       "'C:\\\\Users\\\\AnalistaNegB2B\\\\Desktop\\\\Analista Negocios B2B\\\\DVJ\\\\Maestria Ciencias de los Datos y Analitica\\\\2021-1\\\\PROYECTO INTEGRADOR\\\\proy-segmentacion\\\\data\\\\02 - Raw'"
      ]
     },
     "execution_count": 6,
     "metadata": {},
     "output_type": "execute_result"
    }
   ],
   "source": [
    "os.getcwd()"
   ]
  },
  {
   "cell_type": "code",
   "execution_count": 7,
   "metadata": {},
   "outputs": [
    {
     "data": {
      "text/html": [
       "<div>\n",
       "<style scoped>\n",
       "    .dataframe tbody tr th:only-of-type {\n",
       "        vertical-align: middle;\n",
       "    }\n",
       "\n",
       "    .dataframe tbody tr th {\n",
       "        vertical-align: top;\n",
       "    }\n",
       "\n",
       "    .dataframe thead th {\n",
       "        text-align: right;\n",
       "    }\n",
       "</style>\n",
       "<table border=\"1\" class=\"dataframe\">\n",
       "  <thead>\n",
       "    <tr style=\"text-align: right;\">\n",
       "      <th></th>\n",
       "      <th>nit</th>\n",
       "      <th>entidad_matriz</th>\n",
       "      <th>year</th>\n",
       "      <th>entidad</th>\n",
       "      <th>localizacion</th>\n",
       "      <th>localizacion_desc</th>\n",
       "      <th>mision_vision</th>\n",
       "      <th>pers_estrategica</th>\n",
       "      <th>ppto_global</th>\n",
       "      <th>mes_proyectado</th>\n",
       "      <th>...</th>\n",
       "      <th>modalidad</th>\n",
       "      <th>contacto</th>\n",
       "      <th>cod_producto</th>\n",
       "      <th>nombre_producto</th>\n",
       "      <th>cod_clase</th>\n",
       "      <th>nombre_clase</th>\n",
       "      <th>cod_familia</th>\n",
       "      <th>nombre_familia</th>\n",
       "      <th>diff_dates</th>\n",
       "      <th>year_publised</th>\n",
       "    </tr>\n",
       "  </thead>\n",
       "  <tbody>\n",
       "    <tr>\n",
       "      <th>22</th>\n",
       "      <td>800010350</td>\n",
       "      <td>ALCALDIA MUNICIPAL DE MURILLO</td>\n",
       "      <td>2019</td>\n",
       "      <td>ALCALDIA MUNICIPAL DE MURILLO</td>\n",
       "      <td>CO-TOL-73461</td>\n",
       "      <td>Tolima</td>\n",
       "      <td>MISION: Proveer los instrumentos necesarios pa...</td>\n",
       "      <td>Lograr la estructuración del plan de compras 2...</td>\n",
       "      <td>2971812351</td>\n",
       "      <td>Enero</td>\n",
       "      <td>...</td>\n",
       "      <td>CCE-16-Servicios_profesionales_gestion</td>\n",
       "      <td>Monica Andrea Hernandez Salinas</td>\n",
       "      <td>V1.80111620</td>\n",
       "      <td>Servicios temporales de recursos humanos</td>\n",
       "      <td>V1.80111600</td>\n",
       "      <td>Servicios de personal temporal</td>\n",
       "      <td>V1.80110000</td>\n",
       "      <td>Servicios de recursos humanos</td>\n",
       "      <td>0</td>\n",
       "      <td>2019</td>\n",
       "    </tr>\n",
       "    <tr>\n",
       "      <th>41</th>\n",
       "      <td>800012873</td>\n",
       "      <td>MUNICIPIO DE TAURAMENA</td>\n",
       "      <td>2019</td>\n",
       "      <td>MUNICIPIO DE TAURAMENA</td>\n",
       "      <td>CO-CAS-85410</td>\n",
       "      <td>Casanare</td>\n",
       "      <td>MISIÓN: Prestar servicio efectivo a la comunid...</td>\n",
       "      <td>La Alcaldía municipal de Tauramena Casanare, t...</td>\n",
       "      <td>114339387326</td>\n",
       "      <td>Julio</td>\n",
       "      <td>...</td>\n",
       "      <td>CCE-06-Seleccion_Abreviada_Menor_Cuantia</td>\n",
       "      <td>MARIA EUGENIA RODRIGUEZ FIGUEREDO</td>\n",
       "      <td>V1.93141506</td>\n",
       "      <td>Servicios de bienestar social</td>\n",
       "      <td>V1.93141500</td>\n",
       "      <td>Desarrollo y servicios sociales</td>\n",
       "      <td>V1.93140000</td>\n",
       "      <td>Servicios comunitarios y sociales</td>\n",
       "      <td>363</td>\n",
       "      <td>2018</td>\n",
       "    </tr>\n",
       "    <tr>\n",
       "      <th>75</th>\n",
       "      <td>800022620</td>\n",
       "      <td>BOMBEROS DE BUCARAMANGA</td>\n",
       "      <td>2019</td>\n",
       "      <td>BOMBEROS DE BUCARAMANGA</td>\n",
       "      <td>CO-SAN-68001</td>\n",
       "      <td>Santander</td>\n",
       "      <td>Bomberos de Bucaramanga es una Institución Pub...</td>\n",
       "      <td>La actividad Bomberil se reconoce como un ser...</td>\n",
       "      <td>10926006500</td>\n",
       "      <td>Enero</td>\n",
       "      <td>...</td>\n",
       "      <td>CCE-16-Servicios_profesionales_gestion</td>\n",
       "      <td>AMANDA LUCIA BARCENAS MANTILLA</td>\n",
       "      <td>V1.80111500</td>\n",
       "      <td>Desarrollo de recursos humanos</td>\n",
       "      <td>V1.80110000</td>\n",
       "      <td>Servicios de recursos humanos</td>\n",
       "      <td>V1.80000000</td>\n",
       "      <td>Servicios de Gestión, Servicios Profesionales ...</td>\n",
       "      <td>33</td>\n",
       "      <td>2019</td>\n",
       "    </tr>\n",
       "    <tr>\n",
       "      <th>76</th>\n",
       "      <td>800022620</td>\n",
       "      <td>BOMBEROS DE BUCARAMANGA</td>\n",
       "      <td>2019</td>\n",
       "      <td>BOMBEROS DE BUCARAMANGA</td>\n",
       "      <td>CO-SAN-68001</td>\n",
       "      <td>Santander</td>\n",
       "      <td>Bomberos de Bucaramanga es una Institución Pub...</td>\n",
       "      <td>La actividad Bomberil se reconoce como un ser...</td>\n",
       "      <td>10926006500</td>\n",
       "      <td>Enero</td>\n",
       "      <td>...</td>\n",
       "      <td>CCE-16-Servicios_profesionales_gestion</td>\n",
       "      <td>AMANDA LUCIA BARCENAS MANTILLA</td>\n",
       "      <td>V1.80111600</td>\n",
       "      <td>Servicios de personal temporal</td>\n",
       "      <td>V1.80110000</td>\n",
       "      <td>Servicios de recursos humanos</td>\n",
       "      <td>V1.80000000</td>\n",
       "      <td>Servicios de Gestión, Servicios Profesionales ...</td>\n",
       "      <td>33</td>\n",
       "      <td>2019</td>\n",
       "    </tr>\n",
       "    <tr>\n",
       "      <th>77</th>\n",
       "      <td>800022620</td>\n",
       "      <td>BOMBEROS DE BUCARAMANGA</td>\n",
       "      <td>2019</td>\n",
       "      <td>BOMBEROS DE BUCARAMANGA</td>\n",
       "      <td>CO-SAN-68001</td>\n",
       "      <td>Santander</td>\n",
       "      <td>Bomberos de Bucaramanga es una Institución Pub...</td>\n",
       "      <td>La actividad Bomberil se reconoce como un ser...</td>\n",
       "      <td>10926006500</td>\n",
       "      <td>Enero</td>\n",
       "      <td>...</td>\n",
       "      <td>CCE-16-Servicios_profesionales_gestion</td>\n",
       "      <td>AMANDA LUCIA BARCENAS MANTILLA</td>\n",
       "      <td>V1.80111600</td>\n",
       "      <td>Servicios de personal temporal</td>\n",
       "      <td>V1.80110000</td>\n",
       "      <td>Servicios de recursos humanos</td>\n",
       "      <td>V1.80000000</td>\n",
       "      <td>Servicios de Gestión, Servicios Profesionales ...</td>\n",
       "      <td>33</td>\n",
       "      <td>2019</td>\n",
       "    </tr>\n",
       "  </tbody>\n",
       "</table>\n",
       "<p>5 rows × 24 columns</p>\n",
       "</div>"
      ],
      "text/plain": [
       "          nit                 entidad_matriz  year  \\\n",
       "22  800010350  ALCALDIA MUNICIPAL DE MURILLO  2019   \n",
       "41  800012873         MUNICIPIO DE TAURAMENA  2019   \n",
       "75  800022620        BOMBEROS DE BUCARAMANGA  2019   \n",
       "76  800022620        BOMBEROS DE BUCARAMANGA  2019   \n",
       "77  800022620        BOMBEROS DE BUCARAMANGA  2019   \n",
       "\n",
       "                          entidad  localizacion localizacion_desc  \\\n",
       "22  ALCALDIA MUNICIPAL DE MURILLO  CO-TOL-73461            Tolima   \n",
       "41         MUNICIPIO DE TAURAMENA  CO-CAS-85410          Casanare   \n",
       "75        BOMBEROS DE BUCARAMANGA  CO-SAN-68001         Santander   \n",
       "76        BOMBEROS DE BUCARAMANGA  CO-SAN-68001         Santander   \n",
       "77        BOMBEROS DE BUCARAMANGA  CO-SAN-68001         Santander   \n",
       "\n",
       "                                        mision_vision  \\\n",
       "22  MISION: Proveer los instrumentos necesarios pa...   \n",
       "41  MISIÓN: Prestar servicio efectivo a la comunid...   \n",
       "75  Bomberos de Bucaramanga es una Institución Pub...   \n",
       "76  Bomberos de Bucaramanga es una Institución Pub...   \n",
       "77  Bomberos de Bucaramanga es una Institución Pub...   \n",
       "\n",
       "                                     pers_estrategica   ppto_global  \\\n",
       "22  Lograr la estructuración del plan de compras 2...    2971812351   \n",
       "41  La Alcaldía municipal de Tauramena Casanare, t...  114339387326   \n",
       "75  La actividad Bomberil se reconoce como un ser...   10926006500   \n",
       "76  La actividad Bomberil se reconoce como un ser...   10926006500   \n",
       "77  La actividad Bomberil se reconoce como un ser...   10926006500   \n",
       "\n",
       "   mes_proyectado  ...                                 modalidad  \\\n",
       "22          Enero  ...    CCE-16-Servicios_profesionales_gestion   \n",
       "41          Julio  ...  CCE-06-Seleccion_Abreviada_Menor_Cuantia   \n",
       "75          Enero  ...    CCE-16-Servicios_profesionales_gestion   \n",
       "76          Enero  ...    CCE-16-Servicios_profesionales_gestion   \n",
       "77          Enero  ...    CCE-16-Servicios_profesionales_gestion   \n",
       "\n",
       "                             contacto cod_producto  \\\n",
       "22    Monica Andrea Hernandez Salinas  V1.80111620   \n",
       "41  MARIA EUGENIA RODRIGUEZ FIGUEREDO  V1.93141506   \n",
       "75     AMANDA LUCIA BARCENAS MANTILLA  V1.80111500   \n",
       "76     AMANDA LUCIA BARCENAS MANTILLA  V1.80111600   \n",
       "77     AMANDA LUCIA BARCENAS MANTILLA  V1.80111600   \n",
       "\n",
       "                             nombre_producto    cod_clase  \\\n",
       "22  Servicios temporales de recursos humanos  V1.80111600   \n",
       "41             Servicios de bienestar social  V1.93141500   \n",
       "75            Desarrollo de recursos humanos  V1.80110000   \n",
       "76            Servicios de personal temporal  V1.80110000   \n",
       "77            Servicios de personal temporal  V1.80110000   \n",
       "\n",
       "                       nombre_clase  cod_familia  \\\n",
       "22   Servicios de personal temporal  V1.80110000   \n",
       "41  Desarrollo y servicios sociales  V1.93140000   \n",
       "75    Servicios de recursos humanos  V1.80000000   \n",
       "76    Servicios de recursos humanos  V1.80000000   \n",
       "77    Servicios de recursos humanos  V1.80000000   \n",
       "\n",
       "                                       nombre_familia diff_dates year_publised  \n",
       "22                      Servicios de recursos humanos          0          2019  \n",
       "41                  Servicios comunitarios y sociales        363          2018  \n",
       "75  Servicios de Gestión, Servicios Profesionales ...         33          2019  \n",
       "76  Servicios de Gestión, Servicios Profesionales ...         33          2019  \n",
       "77  Servicios de Gestión, Servicios Profesionales ...         33          2019  \n",
       "\n",
       "[5 rows x 24 columns]"
      ]
     },
     "execution_count": 7,
     "metadata": {},
     "output_type": "execute_result"
    }
   ],
   "source": [
    "df=pickle.load( open(r'Fuente_2_vista_minable.pickle', \"rb\" ) )\n",
    "df.head()"
   ]
  },
  {
   "cell_type": "markdown",
   "metadata": {},
   "source": [
    "# Analisis de dependencia entre variables"
   ]
  },
  {
   "cell_type": "code",
   "execution_count": 8,
   "metadata": {
    "scrolled": true
   },
   "outputs": [
    {
     "data": {
      "text/plain": [
       "nit                               int64\n",
       "entidad_matriz                   object\n",
       "year                              int64\n",
       "entidad                          object\n",
       "localizacion                     object\n",
       "localizacion_desc                object\n",
       "mision_vision                    object\n",
       "pers_estrategica                 object\n",
       "ppto_global                       int64\n",
       "mes_proyectado                   object\n",
       "precio_base                     float64\n",
       "date_last_publication    datetime64[ns]\n",
       "ref_contrato                     object\n",
       "date_publised            datetime64[ns]\n",
       "modalidad                        object\n",
       "contacto                         object\n",
       "cod_producto                     object\n",
       "nombre_producto                  object\n",
       "cod_clase                        object\n",
       "nombre_clase                     object\n",
       "cod_familia                      object\n",
       "nombre_familia                   object\n",
       "diff_dates                        int64\n",
       "year_publised                     int64\n",
       "dtype: object"
      ]
     },
     "execution_count": 8,
     "metadata": {},
     "output_type": "execute_result"
    }
   ],
   "source": [
    "df.dtypes"
   ]
  },
  {
   "cell_type": "markdown",
   "metadata": {},
   "source": [
    "Las variables que veremos la si depende una de otra son las siguientes\n",
    "\n",
    "1 - entidad_matriz  (Esta tiene basicamente la misma informacion que entidad asi que solo se hara con esta)\n",
    "\n",
    "2 - localizacion_desc (Esta tiene la misma informacion que localizacion ya que del codigo viene la descripcion)\n",
    "\n",
    "3 - pers_estrategica (Esta tiene la misma informacion que mision_vision)\n",
    "\n",
    "4 - ref_contrato \n",
    "\n",
    "5 - modalidad\n",
    "\n",
    "6 - contacto \n",
    "\n",
    "7 - nombre_producto (tiene la misma info que cod_producto) \n",
    "\n",
    "8 - nombre_clase (tiene la misma info que cod_clase)\n",
    "\n",
    "9 - nombre_familia (tiene la misma info que cod_familia)\n"
   ]
  },
  {
   "cell_type": "code",
   "execution_count": 9,
   "metadata": {},
   "outputs": [],
   "source": [
    "Lista=[\"entidad_matriz\",\"year\",\"localizacion_desc\",\"pers_estrategica\",\"ref_contrato\",\"modalidad\",\"contacto\",\"nombre_producto\",\"nombre_clase\",\"nombre_familia\"]"
   ]
  },
  {
   "cell_type": "code",
   "execution_count": null,
   "metadata": {},
   "outputs": [],
   "source": []
  },
  {
   "cell_type": "code",
   "execution_count": 10,
   "metadata": {},
   "outputs": [],
   "source": [
    "from scipy.stats import chi2_contingency\n",
    "import seaborn as sns\n",
    "import matplotlib.pyplot as plt"
   ]
  },
  {
   "cell_type": "code",
   "execution_count": 11,
   "metadata": {},
   "outputs": [
    {
     "name": "stdout",
     "output_type": "stream",
     "text": [
      "entidad_matriz Es dependiente a year Bajo un nivel de confianza del 95% y un valor p de 0.0 Estadistico 454189.3121730705\n",
      "entidad_matriz Es dependiente a localizacion_desc Bajo un nivel de confianza del 95% y un valor p de 0.0 Estadistico 10676855.932971789\n",
      "entidad_matriz Es dependiente a pers_estrategica Bajo un nivel de confianza del 95% y un valor p de 0.0 Estadistico 182324168.63945705\n",
      "entidad_matriz Es dependiente a ref_contrato Bajo un nivel de confianza del 95% y un valor p de 0.0 Estadistico 176713930.92577863\n",
      "entidad_matriz Es dependiente a modalidad Bajo un nivel de confianza del 95% y un valor p de 0.0 Estadistico 187868.96995993858\n",
      "entidad_matriz Es dependiente a contacto Bajo un nivel de confianza del 95% y un valor p de 0.0 Estadistico 196345609.48835883\n",
      "entidad_matriz Es dependiente a nombre_producto Bajo un nivel de confianza del 95% y un valor p de 0.0 Estadistico 28271631.457615595\n",
      "entidad_matriz Es dependiente a nombre_clase Bajo un nivel de confianza del 95% y un valor p de 0.0 Estadistico 14231023.810512315\n",
      "entidad_matriz Es dependiente a nombre_familia Bajo un nivel de confianza del 95% y un valor p de 0.0 Estadistico 6810823.963814806\n",
      "year Es dependiente a entidad_matriz Bajo un nivel de confianza del 95% y un valor p de 0.0 Estadistico 454189.31217307056\n",
      "year Es dependiente a localizacion_desc Bajo un nivel de confianza del 95% y un valor p de 0.0 Estadistico 48005.635208665204\n",
      "year Es dependiente a pers_estrategica Bajo un nivel de confianza del 95% y un valor p de 0.0 Estadistico 1082588.8604692277\n",
      "year Es dependiente a ref_contrato Bajo un nivel de confianza del 95% y un valor p de 0.0 Estadistico 1392031.1998762018\n",
      "year Es dependiente a modalidad Bajo un nivel de confianza del 95% y un valor p de 0.0 Estadistico 16587.084527061146\n",
      "year Es dependiente a contacto Bajo un nivel de confianza del 95% y un valor p de 0.0 Estadistico 1083344.2048416848\n",
      "year Es dependiente a nombre_producto Bajo un nivel de confianza del 95% y un valor p de 0.0 Estadistico 312234.63880321756\n",
      "year Es dependiente a nombre_clase Bajo un nivel de confianza del 95% y un valor p de 0.0 Estadistico 195926.39950419829\n",
      "year Es dependiente a nombre_familia Bajo un nivel de confianza del 95% y un valor p de 0.0 Estadistico 92008.29083402068\n",
      "localizacion_desc Es dependiente a entidad_matriz Bajo un nivel de confianza del 95% y un valor p de 0.0 Estadistico 10676855.932971787\n",
      "localizacion_desc Es dependiente a year Bajo un nivel de confianza del 95% y un valor p de 0.0 Estadistico 48005.63520866521\n",
      "localizacion_desc Es dependiente a pers_estrategica Bajo un nivel de confianza del 95% y un valor p de 0.0 Estadistico 10008162.967964923\n",
      "localizacion_desc Es dependiente a ref_contrato Bajo un nivel de confianza del 95% y un valor p de 0.0 Estadistico 10639305.456619687\n",
      "localizacion_desc Es dependiente a modalidad Bajo un nivel de confianza del 95% y un valor p de 0.0 Estadistico 22390.02289249275\n",
      "localizacion_desc Es dependiente a contacto Bajo un nivel de confianza del 95% y un valor p de 0.0 Estadistico 10921504.591896554\n",
      "localizacion_desc Es dependiente a nombre_producto Bajo un nivel de confianza del 95% y un valor p de 0.0 Estadistico 2562969.724012813\n",
      "localizacion_desc Es dependiente a nombre_clase Bajo un nivel de confianza del 95% y un valor p de 0.0 Estadistico 1690427.0600008767\n",
      "localizacion_desc Es dependiente a nombre_familia Bajo un nivel de confianza del 95% y un valor p de 0.0 Estadistico 913891.2513938047\n",
      "pers_estrategica Es dependiente a entidad_matriz Bajo un nivel de confianza del 95% y un valor p de 0.0 Estadistico 182324168.63945696\n",
      "pers_estrategica Es dependiente a year Bajo un nivel de confianza del 95% y un valor p de 0.0 Estadistico 1082588.8604692277\n",
      "pers_estrategica Es dependiente a localizacion_desc Bajo un nivel de confianza del 95% y un valor p de 0.0 Estadistico 10008162.967964921\n",
      "pers_estrategica Es dependiente a ref_contrato Bajo un nivel de confianza del 95% y un valor p de 0.0 Estadistico 315254897.63310933\n",
      "pers_estrategica Es dependiente a modalidad Bajo un nivel de confianza del 95% y un valor p de 0.0 Estadistico 206018.73677751067\n",
      "pers_estrategica Es dependiente a contacto Bajo un nivel de confianza del 95% y un valor p de 0.0 Estadistico 292310835.0002411\n",
      "pers_estrategica Es dependiente a nombre_producto Bajo un nivel de confianza del 95% y un valor p de 0.0 Estadistico 43489232.421276525\n",
      "pers_estrategica Es dependiente a nombre_clase Bajo un nivel de confianza del 95% y un valor p de 0.0 Estadistico 20292857.753193937\n",
      "pers_estrategica Es dependiente a nombre_familia Bajo un nivel de confianza del 95% y un valor p de 0.0 Estadistico 9254972.01206263\n",
      "ref_contrato Es dependiente a entidad_matriz Bajo un nivel de confianza del 95% y un valor p de 0.0 Estadistico 176713930.9257786\n",
      "ref_contrato Es dependiente a year Bajo un nivel de confianza del 95% y un valor p de 0.0 Estadistico 1392031.199876202\n",
      "ref_contrato Es dependiente a localizacion_desc Bajo un nivel de confianza del 95% y un valor p de 0.0 Estadistico 10639305.456619687\n",
      "ref_contrato Es dependiente a pers_estrategica Bajo un nivel de confianza del 95% y un valor p de 0.0 Estadistico 315254897.63310844\n",
      "ref_contrato Es dependiente a modalidad Bajo un nivel de confianza del 95% y un valor p de 0.0 Estadistico 1022049.5355126725\n",
      "ref_contrato Es dependiente a contacto Bajo un nivel de confianza del 95% y un valor p de 0.0 Estadistico 335623852.026818\n",
      "ref_contrato Es dependiente a nombre_producto Bajo un nivel de confianza del 95% y un valor p de 0.0 Estadistico 982007992.9926838\n",
      "ref_contrato Es dependiente a nombre_clase Bajo un nivel de confianza del 95% y un valor p de 0.0 Estadistico 390711835.8435566\n",
      "ref_contrato Es dependiente a nombre_familia Bajo un nivel de confianza del 95% y un valor p de 0.0 Estadistico 115330928.61988562\n",
      "modalidad Es dependiente a entidad_matriz Bajo un nivel de confianza del 95% y un valor p de 0.0 Estadistico 187868.96995993855\n",
      "modalidad Es dependiente a year Bajo un nivel de confianza del 95% y un valor p de 0.0 Estadistico 16587.08452706115\n",
      "modalidad Es dependiente a localizacion_desc Bajo un nivel de confianza del 95% y un valor p de 0.0 Estadistico 22390.02289249275\n",
      "modalidad Es dependiente a pers_estrategica Bajo un nivel de confianza del 95% y un valor p de 0.0 Estadistico 206018.73677751064\n",
      "modalidad Es dependiente a ref_contrato Bajo un nivel de confianza del 95% y un valor p de 0.0 Estadistico 1022049.5355126731\n",
      "modalidad Es dependiente a contacto Bajo un nivel de confianza del 95% y un valor p de 0.0 Estadistico 239948.8647340064\n",
      "modalidad Es dependiente a nombre_producto Bajo un nivel de confianza del 95% y un valor p de 0.0 Estadistico 525371.3017298473\n",
      "modalidad Es dependiente a nombre_clase Bajo un nivel de confianza del 95% y un valor p de 0.0 Estadistico 450687.15168526536\n",
      "modalidad Es dependiente a nombre_familia Bajo un nivel de confianza del 95% y un valor p de 0.0 Estadistico 396116.513250763\n",
      "contacto Es dependiente a entidad_matriz Bajo un nivel de confianza del 95% y un valor p de 0.0 Estadistico 196345609.48835886\n",
      "contacto Es dependiente a year Bajo un nivel de confianza del 95% y un valor p de 0.0 Estadistico 1083344.204841685\n",
      "contacto Es dependiente a localizacion_desc Bajo un nivel de confianza del 95% y un valor p de 0.0 Estadistico 10921504.591896554\n",
      "contacto Es dependiente a pers_estrategica Bajo un nivel de confianza del 95% y un valor p de 0.0 Estadistico 292310835.0002413\n",
      "contacto Es dependiente a ref_contrato Bajo un nivel de confianza del 95% y un valor p de 0.0 Estadistico 335623852.0268182\n",
      "contacto Es dependiente a modalidad Bajo un nivel de confianza del 95% y un valor p de 0.0 Estadistico 239948.8647340064\n",
      "contacto Es dependiente a nombre_producto Bajo un nivel de confianza del 95% y un valor p de 0.0 Estadistico 45250385.96281923\n",
      "contacto Es dependiente a nombre_clase Bajo un nivel de confianza del 95% y un valor p de 0.0 Estadistico 21513445.534647133\n",
      "contacto Es dependiente a nombre_familia Bajo un nivel de confianza del 95% y un valor p de 0.0 Estadistico 9675085.049840985\n",
      "nombre_producto Es dependiente a entidad_matriz Bajo un nivel de confianza del 95% y un valor p de 0.0 Estadistico 28271631.457615606\n"
     ]
    },
    {
     "name": "stdout",
     "output_type": "stream",
     "text": [
      "nombre_producto Es dependiente a year Bajo un nivel de confianza del 95% y un valor p de 0.0 Estadistico 312234.63880321756\n",
      "nombre_producto Es dependiente a localizacion_desc Bajo un nivel de confianza del 95% y un valor p de 0.0 Estadistico 2562969.7240128126\n",
      "nombre_producto Es dependiente a pers_estrategica Bajo un nivel de confianza del 95% y un valor p de 0.0 Estadistico 43489232.42127655\n",
      "nombre_producto Es dependiente a ref_contrato Bajo un nivel de confianza del 95% y un valor p de 0.0 Estadistico 982007992.9926977\n",
      "nombre_producto Es dependiente a modalidad Bajo un nivel de confianza del 95% y un valor p de 0.0 Estadistico 525371.3017298473\n",
      "nombre_producto Es dependiente a contacto Bajo un nivel de confianza del 95% y un valor p de 0.0 Estadistico 45250385.96281925\n",
      "nombre_producto Es dependiente a nombre_clase Bajo un nivel de confianza del 95% y un valor p de 0.0 Estadistico 404880276.53376734\n",
      "nombre_producto Es dependiente a nombre_familia Bajo un nivel de confianza del 95% y un valor p de 0.0 Estadistico 119069989.86011446\n",
      "nombre_clase Es dependiente a entidad_matriz Bajo un nivel de confianza del 95% y un valor p de 0.0 Estadistico 14231023.81051231\n",
      "nombre_clase Es dependiente a year Bajo un nivel de confianza del 95% y un valor p de 0.0 Estadistico 195926.39950419829\n",
      "nombre_clase Es dependiente a localizacion_desc Bajo un nivel de confianza del 95% y un valor p de 0.0 Estadistico 1690427.0600008767\n",
      "nombre_clase Es dependiente a pers_estrategica Bajo un nivel de confianza del 95% y un valor p de 0.0 Estadistico 20292857.753193937\n",
      "nombre_clase Es dependiente a ref_contrato Bajo un nivel de confianza del 95% y un valor p de 0.0 Estadistico 390711835.84355736\n",
      "nombre_clase Es dependiente a modalidad Bajo un nivel de confianza del 95% y un valor p de 0.0 Estadistico 450687.1516852655\n",
      "nombre_clase Es dependiente a contacto Bajo un nivel de confianza del 95% y un valor p de 0.0 Estadistico 21513445.534647133\n",
      "nombre_clase Es dependiente a nombre_producto Bajo un nivel de confianza del 95% y un valor p de 0.0 Estadistico 404880276.53376746\n",
      "nombre_clase Es dependiente a nombre_familia Bajo un nivel de confianza del 95% y un valor p de 0.0 Estadistico 119119765.87177934\n",
      "nombre_familia Es dependiente a entidad_matriz Bajo un nivel de confianza del 95% y un valor p de 0.0 Estadistico 6810823.963814805\n",
      "nombre_familia Es dependiente a year Bajo un nivel de confianza del 95% y un valor p de 0.0 Estadistico 92008.29083402068\n",
      "nombre_familia Es dependiente a localizacion_desc Bajo un nivel de confianza del 95% y un valor p de 0.0 Estadistico 913891.2513938048\n",
      "nombre_familia Es dependiente a pers_estrategica Bajo un nivel de confianza del 95% y un valor p de 0.0 Estadistico 9254972.012062632\n",
      "nombre_familia Es dependiente a ref_contrato Bajo un nivel de confianza del 95% y un valor p de 0.0 Estadistico 115330928.61988495\n",
      "nombre_familia Es dependiente a modalidad Bajo un nivel de confianza del 95% y un valor p de 0.0 Estadistico 396116.51325076295\n",
      "nombre_familia Es dependiente a contacto Bajo un nivel de confianza del 95% y un valor p de 0.0 Estadistico 9675085.049840983\n",
      "nombre_familia Es dependiente a nombre_producto Bajo un nivel de confianza del 95% y un valor p de 0.0 Estadistico 119069989.86011437\n",
      "nombre_familia Es dependiente a nombre_clase Bajo un nivel de confianza del 95% y un valor p de 0.0 Estadistico 119119765.87177932\n"
     ]
    }
   ],
   "source": [
    "for i in range(len(Lista)):\n",
    "    for j in range(len(Lista)):\n",
    "        \n",
    "        if i != j:\n",
    "            contigency= pd.crosstab(df[Lista[i]],df[Lista[j]])\n",
    "            c, p, dof, expected = chi2_contingency(contigency)\n",
    "            p=round(p,4)\n",
    "            if p < 0.05:\n",
    "                print(Lista[i],\"Es dependiente a\",Lista[j],\"Bajo un nivel de confianza del 95% y un valor p de\",p,\"Estadistico\",c)\n",
    "            else:\n",
    "                print(Lista[i],\"Es independiente a\",Lista[j],\"Bajo un nivel de confianza del 95% y un valor p de\",p,\"Estadistico\",c)                                   \n",
    "        else:\n",
    "            a=1"
   ]
  },
  {
   "cell_type": "code",
   "execution_count": 12,
   "metadata": {},
   "outputs": [],
   "source": [
    "import scipy.stats as stats"
   ]
  },
  {
   "cell_type": "markdown",
   "metadata": {},
   "source": [
    "# El resultado que nos dan es "
   ]
  },
  {
   "cell_type": "markdown",
   "metadata": {},
   "source": [
    "Basicamente todas las variables son dependientes, quizimos probar manualmente con otro codigo para ver si era problema de la libreraria pero encontramos exactamente el mismo valor P y el mismo estadistico de prueba"
   ]
  },
  {
   "cell_type": "code",
   "execution_count": 13,
   "metadata": {},
   "outputs": [
    {
     "name": "stdout",
     "output_type": "stream",
     "text": [
      "454189.3121730705 0.0\n"
     ]
    }
   ],
   "source": [
    "contigency= pd.crosstab(df[Lista[0]],df[Lista[1]])\n",
    "c, p, dof, expected = chi2_contingency(contigency)\n",
    "print(c,p)"
   ]
  },
  {
   "cell_type": "code",
   "execution_count": 14,
   "metadata": {},
   "outputs": [
    {
     "name": "stdout",
     "output_type": "stream",
     "text": [
      "Approach 1: The p-value approach to hypothesis testing in the decision rule\n",
      "chisquare-score is: 454189.3121730673  and p value is: 0.0\n",
      "Null Hypothesis is rejected.\n"
     ]
    }
   ],
   "source": [
    "data_crosstab = pd.crosstab(df[Lista[0]],\n",
    "                            df[Lista[1]],\n",
    "                           margins=True, margins_name=\"Total\")\n",
    "\n",
    "# significance level\n",
    "alpha = 0.05\n",
    "\n",
    "# Calcualtion of Chisquare test statistics\n",
    "chi_square = 0\n",
    "rows = df[Lista[0]].unique()\n",
    "columns = df[Lista[1]].unique()\n",
    "for i in columns:\n",
    "    for j in rows:\n",
    "        O = data_crosstab[i][j]\n",
    "        E = data_crosstab[i]['Total'] * data_crosstab['Total'][j] / data_crosstab['Total']['Total']\n",
    "        chi_square += (O-E)**2/E\n",
    "\n",
    "# The p-value approach\n",
    "print(\"Approach 1: The p-value approach to hypothesis testing in the decision rule\")\n",
    "p_value = 1 - stats.norm.cdf(chi_square, (len(rows)-1)*(len(columns)-1))\n",
    "conclusion = \"Failed to reject the null hypothesis.\"\n",
    "if p_value <= alpha:\n",
    "    conclusion = \"Null Hypothesis is rejected.\"\n",
    "        \n",
    "print(\"chisquare-score is:\", chi_square, \" and p value is:\", p_value)\n",
    "print(conclusion)"
   ]
  },
  {
   "cell_type": "code",
   "execution_count": null,
   "metadata": {},
   "outputs": [],
   "source": []
  },
  {
   "cell_type": "markdown",
   "metadata": {},
   "source": [
    "https://towardsdatascience.com/chi-square-test-with-python-d8ba98117626\n",
    "\n",
    "https://medium.com/swlh/how-to-run-chi-square-test-in-python-4e9f5d10249d"
   ]
  }
 ],
 "metadata": {
  "kernelspec": {
   "display_name": "Python 3",
   "language": "python",
   "name": "python3"
  },
  "language_info": {
   "codemirror_mode": {
    "name": "ipython",
    "version": 3
   },
   "file_extension": ".py",
   "mimetype": "text/x-python",
   "name": "python",
   "nbconvert_exporter": "python",
   "pygments_lexer": "ipython3",
   "version": "3.8.5"
  }
 },
 "nbformat": 4,
 "nbformat_minor": 4
}
