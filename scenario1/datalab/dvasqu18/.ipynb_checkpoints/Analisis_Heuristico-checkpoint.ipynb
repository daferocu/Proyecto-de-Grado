{
 "cells": [
  {
   "cell_type": "markdown",
   "metadata": {},
   "source": [
    "# Análisis Heurístico"
   ]
  },
  {
   "cell_type": "markdown",
   "metadata": {},
   "source": [
    "Bajo el análisis eurístico se carga el trabajo realizado desde excel en donde se hace un filtrado supervisado de las variables del diccionario que se encuentran en \"Nombre_Producto\". A partir de ahí haremos un analisis univariante y bivariante."
   ]
  },
  {
   "cell_type": "markdown",
   "metadata": {},
   "source": [
    "#### Importar librerías"
   ]
  },
  {
   "cell_type": "code",
   "execution_count": 1,
   "metadata": {},
   "outputs": [],
   "source": [
    "# Load Packages\n",
    "import os,sys\n",
    "import pandas as pd\n",
    "import numpy as np\n",
    "import matplotlib.pyplot as plt"
   ]
  },
  {
   "cell_type": "markdown",
   "metadata": {},
   "source": [
    "#### Importar la base de datos (.pickle)"
   ]
  },
  {
   "cell_type": "code",
   "execution_count": 2,
   "metadata": {},
   "outputs": [],
   "source": [
    "import pickle \n",
    "import random"
   ]
  },
  {
   "cell_type": "code",
   "execution_count": 3,
   "metadata": {},
   "outputs": [
    {
     "data": {
      "text/plain": [
       "'C:\\\\Users\\\\AnalistaNegB2B\\\\Desktop\\\\Analista Negocios B2B\\\\DVJ\\\\Maestria Ciencias de los Datos y Analitica\\\\2021-1\\\\PROYECTO INTEGRADOR\\\\proy-segmentacion\\\\jupyter\\\\dvasqu18'"
      ]
     },
     "execution_count": 3,
     "metadata": {},
     "output_type": "execute_result"
    }
   ],
   "source": [
    "# Mostrar la ruta del archivo indiferente del sistema operativo\n",
    "import os\n",
    "os.getcwd()"
   ]
  },
  {
   "cell_type": "code",
   "execution_count": 4,
   "metadata": {},
   "outputs": [],
   "source": [
    "main_path=\"C:\\\\Users\\\\AnalistaNegB2B\\\\Desktop\\\\Analista Negocios B2B\\\\DVJ\\\\Maestria Ciencias de los Datos y Analitica\\\\2021-1\\\\PROYECTO INTEGRADOR\\\\proy-segmentacion\"\n",
    "data_path=\"\\\\data\\\\02 - Raw\""
   ]
  },
  {
   "cell_type": "code",
   "execution_count": 5,
   "metadata": {},
   "outputs": [],
   "source": [
    "os.chdir(main_path + data_path)"
   ]
  },
  {
   "cell_type": "code",
   "execution_count": 6,
   "metadata": {},
   "outputs": [
    {
     "data": {
      "text/plain": [
       "'C:\\\\Users\\\\AnalistaNegB2B\\\\Desktop\\\\Analista Negocios B2B\\\\DVJ\\\\Maestria Ciencias de los Datos y Analitica\\\\2021-1\\\\PROYECTO INTEGRADOR\\\\proy-segmentacion\\\\data\\\\02 - Raw'"
      ]
     },
     "execution_count": 6,
     "metadata": {},
     "output_type": "execute_result"
    }
   ],
   "source": [
    "os.getcwd()"
   ]
  },
  {
   "cell_type": "code",
   "execution_count": 7,
   "metadata": {},
   "outputs": [
    {
     "data": {
      "text/html": [
       "<div>\n",
       "<style scoped>\n",
       "    .dataframe tbody tr th:only-of-type {\n",
       "        vertical-align: middle;\n",
       "    }\n",
       "\n",
       "    .dataframe tbody tr th {\n",
       "        vertical-align: top;\n",
       "    }\n",
       "\n",
       "    .dataframe thead th {\n",
       "        text-align: right;\n",
       "    }\n",
       "</style>\n",
       "<table border=\"1\" class=\"dataframe\">\n",
       "  <thead>\n",
       "    <tr style=\"text-align: right;\">\n",
       "      <th></th>\n",
       "      <th>nit</th>\n",
       "      <th>entidad_matriz</th>\n",
       "      <th>year</th>\n",
       "      <th>entidad</th>\n",
       "      <th>localizacion</th>\n",
       "      <th>localizacion_desc</th>\n",
       "      <th>mision_vision</th>\n",
       "      <th>pers_estrategica</th>\n",
       "      <th>ppto_global</th>\n",
       "      <th>mes_proyectado</th>\n",
       "      <th>...</th>\n",
       "      <th>modalidad</th>\n",
       "      <th>contacto</th>\n",
       "      <th>cod_producto</th>\n",
       "      <th>nombre_producto</th>\n",
       "      <th>cod_clase</th>\n",
       "      <th>nombre_clase</th>\n",
       "      <th>cod_familia</th>\n",
       "      <th>nombre_familia</th>\n",
       "      <th>diff_dates</th>\n",
       "      <th>year_publised</th>\n",
       "    </tr>\n",
       "  </thead>\n",
       "  <tbody>\n",
       "    <tr>\n",
       "      <th>22</th>\n",
       "      <td>800010350</td>\n",
       "      <td>ALCALDIA MUNICIPAL DE MURILLO</td>\n",
       "      <td>2019</td>\n",
       "      <td>ALCALDIA MUNICIPAL DE MURILLO</td>\n",
       "      <td>CO-TOL-73461</td>\n",
       "      <td>Tolima</td>\n",
       "      <td>MISION: Proveer los instrumentos necesarios pa...</td>\n",
       "      <td>Lograr la estructuración del plan de compras 2...</td>\n",
       "      <td>2971812351</td>\n",
       "      <td>Enero</td>\n",
       "      <td>...</td>\n",
       "      <td>CCE-16-Servicios_profesionales_gestion</td>\n",
       "      <td>Monica Andrea Hernandez Salinas</td>\n",
       "      <td>V1.80111620</td>\n",
       "      <td>Servicios temporales de recursos humanos</td>\n",
       "      <td>V1.80111600</td>\n",
       "      <td>Servicios de personal temporal</td>\n",
       "      <td>V1.80110000</td>\n",
       "      <td>Servicios de recursos humanos</td>\n",
       "      <td>0</td>\n",
       "      <td>2019</td>\n",
       "    </tr>\n",
       "    <tr>\n",
       "      <th>41</th>\n",
       "      <td>800012873</td>\n",
       "      <td>MUNICIPIO DE TAURAMENA</td>\n",
       "      <td>2019</td>\n",
       "      <td>MUNICIPIO DE TAURAMENA</td>\n",
       "      <td>CO-CAS-85410</td>\n",
       "      <td>Casanare</td>\n",
       "      <td>MISIÓN: Prestar servicio efectivo a la comunid...</td>\n",
       "      <td>La Alcaldía municipal de Tauramena Casanare, t...</td>\n",
       "      <td>114339387326</td>\n",
       "      <td>Julio</td>\n",
       "      <td>...</td>\n",
       "      <td>CCE-06-Seleccion_Abreviada_Menor_Cuantia</td>\n",
       "      <td>MARIA EUGENIA RODRIGUEZ FIGUEREDO</td>\n",
       "      <td>V1.93141506</td>\n",
       "      <td>Servicios de bienestar social</td>\n",
       "      <td>V1.93141500</td>\n",
       "      <td>Desarrollo y servicios sociales</td>\n",
       "      <td>V1.93140000</td>\n",
       "      <td>Servicios comunitarios y sociales</td>\n",
       "      <td>363</td>\n",
       "      <td>2018</td>\n",
       "    </tr>\n",
       "    <tr>\n",
       "      <th>75</th>\n",
       "      <td>800022620</td>\n",
       "      <td>BOMBEROS DE BUCARAMANGA</td>\n",
       "      <td>2019</td>\n",
       "      <td>BOMBEROS DE BUCARAMANGA</td>\n",
       "      <td>CO-SAN-68001</td>\n",
       "      <td>Santander</td>\n",
       "      <td>Bomberos de Bucaramanga es una Institución Pub...</td>\n",
       "      <td>La actividad Bomberil se reconoce como un ser...</td>\n",
       "      <td>10926006500</td>\n",
       "      <td>Enero</td>\n",
       "      <td>...</td>\n",
       "      <td>CCE-16-Servicios_profesionales_gestion</td>\n",
       "      <td>AMANDA LUCIA BARCENAS MANTILLA</td>\n",
       "      <td>V1.80111500</td>\n",
       "      <td>Desarrollo de recursos humanos</td>\n",
       "      <td>V1.80110000</td>\n",
       "      <td>Servicios de recursos humanos</td>\n",
       "      <td>V1.80000000</td>\n",
       "      <td>Servicios de Gestión, Servicios Profesionales ...</td>\n",
       "      <td>33</td>\n",
       "      <td>2019</td>\n",
       "    </tr>\n",
       "    <tr>\n",
       "      <th>76</th>\n",
       "      <td>800022620</td>\n",
       "      <td>BOMBEROS DE BUCARAMANGA</td>\n",
       "      <td>2019</td>\n",
       "      <td>BOMBEROS DE BUCARAMANGA</td>\n",
       "      <td>CO-SAN-68001</td>\n",
       "      <td>Santander</td>\n",
       "      <td>Bomberos de Bucaramanga es una Institución Pub...</td>\n",
       "      <td>La actividad Bomberil se reconoce como un ser...</td>\n",
       "      <td>10926006500</td>\n",
       "      <td>Enero</td>\n",
       "      <td>...</td>\n",
       "      <td>CCE-16-Servicios_profesionales_gestion</td>\n",
       "      <td>AMANDA LUCIA BARCENAS MANTILLA</td>\n",
       "      <td>V1.80111600</td>\n",
       "      <td>Servicios de personal temporal</td>\n",
       "      <td>V1.80110000</td>\n",
       "      <td>Servicios de recursos humanos</td>\n",
       "      <td>V1.80000000</td>\n",
       "      <td>Servicios de Gestión, Servicios Profesionales ...</td>\n",
       "      <td>33</td>\n",
       "      <td>2019</td>\n",
       "    </tr>\n",
       "    <tr>\n",
       "      <th>77</th>\n",
       "      <td>800022620</td>\n",
       "      <td>BOMBEROS DE BUCARAMANGA</td>\n",
       "      <td>2019</td>\n",
       "      <td>BOMBEROS DE BUCARAMANGA</td>\n",
       "      <td>CO-SAN-68001</td>\n",
       "      <td>Santander</td>\n",
       "      <td>Bomberos de Bucaramanga es una Institución Pub...</td>\n",
       "      <td>La actividad Bomberil se reconoce como un ser...</td>\n",
       "      <td>10926006500</td>\n",
       "      <td>Enero</td>\n",
       "      <td>...</td>\n",
       "      <td>CCE-16-Servicios_profesionales_gestion</td>\n",
       "      <td>AMANDA LUCIA BARCENAS MANTILLA</td>\n",
       "      <td>V1.80111600</td>\n",
       "      <td>Servicios de personal temporal</td>\n",
       "      <td>V1.80110000</td>\n",
       "      <td>Servicios de recursos humanos</td>\n",
       "      <td>V1.80000000</td>\n",
       "      <td>Servicios de Gestión, Servicios Profesionales ...</td>\n",
       "      <td>33</td>\n",
       "      <td>2019</td>\n",
       "    </tr>\n",
       "  </tbody>\n",
       "</table>\n",
       "<p>5 rows × 24 columns</p>\n",
       "</div>"
      ],
      "text/plain": [
       "          nit                 entidad_matriz  year  \\\n",
       "22  800010350  ALCALDIA MUNICIPAL DE MURILLO  2019   \n",
       "41  800012873         MUNICIPIO DE TAURAMENA  2019   \n",
       "75  800022620        BOMBEROS DE BUCARAMANGA  2019   \n",
       "76  800022620        BOMBEROS DE BUCARAMANGA  2019   \n",
       "77  800022620        BOMBEROS DE BUCARAMANGA  2019   \n",
       "\n",
       "                          entidad  localizacion localizacion_desc  \\\n",
       "22  ALCALDIA MUNICIPAL DE MURILLO  CO-TOL-73461            Tolima   \n",
       "41         MUNICIPIO DE TAURAMENA  CO-CAS-85410          Casanare   \n",
       "75        BOMBEROS DE BUCARAMANGA  CO-SAN-68001         Santander   \n",
       "76        BOMBEROS DE BUCARAMANGA  CO-SAN-68001         Santander   \n",
       "77        BOMBEROS DE BUCARAMANGA  CO-SAN-68001         Santander   \n",
       "\n",
       "                                        mision_vision  \\\n",
       "22  MISION: Proveer los instrumentos necesarios pa...   \n",
       "41  MISIÓN: Prestar servicio efectivo a la comunid...   \n",
       "75  Bomberos de Bucaramanga es una Institución Pub...   \n",
       "76  Bomberos de Bucaramanga es una Institución Pub...   \n",
       "77  Bomberos de Bucaramanga es una Institución Pub...   \n",
       "\n",
       "                                     pers_estrategica   ppto_global  \\\n",
       "22  Lograr la estructuración del plan de compras 2...    2971812351   \n",
       "41  La Alcaldía municipal de Tauramena Casanare, t...  114339387326   \n",
       "75  La actividad Bomberil se reconoce como un ser...   10926006500   \n",
       "76  La actividad Bomberil se reconoce como un ser...   10926006500   \n",
       "77  La actividad Bomberil se reconoce como un ser...   10926006500   \n",
       "\n",
       "   mes_proyectado  ...                                 modalidad  \\\n",
       "22          Enero  ...    CCE-16-Servicios_profesionales_gestion   \n",
       "41          Julio  ...  CCE-06-Seleccion_Abreviada_Menor_Cuantia   \n",
       "75          Enero  ...    CCE-16-Servicios_profesionales_gestion   \n",
       "76          Enero  ...    CCE-16-Servicios_profesionales_gestion   \n",
       "77          Enero  ...    CCE-16-Servicios_profesionales_gestion   \n",
       "\n",
       "                             contacto cod_producto  \\\n",
       "22    Monica Andrea Hernandez Salinas  V1.80111620   \n",
       "41  MARIA EUGENIA RODRIGUEZ FIGUEREDO  V1.93141506   \n",
       "75     AMANDA LUCIA BARCENAS MANTILLA  V1.80111500   \n",
       "76     AMANDA LUCIA BARCENAS MANTILLA  V1.80111600   \n",
       "77     AMANDA LUCIA BARCENAS MANTILLA  V1.80111600   \n",
       "\n",
       "                             nombre_producto    cod_clase  \\\n",
       "22  Servicios temporales de recursos humanos  V1.80111600   \n",
       "41             Servicios de bienestar social  V1.93141500   \n",
       "75            Desarrollo de recursos humanos  V1.80110000   \n",
       "76            Servicios de personal temporal  V1.80110000   \n",
       "77            Servicios de personal temporal  V1.80110000   \n",
       "\n",
       "                       nombre_clase  cod_familia  \\\n",
       "22   Servicios de personal temporal  V1.80110000   \n",
       "41  Desarrollo y servicios sociales  V1.93140000   \n",
       "75    Servicios de recursos humanos  V1.80000000   \n",
       "76    Servicios de recursos humanos  V1.80000000   \n",
       "77    Servicios de recursos humanos  V1.80000000   \n",
       "\n",
       "                                       nombre_familia diff_dates year_publised  \n",
       "22                      Servicios de recursos humanos          0          2019  \n",
       "41                  Servicios comunitarios y sociales        363          2018  \n",
       "75  Servicios de Gestión, Servicios Profesionales ...         33          2019  \n",
       "76  Servicios de Gestión, Servicios Profesionales ...         33          2019  \n",
       "77  Servicios de Gestión, Servicios Profesionales ...         33          2019  \n",
       "\n",
       "[5 rows x 24 columns]"
      ]
     },
     "execution_count": 7,
     "metadata": {},
     "output_type": "execute_result"
    }
   ],
   "source": [
    "df=pickle.load( open(r'Fuente_2_vista_minable.pickle', \"rb\" ) )\n",
    "df.head()"
   ]
  },
  {
   "cell_type": "code",
   "execution_count": 8,
   "metadata": {},
   "outputs": [
    {
     "data": {
      "text/plain": [
       "(349671, 24)"
      ]
     },
     "execution_count": 8,
     "metadata": {},
     "output_type": "execute_result"
    }
   ],
   "source": [
    "df.shape"
   ]
  },
  {
   "cell_type": "code",
   "execution_count": 9,
   "metadata": {
    "scrolled": true
   },
   "outputs": [
    {
     "name": "stdout",
     "output_type": "stream",
     "text": [
      "nit                        570\n",
      "entidad_matriz             569\n",
      "year                         5\n",
      "entidad                    670\n",
      "localizacion               158\n",
      "localizacion_desc           33\n",
      "mision_vision             1062\n",
      "pers_estrategica           981\n",
      "ppto_global               1317\n",
      "mes_proyectado              12\n",
      "precio_base              30952\n",
      "date_last_publication      510\n",
      "ref_contrato             97649\n",
      "date_publised              286\n",
      "modalidad                    4\n",
      "contacto                  1050\n",
      "cod_producto              2936\n",
      "nombre_producto           2934\n",
      "cod_clase                 1161\n",
      "nombre_clase              1160\n",
      "cod_familia                343\n",
      "nombre_familia             342\n",
      "diff_dates                 381\n",
      "year_publised                5\n",
      "dtype: int64\n"
     ]
    }
   ],
   "source": [
    "df.nunique(axis=0)\n",
    "print(df.nunique(axis=0))"
   ]
  },
  {
   "cell_type": "markdown",
   "metadata": {},
   "source": [
    "### Selección de grupos a partir de la variable nombre_producto \n",
    "A partir de la vista minable se construye una tabla dinámica que permita hacer un análisis eurístico en donde se hace un filtro de nombre_producto con las palabras seleccionadas en el diccionario y se analizan las familias, clases y productos que surgen de este filtro. "
   ]
  },
  {
   "cell_type": "markdown",
   "metadata": {},
   "source": [
    "#### Diccionario:\n",
    "\n",
    "Tecnologia, Informatica, Data, Datos, Analitica, Analizador, Dato, Prediccion"
   ]
  },
  {
   "cell_type": "markdown",
   "metadata": {},
   "source": [
    "#### Creamos DataFrame \"df_familia\"\n",
    "Incluye todas las familias que se encontraron con el filtro de productos. "
   ]
  },
  {
   "cell_type": "code",
   "execution_count": 10,
   "metadata": {},
   "outputs": [
    {
     "name": "stdout",
     "output_type": "stream",
     "text": [
      "nit                        397\n",
      "entidad_matriz             396\n",
      "year                         5\n",
      "entidad                    474\n",
      "localizacion               107\n",
      "localizacion_desc           30\n",
      "mision_vision              730\n",
      "pers_estrategica           682\n",
      "ppto_global                857\n",
      "mes_proyectado              12\n",
      "precio_base              11275\n",
      "date_last_publication      327\n",
      "ref_contrato             37815\n",
      "date_publised              191\n",
      "modalidad                    4\n",
      "contacto                   687\n",
      "cod_producto               701\n",
      "nombre_producto            701\n",
      "cod_clase                  185\n",
      "nombre_clase               185\n",
      "cod_familia                 32\n",
      "nombre_familia              32\n",
      "diff_dates                 289\n",
      "year_publised                5\n",
      "dtype: int64\n"
     ]
    }
   ],
   "source": [
    "df_familia = df[df.cod_familia.isin(['V1.32150000','V1.42000000','V1.43000000','V1.43200000','V1.43210000','V1.43220000',\n",
    "'V1.43230000','V1.55120000','V1.56110000','V1.70100000','V1.70120000','V1.71000000','V1.71110000','V1.71150000','V1.72150000','V1.77100000', 'V1.80100000',\n",
    "'V1.80110000','V1.80150000','V1.80160000','V1.81000000','V1.81100000','V1.81110000','V1.81160000','V1.82110000','V1.83000000','V1.83120000',\n",
    "'V1.84140000','V1.93130000','V1.93140000','V1.93150000','V1.94100000'])]\n",
    "\n",
    "df_familia.nunique(axis=0)\n",
    "print(df_familia.nunique(axis=0))"
   ]
  },
  {
   "cell_type": "markdown",
   "metadata": {},
   "source": [
    "#### Creamos DataFrame \"df_clase\"\n",
    "Incluye todas las clase que se encontraron con el filtro de productos a partir de df_familia. "
   ]
  },
  {
   "cell_type": "code",
   "execution_count": 11,
   "metadata": {},
   "outputs": [
    {
     "name": "stdout",
     "output_type": "stream",
     "text": [
      "nit                        323\n",
      "entidad_matriz             322\n",
      "year                         5\n",
      "entidad                    383\n",
      "localizacion                88\n",
      "localizacion_desc           28\n",
      "mision_vision              573\n",
      "pers_estrategica           532\n",
      "ppto_global                670\n",
      "mes_proyectado              12\n",
      "precio_base               7406\n",
      "date_last_publication      272\n",
      "ref_contrato             28745\n",
      "date_publised              154\n",
      "modalidad                    4\n",
      "contacto                   540\n",
      "cod_producto               261\n",
      "nombre_producto            261\n",
      "cod_clase                   44\n",
      "nombre_clase                44\n",
      "cod_familia                 32\n",
      "nombre_familia              32\n",
      "diff_dates                 237\n",
      "year_publised                5\n",
      "dtype: int64\n"
     ]
    }
   ],
   "source": [
    "df_clase = df_familia[df_familia.cod_clase.isin(['V1.32152000','V1.42200000','V1.43210000','V1.43230000','V1.43201500','V1.43201800','V1.43211700',\n",
    "'V1.43221700','V1.43223300','V1.43232300','V1.43232600','V1.43233400','V1.55121700','V1.56112000','V1.70101600','V1.70122000','V1.71150000','V1.71112300',\n",
    "'V1.71151100','V1.72151600','V1.77101800','V1.80101500','V1.80111600','V1.80111700','V1.80151500','V1.80161500','V1.81110000','V1.81160000','V1.81101500',\n",
    "'V1.81111500','V1.81111700','V1.81111800','V1.81111900','V1.81112000','V1.81112200','V1.81161800','V1.82111900','V1.83120000','V1.83121600','V1.84141700',\n",
    "'V1.93131500','V1.93141800','V1.93151500','V1.94101800'])]\n",
    "\n",
    "\n",
    "df_clase.nunique(axis=0)\n",
    "print(df_clase.nunique(axis=0))"
   ]
  },
  {
   "cell_type": "markdown",
   "metadata": {},
   "source": [
    "#### Creamos DataFrame \"df_producto\"\n",
    "Incluye todas los productos que se encontraron con el filtro inicial a partir de df_clase. "
   ]
  },
  {
   "cell_type": "code",
   "execution_count": 12,
   "metadata": {},
   "outputs": [
    {
     "name": "stdout",
     "output_type": "stream",
     "text": [
      "nit                       145\n",
      "entidad_matriz            145\n",
      "year                        4\n",
      "entidad                   165\n",
      "localizacion               35\n",
      "localizacion_desc          15\n",
      "mision_vision             219\n",
      "pers_estrategica          198\n",
      "ppto_global               243\n",
      "mes_proyectado             12\n",
      "precio_base               772\n",
      "date_last_publication     124\n",
      "ref_contrato             1178\n",
      "date_publised              71\n",
      "modalidad                   3\n",
      "contacto                  205\n",
      "cod_producto               67\n",
      "nombre_producto            67\n",
      "cod_clase                  44\n",
      "nombre_clase               44\n",
      "cod_familia                32\n",
      "nombre_familia             32\n",
      "diff_dates                117\n",
      "year_publised               4\n",
      "dtype: int64\n"
     ]
    }
   ],
   "source": [
    "df_producto = df_clase[df_clase.cod_producto.isin(['V1.32152002','V1.42201500','V1.42202500','V1.42203600','V1.43211700','V1.43212200',\n",
    "'V1.43232300','V1.43233500','V1.43201509','V1.43201550','V1.43201814','V1.43211718','V1.43211730','V1.43211731','V1.43221721','V1.43223301',\n",
    "'V1.43232304','V1.43232305','V1.43232307','V1.43232309','V1.43232311','V1.43232605','V1.43233402','V1.55121718','V1.56112001','V1.70101601',\n",
    "'V1.70122010','V1.71151100','V1.71112303','V1.71151106','V1.72151605','V1.77101801','V1.80101507','V1.80111608','V1.80111609','V1.80111711',\n",
    "'V1.80111712','V1.80111713','V1.80151503','V1.80161506','V1.81111700','V1.81111900','V1.81112000','V1.81161800','V1.81101512','V1.81111507',\n",
    "'V1.81111704','V1.81111806','V1.81111902','V1.81112001','V1.81112002','V1.81112003','V1.81112006','V1.81112007','V1.81112009','V1.81112205',\n",
    "'V1.81161801','V1.82111902','V1.83121600','V1.83121603','V1.83121604','V1.84141701','V1.93131503','V1.93141806','V1.93151502','V1.93151509',\n",
    "'V1.94101803'])]\n",
    "\n",
    "\n",
    "df_producto.nunique(axis=0)\n",
    "print(df_producto.nunique(axis=0))"
   ]
  },
  {
   "cell_type": "code",
   "execution_count": 13,
   "metadata": {},
   "outputs": [
    {
     "name": "stdout",
     "output_type": "stream",
     "text": [
      "Tamaño inicial: (349671, 24) Tamaño familia: (95937, 24) Tamaño clases: (54307, 24) Tamaño producto: (1285, 24)\n"
     ]
    }
   ],
   "source": [
    "print(\"Tamaño inicial:\",df.shape, \"Tamaño familia:\",df_familia.shape, \"Tamaño clases:\",df_clase.shape, \"Tamaño producto:\", df_producto.shape)"
   ]
  },
  {
   "cell_type": "markdown",
   "metadata": {},
   "source": [
    "## Análisis  Univariante"
   ]
  },
  {
   "cell_type": "code",
   "execution_count": 14,
   "metadata": {},
   "outputs": [
    {
     "name": "stdout",
     "output_type": "stream",
     "text": [
      "<class 'pandas.core.frame.DataFrame'>\n",
      "Int64Index: 1285 entries, 233 to 858930\n",
      "Data columns (total 24 columns):\n",
      " #   Column                 Non-Null Count  Dtype         \n",
      "---  ------                 --------------  -----         \n",
      " 0   nit                    1285 non-null   int64         \n",
      " 1   entidad_matriz         1285 non-null   object        \n",
      " 2   year                   1285 non-null   int64         \n",
      " 3   entidad                1285 non-null   object        \n",
      " 4   localizacion           1285 non-null   object        \n",
      " 5   localizacion_desc      1285 non-null   object        \n",
      " 6   mision_vision          1285 non-null   object        \n",
      " 7   pers_estrategica       1285 non-null   object        \n",
      " 8   ppto_global            1285 non-null   int64         \n",
      " 9   mes_proyectado         1285 non-null   object        \n",
      " 10  precio_base            1285 non-null   float64       \n",
      " 11  date_last_publication  1285 non-null   datetime64[ns]\n",
      " 12  ref_contrato           1285 non-null   object        \n",
      " 13  date_publised          1285 non-null   datetime64[ns]\n",
      " 14  modalidad              1285 non-null   object        \n",
      " 15  contacto               1285 non-null   object        \n",
      " 16  cod_producto           1285 non-null   object        \n",
      " 17  nombre_producto        1285 non-null   object        \n",
      " 18  cod_clase              1285 non-null   object        \n",
      " 19  nombre_clase           1285 non-null   object        \n",
      " 20  cod_familia            1285 non-null   object        \n",
      " 21  nombre_familia         1285 non-null   object        \n",
      " 22  diff_dates             1285 non-null   int64         \n",
      " 23  year_publised          1285 non-null   int64         \n",
      "dtypes: datetime64[ns](2), float64(1), int64(5), object(16)\n",
      "memory usage: 251.0+ KB\n"
     ]
    }
   ],
   "source": [
    "df_producto.info()"
   ]
  },
  {
   "cell_type": "code",
   "execution_count": 15,
   "metadata": {},
   "outputs": [
    {
     "name": "stderr",
     "output_type": "stream",
     "text": [
      "<ipython-input-15-f2253cd851ee>:1: SettingWithCopyWarning: \n",
      "A value is trying to be set on a copy of a slice from a DataFrame.\n",
      "Try using .loc[row_indexer,col_indexer] = value instead\n",
      "\n",
      "See the caveats in the documentation: https://pandas.pydata.org/pandas-docs/stable/user_guide/indexing.html#returning-a-view-versus-a-copy\n",
      "  df_producto['precio_base'] = pd.to_numeric(df_producto['precio_base'])\n"
     ]
    }
   ],
   "source": [
    "df_producto['precio_base'] = pd.to_numeric(df_producto['precio_base'])"
   ]
  },
  {
   "cell_type": "markdown",
   "metadata": {},
   "source": [
    "### Describe"
   ]
  },
  {
   "cell_type": "code",
   "execution_count": 16,
   "metadata": {
    "scrolled": false
   },
   "outputs": [
    {
     "data": {
      "text/html": [
       "<div>\n",
       "<style scoped>\n",
       "    .dataframe tbody tr th:only-of-type {\n",
       "        vertical-align: middle;\n",
       "    }\n",
       "\n",
       "    .dataframe tbody tr th {\n",
       "        vertical-align: top;\n",
       "    }\n",
       "\n",
       "    .dataframe thead th {\n",
       "        text-align: right;\n",
       "    }\n",
       "</style>\n",
       "<table border=\"1\" class=\"dataframe\">\n",
       "  <thead>\n",
       "    <tr style=\"text-align: right;\">\n",
       "      <th></th>\n",
       "      <th>entidad_matriz</th>\n",
       "      <th>entidad</th>\n",
       "      <th>localizacion</th>\n",
       "      <th>localizacion_desc</th>\n",
       "      <th>mision_vision</th>\n",
       "      <th>pers_estrategica</th>\n",
       "      <th>mes_proyectado</th>\n",
       "      <th>ref_contrato</th>\n",
       "      <th>modalidad</th>\n",
       "      <th>contacto</th>\n",
       "      <th>cod_producto</th>\n",
       "      <th>nombre_producto</th>\n",
       "      <th>cod_clase</th>\n",
       "      <th>nombre_clase</th>\n",
       "      <th>cod_familia</th>\n",
       "      <th>nombre_familia</th>\n",
       "    </tr>\n",
       "  </thead>\n",
       "  <tbody>\n",
       "    <tr>\n",
       "      <th>count</th>\n",
       "      <td>1285</td>\n",
       "      <td>1285</td>\n",
       "      <td>1285</td>\n",
       "      <td>1285</td>\n",
       "      <td>1285</td>\n",
       "      <td>1285</td>\n",
       "      <td>1285</td>\n",
       "      <td>1285</td>\n",
       "      <td>1285</td>\n",
       "      <td>1285</td>\n",
       "      <td>1285</td>\n",
       "      <td>1285</td>\n",
       "      <td>1285</td>\n",
       "      <td>1285</td>\n",
       "      <td>1285</td>\n",
       "      <td>1285</td>\n",
       "    </tr>\n",
       "    <tr>\n",
       "      <th>unique</th>\n",
       "      <td>145</td>\n",
       "      <td>165</td>\n",
       "      <td>35</td>\n",
       "      <td>15</td>\n",
       "      <td>219</td>\n",
       "      <td>198</td>\n",
       "      <td>12</td>\n",
       "      <td>1178</td>\n",
       "      <td>3</td>\n",
       "      <td>205</td>\n",
       "      <td>67</td>\n",
       "      <td>67</td>\n",
       "      <td>44</td>\n",
       "      <td>44</td>\n",
       "      <td>32</td>\n",
       "      <td>32</td>\n",
       "    </tr>\n",
       "    <tr>\n",
       "      <th>top</th>\n",
       "      <td>BOGOTA DISTRITO CAPITAL</td>\n",
       "      <td>INSTITUTO GEOGRÁFICO AGUSTÍN CODAZZI</td>\n",
       "      <td>CO-DC</td>\n",
       "      <td>Distrito Capital de Bogotá</td>\n",
       "      <td>Producir, proveer y divulgar información y con...</td>\n",
       "      <td>De acuerdo con las (6) estrategias establecida...</td>\n",
       "      <td>Enero</td>\n",
       "      <td>ENV-07-09-029-18</td>\n",
       "      <td>CCE-16-Servicios_profesionales_gestion</td>\n",
       "      <td>Dennis Adriana Torres Losada</td>\n",
       "      <td>V1.80161506</td>\n",
       "      <td>Servicios de archivo de datos</td>\n",
       "      <td>V1.80161500</td>\n",
       "      <td>Servicios de apoyo gerencial</td>\n",
       "      <td>V1.80160000</td>\n",
       "      <td>Servicios de administración de empresas</td>\n",
       "    </tr>\n",
       "    <tr>\n",
       "      <th>freq</th>\n",
       "      <td>101</td>\n",
       "      <td>90</td>\n",
       "      <td>510</td>\n",
       "      <td>991</td>\n",
       "      <td>90</td>\n",
       "      <td>83</td>\n",
       "      <td>735</td>\n",
       "      <td>16</td>\n",
       "      <td>1127</td>\n",
       "      <td>90</td>\n",
       "      <td>234</td>\n",
       "      <td>234</td>\n",
       "      <td>234</td>\n",
       "      <td>234</td>\n",
       "      <td>234</td>\n",
       "      <td>234</td>\n",
       "    </tr>\n",
       "  </tbody>\n",
       "</table>\n",
       "</div>"
      ],
      "text/plain": [
       "                 entidad_matriz                               entidad  \\\n",
       "count                      1285                                  1285   \n",
       "unique                      145                                   165   \n",
       "top     BOGOTA DISTRITO CAPITAL  INSTITUTO GEOGRÁFICO AGUSTÍN CODAZZI   \n",
       "freq                        101                                    90   \n",
       "\n",
       "       localizacion           localizacion_desc  \\\n",
       "count          1285                        1285   \n",
       "unique           35                          15   \n",
       "top           CO-DC  Distrito Capital de Bogotá   \n",
       "freq            510                         991   \n",
       "\n",
       "                                            mision_vision  \\\n",
       "count                                                1285   \n",
       "unique                                                219   \n",
       "top     Producir, proveer y divulgar información y con...   \n",
       "freq                                                   90   \n",
       "\n",
       "                                         pers_estrategica mes_proyectado  \\\n",
       "count                                                1285           1285   \n",
       "unique                                                198             12   \n",
       "top     De acuerdo con las (6) estrategias establecida...          Enero   \n",
       "freq                                                   83            735   \n",
       "\n",
       "            ref_contrato                               modalidad  \\\n",
       "count               1285                                    1285   \n",
       "unique              1178                                       3   \n",
       "top     ENV-07-09-029-18  CCE-16-Servicios_profesionales_gestion   \n",
       "freq                  16                                    1127   \n",
       "\n",
       "                            contacto cod_producto  \\\n",
       "count                           1285         1285   \n",
       "unique                           205           67   \n",
       "top     Dennis Adriana Torres Losada  V1.80161506   \n",
       "freq                              90          234   \n",
       "\n",
       "                      nombre_producto    cod_clase  \\\n",
       "count                            1285         1285   \n",
       "unique                             67           44   \n",
       "top     Servicios de archivo de datos  V1.80161500   \n",
       "freq                              234          234   \n",
       "\n",
       "                        nombre_clase  cod_familia  \\\n",
       "count                           1285         1285   \n",
       "unique                            44           32   \n",
       "top     Servicios de apoyo gerencial  V1.80160000   \n",
       "freq                             234          234   \n",
       "\n",
       "                                 nombre_familia  \n",
       "count                                      1285  \n",
       "unique                                       32  \n",
       "top     Servicios de administración de empresas  \n",
       "freq                                        234  "
      ]
     },
     "execution_count": 16,
     "metadata": {},
     "output_type": "execute_result"
    }
   ],
   "source": [
    "df_producto.describe(include=['object'])"
   ]
  },
  {
   "cell_type": "markdown",
   "metadata": {},
   "source": [
    "### Media, Mediana, Moda"
   ]
  },
  {
   "cell_type": "code",
   "execution_count": 17,
   "metadata": {},
   "outputs": [
    {
     "name": "stdout",
     "output_type": "stream",
     "text": [
      "\n",
      "    Media: 397020789\n",
      "    Mediana: 43827960\n",
      "    Moda: 43827960\n",
      "\n"
     ]
    }
   ],
   "source": [
    "media = df_producto[\"precio_base\"].mean()\n",
    "mediana = df_producto[\"precio_base\"].median()\n",
    "moda = df_producto[\"precio_base\"].mode()\n",
    "print(\"\"\"\n",
    "    Media: %d\n",
    "    Mediana: %d\n",
    "    Moda: %d\n",
    "\"\"\" % (media,mediana,moda))"
   ]
  },
  {
   "cell_type": "markdown",
   "metadata": {},
   "source": [
    "### Desviación Estándar (SD)"
   ]
  },
  {
   "cell_type": "code",
   "execution_count": 18,
   "metadata": {},
   "outputs": [
    {
     "name": "stdout",
     "output_type": "stream",
     "text": [
      "1847282413.21629\n"
     ]
    }
   ],
   "source": [
    "standard_deviation = df_producto['precio_base'].std()\n",
    "print(standard_deviation)"
   ]
  },
  {
   "cell_type": "markdown",
   "metadata": {},
   "source": [
    "## Análisis  Bivariante"
   ]
  },
  {
   "cell_type": "markdown",
   "metadata": {},
   "source": [
    "Ánalisis de boxplot entre Precio Base y Modalidad"
   ]
  },
  {
   "cell_type": "code",
   "execution_count": 19,
   "metadata": {},
   "outputs": [
    {
     "data": {
      "image/png": "[encoded data removed]",
      "text/plain": [
       "<Figure size 720x576 with 1 Axes>"
      ]
     },
     "metadata": {},
     "output_type": "display_data"
    }
   ],
   "source": [
    "import matplotlib.pyplot as plt\n",
    "import seaborn as sns\n",
    "\n",
    "%matplotlib inline\n",
    "\n",
    "sns.set(style=\"whitegrid\")\n",
    "plt.figure(figsize=(10,8))\n",
    "ax = sns.boxplot(x='modalidad', y='precio_base', data=df_producto, orient=\"v\")"
   ]
  },
  {
   "cell_type": "markdown",
   "metadata": {},
   "source": [
    "Ánalisis de histograma en Precio Base"
   ]
  },
  {
   "cell_type": "code",
   "execution_count": 20,
   "metadata": {
    "scrolled": true
   },
   "outputs": [
    {
     "name": "stderr",
     "output_type": "stream",
     "text": [
      "C:\\Users\\AnalistaNegB2B\\Anaconda3\\lib\\site-packages\\seaborn\\distributions.py:2551: FutureWarning: `distplot` is a deprecated function and will be removed in a future version. Please adapt your code to use either `displot` (a figure-level function with similar flexibility) or `histplot` (an axes-level function for histograms).\n",
      "  warnings.warn(msg, FutureWarning)\n"
     ]
    },
    {
     "data": {
      "text/plain": [
       "<AxesSubplot:xlabel='precio_base'>"
      ]
     },
     "execution_count": 20,
     "metadata": {},
     "output_type": "execute_result"
    },
    {
     "data": {
      "image/png": "[encoded data removed]",
      "text/plain": [
       "<Figure size 1008x576 with 1 Axes>"
      ]
     },
     "metadata": {},
     "output_type": "display_data"
    }
   ],
   "source": [
    "filter_data = df_producto.dropna(subset=['precio_base'])\n",
    "plt.figure(figsize=(14,8))\n",
    "sns.distplot(filter_data['precio_base'], kde=False)"
   ]
  },
  {
   "cell_type": "markdown",
   "metadata": {},
   "source": [
    "Distribucion porcentual por Modalidad"
   ]
  },
  {
   "cell_type": "code",
   "execution_count": 21,
   "metadata": {},
   "outputs": [
    {
     "data": {
      "text/plain": [
       "<AxesSubplot:ylabel='modalidades'>"
      ]
     },
     "execution_count": 21,
     "metadata": {},
     "output_type": "execute_result"
    },
    {
     "data": {
      "image/png": "[encoded data removed]",
      "text/plain": [
       "<Figure size 720x720 with 1 Axes>"
      ]
     },
     "metadata": {},
     "output_type": "display_data"
    }
   ],
   "source": [
    "modalidades = df_producto['modalidad'].value_counts()\n",
    "df2 = pd.DataFrame({'modalidades': modalidades}\n",
    "                   )\n",
    "df2.plot.pie(y='modalidades', figsize=(10,10), autopct='%1.1f%%')"
   ]
  },
  {
   "cell_type": "markdown",
   "metadata": {},
   "source": [
    "Histograma por Localización"
   ]
  },
  {
   "cell_type": "code",
   "execution_count": 22,
   "metadata": {},
   "outputs": [
    {
     "data": {
      "image/png": "[encoded data removed]",
      "text/plain": [
       "<Figure size 1440x720 with 1 Axes>"
      ]
     },
     "metadata": {},
     "output_type": "display_data"
    }
   ],
   "source": [
    "sns.set(style='darkgrid')\n",
    "plt.figure(figsize=(20,10))\n",
    "ax = sns.countplot(x='localizacion_desc', data=df_producto)"
   ]
  },
  {
   "cell_type": "markdown",
   "metadata": {},
   "source": [
    "### Correlación de Pearson"
   ]
  },
  {
   "cell_type": "code",
   "execution_count": 23,
   "metadata": {},
   "outputs": [
    {
     "name": "stdout",
     "output_type": "stream",
     "text": [
      "El coeficiente de correlación Pearson is -0.004646780134465648  con un valor P de P = 0.8678331736801256\n"
     ]
    }
   ],
   "source": [
    "from scipy import stats\n",
    "pearson_coef, p_value = stats.pearsonr(df_producto['ppto_global'], df_producto['precio_base'])\n",
    "print(\"El coeficiente de correlación Pearson is\", pearson_coef, \" con un valor P de P =\", p_value)  "
   ]
  },
  {
   "cell_type": "markdown",
   "metadata": {},
   "source": [
    "### Anova: Análisis de la varianza\n",
    "Statsmodels - OLS\n",
    "\n",
    "El nombre Anova: análisis de varianza se basa en el enfoque en el cual el procedimiento utiliza las varianzas para determinar si las medias son diferentes. El procedimiento funciona comparando la varianza entre las medias de los grupos y la varianza dentro de los grupos como una manera de determinar si los grupos son todos parte de una población más grande o poblaciones separadas con características diferentes.\n",
    "\n",
    "La estadística F es simplemente un cociente de dos varianzas. Las varianzas son una medida de dispersión, es decir, qué tan dispersos están los datos con respecto a la media. Los valores más altos representan mayor dispersión.\n",
    "\n",
    "Cuanto más dispersos estén los puntos, mayor será el valor de la variabilidad en el numerador del estadístico F."
   ]
  },
  {
   "cell_type": "code",
   "execution_count": 24,
   "metadata": {},
   "outputs": [],
   "source": [
    "import statsmodels.api as sm\n",
    "from statsmodels.formula.api import ols\n"
   ]
  },
  {
   "cell_type": "markdown",
   "metadata": {},
   "source": [
    "#### ANOVA Precio Base - Familia"
   ]
  },
  {
   "cell_type": "code",
   "execution_count": 25,
   "metadata": {},
   "outputs": [
    {
     "name": "stdout",
     "output_type": "stream",
     "text": [
      "                      sum_sq      df         F        PR(>F)\n",
      "nombre_familia  5.020026e+20    31.0  5.230099  2.755968e-18\n",
      "Residual        3.879586e+21  1253.0       NaN           NaN\n"
     ]
    }
   ],
   "source": [
    "model = ols('precio_base ~ nombre_familia',                 # Model formula\n",
    "            data = df_producto).fit()\n",
    "                \n",
    "anova_result = sm.stats.anova_lm(model, typ=2)\n",
    "print (anova_result)"
   ]
  },
  {
   "cell_type": "markdown",
   "metadata": {},
   "source": [
    "#### ANOVA Precio Base - Localización"
   ]
  },
  {
   "cell_type": "code",
   "execution_count": 26,
   "metadata": {},
   "outputs": [
    {
     "name": "stdout",
     "output_type": "stream",
     "text": [
      "                    sum_sq      df         F   PR(>F)\n",
      "localizacion  4.001801e+19    34.0  0.338875  0.99988\n",
      "Residual      4.341571e+21  1250.0       NaN      NaN\n"
     ]
    }
   ],
   "source": [
    "model = ols('precio_base ~ localizacion',                 # Model formula\n",
    "            data = df_producto).fit()\n",
    "                \n",
    "anova_result = sm.stats.anova_lm(model, typ=2)\n",
    "print (anova_result)"
   ]
  },
  {
   "cell_type": "markdown",
   "metadata": {},
   "source": [
    "#### ANOVA Precio Base - Mes Proyectado"
   ]
  },
  {
   "cell_type": "code",
   "execution_count": 27,
   "metadata": {},
   "outputs": [
    {
     "name": "stdout",
     "output_type": "stream",
     "text": [
      "                      sum_sq      df         F    PR(>F)\n",
      "mes_proyectado  1.259183e+20    11.0  3.424181  0.000105\n",
      "Residual        4.255670e+21  1273.0       NaN       NaN\n"
     ]
    }
   ],
   "source": [
    "model = ols('precio_base ~ mes_proyectado',                 # Model formula\n",
    "            data = df_producto).fit()\n",
    "                \n",
    "anova_result = sm.stats.anova_lm(model, typ=2)\n",
    "print (anova_result)"
   ]
  },
  {
   "cell_type": "markdown",
   "metadata": {},
   "source": [
    "#### ANOVA Precio Base - Modalidad"
   ]
  },
  {
   "cell_type": "code",
   "execution_count": 28,
   "metadata": {},
   "outputs": [
    {
     "name": "stdout",
     "output_type": "stream",
     "text": [
      "                 sum_sq      df          F        PR(>F)\n",
      "modalidad  6.012724e+20     2.0  101.95326  8.122319e-42\n",
      "Residual   3.780316e+21  1282.0        NaN           NaN\n"
     ]
    }
   ],
   "source": [
    "model = ols('precio_base ~ modalidad',                 # Model formula\n",
    "            data = df_producto).fit()\n",
    "                \n",
    "anova_result = sm.stats.anova_lm(model, typ=2)\n",
    "print (anova_result)"
   ]
  },
  {
   "cell_type": "markdown",
   "metadata": {},
   "source": [
    "##### En conclusión:\n",
    "Las variables Familia, Mes Proyectado y Modalidad tienen un valor F alto, lo que las hace variables independientes no relacionadas en el modelo."
   ]
  },
  {
   "cell_type": "markdown",
   "metadata": {},
   "source": [
    "### Análisis de independencia: Tablas de contigencia\n",
    "\n",
    "En estadística las tablas de contingencia se emplean para registrar y analizar la asociación entre dos o más variables, habitualmente de naturaleza cualitativa (nominales u ordinales).\n",
    "\n",
    "Si la proporción de individuos en cada columna varía entre las diversas filas y viceversa, se dice que existe asociación entre las dos variables. Si no existe asociación se dice que ambas variables son independientes."
   ]
  },
  {
   "cell_type": "markdown",
   "metadata": {},
   "source": [
    "#### Tabla de contingencia modalidad / producto"
   ]
  },
  {
   "cell_type": "code",
   "execution_count": 29,
   "metadata": {
    "scrolled": true
   },
   "outputs": [
    {
     "data": {
      "text/html": [
       "<div>\n",
       "<style scoped>\n",
       "    .dataframe tbody tr th:only-of-type {\n",
       "        vertical-align: middle;\n",
       "    }\n",
       "\n",
       "    .dataframe tbody tr th {\n",
       "        vertical-align: top;\n",
       "    }\n",
       "\n",
       "    .dataframe thead th {\n",
       "        text-align: right;\n",
       "    }\n",
       "</style>\n",
       "<table border=\"1\" class=\"dataframe\">\n",
       "  <thead>\n",
       "    <tr style=\"text-align: right;\">\n",
       "      <th>modalidad</th>\n",
       "      <th>CCE-02-Licitacion_Publica</th>\n",
       "      <th>CCE-06-Seleccion_Abreviada_Menor_Cuantia</th>\n",
       "      <th>CCE-16-Servicios_profesionales_gestion</th>\n",
       "      <th>All</th>\n",
       "    </tr>\n",
       "    <tr>\n",
       "      <th>nombre_producto</th>\n",
       "      <th></th>\n",
       "      <th></th>\n",
       "      <th></th>\n",
       "      <th></th>\n",
       "    </tr>\n",
       "  </thead>\n",
       "  <tbody>\n",
       "    <tr>\n",
       "      <th>Administradores permanentes de bases de datos o de sistemas de tecnologías de la información</th>\n",
       "      <td>3</td>\n",
       "      <td>0</td>\n",
       "      <td>14</td>\n",
       "      <td>17</td>\n",
       "    </tr>\n",
       "    <tr>\n",
       "      <th>Administradores temporales de bases de datos o de sistemas de tecnologías de la información</th>\n",
       "      <td>0</td>\n",
       "      <td>0</td>\n",
       "      <td>47</td>\n",
       "      <td>47</td>\n",
       "    </tr>\n",
       "    <tr>\n",
       "      <th>Analizador de datos</th>\n",
       "      <td>0</td>\n",
       "      <td>0</td>\n",
       "      <td>2</td>\n",
       "      <td>2</td>\n",
       "    </tr>\n",
       "    <tr>\n",
       "      <th>Centros de información</th>\n",
       "      <td>0</td>\n",
       "      <td>0</td>\n",
       "      <td>20</td>\n",
       "      <td>20</td>\n",
       "    </tr>\n",
       "    <tr>\n",
       "      <th>Copias de seguridad  y almacenamiento de datos</th>\n",
       "      <td>0</td>\n",
       "      <td>0</td>\n",
       "      <td>1</td>\n",
       "      <td>1</td>\n",
       "    </tr>\n",
       "    <tr>\n",
       "      <th>...</th>\n",
       "      <td>...</td>\n",
       "      <td>...</td>\n",
       "      <td>...</td>\n",
       "      <td>...</td>\n",
       "    </tr>\n",
       "    <tr>\n",
       "      <th>Software de recuperación o búsqueda de información</th>\n",
       "      <td>0</td>\n",
       "      <td>0</td>\n",
       "      <td>1</td>\n",
       "      <td>1</td>\n",
       "    </tr>\n",
       "    <tr>\n",
       "      <th>Software de reportes de bases de datos</th>\n",
       "      <td>0</td>\n",
       "      <td>2</td>\n",
       "      <td>4</td>\n",
       "      <td>6</td>\n",
       "    </tr>\n",
       "    <tr>\n",
       "      <th>Software de sistemas de manejo de base datos</th>\n",
       "      <td>0</td>\n",
       "      <td>1</td>\n",
       "      <td>1</td>\n",
       "      <td>2</td>\n",
       "    </tr>\n",
       "    <tr>\n",
       "      <th>servicios de almacenamiento de datos</th>\n",
       "      <td>0</td>\n",
       "      <td>0</td>\n",
       "      <td>19</td>\n",
       "      <td>19</td>\n",
       "    </tr>\n",
       "    <tr>\n",
       "      <th>All</th>\n",
       "      <td>51</td>\n",
       "      <td>107</td>\n",
       "      <td>1127</td>\n",
       "      <td>1285</td>\n",
       "    </tr>\n",
       "  </tbody>\n",
       "</table>\n",
       "<p>68 rows × 4 columns</p>\n",
       "</div>"
      ],
      "text/plain": [
       "modalidad                                           CCE-02-Licitacion_Publica  \\\n",
       "nombre_producto                                                                 \n",
       "Administradores permanentes de bases de datos o...                          3   \n",
       "Administradores temporales de bases de datos o ...                          0   \n",
       "Analizador de datos                                                         0   \n",
       "Centros de información                                                      0   \n",
       "Copias de seguridad  y almacenamiento de datos                              0   \n",
       "...                                                                       ...   \n",
       "Software de recuperación o búsqueda de información                          0   \n",
       "Software de reportes de bases de datos                                      0   \n",
       "Software de sistemas de manejo de base datos                                0   \n",
       "servicios de almacenamiento de datos                                        0   \n",
       "All                                                                        51   \n",
       "\n",
       "modalidad                                           CCE-06-Seleccion_Abreviada_Menor_Cuantia  \\\n",
       "nombre_producto                                                                                \n",
       "Administradores permanentes de bases de datos o...                                         0   \n",
       "Administradores temporales de bases de datos o ...                                         0   \n",
       "Analizador de datos                                                                        0   \n",
       "Centros de información                                                                     0   \n",
       "Copias de seguridad  y almacenamiento de datos                                             0   \n",
       "...                                                                                      ...   \n",
       "Software de recuperación o búsqueda de información                                         0   \n",
       "Software de reportes de bases de datos                                                     2   \n",
       "Software de sistemas de manejo de base datos                                               1   \n",
       "servicios de almacenamiento de datos                                                       0   \n",
       "All                                                                                      107   \n",
       "\n",
       "modalidad                                           CCE-16-Servicios_profesionales_gestion  \\\n",
       "nombre_producto                                                                              \n",
       "Administradores permanentes de bases de datos o...                                      14   \n",
       "Administradores temporales de bases de datos o ...                                      47   \n",
       "Analizador de datos                                                                      2   \n",
       "Centros de información                                                                  20   \n",
       "Copias de seguridad  y almacenamiento de datos                                           1   \n",
       "...                                                                                    ...   \n",
       "Software de recuperación o búsqueda de información                                       1   \n",
       "Software de reportes de bases de datos                                                   4   \n",
       "Software de sistemas de manejo de base datos                                             1   \n",
       "servicios de almacenamiento de datos                                                    19   \n",
       "All                                                                                   1127   \n",
       "\n",
       "modalidad                                            All  \n",
       "nombre_producto                                           \n",
       "Administradores permanentes de bases de datos o...    17  \n",
       "Administradores temporales de bases de datos o ...    47  \n",
       "Analizador de datos                                    2  \n",
       "Centros de información                                20  \n",
       "Copias de seguridad  y almacenamiento de datos         1  \n",
       "...                                                  ...  \n",
       "Software de recuperación o búsqueda de información     1  \n",
       "Software de reportes de bases de datos                 6  \n",
       "Software de sistemas de manejo de base datos           2  \n",
       "servicios de almacenamiento de datos                  19  \n",
       "All                                                 1285  \n",
       "\n",
       "[68 rows x 4 columns]"
      ]
     },
     "execution_count": 29,
     "metadata": {},
     "output_type": "execute_result"
    }
   ],
   "source": [
    "pd.crosstab(index=df_producto['nombre_producto'],\n",
    "            columns=df_producto['modalidad'], margins=True)"
   ]
  },
  {
   "cell_type": "markdown",
   "metadata": {},
   "source": [
    "#### Tabla de contingencia localizacion / producto"
   ]
  },
  {
   "cell_type": "code",
   "execution_count": 30,
   "metadata": {
    "scrolled": true
   },
   "outputs": [
    {
     "data": {
      "text/html": [
       "<div>\n",
       "<style scoped>\n",
       "    .dataframe tbody tr th:only-of-type {\n",
       "        vertical-align: middle;\n",
       "    }\n",
       "\n",
       "    .dataframe tbody tr th {\n",
       "        vertical-align: top;\n",
       "    }\n",
       "\n",
       "    .dataframe thead th {\n",
       "        text-align: right;\n",
       "    }\n",
       "</style>\n",
       "<table border=\"1\" class=\"dataframe\">\n",
       "  <thead>\n",
       "    <tr style=\"text-align: right;\">\n",
       "      <th>localizacion_desc</th>\n",
       "      <th>Antioquia</th>\n",
       "      <th>Arauca</th>\n",
       "      <th>Bolívar</th>\n",
       "      <th>Caldas</th>\n",
       "      <th>Casanare</th>\n",
       "      <th>Cundinamarca</th>\n",
       "      <th>Distrito Capital de Bogotá</th>\n",
       "      <th>Meta</th>\n",
       "      <th>No Definido</th>\n",
       "      <th>Putumayo</th>\n",
       "      <th>Quindío</th>\n",
       "      <th>Risaralda</th>\n",
       "      <th>Santander</th>\n",
       "      <th>Tolima</th>\n",
       "      <th>Valle del Cauca</th>\n",
       "      <th>All</th>\n",
       "    </tr>\n",
       "    <tr>\n",
       "      <th>nombre_producto</th>\n",
       "      <th></th>\n",
       "      <th></th>\n",
       "      <th></th>\n",
       "      <th></th>\n",
       "      <th></th>\n",
       "      <th></th>\n",
       "      <th></th>\n",
       "      <th></th>\n",
       "      <th></th>\n",
       "      <th></th>\n",
       "      <th></th>\n",
       "      <th></th>\n",
       "      <th></th>\n",
       "      <th></th>\n",
       "      <th></th>\n",
       "      <th></th>\n",
       "    </tr>\n",
       "  </thead>\n",
       "  <tbody>\n",
       "    <tr>\n",
       "      <th>Administradores permanentes de bases de datos o de sistemas de tecnologías de la información</th>\n",
       "      <td>0</td>\n",
       "      <td>0</td>\n",
       "      <td>0</td>\n",
       "      <td>0</td>\n",
       "      <td>0</td>\n",
       "      <td>0</td>\n",
       "      <td>6</td>\n",
       "      <td>0</td>\n",
       "      <td>0</td>\n",
       "      <td>1</td>\n",
       "      <td>0</td>\n",
       "      <td>0</td>\n",
       "      <td>10</td>\n",
       "      <td>0</td>\n",
       "      <td>0</td>\n",
       "      <td>17</td>\n",
       "    </tr>\n",
       "    <tr>\n",
       "      <th>Administradores temporales de bases de datos o de sistemas de tecnologías de la información</th>\n",
       "      <td>7</td>\n",
       "      <td>0</td>\n",
       "      <td>0</td>\n",
       "      <td>0</td>\n",
       "      <td>1</td>\n",
       "      <td>2</td>\n",
       "      <td>33</td>\n",
       "      <td>0</td>\n",
       "      <td>2</td>\n",
       "      <td>1</td>\n",
       "      <td>0</td>\n",
       "      <td>0</td>\n",
       "      <td>1</td>\n",
       "      <td>0</td>\n",
       "      <td>0</td>\n",
       "      <td>47</td>\n",
       "    </tr>\n",
       "    <tr>\n",
       "      <th>Analizador de datos</th>\n",
       "      <td>1</td>\n",
       "      <td>0</td>\n",
       "      <td>0</td>\n",
       "      <td>0</td>\n",
       "      <td>0</td>\n",
       "      <td>0</td>\n",
       "      <td>1</td>\n",
       "      <td>0</td>\n",
       "      <td>0</td>\n",
       "      <td>0</td>\n",
       "      <td>0</td>\n",
       "      <td>0</td>\n",
       "      <td>0</td>\n",
       "      <td>0</td>\n",
       "      <td>0</td>\n",
       "      <td>2</td>\n",
       "    </tr>\n",
       "    <tr>\n",
       "      <th>Centros de información</th>\n",
       "      <td>0</td>\n",
       "      <td>0</td>\n",
       "      <td>0</td>\n",
       "      <td>2</td>\n",
       "      <td>0</td>\n",
       "      <td>0</td>\n",
       "      <td>18</td>\n",
       "      <td>0</td>\n",
       "      <td>0</td>\n",
       "      <td>0</td>\n",
       "      <td>0</td>\n",
       "      <td>0</td>\n",
       "      <td>0</td>\n",
       "      <td>0</td>\n",
       "      <td>0</td>\n",
       "      <td>20</td>\n",
       "    </tr>\n",
       "    <tr>\n",
       "      <th>Copias de seguridad  y almacenamiento de datos</th>\n",
       "      <td>0</td>\n",
       "      <td>0</td>\n",
       "      <td>0</td>\n",
       "      <td>0</td>\n",
       "      <td>0</td>\n",
       "      <td>0</td>\n",
       "      <td>0</td>\n",
       "      <td>0</td>\n",
       "      <td>0</td>\n",
       "      <td>0</td>\n",
       "      <td>0</td>\n",
       "      <td>0</td>\n",
       "      <td>0</td>\n",
       "      <td>1</td>\n",
       "      <td>0</td>\n",
       "      <td>1</td>\n",
       "    </tr>\n",
       "    <tr>\n",
       "      <th>...</th>\n",
       "      <td>...</td>\n",
       "      <td>...</td>\n",
       "      <td>...</td>\n",
       "      <td>...</td>\n",
       "      <td>...</td>\n",
       "      <td>...</td>\n",
       "      <td>...</td>\n",
       "      <td>...</td>\n",
       "      <td>...</td>\n",
       "      <td>...</td>\n",
       "      <td>...</td>\n",
       "      <td>...</td>\n",
       "      <td>...</td>\n",
       "      <td>...</td>\n",
       "      <td>...</td>\n",
       "      <td>...</td>\n",
       "    </tr>\n",
       "    <tr>\n",
       "      <th>Software de recuperación o búsqueda de información</th>\n",
       "      <td>0</td>\n",
       "      <td>0</td>\n",
       "      <td>0</td>\n",
       "      <td>0</td>\n",
       "      <td>0</td>\n",
       "      <td>0</td>\n",
       "      <td>1</td>\n",
       "      <td>0</td>\n",
       "      <td>0</td>\n",
       "      <td>0</td>\n",
       "      <td>0</td>\n",
       "      <td>0</td>\n",
       "      <td>0</td>\n",
       "      <td>0</td>\n",
       "      <td>0</td>\n",
       "      <td>1</td>\n",
       "    </tr>\n",
       "    <tr>\n",
       "      <th>Software de reportes de bases de datos</th>\n",
       "      <td>0</td>\n",
       "      <td>0</td>\n",
       "      <td>0</td>\n",
       "      <td>0</td>\n",
       "      <td>0</td>\n",
       "      <td>0</td>\n",
       "      <td>6</td>\n",
       "      <td>0</td>\n",
       "      <td>0</td>\n",
       "      <td>0</td>\n",
       "      <td>0</td>\n",
       "      <td>0</td>\n",
       "      <td>0</td>\n",
       "      <td>0</td>\n",
       "      <td>0</td>\n",
       "      <td>6</td>\n",
       "    </tr>\n",
       "    <tr>\n",
       "      <th>Software de sistemas de manejo de base datos</th>\n",
       "      <td>0</td>\n",
       "      <td>0</td>\n",
       "      <td>0</td>\n",
       "      <td>0</td>\n",
       "      <td>0</td>\n",
       "      <td>0</td>\n",
       "      <td>2</td>\n",
       "      <td>0</td>\n",
       "      <td>0</td>\n",
       "      <td>0</td>\n",
       "      <td>0</td>\n",
       "      <td>0</td>\n",
       "      <td>0</td>\n",
       "      <td>0</td>\n",
       "      <td>0</td>\n",
       "      <td>2</td>\n",
       "    </tr>\n",
       "    <tr>\n",
       "      <th>servicios de almacenamiento de datos</th>\n",
       "      <td>0</td>\n",
       "      <td>0</td>\n",
       "      <td>0</td>\n",
       "      <td>0</td>\n",
       "      <td>0</td>\n",
       "      <td>0</td>\n",
       "      <td>11</td>\n",
       "      <td>0</td>\n",
       "      <td>8</td>\n",
       "      <td>0</td>\n",
       "      <td>0</td>\n",
       "      <td>0</td>\n",
       "      <td>0</td>\n",
       "      <td>0</td>\n",
       "      <td>0</td>\n",
       "      <td>19</td>\n",
       "    </tr>\n",
       "    <tr>\n",
       "      <th>All</th>\n",
       "      <td>90</td>\n",
       "      <td>5</td>\n",
       "      <td>3</td>\n",
       "      <td>26</td>\n",
       "      <td>42</td>\n",
       "      <td>25</td>\n",
       "      <td>991</td>\n",
       "      <td>14</td>\n",
       "      <td>32</td>\n",
       "      <td>2</td>\n",
       "      <td>10</td>\n",
       "      <td>4</td>\n",
       "      <td>31</td>\n",
       "      <td>4</td>\n",
       "      <td>6</td>\n",
       "      <td>1285</td>\n",
       "    </tr>\n",
       "  </tbody>\n",
       "</table>\n",
       "<p>68 rows × 16 columns</p>\n",
       "</div>"
      ],
      "text/plain": [
       "localizacion_desc                                   Antioquia  Arauca  \\\n",
       "nombre_producto                                                         \n",
       "Administradores permanentes de bases de datos o...          0       0   \n",
       "Administradores temporales de bases de datos o ...          7       0   \n",
       "Analizador de datos                                         1       0   \n",
       "Centros de información                                      0       0   \n",
       "Copias de seguridad  y almacenamiento de datos              0       0   \n",
       "...                                                       ...     ...   \n",
       "Software de recuperación o búsqueda de información          0       0   \n",
       "Software de reportes de bases de datos                      0       0   \n",
       "Software de sistemas de manejo de base datos                0       0   \n",
       "servicios de almacenamiento de datos                        0       0   \n",
       "All                                                        90       5   \n",
       "\n",
       "localizacion_desc                                   Bolívar  Caldas  Casanare  \\\n",
       "nombre_producto                                                                 \n",
       "Administradores permanentes de bases de datos o...        0       0         0   \n",
       "Administradores temporales de bases de datos o ...        0       0         1   \n",
       "Analizador de datos                                       0       0         0   \n",
       "Centros de información                                    0       2         0   \n",
       "Copias de seguridad  y almacenamiento de datos            0       0         0   \n",
       "...                                                     ...     ...       ...   \n",
       "Software de recuperación o búsqueda de información        0       0         0   \n",
       "Software de reportes de bases de datos                    0       0         0   \n",
       "Software de sistemas de manejo de base datos              0       0         0   \n",
       "servicios de almacenamiento de datos                      0       0         0   \n",
       "All                                                       3      26        42   \n",
       "\n",
       "localizacion_desc                                   Cundinamarca  \\\n",
       "nombre_producto                                                    \n",
       "Administradores permanentes de bases de datos o...             0   \n",
       "Administradores temporales de bases de datos o ...             2   \n",
       "Analizador de datos                                            0   \n",
       "Centros de información                                         0   \n",
       "Copias de seguridad  y almacenamiento de datos                 0   \n",
       "...                                                          ...   \n",
       "Software de recuperación o búsqueda de información             0   \n",
       "Software de reportes de bases de datos                         0   \n",
       "Software de sistemas de manejo de base datos                   0   \n",
       "servicios de almacenamiento de datos                           0   \n",
       "All                                                           25   \n",
       "\n",
       "localizacion_desc                                   Distrito Capital de Bogotá  \\\n",
       "nombre_producto                                                                  \n",
       "Administradores permanentes de bases de datos o...                           6   \n",
       "Administradores temporales de bases de datos o ...                          33   \n",
       "Analizador de datos                                                          1   \n",
       "Centros de información                                                      18   \n",
       "Copias de seguridad  y almacenamiento de datos                               0   \n",
       "...                                                                        ...   \n",
       "Software de recuperación o búsqueda de información                           1   \n",
       "Software de reportes de bases de datos                                       6   \n",
       "Software de sistemas de manejo de base datos                                 2   \n",
       "servicios de almacenamiento de datos                                        11   \n",
       "All                                                                        991   \n",
       "\n",
       "localizacion_desc                                   Meta  No Definido  \\\n",
       "nombre_producto                                                         \n",
       "Administradores permanentes de bases de datos o...     0            0   \n",
       "Administradores temporales de bases de datos o ...     0            2   \n",
       "Analizador de datos                                    0            0   \n",
       "Centros de información                                 0            0   \n",
       "Copias de seguridad  y almacenamiento de datos         0            0   \n",
       "...                                                  ...          ...   \n",
       "Software de recuperación o búsqueda de información     0            0   \n",
       "Software de reportes de bases de datos                 0            0   \n",
       "Software de sistemas de manejo de base datos           0            0   \n",
       "servicios de almacenamiento de datos                   0            8   \n",
       "All                                                   14           32   \n",
       "\n",
       "localizacion_desc                                   Putumayo  Quindío  \\\n",
       "nombre_producto                                                         \n",
       "Administradores permanentes de bases de datos o...         1        0   \n",
       "Administradores temporales de bases de datos o ...         1        0   \n",
       "Analizador de datos                                        0        0   \n",
       "Centros de información                                     0        0   \n",
       "Copias de seguridad  y almacenamiento de datos             0        0   \n",
       "...                                                      ...      ...   \n",
       "Software de recuperación o búsqueda de información         0        0   \n",
       "Software de reportes de bases de datos                     0        0   \n",
       "Software de sistemas de manejo de base datos               0        0   \n",
       "servicios de almacenamiento de datos                       0        0   \n",
       "All                                                        2       10   \n",
       "\n",
       "localizacion_desc                                   Risaralda  Santander  \\\n",
       "nombre_producto                                                            \n",
       "Administradores permanentes de bases de datos o...          0         10   \n",
       "Administradores temporales de bases de datos o ...          0          1   \n",
       "Analizador de datos                                         0          0   \n",
       "Centros de información                                      0          0   \n",
       "Copias de seguridad  y almacenamiento de datos              0          0   \n",
       "...                                                       ...        ...   \n",
       "Software de recuperación o búsqueda de información          0          0   \n",
       "Software de reportes de bases de datos                      0          0   \n",
       "Software de sistemas de manejo de base datos                0          0   \n",
       "servicios de almacenamiento de datos                        0          0   \n",
       "All                                                         4         31   \n",
       "\n",
       "localizacion_desc                                   Tolima  Valle del Cauca  \\\n",
       "nombre_producto                                                               \n",
       "Administradores permanentes de bases de datos o...       0                0   \n",
       "Administradores temporales de bases de datos o ...       0                0   \n",
       "Analizador de datos                                      0                0   \n",
       "Centros de información                                   0                0   \n",
       "Copias de seguridad  y almacenamiento de datos           1                0   \n",
       "...                                                    ...              ...   \n",
       "Software de recuperación o búsqueda de información       0                0   \n",
       "Software de reportes de bases de datos                   0                0   \n",
       "Software de sistemas de manejo de base datos             0                0   \n",
       "servicios de almacenamiento de datos                     0                0   \n",
       "All                                                      4                6   \n",
       "\n",
       "localizacion_desc                                    All  \n",
       "nombre_producto                                           \n",
       "Administradores permanentes de bases de datos o...    17  \n",
       "Administradores temporales de bases de datos o ...    47  \n",
       "Analizador de datos                                    2  \n",
       "Centros de información                                20  \n",
       "Copias de seguridad  y almacenamiento de datos         1  \n",
       "...                                                  ...  \n",
       "Software de recuperación o búsqueda de información     1  \n",
       "Software de reportes de bases de datos                 6  \n",
       "Software de sistemas de manejo de base datos           2  \n",
       "servicios de almacenamiento de datos                  19  \n",
       "All                                                 1285  \n",
       "\n",
       "[68 rows x 16 columns]"
      ]
     },
     "execution_count": 30,
     "metadata": {},
     "output_type": "execute_result"
    }
   ],
   "source": [
    "\n",
    "pd.crosstab(index=df_producto['nombre_producto'],\n",
    "            columns=df_producto['localizacion_desc'], margins=True)"
   ]
  },
  {
   "cell_type": "markdown",
   "metadata": {},
   "source": [
    "#### Tabla de contingencia Mes proyectado / producto"
   ]
  },
  {
   "cell_type": "code",
   "execution_count": 31,
   "metadata": {
    "scrolled": true
   },
   "outputs": [
    {
     "data": {
      "text/html": [
       "<div>\n",
       "<style scoped>\n",
       "    .dataframe tbody tr th:only-of-type {\n",
       "        vertical-align: middle;\n",
       "    }\n",
       "\n",
       "    .dataframe tbody tr th {\n",
       "        vertical-align: top;\n",
       "    }\n",
       "\n",
       "    .dataframe thead th {\n",
       "        text-align: right;\n",
       "    }\n",
       "</style>\n",
       "<table border=\"1\" class=\"dataframe\">\n",
       "  <thead>\n",
       "    <tr style=\"text-align: right;\">\n",
       "      <th>mes_proyectado</th>\n",
       "      <th>Abril</th>\n",
       "      <th>Agosto</th>\n",
       "      <th>Diciembre</th>\n",
       "      <th>Enero</th>\n",
       "      <th>Febrero</th>\n",
       "      <th>Julio</th>\n",
       "      <th>Junio</th>\n",
       "      <th>Marzo</th>\n",
       "      <th>Mayo</th>\n",
       "      <th>Noviembre</th>\n",
       "      <th>Octubre</th>\n",
       "      <th>Septiembre</th>\n",
       "      <th>All</th>\n",
       "    </tr>\n",
       "    <tr>\n",
       "      <th>nombre_producto</th>\n",
       "      <th></th>\n",
       "      <th></th>\n",
       "      <th></th>\n",
       "      <th></th>\n",
       "      <th></th>\n",
       "      <th></th>\n",
       "      <th></th>\n",
       "      <th></th>\n",
       "      <th></th>\n",
       "      <th></th>\n",
       "      <th></th>\n",
       "      <th></th>\n",
       "      <th></th>\n",
       "    </tr>\n",
       "  </thead>\n",
       "  <tbody>\n",
       "    <tr>\n",
       "      <th>Administradores permanentes de bases de datos o de sistemas de tecnologías de la información</th>\n",
       "      <td>2</td>\n",
       "      <td>0</td>\n",
       "      <td>0</td>\n",
       "      <td>8</td>\n",
       "      <td>6</td>\n",
       "      <td>0</td>\n",
       "      <td>0</td>\n",
       "      <td>0</td>\n",
       "      <td>0</td>\n",
       "      <td>0</td>\n",
       "      <td>1</td>\n",
       "      <td>0</td>\n",
       "      <td>17</td>\n",
       "    </tr>\n",
       "    <tr>\n",
       "      <th>Administradores temporales de bases de datos o de sistemas de tecnologías de la información</th>\n",
       "      <td>0</td>\n",
       "      <td>6</td>\n",
       "      <td>1</td>\n",
       "      <td>31</td>\n",
       "      <td>2</td>\n",
       "      <td>5</td>\n",
       "      <td>0</td>\n",
       "      <td>0</td>\n",
       "      <td>0</td>\n",
       "      <td>0</td>\n",
       "      <td>0</td>\n",
       "      <td>2</td>\n",
       "      <td>47</td>\n",
       "    </tr>\n",
       "    <tr>\n",
       "      <th>Analizador de datos</th>\n",
       "      <td>0</td>\n",
       "      <td>0</td>\n",
       "      <td>0</td>\n",
       "      <td>0</td>\n",
       "      <td>0</td>\n",
       "      <td>0</td>\n",
       "      <td>0</td>\n",
       "      <td>0</td>\n",
       "      <td>0</td>\n",
       "      <td>0</td>\n",
       "      <td>2</td>\n",
       "      <td>0</td>\n",
       "      <td>2</td>\n",
       "    </tr>\n",
       "    <tr>\n",
       "      <th>Centros de información</th>\n",
       "      <td>0</td>\n",
       "      <td>11</td>\n",
       "      <td>0</td>\n",
       "      <td>4</td>\n",
       "      <td>0</td>\n",
       "      <td>2</td>\n",
       "      <td>2</td>\n",
       "      <td>0</td>\n",
       "      <td>0</td>\n",
       "      <td>0</td>\n",
       "      <td>0</td>\n",
       "      <td>1</td>\n",
       "      <td>20</td>\n",
       "    </tr>\n",
       "    <tr>\n",
       "      <th>Copias de seguridad  y almacenamiento de datos</th>\n",
       "      <td>0</td>\n",
       "      <td>0</td>\n",
       "      <td>0</td>\n",
       "      <td>0</td>\n",
       "      <td>0</td>\n",
       "      <td>0</td>\n",
       "      <td>0</td>\n",
       "      <td>0</td>\n",
       "      <td>0</td>\n",
       "      <td>0</td>\n",
       "      <td>1</td>\n",
       "      <td>0</td>\n",
       "      <td>1</td>\n",
       "    </tr>\n",
       "    <tr>\n",
       "      <th>...</th>\n",
       "      <td>...</td>\n",
       "      <td>...</td>\n",
       "      <td>...</td>\n",
       "      <td>...</td>\n",
       "      <td>...</td>\n",
       "      <td>...</td>\n",
       "      <td>...</td>\n",
       "      <td>...</td>\n",
       "      <td>...</td>\n",
       "      <td>...</td>\n",
       "      <td>...</td>\n",
       "      <td>...</td>\n",
       "      <td>...</td>\n",
       "    </tr>\n",
       "    <tr>\n",
       "      <th>Software de recuperación o búsqueda de información</th>\n",
       "      <td>0</td>\n",
       "      <td>0</td>\n",
       "      <td>0</td>\n",
       "      <td>0</td>\n",
       "      <td>1</td>\n",
       "      <td>0</td>\n",
       "      <td>0</td>\n",
       "      <td>0</td>\n",
       "      <td>0</td>\n",
       "      <td>0</td>\n",
       "      <td>0</td>\n",
       "      <td>0</td>\n",
       "      <td>1</td>\n",
       "    </tr>\n",
       "    <tr>\n",
       "      <th>Software de reportes de bases de datos</th>\n",
       "      <td>0</td>\n",
       "      <td>0</td>\n",
       "      <td>0</td>\n",
       "      <td>2</td>\n",
       "      <td>0</td>\n",
       "      <td>1</td>\n",
       "      <td>1</td>\n",
       "      <td>0</td>\n",
       "      <td>0</td>\n",
       "      <td>0</td>\n",
       "      <td>1</td>\n",
       "      <td>1</td>\n",
       "      <td>6</td>\n",
       "    </tr>\n",
       "    <tr>\n",
       "      <th>Software de sistemas de manejo de base datos</th>\n",
       "      <td>0</td>\n",
       "      <td>0</td>\n",
       "      <td>0</td>\n",
       "      <td>1</td>\n",
       "      <td>0</td>\n",
       "      <td>0</td>\n",
       "      <td>0</td>\n",
       "      <td>0</td>\n",
       "      <td>0</td>\n",
       "      <td>0</td>\n",
       "      <td>1</td>\n",
       "      <td>0</td>\n",
       "      <td>2</td>\n",
       "    </tr>\n",
       "    <tr>\n",
       "      <th>servicios de almacenamiento de datos</th>\n",
       "      <td>0</td>\n",
       "      <td>0</td>\n",
       "      <td>0</td>\n",
       "      <td>15</td>\n",
       "      <td>2</td>\n",
       "      <td>0</td>\n",
       "      <td>0</td>\n",
       "      <td>0</td>\n",
       "      <td>2</td>\n",
       "      <td>0</td>\n",
       "      <td>0</td>\n",
       "      <td>0</td>\n",
       "      <td>19</td>\n",
       "    </tr>\n",
       "    <tr>\n",
       "      <th>All</th>\n",
       "      <td>15</td>\n",
       "      <td>80</td>\n",
       "      <td>12</td>\n",
       "      <td>735</td>\n",
       "      <td>159</td>\n",
       "      <td>53</td>\n",
       "      <td>39</td>\n",
       "      <td>21</td>\n",
       "      <td>29</td>\n",
       "      <td>47</td>\n",
       "      <td>52</td>\n",
       "      <td>43</td>\n",
       "      <td>1285</td>\n",
       "    </tr>\n",
       "  </tbody>\n",
       "</table>\n",
       "<p>68 rows × 13 columns</p>\n",
       "</div>"
      ],
      "text/plain": [
       "mes_proyectado                                      Abril  Agosto  Diciembre  \\\n",
       "nombre_producto                                                                \n",
       "Administradores permanentes de bases de datos o...      2       0          0   \n",
       "Administradores temporales de bases de datos o ...      0       6          1   \n",
       "Analizador de datos                                     0       0          0   \n",
       "Centros de información                                  0      11          0   \n",
       "Copias de seguridad  y almacenamiento de datos          0       0          0   \n",
       "...                                                   ...     ...        ...   \n",
       "Software de recuperación o búsqueda de información      0       0          0   \n",
       "Software de reportes de bases de datos                  0       0          0   \n",
       "Software de sistemas de manejo de base datos            0       0          0   \n",
       "servicios de almacenamiento de datos                    0       0          0   \n",
       "All                                                    15      80         12   \n",
       "\n",
       "mes_proyectado                                      Enero  Febrero  Julio  \\\n",
       "nombre_producto                                                             \n",
       "Administradores permanentes de bases de datos o...      8        6      0   \n",
       "Administradores temporales de bases de datos o ...     31        2      5   \n",
       "Analizador de datos                                     0        0      0   \n",
       "Centros de información                                  4        0      2   \n",
       "Copias de seguridad  y almacenamiento de datos          0        0      0   \n",
       "...                                                   ...      ...    ...   \n",
       "Software de recuperación o búsqueda de información      0        1      0   \n",
       "Software de reportes de bases de datos                  2        0      1   \n",
       "Software de sistemas de manejo de base datos            1        0      0   \n",
       "servicios de almacenamiento de datos                   15        2      0   \n",
       "All                                                   735      159     53   \n",
       "\n",
       "mes_proyectado                                      Junio  Marzo  Mayo  \\\n",
       "nombre_producto                                                          \n",
       "Administradores permanentes de bases de datos o...      0      0     0   \n",
       "Administradores temporales de bases de datos o ...      0      0     0   \n",
       "Analizador de datos                                     0      0     0   \n",
       "Centros de información                                  2      0     0   \n",
       "Copias de seguridad  y almacenamiento de datos          0      0     0   \n",
       "...                                                   ...    ...   ...   \n",
       "Software de recuperación o búsqueda de información      0      0     0   \n",
       "Software de reportes de bases de datos                  1      0     0   \n",
       "Software de sistemas de manejo de base datos            0      0     0   \n",
       "servicios de almacenamiento de datos                    0      0     2   \n",
       "All                                                    39     21    29   \n",
       "\n",
       "mes_proyectado                                      Noviembre  Octubre  \\\n",
       "nombre_producto                                                          \n",
       "Administradores permanentes de bases de datos o...          0        1   \n",
       "Administradores temporales de bases de datos o ...          0        0   \n",
       "Analizador de datos                                         0        2   \n",
       "Centros de información                                      0        0   \n",
       "Copias de seguridad  y almacenamiento de datos              0        1   \n",
       "...                                                       ...      ...   \n",
       "Software de recuperación o búsqueda de información          0        0   \n",
       "Software de reportes de bases de datos                      0        1   \n",
       "Software de sistemas de manejo de base datos                0        1   \n",
       "servicios de almacenamiento de datos                        0        0   \n",
       "All                                                        47       52   \n",
       "\n",
       "mes_proyectado                                      Septiembre   All  \n",
       "nombre_producto                                                       \n",
       "Administradores permanentes de bases de datos o...           0    17  \n",
       "Administradores temporales de bases de datos o ...           2    47  \n",
       "Analizador de datos                                          0     2  \n",
       "Centros de información                                       1    20  \n",
       "Copias de seguridad  y almacenamiento de datos               0     1  \n",
       "...                                                        ...   ...  \n",
       "Software de recuperación o búsqueda de información           0     1  \n",
       "Software de reportes de bases de datos                       1     6  \n",
       "Software de sistemas de manejo de base datos                 0     2  \n",
       "servicios de almacenamiento de datos                         0    19  \n",
       "All                                                         43  1285  \n",
       "\n",
       "[68 rows x 13 columns]"
      ]
     },
     "execution_count": 31,
     "metadata": {},
     "output_type": "execute_result"
    }
   ],
   "source": [
    "pd.crosstab(index=df_producto['nombre_producto'],\n",
    "            columns=df_producto['mes_proyectado'], margins=True)"
   ]
  },
  {
   "cell_type": "markdown",
   "metadata": {},
   "source": [
    "##### Cálcular percentiles de Precio Base"
   ]
  },
  {
   "cell_type": "code",
   "execution_count": 32,
   "metadata": {},
   "outputs": [
    {
     "name": "stdout",
     "output_type": "stream",
     "text": [
      "P25: 21000000.0 P50: 43827960.0 P75: 81804454.0 P100: 29550000000.0\n"
     ]
    }
   ],
   "source": [
    "p25_precio = np.percentile(df_producto[\"precio_base\"], 25)\n",
    "p50_precio = np.percentile(df_producto[\"precio_base\"], 50)\n",
    "p75_precio = np.percentile(df_producto[\"precio_base\"], 75)\n",
    "p100_precio = np.percentile(df_producto[\"precio_base\"], 100)\n",
    "print(\"P25:\",p25_precio,\"P50:\",p50_precio,\"P75:\",p75_precio,\"P100:\",p100_precio)"
   ]
  },
  {
   "cell_type": "markdown",
   "metadata": {},
   "source": [
    "#### Segmentar Precio Base por valores"
   ]
  },
  {
   "cell_type": "code",
   "execution_count": 33,
   "metadata": {},
   "outputs": [],
   "source": [
    "bins = [0,21000000,43827960,81804454,29550000000]\n",
    "\n",
    "names = [\"0-21.000.000\",\"21.000.001-43.827.960\", \"43.827.961-81804454\",\"81804454-2.9550.000.000\"]"
   ]
  },
  {
   "cell_type": "code",
   "execution_count": 34,
   "metadata": {},
   "outputs": [
    {
     "name": "stderr",
     "output_type": "stream",
     "text": [
      "<ipython-input-34-f4054f6d7c84>:1: SettingWithCopyWarning: \n",
      "A value is trying to be set on a copy of a slice from a DataFrame.\n",
      "Try using .loc[row_indexer,col_indexer] = value instead\n",
      "\n",
      "See the caveats in the documentation: https://pandas.pydata.org/pandas-docs/stable/user_guide/indexing.html#returning-a-view-versus-a-copy\n",
      "  df_producto['rango_precio'] = pd.cut(df_producto['precio_base'], bins, labels = names)\n"
     ]
    }
   ],
   "source": [
    "df_producto['rango_precio'] = pd.cut(df_producto['precio_base'], bins, labels = names)"
   ]
  },
  {
   "cell_type": "code",
   "execution_count": 35,
   "metadata": {},
   "outputs": [
    {
     "name": "stderr",
     "output_type": "stream",
     "text": [
      "C:\\Users\\AnalistaNegB2B\\Anaconda3\\lib\\site-packages\\pandas\\core\\series.py:4463: SettingWithCopyWarning: \n",
      "A value is trying to be set on a copy of a slice from a DataFrame\n",
      "\n",
      "See the caveats in the documentation: https://pandas.pydata.org/pandas-docs/stable/user_guide/indexing.html#returning-a-view-versus-a-copy\n",
      "  return super().fillna(\n"
     ]
    }
   ],
   "source": [
    "df_producto['rango_precio'].fillna('0-21.000.000', inplace=True)"
   ]
  },
  {
   "cell_type": "code",
   "execution_count": 36,
   "metadata": {},
   "outputs": [
    {
     "data": {
      "image/png": "[encoded data removed]",
      "text/plain": [
       "<Figure size 1440x720 with 1 Axes>"
      ]
     },
     "metadata": {},
     "output_type": "display_data"
    }
   ],
   "source": [
    "sns.set(style='darkgrid')\n",
    "plt.figure(figsize=(20,10))\n",
    "ax = sns.countplot(x='rango_precio', data=df_producto)"
   ]
  },
  {
   "cell_type": "markdown",
   "metadata": {},
   "source": [
    "# MCA"
   ]
  },
  {
   "cell_type": "markdown",
   "metadata": {},
   "source": [
    "En estadística, análisis de correspondencias múltiples (ACM) es una técnica de análisis de datos para datos categóricos nominales, utilizado para detectar y representar estructuras subyacentes en un conjunto de datos. Esto se hace representando los datos como puntos en un espacio euclídeo de baja dimensión. El procedimiento el análisis de componentes principales para datos categóricos. ACM Puede ser visto como una extensión des análisis de correspondencias simple (AC) para un conjunto grande de variables categóricas."
   ]
  },
  {
   "cell_type": "code",
   "execution_count": 37,
   "metadata": {},
   "outputs": [],
   "source": [
    "X = df_producto[['mes_proyectado','precio_base','modalidad','nombre_familia']].copy()\n",
    "\n"
   ]
  },
  {
   "cell_type": "code",
   "execution_count": 38,
   "metadata": {},
   "outputs": [],
   "source": [
    "import prince\n",
    "mca = prince.MCA(\n",
    "     n_components=2,\n",
    "     n_iter=3,\n",
    "     copy=True,\n",
    "     check_input=True,\n",
    "     engine='auto',\n",
    "     random_state=42\n",
    " )\n",
    "mca = mca.fit(X)"
   ]
  },
  {
   "cell_type": "code",
   "execution_count": 39,
   "metadata": {},
   "outputs": [
    {
     "data": {
      "image/png": "[encoded data removed]",
      "text/plain": [
       "<Figure size 432x432 with 1 Axes>"
      ]
     },
     "metadata": {},
     "output_type": "display_data"
    }
   ],
   "source": [
    ">>> ax = mca.plot_coordinates(\n",
    "...     X=X,\n",
    "...     ax=None,\n",
    "...     figsize=(6, 6),\n",
    "...     show_row_points=True,\n",
    "...     row_points_size=10,\n",
    "...     show_row_labels=False,\n",
    "...     show_column_points=True,\n",
    "...     column_points_size=30,\n",
    "...     show_column_labels=False,\n",
    "...     legend_n_cols=1\n",
    "... )\n",
    ">>> ax.get_figure().savefig('mca_coordinates.svg')"
   ]
  },
  {
   "cell_type": "code",
   "execution_count": 40,
   "metadata": {},
   "outputs": [
    {
     "data": {
      "text/plain": [
       "[0.07936333335649416, 0.015165651097150335]"
      ]
     },
     "execution_count": 40,
     "metadata": {},
     "output_type": "execute_result"
    }
   ],
   "source": [
    "mca.eigenvalues_"
   ]
  },
  {
   "cell_type": "code",
   "execution_count": 41,
   "metadata": {},
   "outputs": [
    {
     "data": {
      "text/plain": [
       "11.0"
      ]
     },
     "execution_count": 41,
     "metadata": {},
     "output_type": "execute_result"
    }
   ],
   "source": [
    "mca.total_inertia_"
   ]
  },
  {
   "cell_type": "code",
   "execution_count": 42,
   "metadata": {},
   "outputs": [
    {
     "data": {
      "text/plain": [
       "[0.007214848486954015, 0.001378695554286394]"
      ]
     },
     "execution_count": 42,
     "metadata": {},
     "output_type": "execute_result"
    }
   ],
   "source": [
    "mca.explained_inertia_"
   ]
  },
  {
   "cell_type": "code",
   "execution_count": 43,
   "metadata": {},
   "outputs": [],
   "source": [
    "df_producto.to_pickle('analisis_heuristico.pickle')"
   ]
  },
  {
   "cell_type": "code",
   "execution_count": 44,
   "metadata": {},
   "outputs": [],
   "source": [
    "df_producto.to_csv('analisis_heuristico.csv')"
   ]
  },
  {
   "cell_type": "code",
   "execution_count": null,
   "metadata": {},
   "outputs": [],
   "source": []
  }
 ],
 "metadata": {
  "kernelspec": {
   "display_name": "Python 3",
   "language": "python",
   "name": "python3"
  },
  "language_info": {
   "codemirror_mode": {
    "name": "ipython",
    "version": 3
   },
   "file_extension": ".py",
   "mimetype": "text/x-python",
   "name": "python",
   "nbconvert_exporter": "python",
   "pygments_lexer": "ipython3",
   "version": "3.8.5"
  }
 },
 "nbformat": 4,
 "nbformat_minor": 4
}
