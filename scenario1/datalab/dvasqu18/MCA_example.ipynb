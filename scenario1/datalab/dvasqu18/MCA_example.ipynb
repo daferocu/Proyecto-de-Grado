{
 "cells": [
  {
   "cell_type": "markdown",
   "metadata": {},
   "source": [
    "# Prince\n",
    "- Análisis de correspondencia múltiple (MCA)\n",
    "- Análisis de componentes principales (PCA)\n",
    "- Análisis de factores múltiples (MFA)"
   ]
  },
  {
   "cell_type": "markdown",
   "metadata": {},
   "source": [
    "https://www.it-swarm-es.com/es/python-3.x/usando-el-paquete-mca-en-python/836313120/"
   ]
  },
  {
   "cell_type": "code",
   "execution_count": 13,
   "metadata": {},
   "outputs": [
    {
     "name": "stdout",
     "output_type": "stream",
     "text": [
      "Requirement already satisfied: prince in c:\\users\\analistanegb2b\\anaconda3\\lib\\site-packages (0.7.1)\n",
      "Requirement already satisfied: numpy>=1.17.1 in c:\\users\\analistanegb2b\\anaconda3\\lib\\site-packages (from prince) (1.20.3)\n",
      "Requirement already satisfied: scikit-learn>=0.22.1 in c:\\users\\analistanegb2b\\anaconda3\\lib\\site-packages (from prince) (0.23.2)\n",
      "Requirement already satisfied: scipy>=1.3.0 in c:\\users\\analistanegb2b\\anaconda3\\lib\\site-packages (from prince) (1.5.2)\n",
      "Requirement already satisfied: matplotlib>=3.0.2 in c:\\users\\analistanegb2b\\anaconda3\\lib\\site-packages (from prince) (3.3.2)\n",
      "Requirement already satisfied: pandas>=1.0.3 in c:\\users\\analistanegb2b\\anaconda3\\lib\\site-packages (from prince) (1.2.4)\n",
      "Requirement already satisfied: threadpoolctl>=2.0.0 in c:\\users\\analistanegb2b\\anaconda3\\lib\\site-packages (from scikit-learn>=0.22.1->prince) (2.1.0)\n",
      "Requirement already satisfied: joblib>=0.11 in c:\\users\\analistanegb2b\\anaconda3\\lib\\site-packages (from scikit-learn>=0.22.1->prince) (0.17.0)\n",
      "Requirement already satisfied: certifi>=2020.06.20 in c:\\users\\analistanegb2b\\anaconda3\\lib\\site-packages (from matplotlib>=3.0.2->prince) (2020.6.20)\n",
      "Requirement already satisfied: pyparsing!=2.0.4,!=2.1.2,!=2.1.6,>=2.0.3 in c:\\users\\analistanegb2b\\anaconda3\\lib\\site-packages (from matplotlib>=3.0.2->prince) (2.4.7)\n",
      "Requirement already satisfied: python-dateutil>=2.1 in c:\\users\\analistanegb2b\\anaconda3\\lib\\site-packages (from matplotlib>=3.0.2->prince) (2.8.1)\n",
      "Requirement already satisfied: pillow>=6.2.0 in c:\\users\\analistanegb2b\\anaconda3\\lib\\site-packages (from matplotlib>=3.0.2->prince) (8.0.1)\n",
      "Requirement already satisfied: cycler>=0.10 in c:\\users\\analistanegb2b\\anaconda3\\lib\\site-packages (from matplotlib>=3.0.2->prince) (0.10.0)\n",
      "Requirement already satisfied: kiwisolver>=1.0.1 in c:\\users\\analistanegb2b\\anaconda3\\lib\\site-packages (from matplotlib>=3.0.2->prince) (1.3.0)\n",
      "Requirement already satisfied: pytz>=2017.3 in c:\\users\\analistanegb2b\\anaconda3\\lib\\site-packages (from pandas>=1.0.3->prince) (2020.1)\n",
      "Requirement already satisfied: six>=1.5 in c:\\users\\analistanegb2b\\anaconda3\\lib\\site-packages (from python-dateutil>=2.1->matplotlib>=3.0.2->prince) (1.15.0)\n",
      "Note: you may need to restart the kernel to use updated packages.\n"
     ]
    }
   ],
   "source": [
    "pip install --user prince"
   ]
  },
  {
   "cell_type": "code",
   "execution_count": 1,
   "metadata": {},
   "outputs": [],
   "source": [
    "import pandas as pd \n",
    "import prince"
   ]
  },
  {
   "cell_type": "code",
   "execution_count": 2,
   "metadata": {},
   "outputs": [],
   "source": [
    "X = pd.read_csv('https://archive.ics.uci.edu/ml/machine-learning-databases/balloons/adult+stretch.data')\n",
    "X.columns = ['Color', 'Size', 'Action', 'Age', 'Inflated']"
   ]
  },
  {
   "cell_type": "code",
   "execution_count": 3,
   "metadata": {},
   "outputs": [],
   "source": [
    "mca = prince.MCA()"
   ]
  },
  {
   "cell_type": "code",
   "execution_count": 4,
   "metadata": {},
   "outputs": [
    {
     "name": "stdout",
     "output_type": "stream",
     "text": [
      "    Color   Size   Action    Age Inflated\n",
      "0  YELLOW  SMALL  STRETCH  ADULT        T\n",
      "1  YELLOW  SMALL  STRETCH  CHILD        F\n",
      "2  YELLOW  SMALL      DIP  ADULT        F\n",
      "3  YELLOW  SMALL      DIP  CHILD        F\n",
      "4  YELLOW  LARGE  STRETCH  ADULT        T\n"
     ]
    }
   ],
   "source": [
    "print(X.head())"
   ]
  },
  {
   "cell_type": "code",
   "execution_count": 5,
   "metadata": {},
   "outputs": [
    {
     "data": {
      "text/plain": [
       "(19, 5)"
      ]
     },
     "execution_count": 5,
     "metadata": {},
     "output_type": "execute_result"
    }
   ],
   "source": [
    "X.shape"
   ]
  },
  {
   "cell_type": "code",
   "execution_count": 6,
   "metadata": {},
   "outputs": [
    {
     "name": "stdout",
     "output_type": "stream",
     "text": [
      "           0             1\n",
      "0   0.705387 -7.464242e-15\n",
      "1  -0.386586 -9.170028e-15\n",
      "2  -0.386586 -3.887983e-15\n",
      "3  -0.852014 -6.069028e-15\n",
      "4   0.783539  6.333333e-01\n",
      "5   0.783539  6.333333e-01\n",
      "6  -0.308434  6.333333e-01\n",
      "7  -0.308434  6.333333e-01\n",
      "8  -0.773862  6.333333e-01\n",
      "9   0.783539 -6.333333e-01\n",
      "10  0.783539 -6.333333e-01\n",
      "11 -0.308434 -6.333333e-01\n",
      "12 -0.308434 -6.333333e-01\n",
      "13 -0.773862 -6.333333e-01\n",
      "14  0.861691  5.507007e-15\n",
      "15  0.861691  5.507007e-15\n",
      "16 -0.230282  3.801221e-15\n",
      "17 -0.230282  9.083266e-15\n",
      "18 -0.695710  6.902221e-15\n"
     ]
    }
   ],
   "source": [
    "mca = mca.fit(X) # same as calling ca.fs_r(1)\n",
    "mca = mca.transform(X) # same as calling ca.fs_r_sup(df_new) for *another* test set.\n",
    "print(mca)"
   ]
  },
  {
   "cell_type": "code",
   "execution_count": 7,
   "metadata": {},
   "outputs": [
    {
     "data": {
      "text/plain": [
       "pandas.core.frame.DataFrame"
      ]
     },
     "execution_count": 7,
     "metadata": {},
     "output_type": "execute_result"
    }
   ],
   "source": [
    "type(mca)"
   ]
  },
  {
   "cell_type": "code",
   "execution_count": 8,
   "metadata": {},
   "outputs": [
    {
     "ename": "AttributeError",
     "evalue": "'DataFrame' object has no attribute 'plot_coordinates'",
     "output_type": "error",
     "traceback": [
      "\u001b[1;31m---------------------------------------------------------------------------\u001b[0m",
      "\u001b[1;31mAttributeError\u001b[0m                            Traceback (most recent call last)",
      "\u001b[1;32m<ipython-input-8-ad403422516a>\u001b[0m in \u001b[0;36m<module>\u001b[1;34m\u001b[0m\n\u001b[1;32m----> 1\u001b[1;33m ax = mca.plot_coordinates(\n\u001b[0m\u001b[0;32m      2\u001b[0m      \u001b[0mX\u001b[0m\u001b[1;33m=\u001b[0m\u001b[0mX\u001b[0m\u001b[1;33m,\u001b[0m\u001b[1;33m\u001b[0m\u001b[1;33m\u001b[0m\u001b[0m\n\u001b[0;32m      3\u001b[0m      \u001b[0max\u001b[0m\u001b[1;33m=\u001b[0m\u001b[1;32mNone\u001b[0m\u001b[1;33m,\u001b[0m\u001b[1;33m\u001b[0m\u001b[1;33m\u001b[0m\u001b[0m\n\u001b[0;32m      4\u001b[0m      \u001b[0mfigsize\u001b[0m\u001b[1;33m=\u001b[0m\u001b[1;33m(\u001b[0m\u001b[1;36m6\u001b[0m\u001b[1;33m,\u001b[0m \u001b[1;36m6\u001b[0m\u001b[1;33m)\u001b[0m\u001b[1;33m,\u001b[0m\u001b[1;33m\u001b[0m\u001b[1;33m\u001b[0m\u001b[0m\n\u001b[0;32m      5\u001b[0m      \u001b[0mshow_row_points\u001b[0m\u001b[1;33m=\u001b[0m\u001b[1;32mTrue\u001b[0m\u001b[1;33m,\u001b[0m\u001b[1;33m\u001b[0m\u001b[1;33m\u001b[0m\u001b[0m\n",
      "\u001b[1;32m~\\Anaconda3\\lib\\site-packages\\pandas\\core\\generic.py\u001b[0m in \u001b[0;36m__getattr__\u001b[1;34m(self, name)\u001b[0m\n\u001b[0;32m   5463\u001b[0m             \u001b[1;32mif\u001b[0m \u001b[0mself\u001b[0m\u001b[1;33m.\u001b[0m\u001b[0m_info_axis\u001b[0m\u001b[1;33m.\u001b[0m\u001b[0m_can_hold_identifiers_and_holds_name\u001b[0m\u001b[1;33m(\u001b[0m\u001b[0mname\u001b[0m\u001b[1;33m)\u001b[0m\u001b[1;33m:\u001b[0m\u001b[1;33m\u001b[0m\u001b[1;33m\u001b[0m\u001b[0m\n\u001b[0;32m   5464\u001b[0m                 \u001b[1;32mreturn\u001b[0m \u001b[0mself\u001b[0m\u001b[1;33m[\u001b[0m\u001b[0mname\u001b[0m\u001b[1;33m]\u001b[0m\u001b[1;33m\u001b[0m\u001b[1;33m\u001b[0m\u001b[0m\n\u001b[1;32m-> 5465\u001b[1;33m             \u001b[1;32mreturn\u001b[0m \u001b[0mobject\u001b[0m\u001b[1;33m.\u001b[0m\u001b[0m__getattribute__\u001b[0m\u001b[1;33m(\u001b[0m\u001b[0mself\u001b[0m\u001b[1;33m,\u001b[0m \u001b[0mname\u001b[0m\u001b[1;33m)\u001b[0m\u001b[1;33m\u001b[0m\u001b[1;33m\u001b[0m\u001b[0m\n\u001b[0m\u001b[0;32m   5466\u001b[0m \u001b[1;33m\u001b[0m\u001b[0m\n\u001b[0;32m   5467\u001b[0m     \u001b[1;32mdef\u001b[0m \u001b[0m__setattr__\u001b[0m\u001b[1;33m(\u001b[0m\u001b[0mself\u001b[0m\u001b[1;33m,\u001b[0m \u001b[0mname\u001b[0m\u001b[1;33m:\u001b[0m \u001b[0mstr\u001b[0m\u001b[1;33m,\u001b[0m \u001b[0mvalue\u001b[0m\u001b[1;33m)\u001b[0m \u001b[1;33m->\u001b[0m \u001b[1;32mNone\u001b[0m\u001b[1;33m:\u001b[0m\u001b[1;33m\u001b[0m\u001b[1;33m\u001b[0m\u001b[0m\n",
      "\u001b[1;31mAttributeError\u001b[0m: 'DataFrame' object has no attribute 'plot_coordinates'"
     ]
    }
   ],
   "source": [
    "ax = mca.plot_coordinates(\n",
    "     X=X,\n",
    "     ax=None,\n",
    "     figsize=(6, 6),\n",
    "     show_row_points=True,\n",
    "     row_points_size=10,\n",
    "     show_row_labels=False,\n",
    "     show_column_points=True,\n",
    "     column_points_size=30,\n",
    "     show_column_labels=False,\n",
    "     legend_n_cols=1\n",
    "     )\n",
    "ax.get_figure()"
   ]
  },
  {
   "cell_type": "code",
   "execution_count": null,
   "metadata": {},
   "outputs": [],
   "source": []
  }
 ],
 "metadata": {
  "kernelspec": {
   "display_name": "Python 3",
   "language": "python",
   "name": "python3"
  },
  "language_info": {
   "codemirror_mode": {
    "name": "ipython",
    "version": 3
   },
   "file_extension": ".py",
   "mimetype": "text/x-python",
   "name": "python",
   "nbconvert_exporter": "python",
   "pygments_lexer": "ipython3",
   "version": "3.8.5"
  }
 },
 "nbformat": 4,
 "nbformat_minor": 4
}
