{
 "cells": [
  {
   "cell_type": "markdown",
   "metadata": {},
   "source": [
    "# Fuente de datos 2\n",
    "## Plan Anual de Adquisiones - Secop II¶"
   ]
  },
  {
   "cell_type": "markdown",
   "metadata": {},
   "source": [
    "**Configuración de algoritmo:**\n",
    "- Lectura de datos, en formato .pickle.\n",
    "- Descripción de tipo de datos.\n",
    "- Cambio en nombres de variables.\n",
    "- Identificación de valores únicos por variable.\n",
    "- Creación de agrupación (clusters) con K-modes.\n",
    "- Validación del número de clusters (k) óptimo con método Elbow y Silhouette.\n",
    "- Combinar con los datos originales.\n",
    "- Gráficos de barras para los clusters creados. "
   ]
  },
  {
   "cell_type": "code",
   "execution_count": 1,
   "metadata": {},
   "outputs": [],
   "source": [
    "# Load Packages\n",
    "import os,sys\n",
    "import pandas as pd\n",
    "import numpy as np\n",
    "from datetime import datetime"
   ]
  },
  {
   "cell_type": "code",
   "execution_count": 2,
   "metadata": {},
   "outputs": [],
   "source": [
    "import pickle \n",
    "import random"
   ]
  },
  {
   "cell_type": "code",
   "execution_count": 3,
   "metadata": {},
   "outputs": [
    {
     "data": {
      "text/plain": [
       "'C:\\\\Users\\\\David\\\\OneDrive\\\\EAFIT\\\\Proyecto Integrador 1\\\\Repositorios\\\\proy-segmentacion\\\\jupyter\\\\DavidRuaJ'"
      ]
     },
     "execution_count": 3,
     "metadata": {},
     "output_type": "execute_result"
    }
   ],
   "source": [
    "# Mostrar la ruta del archivo indiferente del sistema operativo\n",
    "import os\n",
    "os.getcwd()"
   ]
  },
  {
   "cell_type": "code",
   "execution_count": 4,
   "metadata": {},
   "outputs": [],
   "source": [
    "main_path=\"C:\\\\Users\\\\David\\\\OneDrive\\\\EAFIT\\\\Proyecto Integrador 1\\\\Repositorios\\\\proy-segmentacion\"\n",
    "data_path=\"\\\\data\\\\02 - Raw\""
   ]
  },
  {
   "cell_type": "code",
   "execution_count": 5,
   "metadata": {},
   "outputs": [],
   "source": [
    "os.chdir(main_path + data_path)"
   ]
  },
  {
   "cell_type": "code",
   "execution_count": 6,
   "metadata": {},
   "outputs": [
    {
     "data": {
      "text/html": [
       "<div>\n",
       "<style scoped>\n",
       "    .dataframe tbody tr th:only-of-type {\n",
       "        vertical-align: middle;\n",
       "    }\n",
       "\n",
       "    .dataframe tbody tr th {\n",
       "        vertical-align: top;\n",
       "    }\n",
       "\n",
       "    .dataframe thead th {\n",
       "        text-align: right;\n",
       "    }\n",
       "</style>\n",
       "<table border=\"1\" class=\"dataframe\">\n",
       "  <thead>\n",
       "    <tr style=\"text-align: right;\">\n",
       "      <th></th>\n",
       "      <th>nit</th>\n",
       "      <th>entidad_matriz</th>\n",
       "      <th>year</th>\n",
       "      <th>entidad</th>\n",
       "      <th>localizacion</th>\n",
       "      <th>localizacion_desc</th>\n",
       "      <th>mision_vision</th>\n",
       "      <th>pers_estrategica</th>\n",
       "      <th>ppto_global</th>\n",
       "      <th>mes_proyectado</th>\n",
       "      <th>...</th>\n",
       "      <th>modalidad</th>\n",
       "      <th>contacto</th>\n",
       "      <th>cod_producto</th>\n",
       "      <th>nombre_producto</th>\n",
       "      <th>cod_clase</th>\n",
       "      <th>nombre_clase</th>\n",
       "      <th>cod_familia</th>\n",
       "      <th>nombre_familia</th>\n",
       "      <th>diff_dates</th>\n",
       "      <th>year_publised</th>\n",
       "    </tr>\n",
       "  </thead>\n",
       "  <tbody>\n",
       "    <tr>\n",
       "      <th>22</th>\n",
       "      <td>800010350</td>\n",
       "      <td>ALCALDIA MUNICIPAL DE MURILLO</td>\n",
       "      <td>2019</td>\n",
       "      <td>ALCALDIA MUNICIPAL DE MURILLO</td>\n",
       "      <td>CO-TOL-73461</td>\n",
       "      <td>Tolima</td>\n",
       "      <td>MISION: Proveer los instrumentos necesarios pa...</td>\n",
       "      <td>Lograr la estructuración del plan de compras 2...</td>\n",
       "      <td>2971812351</td>\n",
       "      <td>Enero</td>\n",
       "      <td>...</td>\n",
       "      <td>CCE-16-Servicios_profesionales_gestion</td>\n",
       "      <td>Monica Andrea Hernandez Salinas</td>\n",
       "      <td>V1.80111620</td>\n",
       "      <td>Servicios temporales de recursos humanos</td>\n",
       "      <td>V1.80111600</td>\n",
       "      <td>Servicios de personal temporal</td>\n",
       "      <td>V1.80110000</td>\n",
       "      <td>Servicios de recursos humanos</td>\n",
       "      <td>0</td>\n",
       "      <td>2019</td>\n",
       "    </tr>\n",
       "    <tr>\n",
       "      <th>41</th>\n",
       "      <td>800012873</td>\n",
       "      <td>MUNICIPIO DE TAURAMENA</td>\n",
       "      <td>2019</td>\n",
       "      <td>MUNICIPIO DE TAURAMENA</td>\n",
       "      <td>CO-CAS-85410</td>\n",
       "      <td>Casanare</td>\n",
       "      <td>MISIÓN: Prestar servicio efectivo a la comunid...</td>\n",
       "      <td>La Alcaldía municipal de Tauramena Casanare, t...</td>\n",
       "      <td>114339387326</td>\n",
       "      <td>Julio</td>\n",
       "      <td>...</td>\n",
       "      <td>CCE-06-Seleccion_Abreviada_Menor_Cuantia</td>\n",
       "      <td>MARIA EUGENIA RODRIGUEZ FIGUEREDO</td>\n",
       "      <td>V1.93141506</td>\n",
       "      <td>Servicios de bienestar social</td>\n",
       "      <td>V1.93141500</td>\n",
       "      <td>Desarrollo y servicios sociales</td>\n",
       "      <td>V1.93140000</td>\n",
       "      <td>Servicios comunitarios y sociales</td>\n",
       "      <td>363</td>\n",
       "      <td>2018</td>\n",
       "    </tr>\n",
       "    <tr>\n",
       "      <th>75</th>\n",
       "      <td>800022620</td>\n",
       "      <td>BOMBEROS DE BUCARAMANGA</td>\n",
       "      <td>2019</td>\n",
       "      <td>BOMBEROS DE BUCARAMANGA</td>\n",
       "      <td>CO-SAN-68001</td>\n",
       "      <td>Santander</td>\n",
       "      <td>Bomberos de Bucaramanga es una Institución Pub...</td>\n",
       "      <td>La actividad Bomberil se reconoce como un ser...</td>\n",
       "      <td>10926006500</td>\n",
       "      <td>Enero</td>\n",
       "      <td>...</td>\n",
       "      <td>CCE-16-Servicios_profesionales_gestion</td>\n",
       "      <td>AMANDA LUCIA BARCENAS MANTILLA</td>\n",
       "      <td>V1.80111500</td>\n",
       "      <td>Desarrollo de recursos humanos</td>\n",
       "      <td>V1.80110000</td>\n",
       "      <td>Servicios de recursos humanos</td>\n",
       "      <td>V1.80000000</td>\n",
       "      <td>Servicios de Gestión, Servicios Profesionales ...</td>\n",
       "      <td>33</td>\n",
       "      <td>2019</td>\n",
       "    </tr>\n",
       "    <tr>\n",
       "      <th>76</th>\n",
       "      <td>800022620</td>\n",
       "      <td>BOMBEROS DE BUCARAMANGA</td>\n",
       "      <td>2019</td>\n",
       "      <td>BOMBEROS DE BUCARAMANGA</td>\n",
       "      <td>CO-SAN-68001</td>\n",
       "      <td>Santander</td>\n",
       "      <td>Bomberos de Bucaramanga es una Institución Pub...</td>\n",
       "      <td>La actividad Bomberil se reconoce como un ser...</td>\n",
       "      <td>10926006500</td>\n",
       "      <td>Enero</td>\n",
       "      <td>...</td>\n",
       "      <td>CCE-16-Servicios_profesionales_gestion</td>\n",
       "      <td>AMANDA LUCIA BARCENAS MANTILLA</td>\n",
       "      <td>V1.80111600</td>\n",
       "      <td>Servicios de personal temporal</td>\n",
       "      <td>V1.80110000</td>\n",
       "      <td>Servicios de recursos humanos</td>\n",
       "      <td>V1.80000000</td>\n",
       "      <td>Servicios de Gestión, Servicios Profesionales ...</td>\n",
       "      <td>33</td>\n",
       "      <td>2019</td>\n",
       "    </tr>\n",
       "    <tr>\n",
       "      <th>77</th>\n",
       "      <td>800022620</td>\n",
       "      <td>BOMBEROS DE BUCARAMANGA</td>\n",
       "      <td>2019</td>\n",
       "      <td>BOMBEROS DE BUCARAMANGA</td>\n",
       "      <td>CO-SAN-68001</td>\n",
       "      <td>Santander</td>\n",
       "      <td>Bomberos de Bucaramanga es una Institución Pub...</td>\n",
       "      <td>La actividad Bomberil se reconoce como un ser...</td>\n",
       "      <td>10926006500</td>\n",
       "      <td>Enero</td>\n",
       "      <td>...</td>\n",
       "      <td>CCE-16-Servicios_profesionales_gestion</td>\n",
       "      <td>AMANDA LUCIA BARCENAS MANTILLA</td>\n",
       "      <td>V1.80111600</td>\n",
       "      <td>Servicios de personal temporal</td>\n",
       "      <td>V1.80110000</td>\n",
       "      <td>Servicios de recursos humanos</td>\n",
       "      <td>V1.80000000</td>\n",
       "      <td>Servicios de Gestión, Servicios Profesionales ...</td>\n",
       "      <td>33</td>\n",
       "      <td>2019</td>\n",
       "    </tr>\n",
       "  </tbody>\n",
       "</table>\n",
       "<p>5 rows × 24 columns</p>\n",
       "</div>"
      ],
      "text/plain": [
       "          nit                 entidad_matriz  year  \\\n",
       "22  800010350  ALCALDIA MUNICIPAL DE MURILLO  2019   \n",
       "41  800012873         MUNICIPIO DE TAURAMENA  2019   \n",
       "75  800022620        BOMBEROS DE BUCARAMANGA  2019   \n",
       "76  800022620        BOMBEROS DE BUCARAMANGA  2019   \n",
       "77  800022620        BOMBEROS DE BUCARAMANGA  2019   \n",
       "\n",
       "                          entidad  localizacion localizacion_desc  \\\n",
       "22  ALCALDIA MUNICIPAL DE MURILLO  CO-TOL-73461            Tolima   \n",
       "41         MUNICIPIO DE TAURAMENA  CO-CAS-85410          Casanare   \n",
       "75        BOMBEROS DE BUCARAMANGA  CO-SAN-68001         Santander   \n",
       "76        BOMBEROS DE BUCARAMANGA  CO-SAN-68001         Santander   \n",
       "77        BOMBEROS DE BUCARAMANGA  CO-SAN-68001         Santander   \n",
       "\n",
       "                                        mision_vision  \\\n",
       "22  MISION: Proveer los instrumentos necesarios pa...   \n",
       "41  MISIÓN: Prestar servicio efectivo a la comunid...   \n",
       "75  Bomberos de Bucaramanga es una Institución Pub...   \n",
       "76  Bomberos de Bucaramanga es una Institución Pub...   \n",
       "77  Bomberos de Bucaramanga es una Institución Pub...   \n",
       "\n",
       "                                     pers_estrategica   ppto_global  \\\n",
       "22  Lograr la estructuración del plan de compras 2...    2971812351   \n",
       "41  La Alcaldía municipal de Tauramena Casanare, t...  114339387326   \n",
       "75  La actividad Bomberil se reconoce como un ser...   10926006500   \n",
       "76  La actividad Bomberil se reconoce como un ser...   10926006500   \n",
       "77  La actividad Bomberil se reconoce como un ser...   10926006500   \n",
       "\n",
       "   mes_proyectado  ...                                 modalidad  \\\n",
       "22          Enero  ...    CCE-16-Servicios_profesionales_gestion   \n",
       "41          Julio  ...  CCE-06-Seleccion_Abreviada_Menor_Cuantia   \n",
       "75          Enero  ...    CCE-16-Servicios_profesionales_gestion   \n",
       "76          Enero  ...    CCE-16-Servicios_profesionales_gestion   \n",
       "77          Enero  ...    CCE-16-Servicios_profesionales_gestion   \n",
       "\n",
       "                             contacto cod_producto  \\\n",
       "22    Monica Andrea Hernandez Salinas  V1.80111620   \n",
       "41  MARIA EUGENIA RODRIGUEZ FIGUEREDO  V1.93141506   \n",
       "75     AMANDA LUCIA BARCENAS MANTILLA  V1.80111500   \n",
       "76     AMANDA LUCIA BARCENAS MANTILLA  V1.80111600   \n",
       "77     AMANDA LUCIA BARCENAS MANTILLA  V1.80111600   \n",
       "\n",
       "                             nombre_producto    cod_clase  \\\n",
       "22  Servicios temporales de recursos humanos  V1.80111600   \n",
       "41             Servicios de bienestar social  V1.93141500   \n",
       "75            Desarrollo de recursos humanos  V1.80110000   \n",
       "76            Servicios de personal temporal  V1.80110000   \n",
       "77            Servicios de personal temporal  V1.80110000   \n",
       "\n",
       "                       nombre_clase  cod_familia  \\\n",
       "22   Servicios de personal temporal  V1.80110000   \n",
       "41  Desarrollo y servicios sociales  V1.93140000   \n",
       "75    Servicios de recursos humanos  V1.80000000   \n",
       "76    Servicios de recursos humanos  V1.80000000   \n",
       "77    Servicios de recursos humanos  V1.80000000   \n",
       "\n",
       "                                       nombre_familia diff_dates year_publised  \n",
       "22                      Servicios de recursos humanos          0          2019  \n",
       "41                  Servicios comunitarios y sociales        363          2018  \n",
       "75  Servicios de Gestión, Servicios Profesionales ...         33          2019  \n",
       "76  Servicios de Gestión, Servicios Profesionales ...         33          2019  \n",
       "77  Servicios de Gestión, Servicios Profesionales ...         33          2019  \n",
       "\n",
       "[5 rows x 24 columns]"
      ]
     },
     "execution_count": 6,
     "metadata": {},
     "output_type": "execute_result"
    }
   ],
   "source": [
    "df=pickle.load( open(r'Fuente_2_vista_minable.pickle', \"rb\" ) )\n",
    "df.head()"
   ]
  },
  {
   "cell_type": "code",
   "execution_count": 7,
   "metadata": {},
   "outputs": [
    {
     "data": {
      "text/plain": [
       "<bound method DataFrame.info of                nit                                    entidad_matriz  year  \\\n",
       "22       800010350                     ALCALDIA MUNICIPAL DE MURILLO  2019   \n",
       "41       800012873                            MUNICIPIO DE TAURAMENA  2019   \n",
       "75       800022620                           BOMBEROS DE BUCARAMANGA  2019   \n",
       "76       800022620                           BOMBEROS DE BUCARAMANGA  2019   \n",
       "77       800022620                           BOMBEROS DE BUCARAMANGA  2019   \n",
       "...            ...                                               ...   ...   \n",
       "863960  9009585649  SUBRED INTEGRADA DE SERVICIOS DE SALUD SUR E.S.E  2018   \n",
       "863961  9009585649  SUBRED INTEGRADA DE SERVICIOS DE SALUD SUR E.S.E  2018   \n",
       "863962  9009585649  SUBRED INTEGRADA DE SERVICIOS DE SALUD SUR E.S.E  2018   \n",
       "863963  9009585649  SUBRED INTEGRADA DE SERVICIOS DE SALUD SUR E.S.E  2018   \n",
       "863968  9013620904              UNIDAD PRESTADORA DE SALUD ATLANTICO  2020   \n",
       "\n",
       "                                                 entidad  localizacion  \\\n",
       "22                         ALCALDIA MUNICIPAL DE MURILLO  CO-TOL-73461   \n",
       "41                                MUNICIPIO DE TAURAMENA  CO-CAS-85410   \n",
       "75                               BOMBEROS DE BUCARAMANGA  CO-SAN-68001   \n",
       "76                               BOMBEROS DE BUCARAMANGA  CO-SAN-68001   \n",
       "77                               BOMBEROS DE BUCARAMANGA  CO-SAN-68001   \n",
       "...                                                  ...           ...   \n",
       "863960  SUBRED INTEGRADA DE SERVICIOS DE SALUD SUR E.S.E   CO-DC-11001   \n",
       "863961  SUBRED INTEGRADA DE SERVICIOS DE SALUD SUR E.S.E   CO-DC-11001   \n",
       "863962  SUBRED INTEGRADA DE SERVICIOS DE SALUD SUR E.S.E   CO-DC-11001   \n",
       "863963  SUBRED INTEGRADA DE SERVICIOS DE SALUD SUR E.S.E   CO-DC-11001   \n",
       "863968              UNIDAD PRESTADORA DE SALUD ATLANTICO  CO-ATL-08758   \n",
       "\n",
       "                 localizacion_desc  \\\n",
       "22                          Tolima   \n",
       "41                        Casanare   \n",
       "75                       Santander   \n",
       "76                       Santander   \n",
       "77                       Santander   \n",
       "...                            ...   \n",
       "863960  Distrito Capital de Bogotá   \n",
       "863961  Distrito Capital de Bogotá   \n",
       "863962  Distrito Capital de Bogotá   \n",
       "863963  Distrito Capital de Bogotá   \n",
       "863968                   Atlántico   \n",
       "\n",
       "                                            mision_vision  \\\n",
       "22      MISION: Proveer los instrumentos necesarios pa...   \n",
       "41      MISIÓN: Prestar servicio efectivo a la comunid...   \n",
       "75      Bomberos de Bucaramanga es una Institución Pub...   \n",
       "76      Bomberos de Bucaramanga es una Institución Pub...   \n",
       "77      Bomberos de Bucaramanga es una Institución Pub...   \n",
       "...                                                   ...   \n",
       "863960  La Subred Integrada de servicios de Salud Sur ...   \n",
       "863961  La Subred Integrada de servicios de Salud Sur ...   \n",
       "863962  La Subred Integrada de servicios de Salud Sur ...   \n",
       "863963  La Subred Integrada de servicios de Salud Sur ...   \n",
       "863968  Contribuir a la calidad de vida de nuestros us...   \n",
       "\n",
       "                                         pers_estrategica   ppto_global  \\\n",
       "22      Lograr la estructuración del plan de compras 2...    2971812351   \n",
       "41      La Alcaldía municipal de Tauramena Casanare, t...  114339387326   \n",
       "75      La actividad Bomberil se reconoce como un ser...   10926006500   \n",
       "76      La actividad Bomberil se reconoce como un ser...   10926006500   \n",
       "77      La actividad Bomberil se reconoce como un ser...   10926006500   \n",
       "...                                                   ...           ...   \n",
       "863960  La Subred Integrada de  Servicios de Salud Sur...  171197197512   \n",
       "863961  La Subred Integrada de  Servicios de Salud Sur...  171197197512   \n",
       "863962  La Subred Integrada de  Servicios de Salud Sur...  171197197512   \n",
       "863963  La Subred Integrada de  Servicios de Salud Sur...  171197197512   \n",
       "863968  Administración del riesgo financiero, la gesti...    3535000000   \n",
       "\n",
       "       mes_proyectado  ...                                 modalidad  \\\n",
       "22              Enero  ...    CCE-16-Servicios_profesionales_gestion   \n",
       "41              Julio  ...  CCE-06-Seleccion_Abreviada_Menor_Cuantia   \n",
       "75              Enero  ...    CCE-16-Servicios_profesionales_gestion   \n",
       "76              Enero  ...    CCE-16-Servicios_profesionales_gestion   \n",
       "77              Enero  ...    CCE-16-Servicios_profesionales_gestion   \n",
       "...               ...  ...                                       ...   \n",
       "863960          Enero  ...    CCE-16-Servicios_profesionales_gestion   \n",
       "863961          Enero  ...    CCE-16-Servicios_profesionales_gestion   \n",
       "863962          Enero  ...    CCE-16-Servicios_profesionales_gestion   \n",
       "863963          Enero  ...    CCE-16-Servicios_profesionales_gestion   \n",
       "863968           Mayo  ...  CCE-06-Seleccion_Abreviada_Menor_Cuantia   \n",
       "\n",
       "                                 contacto cod_producto  \\\n",
       "22        Monica Andrea Hernandez Salinas  V1.80111620   \n",
       "41      MARIA EUGENIA RODRIGUEZ FIGUEREDO  V1.93141506   \n",
       "75         AMANDA LUCIA BARCENAS MANTILLA  V1.80111500   \n",
       "76         AMANDA LUCIA BARCENAS MANTILLA  V1.80111600   \n",
       "77         AMANDA LUCIA BARCENAS MANTILLA  V1.80111600   \n",
       "...                                   ...          ...   \n",
       "863960                    ADRIANA VASQUEZ  V1.80111701   \n",
       "863961                    ADRIANA VASQUEZ  V1.80111701   \n",
       "863962                    ADRIANA VASQUEZ  V1.80111701   \n",
       "863963                    ADRIANA VASQUEZ  V1.80111701   \n",
       "863968                AYDA LUZ CRISTANCHO  V1.85161500   \n",
       "\n",
       "                                 nombre_producto    cod_clase  \\\n",
       "22      Servicios temporales de recursos humanos  V1.80111600   \n",
       "41                 Servicios de bienestar social  V1.93141500   \n",
       "75                Desarrollo de recursos humanos  V1.80110000   \n",
       "76                Servicios de personal temporal  V1.80110000   \n",
       "77                Servicios de personal temporal  V1.80110000   \n",
       "...                                          ...          ...   \n",
       "863960     Servicios de contratación de personal  V1.80111700   \n",
       "863961     Servicios de contratación de personal  V1.80111700   \n",
       "863962     Servicios de contratación de personal  V1.80111700   \n",
       "863963     Servicios de contratación de personal  V1.80111700   \n",
       "863968  Reparación de equipo médico o quirúrgico  V1.85160000   \n",
       "\n",
       "                                             nombre_clase  cod_familia  \\\n",
       "22                         Servicios de personal temporal  V1.80110000   \n",
       "41                        Desarrollo y servicios sociales  V1.93140000   \n",
       "75                          Servicios de recursos humanos  V1.80000000   \n",
       "76                          Servicios de recursos humanos  V1.80000000   \n",
       "77                          Servicios de recursos humanos  V1.80000000   \n",
       "...                                                   ...          ...   \n",
       "863960                          Reclutamiento de personal  V1.80110000   \n",
       "863961                          Reclutamiento de personal  V1.80110000   \n",
       "863962                          Reclutamiento de personal  V1.80110000   \n",
       "863963                          Reclutamiento de personal  V1.80110000   \n",
       "863968  Servicios de mantenimiento, renovación y repar...  V1.85000000   \n",
       "\n",
       "                                           nombre_familia diff_dates  \\\n",
       "22                          Servicios de recursos humanos          0   \n",
       "41                      Servicios comunitarios y sociales        363   \n",
       "75      Servicios de Gestión, Servicios Profesionales ...         33   \n",
       "76      Servicios de Gestión, Servicios Profesionales ...         33   \n",
       "77      Servicios de Gestión, Servicios Profesionales ...         33   \n",
       "...                                                   ...        ...   \n",
       "863960                      Servicios de recursos humanos        334   \n",
       "863961                      Servicios de recursos humanos        334   \n",
       "863962                      Servicios de recursos humanos        334   \n",
       "863963                      Servicios de recursos humanos        334   \n",
       "863968                                 Servicios de Salud          0   \n",
       "\n",
       "       year_publised  \n",
       "22              2019  \n",
       "41              2018  \n",
       "75              2019  \n",
       "76              2019  \n",
       "77              2019  \n",
       "...              ...  \n",
       "863960          2018  \n",
       "863961          2018  \n",
       "863962          2018  \n",
       "863963          2018  \n",
       "863968          2020  \n",
       "\n",
       "[349671 rows x 24 columns]>"
      ]
     },
     "execution_count": 7,
     "metadata": {},
     "output_type": "execute_result"
    }
   ],
   "source": [
    "df.info"
   ]
  },
  {
   "cell_type": "code",
   "execution_count": 8,
   "metadata": {},
   "outputs": [
    {
     "data": {
      "text/plain": [
       "nit                               int64\n",
       "entidad_matriz                   object\n",
       "year                              int64\n",
       "entidad                          object\n",
       "localizacion                     object\n",
       "localizacion_desc                object\n",
       "mision_vision                    object\n",
       "pers_estrategica                 object\n",
       "ppto_global                       int64\n",
       "mes_proyectado                   object\n",
       "precio_base                     float64\n",
       "date_last_publication    datetime64[ns]\n",
       "ref_contrato                     object\n",
       "date_publised            datetime64[ns]\n",
       "modalidad                        object\n",
       "contacto                         object\n",
       "cod_producto                     object\n",
       "nombre_producto                  object\n",
       "cod_clase                        object\n",
       "nombre_clase                     object\n",
       "cod_familia                      object\n",
       "nombre_familia                   object\n",
       "diff_dates                        int64\n",
       "year_publised                     int64\n",
       "dtype: object"
      ]
     },
     "execution_count": 8,
     "metadata": {},
     "output_type": "execute_result"
    }
   ],
   "source": [
    "df.dtypes"
   ]
  },
  {
   "cell_type": "code",
   "execution_count": 9,
   "metadata": {},
   "outputs": [
    {
     "name": "stdout",
     "output_type": "stream",
     "text": [
      "nit                        570\n",
      "entidad_matriz             569\n",
      "year                         5\n",
      "entidad                    670\n",
      "localizacion               158\n",
      "localizacion_desc           33\n",
      "mision_vision             1062\n",
      "pers_estrategica           981\n",
      "ppto_global               1317\n",
      "mes_proyectado              12\n",
      "precio_base              30952\n",
      "date_last_publication      510\n",
      "ref_contrato             97649\n",
      "date_publised              286\n",
      "modalidad                    4\n",
      "contacto                  1050\n",
      "cod_producto              2936\n",
      "nombre_producto           2934\n",
      "cod_clase                 1161\n",
      "nombre_clase              1160\n",
      "cod_familia                343\n",
      "nombre_familia             342\n",
      "diff_dates                 381\n",
      "year_publised                5\n",
      "dtype: int64\n"
     ]
    }
   ],
   "source": [
    "# Validar los valores únicos de las variables\n",
    "df.nunique(axis=0)\n",
    "print(df.nunique(axis=0))"
   ]
  },
  {
   "cell_type": "markdown",
   "metadata": {},
   "source": [
    "## Group by"
   ]
  },
  {
   "cell_type": "code",
   "execution_count": 10,
   "metadata": {},
   "outputs": [
    {
     "data": {
      "text/html": [
       "<div>\n",
       "<style scoped>\n",
       "    .dataframe tbody tr th:only-of-type {\n",
       "        vertical-align: middle;\n",
       "    }\n",
       "\n",
       "    .dataframe tbody tr th {\n",
       "        vertical-align: top;\n",
       "    }\n",
       "\n",
       "    .dataframe thead th {\n",
       "        text-align: right;\n",
       "    }\n",
       "</style>\n",
       "<table border=\"1\" class=\"dataframe\">\n",
       "  <thead>\n",
       "    <tr style=\"text-align: right;\">\n",
       "      <th></th>\n",
       "      <th>nit</th>\n",
       "      <th>year</th>\n",
       "      <th>ppto_global</th>\n",
       "      <th>precio_base</th>\n",
       "      <th>diff_dates</th>\n",
       "      <th>year_publised</th>\n",
       "    </tr>\n",
       "    <tr>\n",
       "      <th>localizacion_desc</th>\n",
       "      <th></th>\n",
       "      <th></th>\n",
       "      <th></th>\n",
       "      <th></th>\n",
       "      <th></th>\n",
       "      <th></th>\n",
       "    </tr>\n",
       "  </thead>\n",
       "  <tbody>\n",
       "    <tr>\n",
       "      <th>Amazonas</th>\n",
       "      <td>8.579615e+08</td>\n",
       "      <td>2017.966184</td>\n",
       "      <td>1.281903e+10</td>\n",
       "      <td>1.460388e+09</td>\n",
       "      <td>318.637681</td>\n",
       "      <td>2017.966184</td>\n",
       "    </tr>\n",
       "    <tr>\n",
       "      <th>Antioquia</th>\n",
       "      <td>1.144091e+09</td>\n",
       "      <td>2018.268361</td>\n",
       "      <td>7.131838e+11</td>\n",
       "      <td>2.553846e+08</td>\n",
       "      <td>365.757478</td>\n",
       "      <td>2017.635145</td>\n",
       "    </tr>\n",
       "    <tr>\n",
       "      <th>Arauca</th>\n",
       "      <td>8.195675e+08</td>\n",
       "      <td>2018.344262</td>\n",
       "      <td>2.225123e+09</td>\n",
       "      <td>9.018079e+07</td>\n",
       "      <td>310.942623</td>\n",
       "      <td>2018.344262</td>\n",
       "    </tr>\n",
       "    <tr>\n",
       "      <th>Atlántico</th>\n",
       "      <td>8.110527e+08</td>\n",
       "      <td>2018.706280</td>\n",
       "      <td>1.537315e+10</td>\n",
       "      <td>1.281494e+08</td>\n",
       "      <td>299.080193</td>\n",
       "      <td>2018.665700</td>\n",
       "    </tr>\n",
       "    <tr>\n",
       "      <th>Bolívar</th>\n",
       "      <td>5.481512e+09</td>\n",
       "      <td>2018.417303</td>\n",
       "      <td>1.964525e+10</td>\n",
       "      <td>2.075858e+08</td>\n",
       "      <td>364.732824</td>\n",
       "      <td>2018.417303</td>\n",
       "    </tr>\n",
       "    <tr>\n",
       "      <th>Boyacá</th>\n",
       "      <td>2.512420e+09</td>\n",
       "      <td>2018.674584</td>\n",
       "      <td>3.335524e+10</td>\n",
       "      <td>1.861081e+09</td>\n",
       "      <td>186.467933</td>\n",
       "      <td>2018.570071</td>\n",
       "    </tr>\n",
       "    <tr>\n",
       "      <th>Caldas</th>\n",
       "      <td>1.221252e+09</td>\n",
       "      <td>2018.927835</td>\n",
       "      <td>8.473917e+10</td>\n",
       "      <td>4.637851e+08</td>\n",
       "      <td>354.796760</td>\n",
       "      <td>2018.223859</td>\n",
       "    </tr>\n",
       "    <tr>\n",
       "      <th>Caquetá</th>\n",
       "      <td>8.031710e+08</td>\n",
       "      <td>2018.051948</td>\n",
       "      <td>5.880739e+09</td>\n",
       "      <td>2.829226e+07</td>\n",
       "      <td>294.951299</td>\n",
       "      <td>2018.048701</td>\n",
       "    </tr>\n",
       "    <tr>\n",
       "      <th>Casanare</th>\n",
       "      <td>8.692363e+08</td>\n",
       "      <td>2018.784810</td>\n",
       "      <td>2.519109e+11</td>\n",
       "      <td>3.248032e+07</td>\n",
       "      <td>297.409091</td>\n",
       "      <td>2018.677215</td>\n",
       "    </tr>\n",
       "    <tr>\n",
       "      <th>Cauca</th>\n",
       "      <td>8.544894e+08</td>\n",
       "      <td>2018.586854</td>\n",
       "      <td>4.807114e+10</td>\n",
       "      <td>7.384409e+09</td>\n",
       "      <td>271.248826</td>\n",
       "      <td>2018.586854</td>\n",
       "    </tr>\n",
       "  </tbody>\n",
       "</table>\n",
       "</div>"
      ],
      "text/plain": [
       "                            nit         year   ppto_global   precio_base  \\\n",
       "localizacion_desc                                                          \n",
       "Amazonas           8.579615e+08  2017.966184  1.281903e+10  1.460388e+09   \n",
       "Antioquia          1.144091e+09  2018.268361  7.131838e+11  2.553846e+08   \n",
       "Arauca             8.195675e+08  2018.344262  2.225123e+09  9.018079e+07   \n",
       "Atlántico          8.110527e+08  2018.706280  1.537315e+10  1.281494e+08   \n",
       "Bolívar            5.481512e+09  2018.417303  1.964525e+10  2.075858e+08   \n",
       "Boyacá             2.512420e+09  2018.674584  3.335524e+10  1.861081e+09   \n",
       "Caldas             1.221252e+09  2018.927835  8.473917e+10  4.637851e+08   \n",
       "Caquetá            8.031710e+08  2018.051948  5.880739e+09  2.829226e+07   \n",
       "Casanare           8.692363e+08  2018.784810  2.519109e+11  3.248032e+07   \n",
       "Cauca              8.544894e+08  2018.586854  4.807114e+10  7.384409e+09   \n",
       "\n",
       "                   diff_dates  year_publised  \n",
       "localizacion_desc                             \n",
       "Amazonas           318.637681    2017.966184  \n",
       "Antioquia          365.757478    2017.635145  \n",
       "Arauca             310.942623    2018.344262  \n",
       "Atlántico          299.080193    2018.665700  \n",
       "Bolívar            364.732824    2018.417303  \n",
       "Boyacá             186.467933    2018.570071  \n",
       "Caldas             354.796760    2018.223859  \n",
       "Caquetá            294.951299    2018.048701  \n",
       "Casanare           297.409091    2018.677215  \n",
       "Cauca              271.248826    2018.586854  "
      ]
     },
     "execution_count": 10,
     "metadata": {},
     "output_type": "execute_result"
    }
   ],
   "source": [
    "#depto=df.groupby(\"localizacion_desc\")[\"precio_base\"].count()\n",
    "depto=df.sort_values(['precio_base'], ascending=True).groupby(\"localizacion_desc\").mean()\n",
    "#depto=df.groupby([\"localizacion_desc\"])[\"precio_base\"].count()\n",
    "depto.head(10)"
   ]
  },
  {
   "cell_type": "code",
   "execution_count": null,
   "metadata": {},
   "outputs": [],
   "source": []
  },
  {
   "cell_type": "code",
   "execution_count": null,
   "metadata": {},
   "outputs": [],
   "source": []
  },
  {
   "cell_type": "code",
   "execution_count": null,
   "metadata": {},
   "outputs": [],
   "source": []
  },
  {
   "cell_type": "code",
   "execution_count": null,
   "metadata": {},
   "outputs": [],
   "source": []
  },
  {
   "cell_type": "markdown",
   "metadata": {},
   "source": [
    "## K modes"
   ]
  },
  {
   "cell_type": "code",
   "execution_count": 11,
   "metadata": {},
   "outputs": [],
   "source": [
    "# supress warnings\n",
    "import warnings\n",
    "warnings.filterwarnings('ignore')\n",
    "\n",
    "# Data viz lib\n",
    "import matplotlib.pyplot as plt\n",
    "import seaborn as sns\n",
    "%matplotlib inline\n",
    "from matplotlib.pyplot import xticks"
   ]
  },
  {
   "cell_type": "code",
   "execution_count": 12,
   "metadata": {},
   "outputs": [
    {
     "data": {
      "text/html": [
       "<div>\n",
       "<style scoped>\n",
       "    .dataframe tbody tr th:only-of-type {\n",
       "        vertical-align: middle;\n",
       "    }\n",
       "\n",
       "    .dataframe tbody tr th {\n",
       "        vertical-align: top;\n",
       "    }\n",
       "\n",
       "    .dataframe thead th {\n",
       "        text-align: right;\n",
       "    }\n",
       "</style>\n",
       "<table border=\"1\" class=\"dataframe\">\n",
       "  <thead>\n",
       "    <tr style=\"text-align: right;\">\n",
       "      <th></th>\n",
       "      <th>entidad_matriz</th>\n",
       "      <th>localizacion_desc</th>\n",
       "      <th>mes_proyectado</th>\n",
       "      <th>modalidad</th>\n",
       "      <th>nombre_producto</th>\n",
       "      <th>nombre_clase</th>\n",
       "      <th>nombre_familia</th>\n",
       "    </tr>\n",
       "  </thead>\n",
       "  <tbody>\n",
       "    <tr>\n",
       "      <th>22</th>\n",
       "      <td>ALCALDIA MUNICIPAL DE MURILLO</td>\n",
       "      <td>Tolima</td>\n",
       "      <td>Enero</td>\n",
       "      <td>CCE-16-Servicios_profesionales_gestion</td>\n",
       "      <td>Servicios temporales de recursos humanos</td>\n",
       "      <td>Servicios de personal temporal</td>\n",
       "      <td>Servicios de recursos humanos</td>\n",
       "    </tr>\n",
       "    <tr>\n",
       "      <th>41</th>\n",
       "      <td>MUNICIPIO DE TAURAMENA</td>\n",
       "      <td>Casanare</td>\n",
       "      <td>Julio</td>\n",
       "      <td>CCE-06-Seleccion_Abreviada_Menor_Cuantia</td>\n",
       "      <td>Servicios de bienestar social</td>\n",
       "      <td>Desarrollo y servicios sociales</td>\n",
       "      <td>Servicios comunitarios y sociales</td>\n",
       "    </tr>\n",
       "    <tr>\n",
       "      <th>75</th>\n",
       "      <td>BOMBEROS DE BUCARAMANGA</td>\n",
       "      <td>Santander</td>\n",
       "      <td>Enero</td>\n",
       "      <td>CCE-16-Servicios_profesionales_gestion</td>\n",
       "      <td>Desarrollo de recursos humanos</td>\n",
       "      <td>Servicios de recursos humanos</td>\n",
       "      <td>Servicios de Gestión, Servicios Profesionales ...</td>\n",
       "    </tr>\n",
       "    <tr>\n",
       "      <th>76</th>\n",
       "      <td>BOMBEROS DE BUCARAMANGA</td>\n",
       "      <td>Santander</td>\n",
       "      <td>Enero</td>\n",
       "      <td>CCE-16-Servicios_profesionales_gestion</td>\n",
       "      <td>Servicios de personal temporal</td>\n",
       "      <td>Servicios de recursos humanos</td>\n",
       "      <td>Servicios de Gestión, Servicios Profesionales ...</td>\n",
       "    </tr>\n",
       "    <tr>\n",
       "      <th>77</th>\n",
       "      <td>BOMBEROS DE BUCARAMANGA</td>\n",
       "      <td>Santander</td>\n",
       "      <td>Enero</td>\n",
       "      <td>CCE-16-Servicios_profesionales_gestion</td>\n",
       "      <td>Servicios de personal temporal</td>\n",
       "      <td>Servicios de recursos humanos</td>\n",
       "      <td>Servicios de Gestión, Servicios Profesionales ...</td>\n",
       "    </tr>\n",
       "  </tbody>\n",
       "</table>\n",
       "</div>"
      ],
      "text/plain": [
       "                   entidad_matriz localizacion_desc mes_proyectado  \\\n",
       "22  ALCALDIA MUNICIPAL DE MURILLO            Tolima          Enero   \n",
       "41         MUNICIPIO DE TAURAMENA          Casanare          Julio   \n",
       "75        BOMBEROS DE BUCARAMANGA         Santander          Enero   \n",
       "76        BOMBEROS DE BUCARAMANGA         Santander          Enero   \n",
       "77        BOMBEROS DE BUCARAMANGA         Santander          Enero   \n",
       "\n",
       "                                   modalidad  \\\n",
       "22    CCE-16-Servicios_profesionales_gestion   \n",
       "41  CCE-06-Seleccion_Abreviada_Menor_Cuantia   \n",
       "75    CCE-16-Servicios_profesionales_gestion   \n",
       "76    CCE-16-Servicios_profesionales_gestion   \n",
       "77    CCE-16-Servicios_profesionales_gestion   \n",
       "\n",
       "                             nombre_producto                     nombre_clase  \\\n",
       "22  Servicios temporales de recursos humanos   Servicios de personal temporal   \n",
       "41             Servicios de bienestar social  Desarrollo y servicios sociales   \n",
       "75            Desarrollo de recursos humanos    Servicios de recursos humanos   \n",
       "76            Servicios de personal temporal    Servicios de recursos humanos   \n",
       "77            Servicios de personal temporal    Servicios de recursos humanos   \n",
       "\n",
       "                                       nombre_familia  \n",
       "22                      Servicios de recursos humanos  \n",
       "41                  Servicios comunitarios y sociales  \n",
       "75  Servicios de Gestión, Servicios Profesionales ...  \n",
       "76  Servicios de Gestión, Servicios Profesionales ...  \n",
       "77  Servicios de Gestión, Servicios Profesionales ...  "
      ]
     },
     "execution_count": 12,
     "metadata": {},
     "output_type": "execute_result"
    }
   ],
   "source": [
    "df_cat=df[['entidad_matriz', 'localizacion_desc','mes_proyectado','modalidad','nombre_producto','nombre_clase','nombre_familia']]\n",
    "df_cat.head()"
   ]
  },
  {
   "cell_type": "code",
   "execution_count": 13,
   "metadata": {},
   "outputs": [
    {
     "data": {
      "text/plain": [
       "(349671, 7)"
      ]
     },
     "execution_count": 13,
     "metadata": {},
     "output_type": "execute_result"
    }
   ],
   "source": [
    "df_cat.shape"
   ]
  },
  {
   "cell_type": "code",
   "execution_count": 14,
   "metadata": {},
   "outputs": [
    {
     "name": "stdout",
     "output_type": "stream",
     "text": [
      "<class 'pandas.core.frame.DataFrame'>\n",
      "Int64Index: 349671 entries, 22 to 863968\n",
      "Data columns (total 7 columns):\n",
      " #   Column             Non-Null Count   Dtype \n",
      "---  ------             --------------   ----- \n",
      " 0   entidad_matriz     349671 non-null  object\n",
      " 1   localizacion_desc  349671 non-null  object\n",
      " 2   mes_proyectado     349671 non-null  object\n",
      " 3   modalidad          349671 non-null  object\n",
      " 4   nombre_producto    349671 non-null  object\n",
      " 5   nombre_clase       349671 non-null  object\n",
      " 6   nombre_familia     349671 non-null  object\n",
      "dtypes: object(7)\n",
      "memory usage: 21.3+ MB\n"
     ]
    }
   ],
   "source": [
    "df_cat.info()"
   ]
  },
  {
   "cell_type": "code",
   "execution_count": 15,
   "metadata": {},
   "outputs": [
    {
     "data": {
      "text/plain": [
       "entidad_matriz       0.0\n",
       "localizacion_desc    0.0\n",
       "mes_proyectado       0.0\n",
       "modalidad            0.0\n",
       "nombre_producto      0.0\n",
       "nombre_clase         0.0\n",
       "nombre_familia       0.0\n",
       "dtype: float64"
      ]
     },
     "execution_count": 15,
     "metadata": {},
     "output_type": "execute_result"
    }
   ],
   "source": [
    "# Checking Null values\n",
    "df_cat.isnull().sum()*100/df_cat.shape[0]\n",
    "# There are no NULL values in the dataset, hence it is clean."
   ]
  },
  {
   "cell_type": "markdown",
   "metadata": {},
   "source": [
    "**Model Building**"
   ]
  },
  {
   "cell_type": "code",
   "execution_count": 16,
   "metadata": {},
   "outputs": [],
   "source": [
    "# First we will keep a copy of data\n",
    "df_cat_copy = df_cat.copy()"
   ]
  },
  {
   "cell_type": "code",
   "execution_count": 26,
   "metadata": {},
   "outputs": [
    {
     "data": {
      "text/html": [
       "<div>\n",
       "<style scoped>\n",
       "    .dataframe tbody tr th:only-of-type {\n",
       "        vertical-align: middle;\n",
       "    }\n",
       "\n",
       "    .dataframe tbody tr th {\n",
       "        vertical-align: top;\n",
       "    }\n",
       "\n",
       "    .dataframe thead th {\n",
       "        text-align: right;\n",
       "    }\n",
       "</style>\n",
       "<table border=\"1\" class=\"dataframe\">\n",
       "  <thead>\n",
       "    <tr style=\"text-align: right;\">\n",
       "      <th></th>\n",
       "      <th>entidad_matriz</th>\n",
       "      <th>localizacion_desc</th>\n",
       "      <th>mes_proyectado</th>\n",
       "      <th>modalidad</th>\n",
       "      <th>nombre_producto</th>\n",
       "      <th>nombre_clase</th>\n",
       "      <th>nombre_familia</th>\n",
       "    </tr>\n",
       "  </thead>\n",
       "  <tbody>\n",
       "    <tr>\n",
       "      <th>22</th>\n",
       "      <td>29</td>\n",
       "      <td>30</td>\n",
       "      <td>3</td>\n",
       "      <td>3</td>\n",
       "      <td>2545</td>\n",
       "      <td>961</td>\n",
       "      <td>298</td>\n",
       "    </tr>\n",
       "    <tr>\n",
       "      <th>41</th>\n",
       "      <td>448</td>\n",
       "      <td>8</td>\n",
       "      <td>5</td>\n",
       "      <td>2</td>\n",
       "      <td>2025</td>\n",
       "      <td>229</td>\n",
       "      <td>262</td>\n",
       "    </tr>\n",
       "    <tr>\n",
       "      <th>75</th>\n",
       "      <td>81</td>\n",
       "      <td>28</td>\n",
       "      <td>3</td>\n",
       "      <td>3</td>\n",
       "      <td>606</td>\n",
       "      <td>974</td>\n",
       "      <td>266</td>\n",
       "    </tr>\n",
       "    <tr>\n",
       "      <th>76</th>\n",
       "      <td>81</td>\n",
       "      <td>28</td>\n",
       "      <td>3</td>\n",
       "      <td>3</td>\n",
       "      <td>2326</td>\n",
       "      <td>974</td>\n",
       "      <td>266</td>\n",
       "    </tr>\n",
       "    <tr>\n",
       "      <th>77</th>\n",
       "      <td>81</td>\n",
       "      <td>28</td>\n",
       "      <td>3</td>\n",
       "      <td>3</td>\n",
       "      <td>2326</td>\n",
       "      <td>974</td>\n",
       "      <td>266</td>\n",
       "    </tr>\n",
       "  </tbody>\n",
       "</table>\n",
       "</div>"
      ],
      "text/plain": [
       "    entidad_matriz  localizacion_desc  mes_proyectado  modalidad  \\\n",
       "22              29                 30               3          3   \n",
       "41             448                  8               5          2   \n",
       "75              81                 28               3          3   \n",
       "76              81                 28               3          3   \n",
       "77              81                 28               3          3   \n",
       "\n",
       "    nombre_producto  nombre_clase  nombre_familia  \n",
       "22             2545           961             298  \n",
       "41             2025           229             262  \n",
       "75              606           974             266  \n",
       "76             2326           974             266  \n",
       "77             2326           974             266  "
      ]
     },
     "execution_count": 26,
     "metadata": {},
     "output_type": "execute_result"
    }
   ],
   "source": [
    "from sklearn import preprocessing\n",
    "le = preprocessing.LabelEncoder()\n",
    "df_cat = df_cat.apply(le.fit_transform)\n",
    "df_cat.head()"
   ]
  },
  {
   "cell_type": "code",
   "execution_count": 39,
   "metadata": {},
   "outputs": [
    {
     "name": "stdout",
     "output_type": "stream",
     "text": [
      "Collecting kmodes\n",
      "  Downloading kmodes-0.11.0-py2.py3-none-any.whl (18 kB)\n",
      "Requirement already satisfied: numpy>=1.10.4 in c:\\users\\david\\anaconda3\\lib\\site-packages (from kmodes) (1.19.2)\n",
      "Requirement already satisfied: joblib>=0.11 in c:\\users\\david\\anaconda3\\lib\\site-packages (from kmodes) (0.17.0)\n",
      "Requirement already satisfied: scikit-learn>=0.22.0 in c:\\users\\david\\anaconda3\\lib\\site-packages (from kmodes) (0.23.2)\n",
      "Requirement already satisfied: scipy>=0.13.3 in c:\\users\\david\\anaconda3\\lib\\site-packages (from kmodes) (1.5.2)\n",
      "Requirement already satisfied: threadpoolctl>=2.0.0 in c:\\users\\david\\anaconda3\\lib\\site-packages (from scikit-learn>=0.22.0->kmodes) (2.1.0)\n",
      "Installing collected packages: kmodes\n",
      "Successfully installed kmodes-0.11.0\n"
     ]
    }
   ],
   "source": [
    "!pip install kmodes"
   ]
  },
  {
   "cell_type": "code",
   "execution_count": 17,
   "metadata": {},
   "outputs": [],
   "source": [
    "# Importing Libraries\n",
    "from kmodes.kmodes import KModes"
   ]
  },
  {
   "cell_type": "markdown",
   "metadata": {},
   "source": [
    "### Using K-Mode with \"Cao\" initialization"
   ]
  },
  {
   "cell_type": "code",
   "execution_count": 18,
   "metadata": {},
   "outputs": [
    {
     "name": "stdout",
     "output_type": "stream",
     "text": [
      "Init: initializing centroids\n",
      "Init: initializing clusters\n",
      "Starting iterations...\n",
      "Run 1, iteration: 1/100, moves: 0, cost: 1120228.0\n"
     ]
    }
   ],
   "source": [
    "km_cao = KModes(n_clusters=2, init = \"Cao\", n_init = 1, verbose=1)\n",
    "fitClusters_cao = km_cao.fit_predict(df_cat)"
   ]
  },
  {
   "cell_type": "code",
   "execution_count": 19,
   "metadata": {},
   "outputs": [
    {
     "data": {
      "text/plain": [
       "array([0, 1, 0, ..., 0, 0, 1], dtype=uint16)"
      ]
     },
     "execution_count": 19,
     "metadata": {},
     "output_type": "execute_result"
    }
   ],
   "source": [
    "# Predicted Clusters\n",
    "fitClusters_cao"
   ]
  },
  {
   "cell_type": "code",
   "execution_count": 20,
   "metadata": {},
   "outputs": [],
   "source": [
    "clusterCentroidsDf = pd.DataFrame(km_cao.cluster_centroids_)\n",
    "clusterCentroidsDf.columns = df_cat.columns"
   ]
  },
  {
   "cell_type": "code",
   "execution_count": 25,
   "metadata": {},
   "outputs": [
    {
     "data": {
      "text/html": [
       "<div>\n",
       "<style scoped>\n",
       "    .dataframe tbody tr th:only-of-type {\n",
       "        vertical-align: middle;\n",
       "    }\n",
       "\n",
       "    .dataframe tbody tr th {\n",
       "        vertical-align: top;\n",
       "    }\n",
       "\n",
       "    .dataframe thead th {\n",
       "        text-align: right;\n",
       "    }\n",
       "</style>\n",
       "<table border=\"1\" class=\"dataframe\">\n",
       "  <thead>\n",
       "    <tr style=\"text-align: right;\">\n",
       "      <th></th>\n",
       "      <th>entidad_matriz</th>\n",
       "      <th>localizacion_desc</th>\n",
       "      <th>mes_proyectado</th>\n",
       "      <th>modalidad</th>\n",
       "      <th>nombre_producto</th>\n",
       "      <th>nombre_clase</th>\n",
       "      <th>nombre_familia</th>\n",
       "    </tr>\n",
       "  </thead>\n",
       "  <tbody>\n",
       "    <tr>\n",
       "      <th>0</th>\n",
       "      <td>INSTITUTO NACIONAL DE VIAS</td>\n",
       "      <td>Distrito Capital de Bogotá</td>\n",
       "      <td>Enero</td>\n",
       "      <td>CCE-16-Servicios_profesionales_gestion</td>\n",
       "      <td>Servicios de apoyo gerencial</td>\n",
       "      <td>Servicios de administración de empresas</td>\n",
       "      <td>Servicios de Gestión, Servicios Profesionales ...</td>\n",
       "    </tr>\n",
       "    <tr>\n",
       "      <th>1</th>\n",
       "      <td>INSTITUTO NACIONAL DE VIAS</td>\n",
       "      <td>Distrito Capital de Bogotá</td>\n",
       "      <td>Febrero</td>\n",
       "      <td>CCE-06-Seleccion_Abreviada_Menor_Cuantia</td>\n",
       "      <td>Servicios de construcción de autopistas y carr...</td>\n",
       "      <td>Servicios de construcción pesada</td>\n",
       "      <td>Servicios de Edificación, Construcción de Inst...</td>\n",
       "    </tr>\n",
       "  </tbody>\n",
       "</table>\n",
       "</div>"
      ],
      "text/plain": [
       "               entidad_matriz           localizacion_desc mes_proyectado  \\\n",
       "0  INSTITUTO NACIONAL DE VIAS  Distrito Capital de Bogotá          Enero   \n",
       "1  INSTITUTO NACIONAL DE VIAS  Distrito Capital de Bogotá        Febrero   \n",
       "\n",
       "                                  modalidad  \\\n",
       "0    CCE-16-Servicios_profesionales_gestion   \n",
       "1  CCE-06-Seleccion_Abreviada_Menor_Cuantia   \n",
       "\n",
       "                                     nombre_producto  \\\n",
       "0                       Servicios de apoyo gerencial   \n",
       "1  Servicios de construcción de autopistas y carr...   \n",
       "\n",
       "                              nombre_clase  \\\n",
       "0  Servicios de administración de empresas   \n",
       "1         Servicios de construcción pesada   \n",
       "\n",
       "                                      nombre_familia  \n",
       "0  Servicios de Gestión, Servicios Profesionales ...  \n",
       "1  Servicios de Edificación, Construcción de Inst...  "
      ]
     },
     "execution_count": 25,
     "metadata": {},
     "output_type": "execute_result"
    }
   ],
   "source": [
    "# Mode of the clusters\n",
    "clusterCentroidsDf"
   ]
  },
  {
   "cell_type": "code",
   "execution_count": null,
   "metadata": {},
   "outputs": [],
   "source": []
  },
  {
   "cell_type": "markdown",
   "metadata": {},
   "source": [
    "**Graficos de cluster**"
   ]
  },
  {
   "cell_type": "code",
   "execution_count": 23,
   "metadata": {},
   "outputs": [],
   "source": [
    "# define and map colors\n",
    "#colors = ['#DF2020', '#81DF20', '#2095DF']\n",
    "colors = ['#DF2020', '#81DF20']"
   ]
  },
  {
   "cell_type": "code",
   "execution_count": 24,
   "metadata": {},
   "outputs": [
    {
     "data": {
      "text/plain": [
       "<matplotlib.collections.PathCollection at 0x14dbf3d7760>"
      ]
     },
     "execution_count": 24,
     "metadata": {},
     "output_type": "execute_result"
    },
    {
     "data": {
      "image/png": "[encoded data removed]",
      "text/plain": [
       "<Figure size 432x288 with 1 Axes>"
      ]
     },
     "metadata": {
      "needs_background": "light"
     },
     "output_type": "display_data"
    }
   ],
   "source": [
    "plt.scatter(df_cat['localizacion_desc'], df_cat['nombre_familia'], color=None,  alpha = 0.6, s=10)"
   ]
  },
  {
   "cell_type": "code",
   "execution_count": null,
   "metadata": {},
   "outputs": [],
   "source": []
  },
  {
   "cell_type": "markdown",
   "metadata": {},
   "source": [
    "### Using K-Mode with \"Huang\" initialization"
   ]
  },
  {
   "cell_type": "code",
   "execution_count": 25,
   "metadata": {},
   "outputs": [
    {
     "name": "stdout",
     "output_type": "stream",
     "text": [
      "Init: initializing centroids\n",
      "Init: initializing clusters\n",
      "Starting iterations...\n",
      "Run 1, iteration: 1/100, moves: 84061, cost: 1120228.0\n",
      "Run 1, iteration: 2/100, moves: 9662, cost: 1120228.0\n"
     ]
    }
   ],
   "source": [
    "km_huang = KModes(n_clusters=2, init = \"Huang\", n_init = 1, verbose=1)\n",
    "fitClusters_huang = km_huang.fit_predict(df_cat)"
   ]
  },
  {
   "cell_type": "code",
   "execution_count": 26,
   "metadata": {},
   "outputs": [
    {
     "data": {
      "text/plain": [
       "array([0, 1, 0, ..., 0, 0, 1], dtype=uint16)"
      ]
     },
     "execution_count": 26,
     "metadata": {},
     "output_type": "execute_result"
    }
   ],
   "source": [
    "# Predicted clusters\n",
    "fitClusters_huang"
   ]
  },
  {
   "cell_type": "markdown",
   "metadata": {},
   "source": [
    "**Choosing K by comparing Cost against each K**"
   ]
  },
  {
   "cell_type": "code",
   "execution_count": 63,
   "metadata": {},
   "outputs": [
    {
     "name": "stdout",
     "output_type": "stream",
     "text": [
      "Init: initializing centroids\n",
      "Init: initializing clusters\n",
      "Starting iterations...\n",
      "Run 1, iteration: 1/100, moves: 0, cost: 1749708.0\n",
      "Init: initializing centroids\n",
      "Init: initializing clusters\n",
      "Starting iterations...\n",
      "Run 1, iteration: 1/100, moves: 0, cost: 1469897.0\n",
      "Init: initializing centroids\n",
      "Init: initializing clusters\n",
      "Starting iterations...\n",
      "Run 1, iteration: 1/100, moves: 13239, cost: 1392160.0\n",
      "Init: initializing centroids\n",
      "Init: initializing clusters\n",
      "Starting iterations...\n",
      "Run 1, iteration: 1/100, moves: 13000, cost: 1373567.0\n",
      "Init: initializing centroids\n",
      "Init: initializing clusters\n",
      "Starting iterations...\n",
      "Run 1, iteration: 1/100, moves: 12865, cost: 1309230.0\n",
      "Init: initializing centroids\n",
      "Init: initializing clusters\n",
      "Starting iterations...\n",
      "Run 1, iteration: 1/100, moves: 24762, cost: 1232762.0\n",
      "Run 1, iteration: 2/100, moves: 0, cost: 1232762.0\n",
      "Init: initializing centroids\n",
      "Init: initializing clusters\n",
      "Starting iterations...\n",
      "Run 1, iteration: 1/100, moves: 24727, cost: 1230363.0\n",
      "Run 1, iteration: 2/100, moves: 0, cost: 1230363.0\n",
      "Init: initializing centroids\n",
      "Init: initializing clusters\n",
      "Starting iterations...\n",
      "Run 1, iteration: 1/100, moves: 35313, cost: 1184865.0\n",
      "Run 1, iteration: 2/100, moves: 0, cost: 1184865.0\n",
      "Init: initializing centroids\n",
      "Init: initializing clusters\n",
      "Starting iterations...\n",
      "Run 1, iteration: 1/100, moves: 32182, cost: 1139301.0\n",
      "Run 1, iteration: 2/100, moves: 100, cost: 1139301.0\n"
     ]
    }
   ],
   "source": [
    "cost = []\n",
    "for num_clusters in list(range(1,10)):\n",
    "    kmode = KModes(n_clusters=num_clusters, init = \"Cao\", n_init = 1, verbose=1)\n",
    "    kmode.fit_predict(df_cat)\n",
    "    cost.append(kmode.cost_)"
   ]
  },
  {
   "cell_type": "code",
   "execution_count": 64,
   "metadata": {},
   "outputs": [
    {
     "data": {
      "text/plain": [
       "[<matplotlib.lines.Line2D at 0x1e032fdb910>]"
      ]
     },
     "execution_count": 64,
     "metadata": {},
     "output_type": "execute_result"
    },
    {
     "data": {
      "image/png": "[encoded data removed]",
      "text/plain": [
       "<Figure size 432x288 with 1 Axes>"
      ]
     },
     "metadata": {
      "needs_background": "light"
     },
     "output_type": "display_data"
    }
   ],
   "source": [
    "y = np.array([i for i in range(1,10,1)])\n",
    "plt.plot(y,cost)"
   ]
  },
  {
   "cell_type": "markdown",
   "metadata": {},
   "source": [
    "Al buscar un cambio de pendiente de empinada a poca profundidad (elbow), para determinar el número óptimo de clústeres, encontramos el primero en $K=2$, el segundo en $k=3$ y el tercero en $k=6$. Con el objetivo de optimizar el tiempo de procesamiento, seleccionamos $k=3$. "
   ]
  },
  {
   "cell_type": "markdown",
   "metadata": {},
   "source": [
    "## Silhouette method"
   ]
  },
  {
   "cell_type": "markdown",
   "metadata": {},
   "source": [
    "The Silhouette coefficient of **+1** indicates that the sample is far away from the neighboring clusters.\n",
    "\n",
    "The Silhouette coefficient of **0** indicates that the sample is on or very close to the decision boundary between two neighboring clusters.\n",
    "\n",
    "Silhouette coefficient **<0** indicates that those samples might have been assigned to the wrong cluster or are outliers."
   ]
  },
  {
   "cell_type": "code",
   "execution_count": 41,
   "metadata": {},
   "outputs": [
    {
     "name": "stdout",
     "output_type": "stream",
     "text": [
      "Collecting yellowbrick\n",
      "  Downloading yellowbrick-1.3.post1-py3-none-any.whl (271 kB)\n",
      "Requirement already satisfied: matplotlib!=3.0.0,>=2.0.2 in c:\\users\\david\\anaconda3\\lib\\site-packages (from yellowbrick) (3.3.2)\n",
      "Requirement already satisfied: cycler>=0.10.0 in c:\\users\\david\\anaconda3\\lib\\site-packages (from yellowbrick) (0.10.0)\n",
      "Requirement already satisfied: numpy<1.20,>=1.16.0 in c:\\users\\david\\anaconda3\\lib\\site-packages (from yellowbrick) (1.19.2)\n",
      "Requirement already satisfied: scikit-learn>=0.20 in c:\\users\\david\\anaconda3\\lib\\site-packages (from yellowbrick) (0.23.2)\n",
      "Requirement already satisfied: scipy>=1.0.0 in c:\\users\\david\\anaconda3\\lib\\site-packages (from yellowbrick) (1.5.2)\n",
      "Requirement already satisfied: kiwisolver>=1.0.1 in c:\\users\\david\\anaconda3\\lib\\site-packages (from matplotlib!=3.0.0,>=2.0.2->yellowbrick) (1.3.0)\n",
      "Requirement already satisfied: pyparsing!=2.0.4,!=2.1.2,!=2.1.6,>=2.0.3 in c:\\users\\david\\anaconda3\\lib\\site-packages (from matplotlib!=3.0.0,>=2.0.2->yellowbrick) (2.4.7)\n",
      "Requirement already satisfied: python-dateutil>=2.1 in c:\\users\\david\\anaconda3\\lib\\site-packages (from matplotlib!=3.0.0,>=2.0.2->yellowbrick) (2.8.1)\n",
      "Requirement already satisfied: pillow>=6.2.0 in c:\\users\\david\\anaconda3\\lib\\site-packages (from matplotlib!=3.0.0,>=2.0.2->yellowbrick) (8.0.1)\n",
      "Requirement already satisfied: certifi>=2020.06.20 in c:\\users\\david\\anaconda3\\lib\\site-packages (from matplotlib!=3.0.0,>=2.0.2->yellowbrick) (2020.6.20)\n",
      "Requirement already satisfied: six in c:\\users\\david\\anaconda3\\lib\\site-packages (from cycler>=0.10.0->yellowbrick) (1.15.0)\n",
      "Requirement already satisfied: joblib>=0.11 in c:\\users\\david\\anaconda3\\lib\\site-packages (from scikit-learn>=0.20->yellowbrick) (0.17.0)\n",
      "Requirement already satisfied: threadpoolctl>=2.0.0 in c:\\users\\david\\anaconda3\\lib\\site-packages (from scikit-learn>=0.20->yellowbrick) (2.1.0)\n",
      "Installing collected packages: yellowbrick\n",
      "Successfully installed yellowbrick-1.3.post1\n"
     ]
    }
   ],
   "source": [
    "! pip install yellowbrick"
   ]
  },
  {
   "cell_type": "code",
   "execution_count": 22,
   "metadata": {},
   "outputs": [],
   "source": [
    "# Silhouette Score for K modes\n",
    "# Import ElbowVisualizer\n",
    "from yellowbrick.cluster import KElbowVisualizer"
   ]
  },
  {
   "cell_type": "code",
   "execution_count": 28,
   "metadata": {},
   "outputs": [
    {
     "ename": "ValueError",
     "evalue": "x and y arrays must have at least 2 entries",
     "output_type": "error",
     "traceback": [
      "\u001b[1;31m---------------------------------------------------------------------------\u001b[0m",
      "\u001b[1;31mValueError\u001b[0m                                Traceback (most recent call last)",
      "\u001b[1;32m<ipython-input-28-791424dc4504>\u001b[0m in \u001b[0;36m<module>\u001b[1;34m\u001b[0m\n\u001b[0;32m      2\u001b[0m \u001b[1;31m# k is range of number of clusters.\u001b[0m\u001b[1;33m\u001b[0m\u001b[1;33m\u001b[0m\u001b[1;33m\u001b[0m\u001b[0m\n\u001b[0;32m      3\u001b[0m \u001b[0mvisualizer\u001b[0m \u001b[1;33m=\u001b[0m \u001b[0mKElbowVisualizer\u001b[0m\u001b[1;33m(\u001b[0m\u001b[0mmodel\u001b[0m\u001b[1;33m,\u001b[0m \u001b[0mk\u001b[0m\u001b[1;33m=\u001b[0m\u001b[1;33m(\u001b[0m\u001b[1;36m2\u001b[0m\u001b[1;33m,\u001b[0m\u001b[1;36m3\u001b[0m\u001b[1;33m)\u001b[0m\u001b[1;33m,\u001b[0m\u001b[0mmetric\u001b[0m\u001b[1;33m=\u001b[0m\u001b[1;34m'silhouette'\u001b[0m\u001b[1;33m,\u001b[0m \u001b[0mtimings\u001b[0m\u001b[1;33m=\u001b[0m \u001b[1;32mTrue\u001b[0m\u001b[1;33m)\u001b[0m\u001b[1;33m\u001b[0m\u001b[1;33m\u001b[0m\u001b[0m\n\u001b[1;32m----> 4\u001b[1;33m \u001b[0mvisualizer\u001b[0m\u001b[1;33m.\u001b[0m\u001b[0mfit\u001b[0m\u001b[1;33m(\u001b[0m\u001b[0mdf_cat\u001b[0m\u001b[1;33m)\u001b[0m        \u001b[1;31m# Fit the data to the visualizer\u001b[0m\u001b[1;33m\u001b[0m\u001b[1;33m\u001b[0m\u001b[0m\n\u001b[0m\u001b[0;32m      5\u001b[0m \u001b[0mvisualizer\u001b[0m\u001b[1;33m.\u001b[0m\u001b[0mshow\u001b[0m\u001b[1;33m(\u001b[0m\u001b[1;33m)\u001b[0m        \u001b[1;31m# Finalize and render the figure\u001b[0m\u001b[1;33m\u001b[0m\u001b[1;33m\u001b[0m\u001b[0m\n",
      "\u001b[1;32m~\\anaconda3\\lib\\site-packages\\yellowbrick\\cluster\\elbow.py\u001b[0m in \u001b[0;36mfit\u001b[1;34m(self, X, y, **kwargs)\u001b[0m\n\u001b[0;32m    331\u001b[0m                 },\n\u001b[0;32m    332\u001b[0m             }.get(self.metric, {})\n\u001b[1;32m--> 333\u001b[1;33m             elbow_locator = KneeLocator(\n\u001b[0m\u001b[0;32m    334\u001b[0m                 \u001b[0mself\u001b[0m\u001b[1;33m.\u001b[0m\u001b[0mk_values_\u001b[0m\u001b[1;33m,\u001b[0m \u001b[0mself\u001b[0m\u001b[1;33m.\u001b[0m\u001b[0mk_scores_\u001b[0m\u001b[1;33m,\u001b[0m \u001b[1;33m**\u001b[0m\u001b[0mlocator_kwargs\u001b[0m\u001b[1;33m\u001b[0m\u001b[1;33m\u001b[0m\u001b[0m\n\u001b[0;32m    335\u001b[0m             )\n",
      "\u001b[1;32m~\\anaconda3\\lib\\site-packages\\yellowbrick\\utils\\kneed.py\u001b[0m in \u001b[0;36m__init__\u001b[1;34m(self, x, y, S, curve_nature, curve_direction, online)\u001b[0m\n\u001b[0;32m    107\u001b[0m \u001b[1;33m\u001b[0m\u001b[0m\n\u001b[0;32m    108\u001b[0m         \u001b[1;31m# Step 1: fit a smooth line\u001b[0m\u001b[1;33m\u001b[0m\u001b[1;33m\u001b[0m\u001b[1;33m\u001b[0m\u001b[0m\n\u001b[1;32m--> 109\u001b[1;33m         \u001b[0muspline\u001b[0m \u001b[1;33m=\u001b[0m \u001b[0minterpolate\u001b[0m\u001b[1;33m.\u001b[0m\u001b[0minterp1d\u001b[0m\u001b[1;33m(\u001b[0m\u001b[0mself\u001b[0m\u001b[1;33m.\u001b[0m\u001b[0mx\u001b[0m\u001b[1;33m,\u001b[0m \u001b[0mself\u001b[0m\u001b[1;33m.\u001b[0m\u001b[0my\u001b[0m\u001b[1;33m)\u001b[0m\u001b[1;33m\u001b[0m\u001b[1;33m\u001b[0m\u001b[0m\n\u001b[0m\u001b[0;32m    110\u001b[0m         \u001b[0mself\u001b[0m\u001b[1;33m.\u001b[0m\u001b[0mDs_y\u001b[0m \u001b[1;33m=\u001b[0m \u001b[0muspline\u001b[0m\u001b[1;33m(\u001b[0m\u001b[0mself\u001b[0m\u001b[1;33m.\u001b[0m\u001b[0mx\u001b[0m\u001b[1;33m)\u001b[0m\u001b[1;33m\u001b[0m\u001b[1;33m\u001b[0m\u001b[0m\n\u001b[0;32m    111\u001b[0m \u001b[1;33m\u001b[0m\u001b[0m\n",
      "\u001b[1;32m~\\anaconda3\\lib\\site-packages\\scipy\\interpolate\\interpolate.py\u001b[0m in \u001b[0;36m__init__\u001b[1;34m(***failed resolving arguments***)\u001b[0m\n\u001b[0;32m    534\u001b[0m \u001b[1;33m\u001b[0m\u001b[0m\n\u001b[0;32m    535\u001b[0m         \u001b[1;32mif\u001b[0m \u001b[0mlen\u001b[0m\u001b[1;33m(\u001b[0m\u001b[0mself\u001b[0m\u001b[1;33m.\u001b[0m\u001b[0mx\u001b[0m\u001b[1;33m)\u001b[0m \u001b[1;33m<\u001b[0m \u001b[0mminval\u001b[0m\u001b[1;33m:\u001b[0m\u001b[1;33m\u001b[0m\u001b[1;33m\u001b[0m\u001b[0m\n\u001b[1;32m--> 536\u001b[1;33m             raise ValueError(\"x and y arrays must have at \"\n\u001b[0m\u001b[0;32m    537\u001b[0m                              \"least %d entries\" % minval)\n\u001b[0;32m    538\u001b[0m \u001b[1;33m\u001b[0m\u001b[0m\n",
      "\u001b[1;31mValueError\u001b[0m: x and y arrays must have at least 2 entries"
     ]
    }
   ],
   "source": [
    "model = KModes()\n",
    "# k is range of number of clusters.\n",
    "visualizer = KElbowVisualizer(model, k=(2,3),metric='silhouette', timings= True)\n",
    "visualizer.fit(df_cat)        # Fit the data to the visualizer\n",
    "visualizer.show()        # Finalize and render the figure"
   ]
  },
  {
   "cell_type": "code",
   "execution_count": 27,
   "metadata": {},
   "outputs": [
    {
     "data": {
      "text/html": [
       "<div>\n",
       "<style scoped>\n",
       "    .dataframe tbody tr th:only-of-type {\n",
       "        vertical-align: middle;\n",
       "    }\n",
       "\n",
       "    .dataframe tbody tr th {\n",
       "        vertical-align: top;\n",
       "    }\n",
       "\n",
       "    .dataframe thead th {\n",
       "        text-align: right;\n",
       "    }\n",
       "</style>\n",
       "<table border=\"1\" class=\"dataframe\">\n",
       "  <thead>\n",
       "    <tr style=\"text-align: right;\">\n",
       "      <th></th>\n",
       "      <th>entidad_matriz</th>\n",
       "      <th>localizacion_desc</th>\n",
       "      <th>mes_proyectado</th>\n",
       "      <th>modalidad</th>\n",
       "      <th>nombre_producto</th>\n",
       "      <th>nombre_clase</th>\n",
       "      <th>nombre_familia</th>\n",
       "    </tr>\n",
       "  </thead>\n",
       "  <tbody>\n",
       "    <tr>\n",
       "      <th>22</th>\n",
       "      <td>29</td>\n",
       "      <td>30</td>\n",
       "      <td>3</td>\n",
       "      <td>3</td>\n",
       "      <td>2545</td>\n",
       "      <td>961</td>\n",
       "      <td>298</td>\n",
       "    </tr>\n",
       "    <tr>\n",
       "      <th>41</th>\n",
       "      <td>448</td>\n",
       "      <td>8</td>\n",
       "      <td>5</td>\n",
       "      <td>2</td>\n",
       "      <td>2025</td>\n",
       "      <td>229</td>\n",
       "      <td>262</td>\n",
       "    </tr>\n",
       "    <tr>\n",
       "      <th>75</th>\n",
       "      <td>81</td>\n",
       "      <td>28</td>\n",
       "      <td>3</td>\n",
       "      <td>3</td>\n",
       "      <td>606</td>\n",
       "      <td>974</td>\n",
       "      <td>266</td>\n",
       "    </tr>\n",
       "    <tr>\n",
       "      <th>76</th>\n",
       "      <td>81</td>\n",
       "      <td>28</td>\n",
       "      <td>3</td>\n",
       "      <td>3</td>\n",
       "      <td>2326</td>\n",
       "      <td>974</td>\n",
       "      <td>266</td>\n",
       "    </tr>\n",
       "    <tr>\n",
       "      <th>77</th>\n",
       "      <td>81</td>\n",
       "      <td>28</td>\n",
       "      <td>3</td>\n",
       "      <td>3</td>\n",
       "      <td>2326</td>\n",
       "      <td>974</td>\n",
       "      <td>266</td>\n",
       "    </tr>\n",
       "  </tbody>\n",
       "</table>\n",
       "</div>"
      ],
      "text/plain": [
       "    entidad_matriz  localizacion_desc  mes_proyectado  modalidad  \\\n",
       "22              29                 30               3          3   \n",
       "41             448                  8               5          2   \n",
       "75              81                 28               3          3   \n",
       "76              81                 28               3          3   \n",
       "77              81                 28               3          3   \n",
       "\n",
       "    nombre_producto  nombre_clase  nombre_familia  \n",
       "22             2545           961             298  \n",
       "41             2025           229             262  \n",
       "75              606           974             266  \n",
       "76             2326           974             266  \n",
       "77             2326           974             266  "
      ]
     },
     "execution_count": 27,
     "metadata": {},
     "output_type": "execute_result"
    }
   ],
   "source": [
    "df_cat.head()"
   ]
  },
  {
   "cell_type": "markdown",
   "metadata": {},
   "source": [
    "**Choosing K=3**"
   ]
  },
  {
   "cell_type": "code",
   "execution_count": 25,
   "metadata": {},
   "outputs": [
    {
     "name": "stdout",
     "output_type": "stream",
     "text": [
      "Init: initializing centroids\n",
      "Init: initializing clusters\n",
      "Starting iterations...\n",
      "Run 1, iteration: 1/100, moves: 13241, cost: 1042491.0\n"
     ]
    }
   ],
   "source": [
    "km_cao = KModes(n_clusters=3, init = \"Cao\", n_init = 1, verbose=1)\n",
    "fitClusters_cao = km_cao.fit_predict(df_cat)"
   ]
  },
  {
   "cell_type": "code",
   "execution_count": 26,
   "metadata": {},
   "outputs": [
    {
     "data": {
      "text/plain": [
       "array([2, 1, 0, ..., 2, 2, 1], dtype=uint16)"
      ]
     },
     "execution_count": 26,
     "metadata": {},
     "output_type": "execute_result"
    }
   ],
   "source": [
    "fitClusters_cao"
   ]
  },
  {
   "cell_type": "markdown",
   "metadata": {},
   "source": [
    "**Combining the predicted clusters with the original DF.**"
   ]
  },
  {
   "cell_type": "code",
   "execution_count": 27,
   "metadata": {},
   "outputs": [],
   "source": [
    "df_cat = df_cat_copy.reset_index()"
   ]
  },
  {
   "cell_type": "code",
   "execution_count": 28,
   "metadata": {},
   "outputs": [],
   "source": [
    "clustersdf = pd.DataFrame(fitClusters_cao)\n",
    "clustersdf.columns = ['cluster_predicted']\n",
    "combineddf = pd.concat([df_cat, clustersdf], axis = 1).reset_index()\n",
    "combineddf = combineddf.drop(['index', 'level_0'], axis = 1)"
   ]
  },
  {
   "cell_type": "code",
   "execution_count": 29,
   "metadata": {},
   "outputs": [
    {
     "data": {
      "text/html": [
       "<div>\n",
       "<style scoped>\n",
       "    .dataframe tbody tr th:only-of-type {\n",
       "        vertical-align: middle;\n",
       "    }\n",
       "\n",
       "    .dataframe tbody tr th {\n",
       "        vertical-align: top;\n",
       "    }\n",
       "\n",
       "    .dataframe thead th {\n",
       "        text-align: right;\n",
       "    }\n",
       "</style>\n",
       "<table border=\"1\" class=\"dataframe\">\n",
       "  <thead>\n",
       "    <tr style=\"text-align: right;\">\n",
       "      <th></th>\n",
       "      <th>entidad_matriz</th>\n",
       "      <th>localizacion_desc</th>\n",
       "      <th>mes_proyectado</th>\n",
       "      <th>modalidad</th>\n",
       "      <th>nombre_producto</th>\n",
       "      <th>nombre_clase</th>\n",
       "      <th>nombre_familia</th>\n",
       "      <th>cluster_predicted</th>\n",
       "    </tr>\n",
       "  </thead>\n",
       "  <tbody>\n",
       "    <tr>\n",
       "      <th>0</th>\n",
       "      <td>ALCALDIA MUNICIPAL DE MURILLO</td>\n",
       "      <td>Tolima</td>\n",
       "      <td>Enero</td>\n",
       "      <td>CCE-16-Servicios_profesionales_gestion</td>\n",
       "      <td>Servicios temporales de recursos humanos</td>\n",
       "      <td>Servicios de personal temporal</td>\n",
       "      <td>Servicios de recursos humanos</td>\n",
       "      <td>2</td>\n",
       "    </tr>\n",
       "    <tr>\n",
       "      <th>1</th>\n",
       "      <td>MUNICIPIO DE TAURAMENA</td>\n",
       "      <td>Casanare</td>\n",
       "      <td>Julio</td>\n",
       "      <td>CCE-06-Seleccion_Abreviada_Menor_Cuantia</td>\n",
       "      <td>Servicios de bienestar social</td>\n",
       "      <td>Desarrollo y servicios sociales</td>\n",
       "      <td>Servicios comunitarios y sociales</td>\n",
       "      <td>1</td>\n",
       "    </tr>\n",
       "    <tr>\n",
       "      <th>2</th>\n",
       "      <td>BOMBEROS DE BUCARAMANGA</td>\n",
       "      <td>Santander</td>\n",
       "      <td>Enero</td>\n",
       "      <td>CCE-16-Servicios_profesionales_gestion</td>\n",
       "      <td>Desarrollo de recursos humanos</td>\n",
       "      <td>Servicios de recursos humanos</td>\n",
       "      <td>Servicios de Gestión, Servicios Profesionales ...</td>\n",
       "      <td>0</td>\n",
       "    </tr>\n",
       "    <tr>\n",
       "      <th>3</th>\n",
       "      <td>BOMBEROS DE BUCARAMANGA</td>\n",
       "      <td>Santander</td>\n",
       "      <td>Enero</td>\n",
       "      <td>CCE-16-Servicios_profesionales_gestion</td>\n",
       "      <td>Servicios de personal temporal</td>\n",
       "      <td>Servicios de recursos humanos</td>\n",
       "      <td>Servicios de Gestión, Servicios Profesionales ...</td>\n",
       "      <td>0</td>\n",
       "    </tr>\n",
       "    <tr>\n",
       "      <th>4</th>\n",
       "      <td>BOMBEROS DE BUCARAMANGA</td>\n",
       "      <td>Santander</td>\n",
       "      <td>Enero</td>\n",
       "      <td>CCE-16-Servicios_profesionales_gestion</td>\n",
       "      <td>Servicios de personal temporal</td>\n",
       "      <td>Servicios de recursos humanos</td>\n",
       "      <td>Servicios de Gestión, Servicios Profesionales ...</td>\n",
       "      <td>0</td>\n",
       "    </tr>\n",
       "  </tbody>\n",
       "</table>\n",
       "</div>"
      ],
      "text/plain": [
       "                  entidad_matriz localizacion_desc mes_proyectado  \\\n",
       "0  ALCALDIA MUNICIPAL DE MURILLO            Tolima          Enero   \n",
       "1         MUNICIPIO DE TAURAMENA          Casanare          Julio   \n",
       "2        BOMBEROS DE BUCARAMANGA         Santander          Enero   \n",
       "3        BOMBEROS DE BUCARAMANGA         Santander          Enero   \n",
       "4        BOMBEROS DE BUCARAMANGA         Santander          Enero   \n",
       "\n",
       "                                  modalidad  \\\n",
       "0    CCE-16-Servicios_profesionales_gestion   \n",
       "1  CCE-06-Seleccion_Abreviada_Menor_Cuantia   \n",
       "2    CCE-16-Servicios_profesionales_gestion   \n",
       "3    CCE-16-Servicios_profesionales_gestion   \n",
       "4    CCE-16-Servicios_profesionales_gestion   \n",
       "\n",
       "                            nombre_producto                     nombre_clase  \\\n",
       "0  Servicios temporales de recursos humanos   Servicios de personal temporal   \n",
       "1             Servicios de bienestar social  Desarrollo y servicios sociales   \n",
       "2            Desarrollo de recursos humanos    Servicios de recursos humanos   \n",
       "3            Servicios de personal temporal    Servicios de recursos humanos   \n",
       "4            Servicios de personal temporal    Servicios de recursos humanos   \n",
       "\n",
       "                                      nombre_familia  cluster_predicted  \n",
       "0                      Servicios de recursos humanos                  2  \n",
       "1                  Servicios comunitarios y sociales                  1  \n",
       "2  Servicios de Gestión, Servicios Profesionales ...                  0  \n",
       "3  Servicios de Gestión, Servicios Profesionales ...                  0  \n",
       "4  Servicios de Gestión, Servicios Profesionales ...                  0  "
      ]
     },
     "execution_count": 29,
     "metadata": {},
     "output_type": "execute_result"
    }
   ],
   "source": [
    "combineddf.head()"
   ]
  },
  {
   "cell_type": "markdown",
   "metadata": {},
   "source": [
    "### Cluster Identification"
   ]
  },
  {
   "cell_type": "code",
   "execution_count": 30,
   "metadata": {},
   "outputs": [],
   "source": [
    "cluster_0 = combineddf[combineddf['cluster_predicted'] == 0]\n",
    "cluster_1 = combineddf[combineddf['cluster_predicted'] == 1]\n",
    "cluster_2 = combineddf[combineddf['cluster_predicted'] == 2]"
   ]
  },
  {
   "cell_type": "code",
   "execution_count": 31,
   "metadata": {},
   "outputs": [
    {
     "name": "stdout",
     "output_type": "stream",
     "text": [
      "<class 'pandas.core.frame.DataFrame'>\n",
      "Int64Index: 198726 entries, 2 to 345906\n",
      "Data columns (total 8 columns):\n",
      " #   Column             Non-Null Count   Dtype \n",
      "---  ------             --------------   ----- \n",
      " 0   entidad_matriz     198726 non-null  object\n",
      " 1   localizacion_desc  198726 non-null  object\n",
      " 2   mes_proyectado     198726 non-null  object\n",
      " 3   modalidad          198726 non-null  object\n",
      " 4   nombre_producto    198726 non-null  object\n",
      " 5   nombre_clase       198726 non-null  object\n",
      " 6   nombre_familia     198726 non-null  object\n",
      " 7   cluster_predicted  198726 non-null  uint16\n",
      "dtypes: object(7), uint16(1)\n",
      "memory usage: 12.5+ MB\n"
     ]
    }
   ],
   "source": [
    "cluster_0.info()"
   ]
  },
  {
   "cell_type": "code",
   "execution_count": 32,
   "metadata": {},
   "outputs": [
    {
     "name": "stdout",
     "output_type": "stream",
     "text": [
      "<class 'pandas.core.frame.DataFrame'>\n",
      "Int64Index: 118156 entries, 1 to 349670\n",
      "Data columns (total 8 columns):\n",
      " #   Column             Non-Null Count   Dtype \n",
      "---  ------             --------------   ----- \n",
      " 0   entidad_matriz     118156 non-null  object\n",
      " 1   localizacion_desc  118156 non-null  object\n",
      " 2   mes_proyectado     118156 non-null  object\n",
      " 3   modalidad          118156 non-null  object\n",
      " 4   nombre_producto    118156 non-null  object\n",
      " 5   nombre_clase       118156 non-null  object\n",
      " 6   nombre_familia     118156 non-null  object\n",
      " 7   cluster_predicted  118156 non-null  uint16\n",
      "dtypes: object(7), uint16(1)\n",
      "memory usage: 7.4+ MB\n"
     ]
    }
   ],
   "source": [
    "cluster_1.info()"
   ]
  },
  {
   "cell_type": "code",
   "execution_count": 33,
   "metadata": {},
   "outputs": [
    {
     "name": "stdout",
     "output_type": "stream",
     "text": [
      "<class 'pandas.core.frame.DataFrame'>\n",
      "Int64Index: 32789 entries, 0 to 349669\n",
      "Data columns (total 8 columns):\n",
      " #   Column             Non-Null Count  Dtype \n",
      "---  ------             --------------  ----- \n",
      " 0   entidad_matriz     32789 non-null  object\n",
      " 1   localizacion_desc  32789 non-null  object\n",
      " 2   mes_proyectado     32789 non-null  object\n",
      " 3   modalidad          32789 non-null  object\n",
      " 4   nombre_producto    32789 non-null  object\n",
      " 5   nombre_clase       32789 non-null  object\n",
      " 6   nombre_familia     32789 non-null  object\n",
      " 7   cluster_predicted  32789 non-null  uint16\n",
      "dtypes: object(7), uint16(1)\n",
      "memory usage: 2.1+ MB\n"
     ]
    }
   ],
   "source": [
    "cluster_2.info()"
   ]
  },
  {
   "cell_type": "markdown",
   "metadata": {},
   "source": [
    "## Bar Plots"
   ]
  },
  {
   "cell_type": "markdown",
   "metadata": {},
   "source": [
    "**Localizacion descripcion**"
   ]
  },
  {
   "cell_type": "code",
   "execution_count": 34,
   "metadata": {},
   "outputs": [
    {
     "data": {
      "image/png": "[encoded data removed]",
      "text/plain": [
       "<Figure size 1080x360 with 1 Axes>"
      ]
     },
     "metadata": {
      "needs_background": "light"
     },
     "output_type": "display_data"
    }
   ],
   "source": [
    "plt.subplots(figsize = (15,5))\n",
    "sns.countplot(x=combineddf['localizacion_desc'],order=combineddf['localizacion_desc'].value_counts().index,hue=combineddf['cluster_predicted'])\n",
    "plt.xticks(rotation='vertical')\n",
    "plt.show()"
   ]
  },
  {
   "cell_type": "markdown",
   "metadata": {},
   "source": [
    "**Mes proyectado**"
   ]
  },
  {
   "cell_type": "code",
   "execution_count": 35,
   "metadata": {},
   "outputs": [
    {
     "data": {
      "image/png": "[encoded data removed]",
      "text/plain": [
       "<Figure size 1080x360 with 1 Axes>"
      ]
     },
     "metadata": {
      "needs_background": "light"
     },
     "output_type": "display_data"
    }
   ],
   "source": [
    "plt.subplots(figsize = (15,5))\n",
    "sns.countplot(x=combineddf['mes_proyectado'],order=combineddf['mes_proyectado'].value_counts().index,hue=combineddf['cluster_predicted'])\n",
    "plt.show()"
   ]
  },
  {
   "cell_type": "code",
   "execution_count": 37,
   "metadata": {},
   "outputs": [
    {
     "data": {
      "image/png": "[encoded data removed]",
      "text/plain": [
       "<Figure size 1080x360 with 1 Axes>"
      ]
     },
     "metadata": {
      "needs_background": "light"
     },
     "output_type": "display_data"
    }
   ],
   "source": [
    "plt.subplots(figsize = (15,5))\n",
    "sns.countplot(x=combineddf['modalidad'],order=combineddf['modalidad'].value_counts().index,hue=combineddf['cluster_predicted'])\n",
    "plt.xticks(rotation='vertical')\n",
    "plt.show()"
   ]
  },
  {
   "cell_type": "code",
   "execution_count": 36,
   "metadata": {},
   "outputs": [
    {
     "data": {
      "image/png": "[encoded data removed]",
      "text/plain": [
       "<Figure size 1080x360 with 1 Axes>"
      ]
     },
     "metadata": {
      "needs_background": "light"
     },
     "output_type": "display_data"
    }
   ],
   "source": [
    "fig = plt.figure(figsize=(15, 5))\n",
    "plt.scatter(combineddf['localizacion_desc'], combineddf['modalidad'], color='k')\n",
    "plt.xticks(rotation='vertical')\n",
    "#colmap = {cluster_0: 'r', cluster_1: 'g', cluster_2: 'b'}\n",
    "#for i in centroids.keys():\n",
    "#    plt.scatter(*centroids[i], color=colmap[i])\n",
    "plt.title(u'Los k=3 centroides están inicializados')\n",
    "plt.show()\n"
   ]
  },
  {
   "cell_type": "code",
   "execution_count": null,
   "metadata": {},
   "outputs": [],
   "source": []
  },
  {
   "cell_type": "code",
   "execution_count": null,
   "metadata": {},
   "outputs": [],
   "source": []
  },
  {
   "cell_type": "code",
   "execution_count": null,
   "metadata": {},
   "outputs": [],
   "source": []
  },
  {
   "cell_type": "code",
   "execution_count": null,
   "metadata": {},
   "outputs": [],
   "source": []
  },
  {
   "cell_type": "code",
   "execution_count": 17,
   "metadata": {},
   "outputs": [],
   "source": [
    "#df.to_csv(\"Fuente_2_vista_minable.csv\")\n",
    "#df.to_pickle(\"Fuente_2_vista_minable.pickle\")"
   ]
  }
 ],
 "metadata": {
  "kernelspec": {
   "display_name": "Python 3",
   "language": "python",
   "name": "python3"
  },
  "language_info": {
   "codemirror_mode": {
    "name": "ipython",
    "version": 3
   },
   "file_extension": ".py",
   "mimetype": "text/x-python",
   "name": "python",
   "nbconvert_exporter": "python",
   "pygments_lexer": "ipython3",
   "version": "3.8.5"
  }
 },
 "nbformat": 4,
 "nbformat_minor": 4
}
