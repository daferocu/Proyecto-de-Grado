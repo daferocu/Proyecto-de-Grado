{
 "cells": [
  {
   "cell_type": "markdown",
   "metadata": {},
   "source": [
    "# Fuente de datos 2\n",
    "## Plan Anual de Adquisiones - Secop II¶"
   ]
  },
  {
   "cell_type": "markdown",
   "metadata": {},
   "source": [
    "**Configuración de algoritmo:**\n",
    "- Lectura de datos en versión final, en formato .pickle.\n",
    "- Descripción de tipo de datos.\n",
    "- Cambio en nombres de variables.\n",
    "- Identificación de valores únicos por variable.\n",
    "- Creación de agrupación (clusters) con K-modes.\n",
    "- Validación del número de clusters (k) óptimo con método Elbow y Silhouette.\n",
    "- Combinar con los datos originales.\n",
    "- Gráficos de barras para los clusters creados. \n",
    "- Exportar base de datos segmentada."
   ]
  },
  {
   "cell_type": "code",
   "execution_count": 1,
   "metadata": {},
   "outputs": [],
   "source": [
    "# Importar paquetes\n",
    "import os,sys\n",
    "import pandas as pd\n",
    "import numpy as np\n",
    "from datetime import datetime"
   ]
  },
  {
   "cell_type": "code",
   "execution_count": 2,
   "metadata": {},
   "outputs": [],
   "source": [
    "import pickle \n",
    "import random"
   ]
  },
  {
   "cell_type": "code",
   "execution_count": 3,
   "metadata": {},
   "outputs": [],
   "source": [
    "# Suprimir alertas\n",
    "import warnings\n",
    "warnings.filterwarnings('ignore')\n",
    "\n",
    "# Librerias de vizualización de datos\n",
    "import matplotlib.pyplot as plt\n",
    "import seaborn as sns\n",
    "#%matplotlib inline\n",
    "from matplotlib.pyplot import xticks"
   ]
  },
  {
   "cell_type": "code",
   "execution_count": 4,
   "metadata": {},
   "outputs": [],
   "source": [
    "# Importar librerias\n",
    "from kmodes.kmodes import KModes\n",
    "from sklearn import preprocessing"
   ]
  },
  {
   "cell_type": "code",
   "execution_count": 5,
   "metadata": {},
   "outputs": [
    {
     "name": "stdout",
     "output_type": "stream",
     "text": [
      "Requirement already satisfied: kmodes in c:\\users\\david\\anaconda3\\lib\\site-packages (0.11.0)\n",
      "Requirement already satisfied: numpy>=1.10.4 in c:\\users\\david\\anaconda3\\lib\\site-packages (from kmodes) (1.19.2)\n",
      "Requirement already satisfied: scikit-learn>=0.22.0 in c:\\users\\david\\anaconda3\\lib\\site-packages (from kmodes) (0.23.2)\n",
      "Requirement already satisfied: joblib>=0.11 in c:\\users\\david\\anaconda3\\lib\\site-packages (from kmodes) (0.17.0)\n",
      "Requirement already satisfied: scipy>=0.13.3 in c:\\users\\david\\anaconda3\\lib\\site-packages (from kmodes) (1.5.2)\n",
      "Requirement already satisfied: threadpoolctl>=2.0.0 in c:\\users\\david\\anaconda3\\lib\\site-packages (from scikit-learn>=0.22.0->kmodes) (2.1.0)\n"
     ]
    }
   ],
   "source": [
    "!pip install kmodes"
   ]
  },
  {
   "cell_type": "code",
   "execution_count": 6,
   "metadata": {},
   "outputs": [
    {
     "name": "stdout",
     "output_type": "stream",
     "text": [
      "Requirement already satisfied: yellowbrick in c:\\users\\david\\anaconda3\\lib\\site-packages (1.3.post1)\n",
      "Requirement already satisfied: scipy>=1.0.0 in c:\\users\\david\\anaconda3\\lib\\site-packages (from yellowbrick) (1.5.2)\n",
      "Requirement already satisfied: matplotlib!=3.0.0,>=2.0.2 in c:\\users\\david\\anaconda3\\lib\\site-packages (from yellowbrick) (3.3.2)\n",
      "Requirement already satisfied: cycler>=0.10.0 in c:\\users\\david\\anaconda3\\lib\\site-packages (from yellowbrick) (0.10.0)\n",
      "Requirement already satisfied: scikit-learn>=0.20 in c:\\users\\david\\anaconda3\\lib\\site-packages (from yellowbrick) (0.23.2)\n",
      "Requirement already satisfied: numpy<1.20,>=1.16.0 in c:\\users\\david\\anaconda3\\lib\\site-packages (from yellowbrick) (1.19.2)\n",
      "Requirement already satisfied: kiwisolver>=1.0.1 in c:\\users\\david\\anaconda3\\lib\\site-packages (from matplotlib!=3.0.0,>=2.0.2->yellowbrick) (1.3.0)\n",
      "Requirement already satisfied: pillow>=6.2.0 in c:\\users\\david\\anaconda3\\lib\\site-packages (from matplotlib!=3.0.0,>=2.0.2->yellowbrick) (8.0.1)\n",
      "Requirement already satisfied: python-dateutil>=2.1 in c:\\users\\david\\anaconda3\\lib\\site-packages (from matplotlib!=3.0.0,>=2.0.2->yellowbrick) (2.8.1)\n",
      "Requirement already satisfied: certifi>=2020.06.20 in c:\\users\\david\\anaconda3\\lib\\site-packages (from matplotlib!=3.0.0,>=2.0.2->yellowbrick) (2020.6.20)\n",
      "Requirement already satisfied: pyparsing!=2.0.4,!=2.1.2,!=2.1.6,>=2.0.3 in c:\\users\\david\\anaconda3\\lib\\site-packages (from matplotlib!=3.0.0,>=2.0.2->yellowbrick) (2.4.7)\n",
      "Requirement already satisfied: six in c:\\users\\david\\anaconda3\\lib\\site-packages (from cycler>=0.10.0->yellowbrick) (1.15.0)\n",
      "Requirement already satisfied: threadpoolctl>=2.0.0 in c:\\users\\david\\anaconda3\\lib\\site-packages (from scikit-learn>=0.20->yellowbrick) (2.1.0)\n",
      "Requirement already satisfied: joblib>=0.11 in c:\\users\\david\\anaconda3\\lib\\site-packages (from scikit-learn>=0.20->yellowbrick) (0.17.0)\n"
     ]
    }
   ],
   "source": [
    "! pip install yellowbrick"
   ]
  },
  {
   "cell_type": "code",
   "execution_count": 7,
   "metadata": {},
   "outputs": [],
   "source": [
    "# Score Silueta para K modes\n",
    "from yellowbrick.cluster import KElbowVisualizer"
   ]
  },
  {
   "cell_type": "code",
   "execution_count": 8,
   "metadata": {},
   "outputs": [
    {
     "name": "stdout",
     "output_type": "stream",
     "text": [
      "['C:\\\\Users\\\\David\\\\OneDrive\\\\EAFIT\\\\Proyecto Integrador 1\\\\Repositorios\\\\proy-segmentacion\\\\jupyter\\\\DavidRuaJ', 'C:\\\\Users\\\\David\\\\anaconda3\\\\python38.zip', 'C:\\\\Users\\\\David\\\\anaconda3\\\\DLLs', 'C:\\\\Users\\\\David\\\\anaconda3\\\\lib', 'C:\\\\Users\\\\David\\\\anaconda3', '', 'C:\\\\Users\\\\David\\\\anaconda3\\\\lib\\\\site-packages', 'C:\\\\Users\\\\David\\\\anaconda3\\\\lib\\\\site-packages\\\\win32', 'C:\\\\Users\\\\David\\\\anaconda3\\\\lib\\\\site-packages\\\\win32\\\\lib', 'C:\\\\Users\\\\David\\\\anaconda3\\\\lib\\\\site-packages\\\\Pythonwin', 'C:\\\\Users\\\\David\\\\anaconda3\\\\lib\\\\site-packages\\\\IPython\\\\extensions', 'C:\\\\Users\\\\David\\\\.ipython']\n"
     ]
    }
   ],
   "source": [
    "print(sys.path)"
   ]
  },
  {
   "cell_type": "code",
   "execution_count": 9,
   "metadata": {},
   "outputs": [],
   "source": [
    "sys.path.append(\"C:\\\\Users\\\\David\\\\OneDrive\\\\EAFIT\\\\Proyecto Integrador 1\\\\Repositorios\\\\proy-segmentacion\")"
   ]
  },
  {
   "cell_type": "code",
   "execution_count": 35,
   "metadata": {},
   "outputs": [],
   "source": [
    "from root import DIR_DATA\n",
    "from root import DIR_CONF\n",
    "from root import DIR_ROOT"
   ]
  },
  {
   "cell_type": "code",
   "execution_count": 11,
   "metadata": {},
   "outputs": [],
   "source": [
    "input_fuente2 = DIR_DATA + \"03-Trusted/analisis_heuristico.pickle\""
   ]
  },
  {
   "cell_type": "code",
   "execution_count": 12,
   "metadata": {},
   "outputs": [],
   "source": [
    "df=pickle.load( open(input_fuente2, \"rb\" ) )"
   ]
  },
  {
   "cell_type": "code",
   "execution_count": 13,
   "metadata": {},
   "outputs": [
    {
     "name": "stdout",
     "output_type": "stream",
     "text": [
      "nit                       145\n",
      "entidad_matriz            145\n",
      "year                        4\n",
      "entidad                   165\n",
      "localizacion               35\n",
      "localizacion_desc          15\n",
      "mision_vision             219\n",
      "pers_estrategica          198\n",
      "ppto_global               243\n",
      "mes_proyectado             12\n",
      "precio_base               772\n",
      "date_last_publication     124\n",
      "ref_contrato             1178\n",
      "date_publised              71\n",
      "modalidad                   3\n",
      "contacto                  205\n",
      "cod_producto               67\n",
      "nombre_producto            67\n",
      "cod_clase                  44\n",
      "nombre_clase               44\n",
      "cod_familia                32\n",
      "nombre_familia             32\n",
      "diff_dates                117\n",
      "year_publised               4\n",
      "rango_precio                4\n",
      "dtype: int64\n"
     ]
    }
   ],
   "source": [
    "# Validar los valores únicos de las variables\n",
    "df.nunique(axis=0)\n",
    "print(df.nunique(axis=0))"
   ]
  },
  {
   "cell_type": "markdown",
   "metadata": {},
   "source": [
    "## Nueva variable rango_precio:"
   ]
  },
  {
   "cell_type": "code",
   "execution_count": 14,
   "metadata": {},
   "outputs": [
    {
     "data": {
      "text/plain": [
       "(1285, 25)"
      ]
     },
     "execution_count": 14,
     "metadata": {},
     "output_type": "execute_result"
    }
   ],
   "source": [
    "df.shape"
   ]
  },
  {
   "cell_type": "code",
   "execution_count": 15,
   "metadata": {},
   "outputs": [
    {
     "name": "stdout",
     "output_type": "stream",
     "text": [
      "\u001b[1mrango_precio\u001b[0m\n",
      "['43.827.961-81804454', '81804454-2.9550.000.000', '0-21.000.000', '21.000.001-43.827.960']\n",
      "Categories (4, object): ['0-21.000.000' < '21.000.001-43.827.960' < '43.827.961-81804454' < '81804454-2.9550.000.000']\n"
     ]
    }
   ],
   "source": [
    "# Variable rango_precio\n",
    "print('\\033[1m' + \"rango_precio\" + '\\033[0m')\n",
    "print(df.rango_precio.unique())"
   ]
  },
  {
   "cell_type": "markdown",
   "metadata": {},
   "source": [
    "En 'rango_precio' tenemos 4 categorías."
   ]
  },
  {
   "cell_type": "markdown",
   "metadata": {},
   "source": [
    "## K modes"
   ]
  },
  {
   "cell_type": "code",
   "execution_count": 16,
   "metadata": {},
   "outputs": [],
   "source": [
    "df_cat=df[['entidad_matriz', 'localizacion_desc','mes_proyectado','modalidad','nombre_producto','nombre_clase','nombre_familia','rango_precio']]"
   ]
  },
  {
   "cell_type": "code",
   "execution_count": 17,
   "metadata": {},
   "outputs": [
    {
     "data": {
      "text/plain": [
       "(1285, 8)"
      ]
     },
     "execution_count": 17,
     "metadata": {},
     "output_type": "execute_result"
    }
   ],
   "source": [
    "df_cat.shape"
   ]
  },
  {
   "cell_type": "code",
   "execution_count": 18,
   "metadata": {},
   "outputs": [
    {
     "data": {
      "text/plain": [
       "entidad_matriz       0.0\n",
       "localizacion_desc    0.0\n",
       "mes_proyectado       0.0\n",
       "modalidad            0.0\n",
       "nombre_producto      0.0\n",
       "nombre_clase         0.0\n",
       "nombre_familia       0.0\n",
       "rango_precio         0.0\n",
       "dtype: float64"
      ]
     },
     "execution_count": 18,
     "metadata": {},
     "output_type": "execute_result"
    }
   ],
   "source": [
    "# Validar valores nulos\n",
    "df_cat.isnull().sum()*100/df_cat.shape[0]"
   ]
  },
  {
   "cell_type": "markdown",
   "metadata": {},
   "source": [
    "**Construcción del Modelo**"
   ]
  },
  {
   "cell_type": "code",
   "execution_count": 19,
   "metadata": {},
   "outputs": [],
   "source": [
    "# Hacemos una copia de los datos\n",
    "df_cat_copy = df_cat.copy()"
   ]
  },
  {
   "cell_type": "code",
   "execution_count": 20,
   "metadata": {},
   "outputs": [],
   "source": [
    "le = preprocessing.LabelEncoder()\n",
    "df_cat = df_cat.apply(le.fit_transform)\n",
    "#df_cat.head()"
   ]
  },
  {
   "cell_type": "markdown",
   "metadata": {},
   "source": [
    "### Usar K-Mode con inicialización \"Cao\""
   ]
  },
  {
   "cell_type": "code",
   "execution_count": 21,
   "metadata": {},
   "outputs": [
    {
     "name": "stdout",
     "output_type": "stream",
     "text": [
      "Init: initializing centroids\n",
      "Init: initializing clusters\n",
      "Starting iterations...\n",
      "Run 1, iteration: 1/100, moves: 91, cost: 5405.0\n"
     ]
    }
   ],
   "source": [
    "km_cao = KModes(n_clusters=2, init = \"Cao\", n_init = 1, verbose=1)\n",
    "fitClusters_cao = km_cao.fit_predict(df_cat)"
   ]
  },
  {
   "cell_type": "code",
   "execution_count": 22,
   "metadata": {},
   "outputs": [
    {
     "data": {
      "text/plain": [
       "array([0, 0, 1, ..., 0, 0, 1], dtype=uint16)"
      ]
     },
     "execution_count": 22,
     "metadata": {},
     "output_type": "execute_result"
    }
   ],
   "source": [
    "# Predicción de Clusters\n",
    "fitClusters_cao"
   ]
  },
  {
   "cell_type": "code",
   "execution_count": 23,
   "metadata": {},
   "outputs": [],
   "source": [
    "clusterCentroidsDf = pd.DataFrame(km_cao.cluster_centroids_)\n",
    "clusterCentroidsDf.columns = df_cat.columns"
   ]
  },
  {
   "cell_type": "code",
   "execution_count": 24,
   "metadata": {},
   "outputs": [
    {
     "data": {
      "text/html": [
       "<div>\n",
       "<style scoped>\n",
       "    .dataframe tbody tr th:only-of-type {\n",
       "        vertical-align: middle;\n",
       "    }\n",
       "\n",
       "    .dataframe tbody tr th {\n",
       "        vertical-align: top;\n",
       "    }\n",
       "\n",
       "    .dataframe thead th {\n",
       "        text-align: right;\n",
       "    }\n",
       "</style>\n",
       "<table border=\"1\" class=\"dataframe\">\n",
       "  <thead>\n",
       "    <tr style=\"text-align: right;\">\n",
       "      <th></th>\n",
       "      <th>entidad_matriz</th>\n",
       "      <th>localizacion_desc</th>\n",
       "      <th>mes_proyectado</th>\n",
       "      <th>modalidad</th>\n",
       "      <th>nombre_producto</th>\n",
       "      <th>nombre_clase</th>\n",
       "      <th>nombre_familia</th>\n",
       "      <th>rango_precio</th>\n",
       "    </tr>\n",
       "  </thead>\n",
       "  <tbody>\n",
       "    <tr>\n",
       "      <th>0</th>\n",
       "      <td>20</td>\n",
       "      <td>6</td>\n",
       "      <td>3</td>\n",
       "      <td>2</td>\n",
       "      <td>24</td>\n",
       "      <td>23</td>\n",
       "      <td>20</td>\n",
       "      <td>3</td>\n",
       "    </tr>\n",
       "    <tr>\n",
       "      <th>1</th>\n",
       "      <td>90</td>\n",
       "      <td>6</td>\n",
       "      <td>3</td>\n",
       "      <td>2</td>\n",
       "      <td>41</td>\n",
       "      <td>13</td>\n",
       "      <td>30</td>\n",
       "      <td>0</td>\n",
       "    </tr>\n",
       "  </tbody>\n",
       "</table>\n",
       "</div>"
      ],
      "text/plain": [
       "   entidad_matriz  localizacion_desc  mes_proyectado  modalidad  \\\n",
       "0              20                  6               3          2   \n",
       "1              90                  6               3          2   \n",
       "\n",
       "   nombre_producto  nombre_clase  nombre_familia  rango_precio  \n",
       "0               24            23              20             3  \n",
       "1               41            13              30             0  "
      ]
     },
     "execution_count": 24,
     "metadata": {},
     "output_type": "execute_result"
    }
   ],
   "source": [
    "# Modos de los clústers\n",
    "clusterCentroidsDf"
   ]
  },
  {
   "cell_type": "markdown",
   "metadata": {},
   "source": [
    "### Usar K-Mode con inicialización \"Huang\""
   ]
  },
  {
   "cell_type": "code",
   "execution_count": 25,
   "metadata": {},
   "outputs": [
    {
     "name": "stdout",
     "output_type": "stream",
     "text": [
      "Init: initializing centroids\n",
      "Init: initializing clusters\n",
      "Starting iterations...\n",
      "Run 1, iteration: 1/100, moves: 94, cost: 5560.0\n",
      "Run 1, iteration: 2/100, moves: 226, cost: 5301.0\n",
      "Run 1, iteration: 3/100, moves: 0, cost: 5301.0\n"
     ]
    }
   ],
   "source": [
    "km_huang = KModes(n_clusters=2, init = \"Huang\", n_init = 1, verbose=1)\n",
    "fitClusters_huang = km_huang.fit_predict(df_cat)"
   ]
  },
  {
   "cell_type": "code",
   "execution_count": 26,
   "metadata": {},
   "outputs": [
    {
     "data": {
      "text/plain": [
       "array([0, 1, 0, ..., 0, 0, 0], dtype=uint16)"
      ]
     },
     "execution_count": 26,
     "metadata": {},
     "output_type": "execute_result"
    }
   ],
   "source": [
    "# Predicción de Clusters\n",
    "fitClusters_huang"
   ]
  },
  {
   "cell_type": "markdown",
   "metadata": {},
   "source": [
    "**Seleccionar K comparando Costo contra cada K**"
   ]
  },
  {
   "cell_type": "code",
   "execution_count": 27,
   "metadata": {},
   "outputs": [
    {
     "name": "stdout",
     "output_type": "stream",
     "text": [
      "Init: initializing centroids\n",
      "Init: initializing clusters\n",
      "Starting iterations...\n",
      "Run 1, iteration: 1/100, moves: 0, cost: 6287.0\n",
      "Init: initializing centroids\n",
      "Init: initializing clusters\n",
      "Starting iterations...\n",
      "Run 1, iteration: 1/100, moves: 91, cost: 5405.0\n",
      "Init: initializing centroids\n",
      "Init: initializing clusters\n",
      "Starting iterations...\n",
      "Run 1, iteration: 1/100, moves: 81, cost: 4766.0\n",
      "Init: initializing centroids\n",
      "Init: initializing clusters\n",
      "Starting iterations...\n",
      "Run 1, iteration: 1/100, moves: 158, cost: 4273.0\n",
      "Run 1, iteration: 2/100, moves: 1, cost: 4273.0\n",
      "Init: initializing centroids\n",
      "Init: initializing clusters\n",
      "Starting iterations...\n",
      "Run 1, iteration: 1/100, moves: 115, cost: 4084.0\n",
      "Init: initializing centroids\n",
      "Init: initializing clusters\n",
      "Starting iterations...\n",
      "Run 1, iteration: 1/100, moves: 96, cost: 4002.0\n",
      "Init: initializing centroids\n",
      "Init: initializing clusters\n",
      "Starting iterations...\n",
      "Run 1, iteration: 1/100, moves: 202, cost: 3783.0\n",
      "Run 1, iteration: 2/100, moves: 52, cost: 3783.0\n",
      "Init: initializing centroids\n",
      "Init: initializing clusters\n",
      "Starting iterations...\n",
      "Run 1, iteration: 1/100, moves: 190, cost: 3717.0\n",
      "Run 1, iteration: 2/100, moves: 51, cost: 3717.0\n",
      "Init: initializing centroids\n",
      "Init: initializing clusters\n",
      "Starting iterations...\n",
      "Run 1, iteration: 1/100, moves: 188, cost: 3527.0\n",
      "Run 1, iteration: 2/100, moves: 28, cost: 3527.0\n"
     ]
    }
   ],
   "source": [
    "cost = []\n",
    "for num_clusters in list(range(1,10)):\n",
    "    kmode = KModes(n_clusters=num_clusters, init = \"Cao\", n_init = 1, verbose=1)\n",
    "    kmode.fit_predict(df_cat)\n",
    "    cost.append(kmode.cost_)"
   ]
  },
  {
   "cell_type": "code",
   "execution_count": 36,
   "metadata": {},
   "outputs": [
    {
     "data": {
      "image/png": "[encoded data removed]",
      "text/plain": [
       "<Figure size 576x396 with 1 Axes>"
      ]
     },
     "metadata": {},
     "output_type": "display_data"
    }
   ],
   "source": [
    "y = np.array([i for i in range(1,10,1)])\n",
    "plt.plot(y,cost)\n",
    "plt.savefig(DIR_ROOT + '/img/codo01.png')"
   ]
  },
  {
   "cell_type": "code",
   "execution_count": 34,
   "metadata": {},
   "outputs": [
    {
     "name": "stdout",
     "output_type": "stream",
     "text": [
      "C:\\Users\\David\\OneDrive\\EAFIT\\Proyecto Integrador 1\\Repositorios\\proy-segmentacion\n"
     ]
    }
   ],
   "source": [
    "\n",
    "print(DIR_ROOT)"
   ]
  },
  {
   "cell_type": "markdown",
   "metadata": {},
   "source": [
    "Al buscar un cambio de pendiente de empinada a poca profundidad (elbow), para determinar el número óptimo de clústeres, encontramos el primero en $K=2$, el segundo en $k=3$ y el tercero en $k=4$. Seleccionamos $k=3$. "
   ]
  },
  {
   "cell_type": "markdown",
   "metadata": {},
   "source": [
    "## Método Silueta"
   ]
  },
  {
   "cell_type": "markdown",
   "metadata": {},
   "source": [
    "Un coeficiente de Silueta **+1** indica que la muestra está muy lejos de los clusters vecinos.\n",
    "\n",
    "Un coeficiente de Silueta de **0** indica que la muestra está muy cerca o sobre el límite de decisión entre dos clusters vecinos.\n",
    "\n",
    "Un coeficiente de Silueta **<0** indica que la muestra pueden estar asignadas al cluster equivocado o que son outliers."
   ]
  },
  {
   "cell_type": "code",
   "execution_count": 31,
   "metadata": {},
   "outputs": [
    {
     "data": {
      "image/png": "[encoded data removed]",
      "text/plain": [
       "<Figure size 576x396 with 2 Axes>"
      ]
     },
     "metadata": {},
     "output_type": "display_data"
    },
    {
     "data": {
      "text/plain": [
       "<AxesSubplot:title={'center':'Silhouette Score Elbow for KModes Clustering'}, xlabel='k', ylabel='silhouette score'>"
      ]
     },
     "execution_count": 31,
     "metadata": {},
     "output_type": "execute_result"
    }
   ],
   "source": [
    "model = KModes()\n",
    "# k es el rango de números de clústers.\n",
    "visualizer = KElbowVisualizer(model, k=(2,10),metric='silhouette', timings= True)\n",
    "visualizer.fit(df_cat)        # Ajustar los datos al vizualizador\n",
    "visualizer.show()        # Finalizar la figura\n",
    "plt.savefig(DIR_ROOT + '/img/silueta01.png')"
   ]
  },
  {
   "cell_type": "markdown",
   "metadata": {},
   "source": [
    "**Seleccionamos K=2**"
   ]
  },
  {
   "cell_type": "code",
   "execution_count": 33,
   "metadata": {},
   "outputs": [
    {
     "name": "stdout",
     "output_type": "stream",
     "text": [
      "Init: initializing centroids\n",
      "Init: initializing clusters\n",
      "Starting iterations...\n",
      "Run 1, iteration: 1/100, moves: 91, cost: 5405.0\n"
     ]
    }
   ],
   "source": [
    "km_cao = KModes(n_clusters=2, init = \"Cao\", n_init = 1, verbose=1)\n",
    "fitClusters_cao = km_cao.fit_predict(df_cat)"
   ]
  },
  {
   "cell_type": "code",
   "execution_count": 34,
   "metadata": {},
   "outputs": [
    {
     "data": {
      "text/plain": [
       "array([0, 0, 1, ..., 0, 0, 1], dtype=uint16)"
      ]
     },
     "execution_count": 34,
     "metadata": {},
     "output_type": "execute_result"
    }
   ],
   "source": [
    "fitClusters_cao"
   ]
  },
  {
   "cell_type": "markdown",
   "metadata": {},
   "source": [
    "**Combinmos el clúster predecido con el DF original.**"
   ]
  },
  {
   "cell_type": "code",
   "execution_count": 35,
   "metadata": {},
   "outputs": [],
   "source": [
    "df_cat = df_cat_copy.reset_index()"
   ]
  },
  {
   "cell_type": "code",
   "execution_count": 36,
   "metadata": {},
   "outputs": [],
   "source": [
    "clustersdf = pd.DataFrame(fitClusters_cao)\n",
    "clustersdf.columns = ['cluster_predicted']\n",
    "combineddf = pd.concat([df_cat, clustersdf], axis = 1).reset_index()\n",
    "combineddf = combineddf.drop(['index', 'level_0'], axis = 1)"
   ]
  },
  {
   "cell_type": "code",
   "execution_count": 37,
   "metadata": {},
   "outputs": [
    {
     "data": {
      "text/html": [
       "<div>\n",
       "<style scoped>\n",
       "    .dataframe tbody tr th:only-of-type {\n",
       "        vertical-align: middle;\n",
       "    }\n",
       "\n",
       "    .dataframe tbody tr th {\n",
       "        vertical-align: top;\n",
       "    }\n",
       "\n",
       "    .dataframe thead th {\n",
       "        text-align: right;\n",
       "    }\n",
       "</style>\n",
       "<table border=\"1\" class=\"dataframe\">\n",
       "  <thead>\n",
       "    <tr style=\"text-align: right;\">\n",
       "      <th></th>\n",
       "      <th>entidad_matriz</th>\n",
       "      <th>localizacion_desc</th>\n",
       "      <th>mes_proyectado</th>\n",
       "      <th>modalidad</th>\n",
       "      <th>nombre_producto</th>\n",
       "      <th>nombre_clase</th>\n",
       "      <th>nombre_familia</th>\n",
       "      <th>rango_precio</th>\n",
       "      <th>cluster_predicted</th>\n",
       "    </tr>\n",
       "  </thead>\n",
       "  <tbody>\n",
       "    <tr>\n",
       "      <th>0</th>\n",
       "      <td>EMPRESAS PUBLICAS DEL QUINDIO SA ESP</td>\n",
       "      <td>Quindío</td>\n",
       "      <td>Enero</td>\n",
       "      <td>CCE-16-Servicios_profesionales_gestion</td>\n",
       "      <td>Sistema y accesorios de conexión cruzada de co...</td>\n",
       "      <td>Dispositivos y equipos para instalación de con...</td>\n",
       "      <td>Equipos o plataformas y accesorios de redes mu...</td>\n",
       "      <td>43.827.961-81804454</td>\n",
       "      <td>0</td>\n",
       "    </tr>\n",
       "    <tr>\n",
       "      <th>1</th>\n",
       "      <td>DIRECCION EJECUTIVA DE ADMINISTRACION JUDICIAL</td>\n",
       "      <td>Distrito Capital de Bogotá</td>\n",
       "      <td>Septiembre</td>\n",
       "      <td>CCE-06-Seleccion_Abreviada_Menor_Cuantia</td>\n",
       "      <td>Mantenimiento de software de sistemas de gesti...</td>\n",
       "      <td>Mantenimiento y soporte de software</td>\n",
       "      <td>Servicios informáticos</td>\n",
       "      <td>81804454-2.9550.000.000</td>\n",
       "      <td>0</td>\n",
       "    </tr>\n",
       "    <tr>\n",
       "      <th>2</th>\n",
       "      <td>MUNICIPIO DE SACAMA</td>\n",
       "      <td>Casanare</td>\n",
       "      <td>Febrero</td>\n",
       "      <td>CCE-16-Servicios_profesionales_gestion</td>\n",
       "      <td>Sistemas de información ambiental</td>\n",
       "      <td>Auditoría ambiental</td>\n",
       "      <td>Gestión medioambiental</td>\n",
       "      <td>0-21.000.000</td>\n",
       "      <td>1</td>\n",
       "    </tr>\n",
       "    <tr>\n",
       "      <th>3</th>\n",
       "      <td>DIRECCION TERRITORIAL DE SALUD DE CALDAS</td>\n",
       "      <td>Caldas</td>\n",
       "      <td>Enero</td>\n",
       "      <td>CCE-16-Servicios_profesionales_gestion</td>\n",
       "      <td>Servicios de archivo de datos</td>\n",
       "      <td>Servicios de apoyo gerencial</td>\n",
       "      <td>Servicios de administración de empresas</td>\n",
       "      <td>0-21.000.000</td>\n",
       "      <td>0</td>\n",
       "    </tr>\n",
       "    <tr>\n",
       "      <th>4</th>\n",
       "      <td>DIRECCION TERRITORIAL DE SALUD DE CALDAS</td>\n",
       "      <td>Caldas</td>\n",
       "      <td>Enero</td>\n",
       "      <td>CCE-16-Servicios_profesionales_gestion</td>\n",
       "      <td>Servicios de archivo de datos</td>\n",
       "      <td>Servicios de apoyo gerencial</td>\n",
       "      <td>Servicios de administración de empresas</td>\n",
       "      <td>0-21.000.000</td>\n",
       "      <td>0</td>\n",
       "    </tr>\n",
       "  </tbody>\n",
       "</table>\n",
       "</div>"
      ],
      "text/plain": [
       "                                   entidad_matriz           localizacion_desc  \\\n",
       "0            EMPRESAS PUBLICAS DEL QUINDIO SA ESP                     Quindío   \n",
       "1  DIRECCION EJECUTIVA DE ADMINISTRACION JUDICIAL  Distrito Capital de Bogotá   \n",
       "2                             MUNICIPIO DE SACAMA                    Casanare   \n",
       "3        DIRECCION TERRITORIAL DE SALUD DE CALDAS                      Caldas   \n",
       "4        DIRECCION TERRITORIAL DE SALUD DE CALDAS                      Caldas   \n",
       "\n",
       "  mes_proyectado                                 modalidad  \\\n",
       "0          Enero    CCE-16-Servicios_profesionales_gestion   \n",
       "1     Septiembre  CCE-06-Seleccion_Abreviada_Menor_Cuantia   \n",
       "2        Febrero    CCE-16-Servicios_profesionales_gestion   \n",
       "3          Enero    CCE-16-Servicios_profesionales_gestion   \n",
       "4          Enero    CCE-16-Servicios_profesionales_gestion   \n",
       "\n",
       "                                     nombre_producto  \\\n",
       "0  Sistema y accesorios de conexión cruzada de co...   \n",
       "1  Mantenimiento de software de sistemas de gesti...   \n",
       "2                  Sistemas de información ambiental   \n",
       "3                      Servicios de archivo de datos   \n",
       "4                      Servicios de archivo de datos   \n",
       "\n",
       "                                        nombre_clase  \\\n",
       "0  Dispositivos y equipos para instalación de con...   \n",
       "1                Mantenimiento y soporte de software   \n",
       "2                                Auditoría ambiental   \n",
       "3                       Servicios de apoyo gerencial   \n",
       "4                       Servicios de apoyo gerencial   \n",
       "\n",
       "                                      nombre_familia             rango_precio  \\\n",
       "0  Equipos o plataformas y accesorios de redes mu...      43.827.961-81804454   \n",
       "1                             Servicios informáticos  81804454-2.9550.000.000   \n",
       "2                             Gestión medioambiental             0-21.000.000   \n",
       "3            Servicios de administración de empresas             0-21.000.000   \n",
       "4            Servicios de administración de empresas             0-21.000.000   \n",
       "\n",
       "   cluster_predicted  \n",
       "0                  0  \n",
       "1                  0  \n",
       "2                  1  \n",
       "3                  0  \n",
       "4                  0  "
      ]
     },
     "execution_count": 37,
     "metadata": {},
     "output_type": "execute_result"
    }
   ],
   "source": [
    "#combineddf.head()"
   ]
  },
  {
   "cell_type": "markdown",
   "metadata": {},
   "source": [
    "### Identificación de Cluster "
   ]
  },
  {
   "cell_type": "code",
   "execution_count": 38,
   "metadata": {},
   "outputs": [],
   "source": [
    "cluster_0 = combineddf[combineddf['cluster_predicted'] == 0]\n",
    "cluster_1 = combineddf[combineddf['cluster_predicted'] == 1]"
   ]
  },
  {
   "cell_type": "code",
   "execution_count": 39,
   "metadata": {},
   "outputs": [
    {
     "name": "stdout",
     "output_type": "stream",
     "text": [
      "<class 'pandas.core.frame.DataFrame'>\n",
      "Int64Index: 925 entries, 0 to 1283\n",
      "Data columns (total 9 columns):\n",
      " #   Column             Non-Null Count  Dtype   \n",
      "---  ------             --------------  -----   \n",
      " 0   entidad_matriz     925 non-null    object  \n",
      " 1   localizacion_desc  925 non-null    object  \n",
      " 2   mes_proyectado     925 non-null    object  \n",
      " 3   modalidad          925 non-null    object  \n",
      " 4   nombre_producto    925 non-null    object  \n",
      " 5   nombre_clase       925 non-null    object  \n",
      " 6   nombre_familia     925 non-null    object  \n",
      " 7   rango_precio       925 non-null    category\n",
      " 8   cluster_predicted  925 non-null    uint16  \n",
      "dtypes: category(1), object(7), uint16(1)\n",
      "memory usage: 60.7+ KB\n"
     ]
    }
   ],
   "source": [
    "cluster_0.info()"
   ]
  },
  {
   "cell_type": "code",
   "execution_count": 40,
   "metadata": {},
   "outputs": [
    {
     "name": "stdout",
     "output_type": "stream",
     "text": [
      "<class 'pandas.core.frame.DataFrame'>\n",
      "Int64Index: 360 entries, 2 to 1284\n",
      "Data columns (total 9 columns):\n",
      " #   Column             Non-Null Count  Dtype   \n",
      "---  ------             --------------  -----   \n",
      " 0   entidad_matriz     360 non-null    object  \n",
      " 1   localizacion_desc  360 non-null    object  \n",
      " 2   mes_proyectado     360 non-null    object  \n",
      " 3   modalidad          360 non-null    object  \n",
      " 4   nombre_producto    360 non-null    object  \n",
      " 5   nombre_clase       360 non-null    object  \n",
      " 6   nombre_familia     360 non-null    object  \n",
      " 7   rango_precio       360 non-null    category\n",
      " 8   cluster_predicted  360 non-null    uint16  \n",
      "dtypes: category(1), object(7), uint16(1)\n",
      "memory usage: 23.7+ KB\n"
     ]
    }
   ],
   "source": [
    "cluster_1.info()"
   ]
  },
  {
   "cell_type": "markdown",
   "metadata": {},
   "source": [
    "## Gráficos de Barras"
   ]
  },
  {
   "cell_type": "markdown",
   "metadata": {},
   "source": [
    "**Descripción de localización**"
   ]
  },
  {
   "cell_type": "code",
   "execution_count": 41,
   "metadata": {},
   "outputs": [
    {
     "data": {
      "image/png": "[encoded data removed]",
      "text/plain": [
       "<Figure size 1080x360 with 1 Axes>"
      ]
     },
     "metadata": {},
     "output_type": "display_data"
    }
   ],
   "source": [
    "plt.subplots(figsize = (15,5))\n",
    "sns.countplot(x=combineddf['localizacion_desc'],order=combineddf['localizacion_desc'].value_counts().index,hue=combineddf['cluster_predicted'])\n",
    "plt.xticks(rotation='vertical')\n",
    "plt.show()\n",
    "plt.savefig(DIR_ROOT + '/img/Localizacion01.png')"
   ]
  },
  {
   "cell_type": "markdown",
   "metadata": {},
   "source": [
    "**Mes proyectado**"
   ]
  },
  {
   "cell_type": "code",
   "execution_count": 42,
   "metadata": {},
   "outputs": [
    {
     "data": {
      "image/png": "[encoded data removed]",
      "text/plain": [
       "<Figure size 1080x360 with 1 Axes>"
      ]
     },
     "metadata": {},
     "output_type": "display_data"
    }
   ],
   "source": [
    "plt.subplots(figsize = (15,5))\n",
    "sns.countplot(x=combineddf['mes_proyectado'],order=combineddf['mes_proyectado'].value_counts().index,hue=combineddf['cluster_predicted'])\n",
    "plt.show()\n",
    "plt.savefig(DIR_ROOT + '/img/Mes_proyectado01.png')"
   ]
  },
  {
   "cell_type": "markdown",
   "metadata": {},
   "source": [
    "**Modalidad**"
   ]
  },
  {
   "cell_type": "code",
   "execution_count": 43,
   "metadata": {},
   "outputs": [
    {
     "data": {
      "image/png": "[encoded data removed]",
      "text/plain": [
       "<Figure size 1080x360 with 1 Axes>"
      ]
     },
     "metadata": {},
     "output_type": "display_data"
    }
   ],
   "source": [
    "plt.subplots(figsize = (15,5))\n",
    "sns.countplot(x=combineddf['modalidad'],order=combineddf['modalidad'].value_counts().index,hue=combineddf['cluster_predicted'])\n",
    "plt.xticks(rotation='vertical')\n",
    "plt.show()\n",
    "plt.savefig(DIR_ROOT + '/img/Modalidad01.png')"
   ]
  },
  {
   "cell_type": "markdown",
   "metadata": {},
   "source": [
    "**Rango de Precio**"
   ]
  },
  {
   "cell_type": "code",
   "execution_count": 44,
   "metadata": {},
   "outputs": [
    {
     "data": {
      "image/png": "[encoded data removed]",
      "text/plain": [
       "<Figure size 1080x360 with 1 Axes>"
      ]
     },
     "metadata": {},
     "output_type": "display_data"
    }
   ],
   "source": [
    "plt.subplots(figsize = (15,5))\n",
    "sns.countplot(x=combineddf['rango_precio'],order=combineddf['rango_precio'].value_counts().index,hue=combineddf['cluster_predicted'])\n",
    "plt.show()\n",
    "plt.savefig(DIR_ROOT + '/img/Rango_precio01.png')"
   ]
  },
  {
   "cell_type": "code",
   "execution_count": 45,
   "metadata": {},
   "outputs": [
    {
     "data": {
      "text/html": [
       "<div>\n",
       "<style scoped>\n",
       "    .dataframe tbody tr th:only-of-type {\n",
       "        vertical-align: middle;\n",
       "    }\n",
       "\n",
       "    .dataframe tbody tr th {\n",
       "        vertical-align: top;\n",
       "    }\n",
       "\n",
       "    .dataframe thead th {\n",
       "        text-align: right;\n",
       "    }\n",
       "</style>\n",
       "<table border=\"1\" class=\"dataframe\">\n",
       "  <thead>\n",
       "    <tr style=\"text-align: right;\">\n",
       "      <th></th>\n",
       "      <th>entidad_matriz</th>\n",
       "      <th>localizacion_desc</th>\n",
       "      <th>mes_proyectado</th>\n",
       "      <th>modalidad</th>\n",
       "      <th>nombre_producto</th>\n",
       "      <th>nombre_clase</th>\n",
       "      <th>nombre_familia</th>\n",
       "      <th>rango_precio</th>\n",
       "      <th>cluster_predicted</th>\n",
       "    </tr>\n",
       "  </thead>\n",
       "  <tbody>\n",
       "    <tr>\n",
       "      <th>0</th>\n",
       "      <td>EMPRESAS PUBLICAS DEL QUINDIO SA ESP</td>\n",
       "      <td>Quindío</td>\n",
       "      <td>Enero</td>\n",
       "      <td>CCE-16-Servicios_profesionales_gestion</td>\n",
       "      <td>Sistema y accesorios de conexión cruzada de co...</td>\n",
       "      <td>Dispositivos y equipos para instalación de con...</td>\n",
       "      <td>Equipos o plataformas y accesorios de redes mu...</td>\n",
       "      <td>43.827.961-81804454</td>\n",
       "      <td>0</td>\n",
       "    </tr>\n",
       "    <tr>\n",
       "      <th>1</th>\n",
       "      <td>DIRECCION EJECUTIVA DE ADMINISTRACION JUDICIAL</td>\n",
       "      <td>Distrito Capital de Bogotá</td>\n",
       "      <td>Septiembre</td>\n",
       "      <td>CCE-06-Seleccion_Abreviada_Menor_Cuantia</td>\n",
       "      <td>Mantenimiento de software de sistemas de gesti...</td>\n",
       "      <td>Mantenimiento y soporte de software</td>\n",
       "      <td>Servicios informáticos</td>\n",
       "      <td>81804454-2.9550.000.000</td>\n",
       "      <td>0</td>\n",
       "    </tr>\n",
       "    <tr>\n",
       "      <th>2</th>\n",
       "      <td>MUNICIPIO DE SACAMA</td>\n",
       "      <td>Casanare</td>\n",
       "      <td>Febrero</td>\n",
       "      <td>CCE-16-Servicios_profesionales_gestion</td>\n",
       "      <td>Sistemas de información ambiental</td>\n",
       "      <td>Auditoría ambiental</td>\n",
       "      <td>Gestión medioambiental</td>\n",
       "      <td>0-21.000.000</td>\n",
       "      <td>1</td>\n",
       "    </tr>\n",
       "    <tr>\n",
       "      <th>3</th>\n",
       "      <td>DIRECCION TERRITORIAL DE SALUD DE CALDAS</td>\n",
       "      <td>Caldas</td>\n",
       "      <td>Enero</td>\n",
       "      <td>CCE-16-Servicios_profesionales_gestion</td>\n",
       "      <td>Servicios de archivo de datos</td>\n",
       "      <td>Servicios de apoyo gerencial</td>\n",
       "      <td>Servicios de administración de empresas</td>\n",
       "      <td>0-21.000.000</td>\n",
       "      <td>0</td>\n",
       "    </tr>\n",
       "    <tr>\n",
       "      <th>4</th>\n",
       "      <td>DIRECCION TERRITORIAL DE SALUD DE CALDAS</td>\n",
       "      <td>Caldas</td>\n",
       "      <td>Enero</td>\n",
       "      <td>CCE-16-Servicios_profesionales_gestion</td>\n",
       "      <td>Servicios de archivo de datos</td>\n",
       "      <td>Servicios de apoyo gerencial</td>\n",
       "      <td>Servicios de administración de empresas</td>\n",
       "      <td>0-21.000.000</td>\n",
       "      <td>0</td>\n",
       "    </tr>\n",
       "  </tbody>\n",
       "</table>\n",
       "</div>"
      ],
      "text/plain": [
       "                                   entidad_matriz           localizacion_desc  \\\n",
       "0            EMPRESAS PUBLICAS DEL QUINDIO SA ESP                     Quindío   \n",
       "1  DIRECCION EJECUTIVA DE ADMINISTRACION JUDICIAL  Distrito Capital de Bogotá   \n",
       "2                             MUNICIPIO DE SACAMA                    Casanare   \n",
       "3        DIRECCION TERRITORIAL DE SALUD DE CALDAS                      Caldas   \n",
       "4        DIRECCION TERRITORIAL DE SALUD DE CALDAS                      Caldas   \n",
       "\n",
       "  mes_proyectado                                 modalidad  \\\n",
       "0          Enero    CCE-16-Servicios_profesionales_gestion   \n",
       "1     Septiembre  CCE-06-Seleccion_Abreviada_Menor_Cuantia   \n",
       "2        Febrero    CCE-16-Servicios_profesionales_gestion   \n",
       "3          Enero    CCE-16-Servicios_profesionales_gestion   \n",
       "4          Enero    CCE-16-Servicios_profesionales_gestion   \n",
       "\n",
       "                                     nombre_producto  \\\n",
       "0  Sistema y accesorios de conexión cruzada de co...   \n",
       "1  Mantenimiento de software de sistemas de gesti...   \n",
       "2                  Sistemas de información ambiental   \n",
       "3                      Servicios de archivo de datos   \n",
       "4                      Servicios de archivo de datos   \n",
       "\n",
       "                                        nombre_clase  \\\n",
       "0  Dispositivos y equipos para instalación de con...   \n",
       "1                Mantenimiento y soporte de software   \n",
       "2                                Auditoría ambiental   \n",
       "3                       Servicios de apoyo gerencial   \n",
       "4                       Servicios de apoyo gerencial   \n",
       "\n",
       "                                      nombre_familia             rango_precio  \\\n",
       "0  Equipos o plataformas y accesorios de redes mu...      43.827.961-81804454   \n",
       "1                             Servicios informáticos  81804454-2.9550.000.000   \n",
       "2                             Gestión medioambiental             0-21.000.000   \n",
       "3            Servicios de administración de empresas             0-21.000.000   \n",
       "4            Servicios de administración de empresas             0-21.000.000   \n",
       "\n",
       "   cluster_predicted  \n",
       "0                  0  \n",
       "1                  0  \n",
       "2                  1  \n",
       "3                  0  \n",
       "4                  0  "
      ]
     },
     "execution_count": 45,
     "metadata": {},
     "output_type": "execute_result"
    }
   ],
   "source": [
    "#combineddf.head()"
   ]
  },
  {
   "cell_type": "markdown",
   "metadata": {},
   "source": [
    "## Vista de clusters final"
   ]
  },
  {
   "cell_type": "code",
   "execution_count": 65,
   "metadata": {},
   "outputs": [],
   "source": [
    "df_fin = df.reset_index()"
   ]
  },
  {
   "cell_type": "code",
   "execution_count": 66,
   "metadata": {},
   "outputs": [],
   "source": [
    "df_fin = df_fin.drop(['index'], axis = 1)"
   ]
  },
  {
   "cell_type": "code",
   "execution_count": 67,
   "metadata": {},
   "outputs": [],
   "source": [
    "cluster_predicted=combineddf[\"cluster_predicted\"]\n",
    "df_fin = df_fin.join(cluster_predicted)"
   ]
  },
  {
   "cell_type": "code",
   "execution_count": 69,
   "metadata": {},
   "outputs": [
    {
     "data": {
      "text/html": [
       "<div>\n",
       "<style scoped>\n",
       "    .dataframe tbody tr th:only-of-type {\n",
       "        vertical-align: middle;\n",
       "    }\n",
       "\n",
       "    .dataframe tbody tr th {\n",
       "        vertical-align: top;\n",
       "    }\n",
       "\n",
       "    .dataframe thead th {\n",
       "        text-align: right;\n",
       "    }\n",
       "</style>\n",
       "<table border=\"1\" class=\"dataframe\">\n",
       "  <thead>\n",
       "    <tr style=\"text-align: right;\">\n",
       "      <th></th>\n",
       "      <th>nit</th>\n",
       "      <th>entidad_matriz</th>\n",
       "      <th>year</th>\n",
       "      <th>entidad</th>\n",
       "      <th>localizacion</th>\n",
       "      <th>localizacion_desc</th>\n",
       "      <th>mision_vision</th>\n",
       "      <th>pers_estrategica</th>\n",
       "      <th>ppto_global</th>\n",
       "      <th>mes_proyectado</th>\n",
       "      <th>...</th>\n",
       "      <th>cod_producto</th>\n",
       "      <th>nombre_producto</th>\n",
       "      <th>cod_clase</th>\n",
       "      <th>nombre_clase</th>\n",
       "      <th>cod_familia</th>\n",
       "      <th>nombre_familia</th>\n",
       "      <th>diff_dates</th>\n",
       "      <th>year_publised</th>\n",
       "      <th>rango_precio</th>\n",
       "      <th>cluster_predicted</th>\n",
       "    </tr>\n",
       "  </thead>\n",
       "  <tbody>\n",
       "    <tr>\n",
       "      <th>0</th>\n",
       "      <td>800063823</td>\n",
       "      <td>EMPRESAS PUBLICAS DEL QUINDIO SA ESP</td>\n",
       "      <td>2019</td>\n",
       "      <td>EMPRESAS PUBLICAS DEL QUINDIO SA ESP</td>\n",
       "      <td>CO-QUI-63001</td>\n",
       "      <td>Quindío</td>\n",
       "      <td>MISIÓN Empresas Públicas del Quindío, EPQ SA E...</td>\n",
       "      <td>Ejecutar alternativas de acción que logren lle...</td>\n",
       "      <td>11686350896</td>\n",
       "      <td>Enero</td>\n",
       "      <td>...</td>\n",
       "      <td>V1.43223301</td>\n",
       "      <td>Sistema y accesorios de conexión cruzada de co...</td>\n",
       "      <td>V1.43223300</td>\n",
       "      <td>Dispositivos y equipos para instalación de con...</td>\n",
       "      <td>V1.43220000</td>\n",
       "      <td>Equipos o plataformas y accesorios de redes mu...</td>\n",
       "      <td>0</td>\n",
       "      <td>2019</td>\n",
       "      <td>43.827.961-81804454</td>\n",
       "      <td>0</td>\n",
       "    </tr>\n",
       "    <tr>\n",
       "      <th>1</th>\n",
       "      <td>800093816</td>\n",
       "      <td>DIRECCION EJECUTIVA DE ADMINISTRACION JUDICIAL</td>\n",
       "      <td>2019</td>\n",
       "      <td>Rama Judicial  Dirección Ejecutiva de Adminis...</td>\n",
       "      <td>CO-DC-11001</td>\n",
       "      <td>Distrito Capital de Bogotá</td>\n",
       "      <td>MISION: Dar cumplimiento al mandato constituci...</td>\n",
       "      <td>Garantizar la publicidad, concurrencia y parti...</td>\n",
       "      <td>271627572050</td>\n",
       "      <td>Septiembre</td>\n",
       "      <td>...</td>\n",
       "      <td>V1.81112205</td>\n",
       "      <td>Mantenimiento de software de sistemas de gesti...</td>\n",
       "      <td>V1.81112200</td>\n",
       "      <td>Mantenimiento y soporte de software</td>\n",
       "      <td>V1.81110000</td>\n",
       "      <td>Servicios informáticos</td>\n",
       "      <td>316</td>\n",
       "      <td>2019</td>\n",
       "      <td>81804454-2.9550.000.000</td>\n",
       "      <td>0</td>\n",
       "    </tr>\n",
       "    <tr>\n",
       "      <th>2</th>\n",
       "      <td>800103663</td>\n",
       "      <td>MUNICIPIO DE SACAMA</td>\n",
       "      <td>2019</td>\n",
       "      <td>MUNICIPIO DE SACAMA</td>\n",
       "      <td>CO-CAS-85315</td>\n",
       "      <td>Casanare</td>\n",
       "      <td>MISION: Direccionar la gestión del Municipio c...</td>\n",
       "      <td>El Plan Anual de Adquisiciones es un documento...</td>\n",
       "      <td>1933451706</td>\n",
       "      <td>Febrero</td>\n",
       "      <td>...</td>\n",
       "      <td>V1.77101801</td>\n",
       "      <td>Sistemas de información ambiental</td>\n",
       "      <td>V1.77101800</td>\n",
       "      <td>Auditoría ambiental</td>\n",
       "      <td>V1.77100000</td>\n",
       "      <td>Gestión medioambiental</td>\n",
       "      <td>11</td>\n",
       "      <td>2019</td>\n",
       "      <td>0-21.000.000</td>\n",
       "      <td>1</td>\n",
       "    </tr>\n",
       "    <tr>\n",
       "      <th>3</th>\n",
       "      <td>800114312</td>\n",
       "      <td>DIRECCION TERRITORIAL DE SALUD DE CALDAS</td>\n",
       "      <td>2019</td>\n",
       "      <td>DIRECCIÓN TERRITORIAL DE SALUD DE CALDAS</td>\n",
       "      <td>CO-CAL-17001</td>\n",
       "      <td>Caldas</td>\n",
       "      <td>MISIÓN: Realizar acciones de Asistencia Técnic...</td>\n",
       "      <td>Para dar cumplimiento con el Plan de  Desarrol...</td>\n",
       "      <td>51750899436</td>\n",
       "      <td>Enero</td>\n",
       "      <td>...</td>\n",
       "      <td>V1.80161506</td>\n",
       "      <td>Servicios de archivo de datos</td>\n",
       "      <td>V1.80161500</td>\n",
       "      <td>Servicios de apoyo gerencial</td>\n",
       "      <td>V1.80160000</td>\n",
       "      <td>Servicios de administración de empresas</td>\n",
       "      <td>358</td>\n",
       "      <td>2018</td>\n",
       "      <td>0-21.000.000</td>\n",
       "      <td>0</td>\n",
       "    </tr>\n",
       "    <tr>\n",
       "      <th>4</th>\n",
       "      <td>800114312</td>\n",
       "      <td>DIRECCION TERRITORIAL DE SALUD DE CALDAS</td>\n",
       "      <td>2019</td>\n",
       "      <td>DIRECCIÓN TERRITORIAL DE SALUD DE CALDAS</td>\n",
       "      <td>CO-CAL-17001</td>\n",
       "      <td>Caldas</td>\n",
       "      <td>MISIÓN: Realizar acciones de Asistencia Técnic...</td>\n",
       "      <td>Para dar cumplimiento con el Plan de  Desarrol...</td>\n",
       "      <td>51750899436</td>\n",
       "      <td>Enero</td>\n",
       "      <td>...</td>\n",
       "      <td>V1.80161506</td>\n",
       "      <td>Servicios de archivo de datos</td>\n",
       "      <td>V1.80161500</td>\n",
       "      <td>Servicios de apoyo gerencial</td>\n",
       "      <td>V1.80160000</td>\n",
       "      <td>Servicios de administración de empresas</td>\n",
       "      <td>358</td>\n",
       "      <td>2018</td>\n",
       "      <td>0-21.000.000</td>\n",
       "      <td>0</td>\n",
       "    </tr>\n",
       "  </tbody>\n",
       "</table>\n",
       "<p>5 rows × 26 columns</p>\n",
       "</div>"
      ],
      "text/plain": [
       "         nit                                  entidad_matriz  year  \\\n",
       "0  800063823            EMPRESAS PUBLICAS DEL QUINDIO SA ESP  2019   \n",
       "1  800093816  DIRECCION EJECUTIVA DE ADMINISTRACION JUDICIAL  2019   \n",
       "2  800103663                             MUNICIPIO DE SACAMA  2019   \n",
       "3  800114312        DIRECCION TERRITORIAL DE SALUD DE CALDAS  2019   \n",
       "4  800114312        DIRECCION TERRITORIAL DE SALUD DE CALDAS  2019   \n",
       "\n",
       "                                             entidad  localizacion  \\\n",
       "0               EMPRESAS PUBLICAS DEL QUINDIO SA ESP  CO-QUI-63001   \n",
       "1  Rama Judicial  Dirección Ejecutiva de Adminis...   CO-DC-11001   \n",
       "2                                MUNICIPIO DE SACAMA  CO-CAS-85315   \n",
       "3           DIRECCIÓN TERRITORIAL DE SALUD DE CALDAS  CO-CAL-17001   \n",
       "4           DIRECCIÓN TERRITORIAL DE SALUD DE CALDAS  CO-CAL-17001   \n",
       "\n",
       "            localizacion_desc  \\\n",
       "0                     Quindío   \n",
       "1  Distrito Capital de Bogotá   \n",
       "2                    Casanare   \n",
       "3                      Caldas   \n",
       "4                      Caldas   \n",
       "\n",
       "                                       mision_vision  \\\n",
       "0  MISIÓN Empresas Públicas del Quindío, EPQ SA E...   \n",
       "1  MISION: Dar cumplimiento al mandato constituci...   \n",
       "2  MISION: Direccionar la gestión del Municipio c...   \n",
       "3  MISIÓN: Realizar acciones de Asistencia Técnic...   \n",
       "4  MISIÓN: Realizar acciones de Asistencia Técnic...   \n",
       "\n",
       "                                    pers_estrategica   ppto_global  \\\n",
       "0  Ejecutar alternativas de acción que logren lle...   11686350896   \n",
       "1  Garantizar la publicidad, concurrencia y parti...  271627572050   \n",
       "2  El Plan Anual de Adquisiciones es un documento...    1933451706   \n",
       "3  Para dar cumplimiento con el Plan de  Desarrol...   51750899436   \n",
       "4  Para dar cumplimiento con el Plan de  Desarrol...   51750899436   \n",
       "\n",
       "  mes_proyectado  ...  cod_producto  \\\n",
       "0          Enero  ...   V1.43223301   \n",
       "1     Septiembre  ...   V1.81112205   \n",
       "2        Febrero  ...   V1.77101801   \n",
       "3          Enero  ...   V1.80161506   \n",
       "4          Enero  ...   V1.80161506   \n",
       "\n",
       "                                     nombre_producto    cod_clase  \\\n",
       "0  Sistema y accesorios de conexión cruzada de co...  V1.43223300   \n",
       "1  Mantenimiento de software de sistemas de gesti...  V1.81112200   \n",
       "2                  Sistemas de información ambiental  V1.77101800   \n",
       "3                      Servicios de archivo de datos  V1.80161500   \n",
       "4                      Servicios de archivo de datos  V1.80161500   \n",
       "\n",
       "                                        nombre_clase  cod_familia  \\\n",
       "0  Dispositivos y equipos para instalación de con...  V1.43220000   \n",
       "1                Mantenimiento y soporte de software  V1.81110000   \n",
       "2                                Auditoría ambiental  V1.77100000   \n",
       "3                       Servicios de apoyo gerencial  V1.80160000   \n",
       "4                       Servicios de apoyo gerencial  V1.80160000   \n",
       "\n",
       "                                      nombre_familia diff_dates year_publised  \\\n",
       "0  Equipos o plataformas y accesorios de redes mu...          0          2019   \n",
       "1                             Servicios informáticos        316          2019   \n",
       "2                             Gestión medioambiental         11          2019   \n",
       "3            Servicios de administración de empresas        358          2018   \n",
       "4            Servicios de administración de empresas        358          2018   \n",
       "\n",
       "              rango_precio cluster_predicted  \n",
       "0      43.827.961-81804454                 0  \n",
       "1  81804454-2.9550.000.000                 0  \n",
       "2             0-21.000.000                 1  \n",
       "3             0-21.000.000                 0  \n",
       "4             0-21.000.000                 0  \n",
       "\n",
       "[5 rows x 26 columns]"
      ]
     },
     "execution_count": 69,
     "metadata": {},
     "output_type": "execute_result"
    }
   ],
   "source": [
    "df_fin.head()"
   ]
  },
  {
   "cell_type": "code",
   "execution_count": 70,
   "metadata": {},
   "outputs": [
    {
     "data": {
      "text/plain": [
       "(1285, 26)"
      ]
     },
     "execution_count": 70,
     "metadata": {},
     "output_type": "execute_result"
    }
   ],
   "source": [
    "df_fin.shape"
   ]
  },
  {
   "cell_type": "markdown",
   "metadata": {},
   "source": [
    "## Exportar base de datos segmentada"
   ]
  },
  {
   "cell_type": "code",
   "execution_count": 71,
   "metadata": {},
   "outputs": [],
   "source": [
    "df_fin.to_csv(DIR_DATA + '04-Refined/Cluster_final01.csv')"
   ]
  },
  {
   "cell_type": "code",
   "execution_count": 72,
   "metadata": {},
   "outputs": [],
   "source": [
    "df_fin.to_pickle(DIR_DATA + '04-Refined/Cluster_final01.pickle')"
   ]
  },
  {
   "cell_type": "markdown",
   "metadata": {},
   "source": [
    "## Fin cluster"
   ]
  }
 ],
 "metadata": {
  "kernelspec": {
   "display_name": "Python 3",
   "language": "python",
   "name": "python3"
  },
  "language_info": {
   "codemirror_mode": {
    "name": "ipython",
    "version": 3
   },
   "file_extension": ".py",
   "mimetype": "text/x-python",
   "name": "python",
   "nbconvert_exporter": "python",
   "pygments_lexer": "ipython3",
   "version": "3.8.5"
  }
 },
 "nbformat": 4,
 "nbformat_minor": 4
}
