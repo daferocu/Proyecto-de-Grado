{
  "nbformat": 4,
  "nbformat_minor": 0,
  "metadata": {
    "colab": {
      "provenance": []
    },
    "kernelspec": {
      "display_name": "Python 3",
      "name": "python3"
    }
  },
  "cells": [
    {
      "cell_type": "markdown",
      "metadata": {
        "id": "wRxg0URUrpTH"
      },
      "source": [
        "## Questions to take into account:\n",
        "\n",
        "### What is \"data\"?\n",
        "\n",
        "You can go onto Wikipedia or read books to get an answer to this question, but most of those sources will give you a very pedantic, unintuitive definition. Instead, we're going to go with the colloquial definition of data as \"something whose value you care about”. You won't find that in any formal treatment of the subject, but for now, it is good enough. Your name, age, and telephone number are data about you. Your bank savings, your address, and your parents' names are data that relate to you. We have data about everything, everywhere.\n",
        "\n",
        "## What is data science? (10 mts)\n",
        "\n",
        "Now that we know what data is, we can now ask: \"What is data science?\" Science, in the language of the scientific method, is:\n",
        "\n",
        "1. Formulating hypotheses, or guesses about how the world works, based on observations of the world around us\n",
        "2. Validating or invalidating those hypotheses by conducting experiments\n",
        "\n",
        "Unlike the pure sciences though, working with data doesn't necessarily require conducting experiments (although it could!). Rather, many times the data has already been collected and organized by someone else. So the scientific method, as applied to data, can be summarized as: **\"Formulating hypotheses based on the world around us, then analyzing relevant data to validate or invalidate our hypotheses.\"**"
      ]
    },
    {
      "cell_type": "markdown",
      "metadata": {
        "id": "sNEnkaKOUIFr"
      },
      "source": [
        "# Setting Colab, and Getting data from path in MyDrive"
      ]
    },
    {
      "cell_type": "code",
      "metadata": {
        "id": "sQY4blwuURme"
      },
      "source": [
        "# Load Packages\n",
        "import os,sys\n",
        "import pandas as pd\n",
        "import numpy as np\n",
        "\n",
        "# This line is needed to display plots inline in Jupyter Notebook\n",
        "%matplotlib inline\n",
        "\n",
        "# Required for basic python plotting functionality\n",
        "import matplotlib.pyplot as plt\n",
        "\n",
        "# Required for formatting dates later in the case\n",
        "import datetime\n",
        "import matplotlib.dates as mdates\n",
        "\n",
        "# Required to display image inline\n",
        "from IPython.display import Image\n",
        "\n",
        "# Advanced plotting functionality with seaborn\n",
        "import seaborn as sns\n",
        "sns.set(style=\"whitegrid\") # can set style depending on how you'd like it to look\n"
      ],
      "execution_count": null,
      "outputs": []
    },
    {
      "cell_type": "code",
      "metadata": {
        "id": "POX77lB7WJgp"
      },
      "source": [
        "# Loading specific things with pandas\n",
        "from pandas_profiling import ProfileReport\n",
        "from datetime import datetime"
      ],
      "execution_count": null,
      "outputs": []
    },
    {
      "cell_type": "code",
      "metadata": {
        "colab": {
          "base_uri": "https://localhost:8080/"
        },
        "id": "Qsz7uVd7UJC9",
        "outputId": "44b1565a-2a8d-4b9e-d2eb-437ff2d168f2"
      },
      "source": [
        "# This cell will prompt you to connect this notebook with your google account.\n",
        "from google.colab import drive\n",
        "drive.mount('/content/gdrive', force_remount=True)\n",
        "root_dir = \"/content/gdrive/My Drive/\""
      ],
      "execution_count": null,
      "outputs": [
        {
          "output_type": "stream",
          "text": [
            "Mounted at /content/gdrive\n"
          ],
          "name": "stdout"
        }
      ]
    },
    {
      "cell_type": "code",
      "metadata": {
        "colab": {
          "base_uri": "https://localhost:8080/"
        },
        "id": "AC1Rn7esUK33",
        "outputId": "b6286f51-6a61-4fff-bae9-c987553ff5fc"
      },
      "source": [
        "import os\n",
        "base_dir = \"/content/gdrive/My Drive/Colab Notebooks/CAOBA/Segmentation/\"\n",
        "print(base_dir)"
      ],
      "execution_count": null,
      "outputs": [
        {
          "output_type": "stream",
          "text": [
            "/content/gdrive/My Drive/Colab Notebooks/CAOBA/Segmentation/\n"
          ],
          "name": "stdout"
        }
      ]
    },
    {
      "cell_type": "markdown",
      "metadata": {
        "id": "msxUJZxwWu97"
      },
      "source": [
        "# Cuales empresas deberian contactarse desde la gestion comercial de CAOBA que tenga mayor inclinacion analitica ?\n"
      ]
    },
    {
      "cell_type": "markdown",
      "metadata": {
        "id": "cvgtf-eEXPwg"
      },
      "source": [
        "**Business Context.** Como estrategia de Alianza CAOBA se quiere entender del universo de empresas (Privadas y Publicas) cuales son las que tienen mayor inclinacion analitica para ser contactadas y asi enfocar mejor los esfuerzo de la estrategia comercial"
      ]
    },
    {
      "cell_type": "markdown",
      "metadata": {
        "id": "oIXInBxrXUWp"
      },
      "source": [
        "**Business Problem.** El lider de innovacion quiere resolver la siguiente pregunta: **\"Cuales son las empresas que se deben contactar dado variables asociadas con innovacion en analtica internamente en las entidades (Privadas y Publicas)\"**. \n",
        "\n",
        "\n",
        "\n"
      ]
    },
    {
      "cell_type": "markdown",
      "metadata": {
        "id": "KHtkARmmXUlY"
      },
      "source": [
        "**Analytical Context.** Las fuentes a usar son:\n",
        "\n",
        "*   1000 empresas (Privado)\n",
        "*   Plan Anual Secop (Publico)\n",
        "*   Innovación (revista semana / dinero)\n",
        "\n",
        "Se quiere al final de este ejercicio tener una solucion capaz de:\n",
        "\n",
        "1.   Recibir las fuentes organizadas\n",
        "2.   Generar una vista minable\n",
        "3.   Modelo que de como resultado una metricas (entre 0 y 1) que permite determinar un top de empresas sobre las cuales se debe implementar la estrategia comercial\n",
        "\n",
        "**Anotaciones:**\n",
        "\n",
        "-Parte 1:\n",
        "\t-A quien debo yo ir a ver si son potenciales clientes\n",
        "\n",
        "-Parte 2:\n",
        "\t-Cual de esas empresas tiene mayor posibilidad de aceptarme un proyecto de analitica ? \n",
        "\n",
        "\n",
        "\n",
        "Lista organizada con un indice o ranking (posible de 0 a 1) de adquirir servicios de analítica\n",
        "\n",
        "Listado resultante seria el backlog \n",
        "\n",
        "Que de analítica:\n",
        "Se quiere sumar privado + publico para tener universo de empresas mas grande. \n",
        "\n",
        "Que fuente nos indica que por empresa piensa gastar en analítica ?\n",
        "\n",
        "Que compañías del Colombia quieren gastar en analíticas ?\n"
      ]
    },
    {
      "cell_type": "markdown",
      "metadata": {
        "id": "TFcGPlqwWVUT"
      },
      "source": [
        "# Getting started with Segmentation data"
      ]
    },
    {
      "cell_type": "markdown",
      "metadata": {
        "id": "WZ09lBJiWiaf"
      },
      "source": [
        "Las fuentes a usar:\n",
        "\n",
        "\n",
        "*   1000 empresas (Privado) [Datos Abiertos-1000 empresas](https://www.datos.gov.co/Econom-a-y-Finanzas/1000-Empresas-mas-grandes-del-pa-s/8hn7-rpp8)\n",
        "*   Plan Anual Secop (Publico) [Datos Abiertos-Plan Anual](https://www.datos.gov.co/Gastos-Gubernamentales/Plan-Anual-de-Adquisiciones-SECOP-II/edfp-tdwk)\n",
        "\n",
        "**Additional research:**\n",
        "\n",
        "1.https://powerbidocs.com/2020/09/29/how-to-connect-google-sheet-to-power-bi/\n"
      ]
    },
    {
      "cell_type": "code",
      "metadata": {
        "id": "k6LO-yxlWOnC"
      },
      "source": [
        "#df_secopII  = pd.read_csv(base_dir+\"DATOS/1000_Empresas_mas_grandes_del_pa_s.csv\")\n",
        "#df_eac_2018 = pd.read_csv(base_dir+\"DATOS/EAC_2018.csv\",sep=\";\")\n",
        "#df_eac_tic_2018 = pd.read_csv(base_dir+\"DATOS/EAC_TIC_2018.csv\",sep=\";\")\n",
        "df_secopII = pd.read_csv(base_dir+\"DATOS/Plan_Anual_de_Adquisiciones_-_SECOP_II.csv\")\n"
      ],
      "execution_count": null,
      "outputs": []
    },
    {
      "cell_type": "markdown",
      "metadata": {
        "id": "wzhnM3-QlUB3"
      },
      "source": [
        "# Fuente 2: Plan Anual Secop "
      ]
    },
    {
      "cell_type": "markdown",
      "metadata": {
        "id": "BxOUpE6vlaeG"
      },
      "source": [
        "## Links a fuentes relacionados con entidades Publicas\n",
        "\n",
        "\n",
        "*   https://www.datos.gov.co/Gastos-Gubernamentales/Plan-Anual-de-Adquisiciones-SECOP-II/edfp-tdwk (Secop II)\n",
        "\n",
        "*   https://www.datos.gov.co/Gastos-Gubernamentales/Plan-Anual-de-Adquisiciones-SECOP-I/sit3-h7ku (Secop I)\n",
        "\n",
        "*   https://www.datos.gov.co/Gastos-Gubernamentales/SECOP-II-PAA-2020/e4az-bdgu (Secop II por Item)\n",
        "\n",
        "*   https://www.datos.gov.co/Gastos-Gubernamentales/SECOP-II-PAA-2021/vfr3-uxzh (Secop II por Item PAA)\n",
        "\n",
        "*   datos.gov.co/Minas-y-Energ-a/ANM-Plan-Anual-de-Adquisiciones-Vigente/5h7z-n43z (Sector Mineria)\n",
        "\n",
        "*  https://www.datos.gov.co/Organismos-de-Control/Plan-Anual-de-Adquisiciones-2021/vygj-p5dr (SOLO POPAYAN)\n",
        "\n",
        "\n",
        "### Luego de charla con Juan Sebastian de lo que le envio Efrain, existen la siguiente fuente:\n",
        "[Resultados de FURAT](https://drive.google.com/file/d/1QXuLPr4dwEW2W_oD2O8ePTnESkeBYFL2/view?usp=sharing)\n",
        "\n",
        "## Diccionario\n",
        "\n",
        "FALTA\n"
      ]
    },
    {
      "cell_type": "markdown",
      "metadata": {
        "id": "eb59U8bXf1Ig"
      },
      "source": [
        "## Links de apoyo:\n",
        "\n",
        "[Support of EDA](https://towardsdatascience.com/an-extensive-guide-to-exploratory-data-analysis-ddd99a03199e)\n",
        "\n",
        "[Support of missing data](https://towardsdatascience.com/data-cleaning-with-python-and-pandas-detecting-missing-values-3e9c6ebcf78b)\n",
        "\n",
        "[Support of visualization](https://towardsdatascience.com/5-advanced-visualisation-for-exploratory-data-analysis-eda-c8eafeb0b8cb)"
      ]
    },
    {
      "cell_type": "markdown",
      "metadata": {
        "id": "ONvDg-9is6QL"
      },
      "source": [
        "## Entendiendo variables y su distribucion (Adicionando el resultado de Pandas Profiling)"
      ]
    },
    {
      "cell_type": "code",
      "metadata": {
        "id": "LUvJjQddagKO"
      },
      "source": [
        "dtypes_dict_secopII = {\n",
        "     'Anno':                        np.int64, \n",
        "     'Identificador PAA':           str,  \n",
        "     'Entidad':                     str, \n",
        "     'NIT':                         np.int64,\n",
        "     'Localización':                str,  \n",
        "     'DescripcionUbicacion':        str, \n",
        "     'Mision/Vision':               str, \n",
        "     'Perspectiva Estrategica':     str, \n",
        "     'Presupuesto Menor Cuantia':   np.int64, \n",
        "     'Presupuesto Minima Cuantia':  np.int64, \n",
        "     'Presupuesto Global':          np.int64, \n",
        "     'Fecha Primera Publicación':   str, #Posible date\n",
        "     'Mes Proyectado':              str,\n",
        "     'Identificador Item':          str,\n",
        "     'Categoria Principal':         str,\n",
        "     'Precio Base':                 np.int64,\n",
        "     'Ultima Fecha Modificacion':   str, #Posible date\n",
        "     'Version':                     str,\n",
        "     'Referencia Contrato':        str,\n",
        "     'Referencia Operacion':        str,\n",
        "     'Fecha Publicacion':           str, #Posible date\n",
        "     'Modalidad':                   str, \n",
        "     'Contacto':                    str,\n",
        "     'UNSPSC - Codigo Producto':    str,\n",
        "     'UNSPSC - Nombre Producto':    str, \n",
        "     'UNSPSC - Codigo Clase':       str,\n",
        "     'UNSPSC - Nombre Clase':       str,\n",
        "     'UNSPSC - Codigo Familia':     str,\n",
        "     'UNSPSC - Nombre Familia':     str\n",
        "    \n",
        "}\n",
        "df_secopII = pd.read_csv(base_dir+\"DATOS/Plan_Anual_de_Adquisiciones_-_SECOP_II.csv\",dtype=dtypes_dict_secopII)\n"
      ],
      "execution_count": null,
      "outputs": []
    },
    {
      "cell_type": "code",
      "metadata": {
        "colab": {
          "base_uri": "https://localhost:8080/",
          "height": 530
        },
        "id": "YqbN25LHci1M",
        "outputId": "8ed41b7f-c17d-4dde-d26b-a00e0305f69d"
      },
      "source": [
        "# Generando un head\n",
        "df_secopII.head()"
      ],
      "execution_count": null,
      "outputs": [
        {
          "output_type": "execute_result",
          "data": {
            "text/html": [
              "<div>\n",
              "<style scoped>\n",
              "    .dataframe tbody tr th:only-of-type {\n",
              "        vertical-align: middle;\n",
              "    }\n",
              "\n",
              "    .dataframe tbody tr th {\n",
              "        vertical-align: top;\n",
              "    }\n",
              "\n",
              "    .dataframe thead th {\n",
              "        text-align: right;\n",
              "    }\n",
              "</style>\n",
              "<table border=\"1\" class=\"dataframe\">\n",
              "  <thead>\n",
              "    <tr style=\"text-align: right;\">\n",
              "      <th></th>\n",
              "      <th>Anno</th>\n",
              "      <th>Identificador PAA</th>\n",
              "      <th>Entidad</th>\n",
              "      <th>NIT</th>\n",
              "      <th>Localización</th>\n",
              "      <th>DescripcionUbicacion</th>\n",
              "      <th>Mision/Vision</th>\n",
              "      <th>Perspectiva Estrategica</th>\n",
              "      <th>Presupuesto Menor Cuantia</th>\n",
              "      <th>Presupuesto Minima Cuantia</th>\n",
              "      <th>Presupuesto Global</th>\n",
              "      <th>Fecha Primera Publicación</th>\n",
              "      <th>Mes Proyectado</th>\n",
              "      <th>Identificador Item</th>\n",
              "      <th>Categoria Principal</th>\n",
              "      <th>Precio Base</th>\n",
              "      <th>Ultima Fecha Modificacion</th>\n",
              "      <th>Version</th>\n",
              "      <th>Referencia Contrato</th>\n",
              "      <th>Referencia Operacion</th>\n",
              "      <th>Fecha Publicacion</th>\n",
              "      <th>Modalidad</th>\n",
              "      <th>Contacto</th>\n",
              "      <th>UNSPSC - Codigo Producto</th>\n",
              "      <th>UNSPSC - Nombre Producto</th>\n",
              "      <th>UNSPSC - Codigo Clase</th>\n",
              "      <th>UNSPSC - Nombre Clase</th>\n",
              "      <th>UNSPSC - Codigo Familia</th>\n",
              "      <th>UNSPSC - Nombre Familia</th>\n",
              "    </tr>\n",
              "  </thead>\n",
              "  <tbody>\n",
              "    <tr>\n",
              "      <th>0</th>\n",
              "      <td>2018</td>\n",
              "      <td>CO1.APP.353312</td>\n",
              "      <td>INSTITUTO NACIONAL DE VIAS</td>\n",
              "      <td>800215807</td>\n",
              "      <td>CO-DC-11001</td>\n",
              "      <td>Distrito Capital de Bogotá</td>\n",
              "      <td>La misión del INVIAS, es ejecutar políticas, e...</td>\n",
              "      <td>El Instituto Nacional de Vías, Invías, tendrá ...</td>\n",
              "      <td>781242000</td>\n",
              "      <td>78124200</td>\n",
              "      <td>43742086136009</td>\n",
              "      <td>2018-01-03 22:38:36.197000000</td>\n",
              "      <td>Octubre</td>\n",
              "      <td>CO1.APPNA.63342609.114347398</td>\n",
              "      <td>V1.81101500</td>\n",
              "      <td>74935687</td>\n",
              "      <td>2019-01-04 00:00:00</td>\n",
              "      <td>533</td>\n",
              "      <td>IP-DT-CAU-008-2018</td>\n",
              "      <td>IP-DT-CAU-008-2018</td>\n",
              "      <td>2018-01-03 22:38:36.197000000</td>\n",
              "      <td>CCE-10-Minima_Cuantia</td>\n",
              "      <td>Juan José Oyuela Soler</td>\n",
              "      <td>V1.81101500</td>\n",
              "      <td>Ingeniería civil</td>\n",
              "      <td>V1.81100000</td>\n",
              "      <td>Servicios profesionales de ingeniería</td>\n",
              "      <td>V1.81000000</td>\n",
              "      <td>Servicios Basados en Ingeniería, Investigación...</td>\n",
              "    </tr>\n",
              "    <tr>\n",
              "      <th>1</th>\n",
              "      <td>2018</td>\n",
              "      <td>CO1.APP.353312</td>\n",
              "      <td>INSTITUTO NACIONAL DE VIAS</td>\n",
              "      <td>800215807</td>\n",
              "      <td>CO-DC-11001</td>\n",
              "      <td>Distrito Capital de Bogotá</td>\n",
              "      <td>La misión del INVIAS, es ejecutar políticas, e...</td>\n",
              "      <td>El Instituto Nacional de Vías, Invías, tendrá ...</td>\n",
              "      <td>781242000</td>\n",
              "      <td>78124200</td>\n",
              "      <td>43742086136009</td>\n",
              "      <td>2018-01-03 22:38:36.197000000</td>\n",
              "      <td>Octubre</td>\n",
              "      <td>CO1.APPNA.63342609.114347398</td>\n",
              "      <td>V1.81101500</td>\n",
              "      <td>74935687</td>\n",
              "      <td>2019-01-04 00:00:00</td>\n",
              "      <td>533</td>\n",
              "      <td>IP-DT-CAU-008-2018</td>\n",
              "      <td>IP-DT-CAU-008-2018</td>\n",
              "      <td>2018-01-03 22:38:36.197000000</td>\n",
              "      <td>CCE-10-Minima_Cuantia</td>\n",
              "      <td>Juan José Oyuela Soler</td>\n",
              "      <td>V1.81101500</td>\n",
              "      <td>Ingeniería civil</td>\n",
              "      <td>V1.81100000</td>\n",
              "      <td>Servicios profesionales de ingeniería</td>\n",
              "      <td>V1.81000000</td>\n",
              "      <td>Servicios Basados en Ingeniería, Investigación...</td>\n",
              "    </tr>\n",
              "    <tr>\n",
              "      <th>2</th>\n",
              "      <td>2018</td>\n",
              "      <td>CO1.APP.353312</td>\n",
              "      <td>INSTITUTO NACIONAL DE VIAS</td>\n",
              "      <td>800215807</td>\n",
              "      <td>CO-DC-11001</td>\n",
              "      <td>Distrito Capital de Bogotá</td>\n",
              "      <td>La misión del INVIAS, es ejecutar políticas, e...</td>\n",
              "      <td>El Instituto Nacional de Vías, Invías, tendrá ...</td>\n",
              "      <td>781242000</td>\n",
              "      <td>78124200</td>\n",
              "      <td>43742086136009</td>\n",
              "      <td>2018-01-03 22:38:36.197000000</td>\n",
              "      <td>Octubre</td>\n",
              "      <td>CO1.APPNA.63342609.114347398</td>\n",
              "      <td>V1.81101500</td>\n",
              "      <td>74935687</td>\n",
              "      <td>2019-01-04 00:00:00</td>\n",
              "      <td>533</td>\n",
              "      <td>IP-DT-CAU-008-2018</td>\n",
              "      <td>IP-DT-CAU-008-2018</td>\n",
              "      <td>2018-01-03 22:38:36.197000000</td>\n",
              "      <td>CCE-10-Minima_Cuantia</td>\n",
              "      <td>Juan José Oyuela Soler</td>\n",
              "      <td>V1.81101500</td>\n",
              "      <td>Ingeniería civil</td>\n",
              "      <td>V1.81100000</td>\n",
              "      <td>Servicios profesionales de ingeniería</td>\n",
              "      <td>V1.81000000</td>\n",
              "      <td>Servicios Basados en Ingeniería, Investigación...</td>\n",
              "    </tr>\n",
              "    <tr>\n",
              "      <th>3</th>\n",
              "      <td>2018</td>\n",
              "      <td>CO1.APP.353312</td>\n",
              "      <td>INSTITUTO NACIONAL DE VIAS</td>\n",
              "      <td>800215807</td>\n",
              "      <td>CO-DC-11001</td>\n",
              "      <td>Distrito Capital de Bogotá</td>\n",
              "      <td>La misión del INVIAS, es ejecutar políticas, e...</td>\n",
              "      <td>El Instituto Nacional de Vías, Invías, tendrá ...</td>\n",
              "      <td>781242000</td>\n",
              "      <td>78124200</td>\n",
              "      <td>43742086136009</td>\n",
              "      <td>2018-01-03 22:38:36.197000000</td>\n",
              "      <td>Octubre</td>\n",
              "      <td>CO1.APPNA.63342609.114347398</td>\n",
              "      <td>V1.81101500</td>\n",
              "      <td>74935687</td>\n",
              "      <td>2019-01-04 00:00:00</td>\n",
              "      <td>533</td>\n",
              "      <td>IP-DT-CAU-008-2018</td>\n",
              "      <td>IP-DT-CAU-008-2018</td>\n",
              "      <td>2018-01-03 22:38:36.197000000</td>\n",
              "      <td>CCE-10-Minima_Cuantia</td>\n",
              "      <td>Juan José Oyuela Soler</td>\n",
              "      <td>V1.81101500</td>\n",
              "      <td>Ingeniería civil</td>\n",
              "      <td>V1.81100000</td>\n",
              "      <td>Servicios profesionales de ingeniería</td>\n",
              "      <td>V1.81000000</td>\n",
              "      <td>Servicios Basados en Ingeniería, Investigación...</td>\n",
              "    </tr>\n",
              "    <tr>\n",
              "      <th>4</th>\n",
              "      <td>2018</td>\n",
              "      <td>CO1.APP.350108</td>\n",
              "      <td>MINISTERIO DE AMBIENTE Y DESARROLLO SOSTENIBLE</td>\n",
              "      <td>830115395</td>\n",
              "      <td>CO-DC-11001</td>\n",
              "      <td>Distrito Capital de Bogotá</td>\n",
              "      <td>MISIÓN Ser la entidad pública encargada de def...</td>\n",
              "      <td>Gestión Ambiental y del riesgo de desastre</td>\n",
              "      <td>351558900</td>\n",
              "      <td>35155890</td>\n",
              "      <td>50531571940</td>\n",
              "      <td>2018-01-04 23:29:18.477000000</td>\n",
              "      <td>Julio</td>\n",
              "      <td>CO1.APPNA.51106046.113277693</td>\n",
              "      <td>V1.77101700</td>\n",
              "      <td>21000000</td>\n",
              "      <td>2019-01-04 00:00:00</td>\n",
              "      <td>140</td>\n",
              "      <td>CD 467 2018</td>\n",
              "      <td>CD 467 2018</td>\n",
              "      <td>2018-01-04 23:29:18.477000000</td>\n",
              "      <td>CCE-16-Servicios_profesionales_gestion</td>\n",
              "      <td>Gustavo Adolfo Alvarez Torres</td>\n",
              "      <td>V1.77101700</td>\n",
              "      <td>Servicios de asesoría ambiental</td>\n",
              "      <td>V1.77100000</td>\n",
              "      <td>Gestión medioambiental</td>\n",
              "      <td>V1.77000000</td>\n",
              "      <td>Servicios Medioambientales</td>\n",
              "    </tr>\n",
              "  </tbody>\n",
              "</table>\n",
              "</div>"
            ],
            "text/plain": [
              "   Anno  ...                            UNSPSC - Nombre Familia\n",
              "0  2018  ...  Servicios Basados en Ingeniería, Investigación...\n",
              "1  2018  ...  Servicios Basados en Ingeniería, Investigación...\n",
              "2  2018  ...  Servicios Basados en Ingeniería, Investigación...\n",
              "3  2018  ...  Servicios Basados en Ingeniería, Investigación...\n",
              "4  2018  ...                         Servicios Medioambientales\n",
              "\n",
              "[5 rows x 29 columns]"
            ]
          },
          "metadata": {
            "tags": []
          },
          "execution_count": 41
        }
      ]
    },
    {
      "cell_type": "code",
      "metadata": {
        "colab": {
          "base_uri": "https://localhost:8080/"
        },
        "id": "dCEeo2REcdU_",
        "outputId": "3ad48ff6-8a8d-4bc5-8a18-98c6f2fb7ea6"
      },
      "source": [
        "# Descripcion de fuente 1\n",
        "print(df_secopII.dtypes)\n",
        "print(df_secopII.shape)\n",
        "print(list(df_secopII.columns))"
      ],
      "execution_count": null,
      "outputs": [
        {
          "output_type": "stream",
          "text": [
            "Anno                           int64\n",
            "Identificador PAA             object\n",
            "Entidad                       object\n",
            "NIT                            int64\n",
            "Localización                  object\n",
            "DescripcionUbicacion          object\n",
            "Mision/Vision                 object\n",
            "Perspectiva Estrategica       object\n",
            "Presupuesto Menor Cuantia      int64\n",
            "Presupuesto Minima Cuantia     int64\n",
            "Presupuesto Global             int64\n",
            "Fecha Primera Publicación     object\n",
            "Mes Proyectado                object\n",
            "Identificador Item            object\n",
            "Categoria Principal           object\n",
            "Precio Base                    int64\n",
            "Ultima Fecha Modificacion     object\n",
            "Version                       object\n",
            "Referencia Contrato           object\n",
            "Referencia Operacion          object\n",
            "Fecha Publicacion             object\n",
            "Modalidad                     object\n",
            "Contacto                      object\n",
            "UNSPSC - Codigo Producto      object\n",
            "UNSPSC - Nombre Producto      object\n",
            "UNSPSC - Codigo Clase         object\n",
            "UNSPSC - Nombre Clase         object\n",
            "UNSPSC - Codigo Familia       object\n",
            "UNSPSC - Nombre Familia       object\n",
            "dtype: object\n",
            "(100, 29)\n",
            "['Anno', 'Identificador PAA', 'Entidad', 'NIT', 'Localización', 'DescripcionUbicacion', 'Mision/Vision', 'Perspectiva Estrategica', 'Presupuesto Menor Cuantia', 'Presupuesto Minima Cuantia', 'Presupuesto Global', 'Fecha Primera Publicación', 'Mes Proyectado', 'Identificador Item', 'Categoria Principal', 'Precio Base', 'Ultima Fecha Modificacion', 'Version', 'Referencia Contrato', 'Referencia Operacion', 'Fecha Publicacion', 'Modalidad', 'Contacto', 'UNSPSC - Codigo Producto', 'UNSPSC - Nombre Producto', 'UNSPSC - Codigo Clase', 'UNSPSC - Nombre Clase', 'UNSPSC - Codigo Familia', 'UNSPSC - Nombre Familia']\n"
          ],
          "name": "stdout"
        }
      ]
    },
    {
      "cell_type": "code",
      "metadata": {
        "id": "P6dOm0EZhuyp"
      },
      "source": [
        "## Reanming columns\n",
        "df_secopII  = df_secopII.rename(columns={\n",
        "     'Anno':                        \"year\", \n",
        "     'Identificador PAA':           \"id_paa\",\n",
        "     'Entidad':                     \"entidad\",\n",
        "     'NIT':                         \"nit\",\n",
        "     'Localización':                \"localizacion\",\n",
        "     'DescripcionUbicacion':        \"localizacion_desc\",\n",
        "     'Mision/Vision':               \"mision_vision\",\n",
        "     'Perspectiva Estrategica':     \"pers_estrategica\",\n",
        "     'Presupuesto Menor Cuantia':   \"pres_menor_cuantia\",\n",
        "     'Presupuesto Minima Cuantia':  \"pres_min_cuantia\",\n",
        "     'Presupuesto Global':          \"pres_global\",\n",
        "     'Fecha Primera Publicación':   \"date_first_publication\",\n",
        "     'Mes Proyectado':              \"mes_proyectado\",\n",
        "     'Identificador Item':          \"id_item\",\n",
        "     'Categoria Principal':         \"categoria_principal\",\n",
        "     'Precio Base':                 \"precio_base\",\n",
        "     'Ultima Fecha Modificacion':   \"date_last_publication\",\n",
        "     'Version':                     \"version\",\n",
        "     'Referencia Contrato':         \"ref_contrato\",\n",
        "     'Referencia Operacion':        \"ref_operacion\",\n",
        "     'Fecha Publicacion':           \"date_publised\",\n",
        "     'Modalidad':                   \"modalidad\",\n",
        "     'Contacto':                    \"contacto\",\n",
        "     'UNSPSC - Codigo Producto':    \"cod_producto_unspsc\", \n",
        "     'UNSPSC - Nombre Producto':    \"nombre_producto_unspsc\", \n",
        "     'UNSPSC - Codigo Clase':       \"cod_clase_unspsc\",  \n",
        "     'UNSPSC - Nombre Clase':       \"nombre_clase_unspsc\", \n",
        "     'UNSPSC - Codigo Familia':     \"cod_familia_unspsc\", \n",
        "     'UNSPSC - Nombre Familia':     \"nombre_familia_unspsc\"\n",
        "})"
      ],
      "execution_count": null,
      "outputs": []
    },
    {
      "cell_type": "markdown",
      "metadata": {
        "id": "x2LjAHS2fksM"
      },
      "source": [
        "## Punto 0: Entendiendo las variables discretas (categoricas), Better understanding of discrete variables"
      ]
    },
    {
      "cell_type": "code",
      "metadata": {
        "id": "1yP234xflkVv",
        "colab": {
          "base_uri": "https://localhost:8080/"
        },
        "outputId": "e173d692-4456-484e-8d79-e0112a8e889d"
      },
      "source": [
        "# To check unique values in variales\n",
        "df_secopII .nunique(axis=0)\n",
        "print(df_secopII.nunique(axis=0))"
      ],
      "execution_count": null,
      "outputs": [
        {
          "output_type": "stream",
          "text": [
            "year                       4\n",
            "id_paa                    25\n",
            "entidad                   25\n",
            "nit                       24\n",
            "localizacion              14\n",
            "localizacion_desc         10\n",
            "mision_vision             25\n",
            "pers_estrategica          25\n",
            "pres_menor_cuantia        11\n",
            "pres_min_cuantia          10\n",
            "pres_global               25\n",
            "date_first_publication    25\n",
            "mes_proyectado            10\n",
            "id_item                   35\n",
            "categoria_principal       27\n",
            "precio_base               31\n",
            "date_last_publication     19\n",
            "version                   24\n",
            "ref_contrato              38\n",
            "ref_operacion             38\n",
            "date_publised             25\n",
            "modalidad                  7\n",
            "contacto                  25\n",
            "cod_producto_unspsc       27\n",
            "nombre_producto_unspsc    27\n",
            "cod_clase_unspsc          23\n",
            "nombre_clase_unspsc       23\n",
            "cod_familia_unspsc        19\n",
            "nombre_familia_unspsc     19\n",
            "dtype: int64\n"
          ],
          "name": "stdout"
        }
      ]
    },
    {
      "cell_type": "code",
      "metadata": {
        "id": "2IkIENmvlkkZ",
        "colab": {
          "base_uri": "https://localhost:8080/",
          "height": 297
        },
        "outputId": "58d059a4-107e-46c4-8093-f045f07d316d"
      },
      "source": [
        "df_secopII.describe()"
      ],
      "execution_count": null,
      "outputs": [
        {
          "output_type": "execute_result",
          "data": {
            "text/html": [
              "<div>\n",
              "<style scoped>\n",
              "    .dataframe tbody tr th:only-of-type {\n",
              "        vertical-align: middle;\n",
              "    }\n",
              "\n",
              "    .dataframe tbody tr th {\n",
              "        vertical-align: top;\n",
              "    }\n",
              "\n",
              "    .dataframe thead th {\n",
              "        text-align: right;\n",
              "    }\n",
              "</style>\n",
              "<table border=\"1\" class=\"dataframe\">\n",
              "  <thead>\n",
              "    <tr style=\"text-align: right;\">\n",
              "      <th></th>\n",
              "      <th>year</th>\n",
              "      <th>nit</th>\n",
              "      <th>pres_menor_cuantia</th>\n",
              "      <th>pres_min_cuantia</th>\n",
              "      <th>pres_global</th>\n",
              "      <th>precio_base</th>\n",
              "    </tr>\n",
              "  </thead>\n",
              "  <tbody>\n",
              "    <tr>\n",
              "      <th>count</th>\n",
              "      <td>100.000000</td>\n",
              "      <td>1.000000e+02</td>\n",
              "      <td>1.000000e+02</td>\n",
              "      <td>1.000000e+02</td>\n",
              "      <td>1.000000e+02</td>\n",
              "      <td>1.000000e+02</td>\n",
              "    </tr>\n",
              "    <tr>\n",
              "      <th>mean</th>\n",
              "      <td>2017.990000</td>\n",
              "      <td>9.870235e+08</td>\n",
              "      <td>6.925501e+08</td>\n",
              "      <td>6.995813e+07</td>\n",
              "      <td>3.027014e+13</td>\n",
              "      <td>2.270408e+08</td>\n",
              "    </tr>\n",
              "    <tr>\n",
              "      <th>std</th>\n",
              "      <td>0.437971</td>\n",
              "      <td>1.151176e+09</td>\n",
              "      <td>1.880840e+08</td>\n",
              "      <td>1.777407e+07</td>\n",
              "      <td>2.020222e+13</td>\n",
              "      <td>4.654006e+08</td>\n",
              "    </tr>\n",
              "    <tr>\n",
              "      <th>min</th>\n",
              "      <td>2016.000000</td>\n",
              "      <td>8.001308e+08</td>\n",
              "      <td>7.812420e+07</td>\n",
              "      <td>2.187478e+07</td>\n",
              "      <td>2.530214e+09</td>\n",
              "      <td>1.499400e+06</td>\n",
              "    </tr>\n",
              "    <tr>\n",
              "      <th>25%</th>\n",
              "      <td>2018.000000</td>\n",
              "      <td>8.002158e+08</td>\n",
              "      <td>7.812420e+08</td>\n",
              "      <td>7.812420e+07</td>\n",
              "      <td>2.984167e+11</td>\n",
              "      <td>5.130300e+07</td>\n",
              "    </tr>\n",
              "    <tr>\n",
              "      <th>50%</th>\n",
              "      <td>2018.000000</td>\n",
              "      <td>8.002158e+08</td>\n",
              "      <td>7.812420e+08</td>\n",
              "      <td>7.812420e+07</td>\n",
              "      <td>4.374209e+13</td>\n",
              "      <td>1.500000e+08</td>\n",
              "    </tr>\n",
              "    <tr>\n",
              "      <th>75%</th>\n",
              "      <td>2018.000000</td>\n",
              "      <td>8.300798e+08</td>\n",
              "      <td>7.812420e+08</td>\n",
              "      <td>7.812420e+07</td>\n",
              "      <td>4.374209e+13</td>\n",
              "      <td>1.675000e+08</td>\n",
              "    </tr>\n",
              "    <tr>\n",
              "      <th>max</th>\n",
              "      <td>2019.000000</td>\n",
              "      <td>8.999991e+09</td>\n",
              "      <td>8.286110e+08</td>\n",
              "      <td>8.286110e+07</td>\n",
              "      <td>4.374209e+13</td>\n",
              "      <td>2.736000e+09</td>\n",
              "    </tr>\n",
              "  </tbody>\n",
              "</table>\n",
              "</div>"
            ],
            "text/plain": [
              "              year           nit  ...   pres_global   precio_base\n",
              "count   100.000000  1.000000e+02  ...  1.000000e+02  1.000000e+02\n",
              "mean   2017.990000  9.870235e+08  ...  3.027014e+13  2.270408e+08\n",
              "std       0.437971  1.151176e+09  ...  2.020222e+13  4.654006e+08\n",
              "min    2016.000000  8.001308e+08  ...  2.530214e+09  1.499400e+06\n",
              "25%    2018.000000  8.002158e+08  ...  2.984167e+11  5.130300e+07\n",
              "50%    2018.000000  8.002158e+08  ...  4.374209e+13  1.500000e+08\n",
              "75%    2018.000000  8.300798e+08  ...  4.374209e+13  1.675000e+08\n",
              "max    2019.000000  8.999991e+09  ...  4.374209e+13  2.736000e+09\n",
              "\n",
              "[8 rows x 6 columns]"
            ]
          },
          "metadata": {
            "tags": []
          },
          "execution_count": 45
        }
      ]
    },
    {
      "cell_type": "code",
      "metadata": {
        "id": "f-dbKjXulkmp",
        "colab": {
          "base_uri": "https://localhost:8080/"
        },
        "outputId": "96b8a1bf-8a12-45e2-dfb1-97a396920099"
      },
      "source": [
        "# Variable ciiu\n",
        "print(\"Year\")\n",
        "print(df_secopII.year.unique())\n",
        "\n",
        "print(\"\\nId_paa\")\n",
        "# Variable macrosector\n",
        "print(df_secopII.id_paa.unique())\n",
        "\n",
        "print(\"\\nEntidad\")\n",
        "# Variable macrosector\n",
        "print(df_secopII.entidad.unique())\n",
        "\n",
        "\n",
        "print(\"\\nPrecio Base\")\n",
        "# Variable macrosector\n",
        "print(df_secopII.precio_base.unique())\n",
        "\n",
        "\n",
        "print(\"\\nModalidad\")\n",
        "# Variable macrosector\n",
        "print(df_secopII.modalidad.unique())\n",
        "\n",
        "print(\"\\nCategoria\")\n",
        "# Variable macrosector\n",
        "print(df_secopII.categoria_principal.unique())\n",
        "\n",
        "\n",
        "print(\"\\nDate First Publication\")\n",
        "# Variable macrosector\n",
        "print(df_secopII.date_first_publication.unique())\n",
        "\n",
        "print(\"\\nDate Last Publication\")\n",
        "# Variable macrosector\n",
        "print(df_secopII.date_last_publication.unique())\n",
        "\n",
        "print(\"\\nDate Published\")\n",
        "# Variable macrosector\n",
        "print(df_secopII.date_publised.unique())\n",
        "\n",
        "print(\"\\nMes Proyectado\")\n",
        "# Variable macrosector\n",
        "print(df_secopII.mes_proyectado.unique())\n",
        "\n",
        "\n"
      ],
      "execution_count": null,
      "outputs": [
        {
          "output_type": "stream",
          "text": [
            "Year\n",
            "[2018 2019 2017 2016]\n",
            "\n",
            "Id_paa\n",
            "['CO1.APP.353312' 'CO1.APP.350108' 'CO1.APP.350028' 'CO1.APP.535016'\n",
            " 'CO1.APP.500110' 'CO1.APP.542304' 'CO1.APP.338104' 'CO1.APP.353337'\n",
            " 'CO1.APP.349933' 'CO1.APP.193502' 'CO1.APP.235007' 'CO1.APP.350012'\n",
            " 'CO1.APP.332417' 'CO1.APP.422701' 'CO1.APP.70007' 'CO1.APP.539603'\n",
            " 'CO1.APP.342112' 'CO1.APP.356525' 'CO1.APP.349316' 'CO1.APP.371602'\n",
            " 'CO1.APP.351411' 'CO1.APP.528719' 'CO1.APP.346609' 'CO1.APP.512802'\n",
            " 'CO1.APP.349203']\n",
            "\n",
            "Entidad\n",
            "['INSTITUTO NACIONAL DE VIAS'\n",
            " 'MINISTERIO DE AMBIENTE Y DESARROLLO SOSTENIBLE'\n",
            " 'RADIO TELEVISION NACIONAL DE COLOMBIA.'\n",
            " 'UNIDAD ADMINISTRATIVA ESPECIAL DE GESTIÓN PENSIONAL Y CONTRIBUCIONES PARAFISCALES DE LA PROTECCIÓN SOCIAL UGPP'\n",
            " 'GRUPO AEREO DEL CASANARE' 'ALCALDIA MUNICIPAL FUSAGASUGA'\n",
            " 'ALCALDÍA LOCAL DE CHAPINERO - FONDO DE DESARROLLO LOCAL'\n",
            " 'CAJA DE RETIRO DE LAS FUERZAS MILITARES' 'MINISTERIO DE TRANSPORTE'\n",
            " 'REGIONAL DE ASEGURAMIENTO EN SALUD No 3'\n",
            " 'POLICIA METROPOLITANA DE POPAYAN'\n",
            " 'DIRECCION DE  SANIDAD EJERCITO DISPENSARIO MEDICO IBAGUE'\n",
            " 'ESTABLECIMIENTO PENITENCIARIO DE MEDIANA SEGURIDAD Y CARCELARIO DE ACACIAS'\n",
            " 'INSTITUTO COLOMBIANO DE ANTROPOLOGIA E HISTORIA'\n",
            " 'INSTITUTO GEOGRÁFICO AGUSTÍN CODAZZI'\n",
            " 'CENTRAL ADMINISTRATIVA Y CONTABLE - CENAC - ARMENIA'\n",
            " 'SECRETARIA DE EDUCACION DEL DISTRITO' 'CAJA DE LA VIVIENDA POPULAR'\n",
            " 'CORPORACIÓN AUTÓNOMA REGIONAL DEL CENTRO DE ANTIOQUIA'\n",
            " 'MUNICIPIO DE ENVIGADO 2020' 'GOBERNACIÓN DE SANTANDER'\n",
            " 'SUBCUENTA PARA LA ADMON DE LOS RECURSOS Y MANEJO SPN FONAM - DTOR'\n",
            " 'FUERZA AÉREA COLOMBIANA'\n",
            " 'ESTABLECIMIENTO PENITENCIARIO ALTA Y MEDIANA SEGURIDAD Y CARCELARIO ALTA SEGURIDAD DE POPAYAN INPEC POPAYAN'\n",
            " 'ALCALDIA LOCAL DE TEUSAQUILLO (oficial)']\n",
            "\n",
            "Precio Base\n",
            "[  74935687   21000000  768843120    8360940    7283190   35000000\n",
            "   17808000  622448412  101200000   11897070  277335893    6397770\n",
            "   25819248    4700000   17000000 2736000000  743833469  150000000\n",
            "    6144000   51904000   13743084   13596000   40065960  220000000\n",
            "  300000000   30293186   10000000    1499400   57222858  107399500\n",
            "   49500000]\n",
            "\n",
            "Modalidad\n",
            "['CCE-10-Minima_Cuantia' 'CCE-16-Servicios_profesionales_gestion'\n",
            " 'CCE-11-Procedimiento_Publicidad' 'CCE-07-Seleccion_Abreviada_Subasta'\n",
            " 'CCE-05-Contratacion_Directa' 'CCE-06-Seleccion_Abreviada_Menor_Cuantia'\n",
            " 'CCE-04-Concurso_Meritos_Sin_Lista_Corta']\n",
            "\n",
            "Categoria\n",
            "['V1.81101500' 'V1.77101700' 'V1.83111800' 'V1.56101519' 'V1.12164201'\n",
            " 'V1.53102705' 'V1.80111700' 'V1.80111600' 'V1.80161500' 'V1.72141000'\n",
            " 'V1.56101515' 'V1.80111701' 'V1.50221002' 'V1.80111500' 'V1.80101706'\n",
            " 'V1.80131500' 'V1.71112107' 'V1.93151501' 'V1.86101610' 'V1.12161802'\n",
            " 'V1.80101505' 'V1.93141500' 'V1.93141506' 'V1.41114214' 'V1.78181701'\n",
            " 'V1.56101520' 'V1.50211500']\n",
            "\n",
            "Date First Publication\n",
            "['2018-01-03 22:38:36.197000000' '2018-01-04 23:29:18.477000000'\n",
            " '2018-01-05 01:22:00.430000000' '2019-02-01 02:47:58.323000000'\n",
            " '2019-01-09 16:27:47.837000000' '2019-01-03 23:20:21.603000000'\n",
            " '2018-01-04 19:05:23.033000000' '2018-01-02 17:08:27.597000000'\n",
            " '2018-01-14 21:33:51.497000000' '2018-01-12 12:55:19.517000000'\n",
            " '2017-02-01 00:57:24.907000000' '2017-12-29 16:36:13.023000000'\n",
            " '2018-01-16 14:38:45.427000000' '2017-12-30 19:38:02.427000000'\n",
            " '2016-05-24 22:39:09.707000000' '2019-01-31 17:41:11.760000000'\n",
            " '2017-12-29 15:37:33.487000000' '2018-01-03 19:01:24.253000000'\n",
            " '2018-01-10 15:12:49.440000000' '2017-11-27 14:41:03.867000000'\n",
            " '2018-01-04 01:46:18.140000000' '2019-01-14 18:28:50.517000000'\n",
            " '2018-01-05 15:20:35.117000000' '2019-01-30 18:30:36.173000000'\n",
            " '2017-12-28 20:19:08.070000000']\n",
            "\n",
            "Date Last Publication\n",
            "['2019-01-04 00:00:00' '2018-12-28 00:00:00' '2019-12-13 00:00:00'\n",
            " '2019-10-04 00:00:00' '2020-01-10 00:00:00' '2018-12-04 00:00:00'\n",
            " '2018-01-12 12:55:00' '2018-04-13 00:00:00' '2018-11-30 00:00:00'\n",
            " '2019-05-07 00:00:00' '2016-12-29 00:00:00' '2020-01-14 00:00:00'\n",
            " '2018-12-31 00:00:00' '2019-01-10 00:00:00' '2018-12-27 00:00:00'\n",
            " '2019-02-05 00:00:00' '2019-12-02 00:00:00' '2018-12-20 00:00:00'\n",
            " '2019-10-31 00:00:00']\n",
            "\n",
            "Date Published\n",
            "['2018-01-03 22:38:36.197000000' '2018-01-04 23:29:18.477000000'\n",
            " '2018-01-05 01:22:00.430000000' '2019-02-01 02:47:58.323000000'\n",
            " '2019-01-09 16:27:47.837000000' '2019-01-03 23:20:21.603000000'\n",
            " '2018-01-04 19:05:23.033000000' '2018-01-02 17:08:27.597000000'\n",
            " '2018-01-14 21:33:51.497000000' '2018-01-12 12:55:19.517000000'\n",
            " '2017-02-01 00:57:24.907000000' '2017-12-29 16:36:13.023000000'\n",
            " '2018-01-16 14:38:45.427000000' '2017-12-30 19:38:02.427000000'\n",
            " '2016-05-24 22:39:09.707000000' '2019-01-31 17:41:11.760000000'\n",
            " '2017-12-29 15:37:33.487000000' '2018-01-03 19:01:24.253000000'\n",
            " '2018-01-10 15:12:49.440000000' '2017-11-27 14:41:03.867000000'\n",
            " '2018-01-04 01:46:18.140000000' '2019-01-14 18:28:50.517000000'\n",
            " '2018-01-05 15:20:35.117000000' '2019-01-30 18:30:36.173000000'\n",
            " '2017-12-28 20:19:08.070000000']\n",
            "\n",
            "Mes Proyectado\n",
            "['Octubre' 'Julio' 'Marzo' 'Diciembre' 'Febrero' 'Mayo' 'Enero' 'Junio'\n",
            " 'Septiembre' 'Agosto']\n"
          ],
          "name": "stdout"
        }
      ]
    },
    {
      "cell_type": "markdown",
      "metadata": {
        "id": "8ziJONN3h6hf"
      },
      "source": [
        "### Notas:\n",
        "\n",
        "*   Hay 62 (62%) de filas duplicadas\n",
        "*   Variables importantes son:\n",
        "    *   year, entidad, nit, pres_global,  date_X, precio_base, modalidad \n",
        "    *   Importante => mes_proyectado\n",
        "\n",
        "\n",
        "\n"
      ]
    },
    {
      "cell_type": "code",
      "metadata": {
        "id": "jruDnlLvh7uS"
      },
      "source": [],
      "execution_count": null,
      "outputs": []
    }
  ]
}